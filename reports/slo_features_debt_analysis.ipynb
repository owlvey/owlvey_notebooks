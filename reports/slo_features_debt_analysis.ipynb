{
 "cells": [
  {
   "cell_type": "code",
   "execution_count": 8,
   "metadata": {},
   "outputs": [],
   "source": [
    "import pandas as pd\n",
    "import numpy as np\n",
    "import seaborn as sns\n",
    "import plotly.express as px\n",
    "pd.set_option('display.max_rows', 1000)"
   ]
  },
  {
   "cell_type": "code",
   "execution_count": 9,
   "metadata": {},
   "outputs": [
    {
     "data": {
      "text/html": [
       "<div>\n",
       "<style scoped>\n",
       "    .dataframe tbody tr th:only-of-type {\n",
       "        vertical-align: middle;\n",
       "    }\n",
       "\n",
       "    .dataframe tbody tr th {\n",
       "        vertical-align: top;\n",
       "    }\n",
       "\n",
       "    .dataframe thead th {\n",
       "        text-align: right;\n",
       "    }\n",
       "</style>\n",
       "<table border=\"1\" class=\"dataframe\">\n",
       "  <thead>\n",
       "    <tr style=\"text-align: right;\">\n",
       "      <th></th>\n",
       "      <th>Group</th>\n",
       "      <th>Journey</th>\n",
       "      <th>AvailabilitySLA</th>\n",
       "      <th>AvailabilitySlo</th>\n",
       "      <th>ExperienceSlo</th>\n",
       "      <th>LatencySLA</th>\n",
       "      <th>LatencySlo</th>\n",
       "      <th>Feature</th>\n",
       "      <th>Source</th>\n",
       "      <th>year</th>\n",
       "      <th>month</th>\n",
       "      <th>month_name</th>\n",
       "      <th>total</th>\n",
       "      <th>ava</th>\n",
       "      <th>ava_prop</th>\n",
       "      <th>exp</th>\n",
       "      <th>exp_prop</th>\n",
       "      <th>lat</th>\n",
       "    </tr>\n",
       "  </thead>\n",
       "  <tbody>\n",
       "    <tr>\n",
       "      <th>0</th>\n",
       "      <td>Sales</td>\n",
       "      <td>Checkout Order</td>\n",
       "      <td>0.95</td>\n",
       "      <td>0.99</td>\n",
       "      <td>0.99</td>\n",
       "      <td>1000</td>\n",
       "      <td>1.0</td>\n",
       "      <td>Login</td>\n",
       "      <td>LoginController:PreLogin</td>\n",
       "      <td>2020.0</td>\n",
       "      <td>2020-01</td>\n",
       "      <td>Jan</td>\n",
       "      <td>399598.0</td>\n",
       "      <td>395000.0</td>\n",
       "      <td>0.988456</td>\n",
       "      <td>391156.0</td>\n",
       "      <td>0.978908</td>\n",
       "      <td>0.988277</td>\n",
       "    </tr>\n",
       "    <tr>\n",
       "      <th>1</th>\n",
       "      <td>Sales</td>\n",
       "      <td>Checkout Order</td>\n",
       "      <td>0.95</td>\n",
       "      <td>0.99</td>\n",
       "      <td>0.99</td>\n",
       "      <td>1000</td>\n",
       "      <td>1.0</td>\n",
       "      <td>Login</td>\n",
       "      <td>LoginController:PreLogin</td>\n",
       "      <td>2020.0</td>\n",
       "      <td>2020-02</td>\n",
       "      <td>Feb</td>\n",
       "      <td>392950.0</td>\n",
       "      <td>388520.0</td>\n",
       "      <td>0.988811</td>\n",
       "      <td>384788.0</td>\n",
       "      <td>0.979183</td>\n",
       "      <td>1.020870</td>\n",
       "    </tr>\n",
       "    <tr>\n",
       "      <th>2</th>\n",
       "      <td>Sales</td>\n",
       "      <td>Checkout Order</td>\n",
       "      <td>0.95</td>\n",
       "      <td>0.99</td>\n",
       "      <td>0.99</td>\n",
       "      <td>1000</td>\n",
       "      <td>1.0</td>\n",
       "      <td>Login</td>\n",
       "      <td>LoginController:PreLogin</td>\n",
       "      <td>2020.0</td>\n",
       "      <td>2020-03</td>\n",
       "      <td>Mar</td>\n",
       "      <td>418244.0</td>\n",
       "      <td>413587.0</td>\n",
       "      <td>0.988837</td>\n",
       "      <td>409668.0</td>\n",
       "      <td>0.979533</td>\n",
       "      <td>0.988957</td>\n",
       "    </tr>\n",
       "    <tr>\n",
       "      <th>3</th>\n",
       "      <td>Sales</td>\n",
       "      <td>Checkout Order</td>\n",
       "      <td>0.95</td>\n",
       "      <td>0.99</td>\n",
       "      <td>0.99</td>\n",
       "      <td>1000</td>\n",
       "      <td>1.0</td>\n",
       "      <td>Login</td>\n",
       "      <td>LoginController:PreLogin</td>\n",
       "      <td>2020.0</td>\n",
       "      <td>2020-04</td>\n",
       "      <td>Apr</td>\n",
       "      <td>391036.0</td>\n",
       "      <td>386515.0</td>\n",
       "      <td>0.988369</td>\n",
       "      <td>382628.0</td>\n",
       "      <td>0.978512</td>\n",
       "      <td>0.998299</td>\n",
       "    </tr>\n",
       "    <tr>\n",
       "      <th>4</th>\n",
       "      <td>Sales</td>\n",
       "      <td>Checkout Order</td>\n",
       "      <td>0.95</td>\n",
       "      <td>0.99</td>\n",
       "      <td>0.99</td>\n",
       "      <td>1000</td>\n",
       "      <td>1.0</td>\n",
       "      <td>Login</td>\n",
       "      <td>LoginController:PreLogin</td>\n",
       "      <td>2020.0</td>\n",
       "      <td>2020-05</td>\n",
       "      <td>May</td>\n",
       "      <td>393065.0</td>\n",
       "      <td>388452.0</td>\n",
       "      <td>0.988266</td>\n",
       "      <td>385088.0</td>\n",
       "      <td>0.979741</td>\n",
       "      <td>1.000371</td>\n",
       "    </tr>\n",
       "  </tbody>\n",
       "</table>\n",
       "</div>"
      ],
      "text/plain": [
       "   Group         Journey  AvailabilitySLA  AvailabilitySlo  ExperienceSlo  \\\n",
       "0  Sales  Checkout Order             0.95             0.99           0.99   \n",
       "1  Sales  Checkout Order             0.95             0.99           0.99   \n",
       "2  Sales  Checkout Order             0.95             0.99           0.99   \n",
       "3  Sales  Checkout Order             0.95             0.99           0.99   \n",
       "4  Sales  Checkout Order             0.95             0.99           0.99   \n",
       "\n",
       "   LatencySLA  LatencySlo Feature                    Source    year    month  \\\n",
       "0        1000         1.0   Login  LoginController:PreLogin  2020.0  2020-01   \n",
       "1        1000         1.0   Login  LoginController:PreLogin  2020.0  2020-02   \n",
       "2        1000         1.0   Login  LoginController:PreLogin  2020.0  2020-03   \n",
       "3        1000         1.0   Login  LoginController:PreLogin  2020.0  2020-04   \n",
       "4        1000         1.0   Login  LoginController:PreLogin  2020.0  2020-05   \n",
       "\n",
       "  month_name     total       ava  ava_prop       exp  exp_prop       lat  \n",
       "0        Jan  399598.0  395000.0  0.988456  391156.0  0.978908  0.988277  \n",
       "1        Feb  392950.0  388520.0  0.988811  384788.0  0.979183  1.020870  \n",
       "2        Mar  418244.0  413587.0  0.988837  409668.0  0.979533  0.988957  \n",
       "3        Apr  391036.0  386515.0  0.988369  382628.0  0.978512  0.998299  \n",
       "4        May  393065.0  388452.0  0.988266  385088.0  0.979741  1.000371  "
      ]
     },
     "execution_count": 9,
     "metadata": {},
     "output_type": "execute_result"
    }
   ],
   "source": [
    "df = pd.read_csv('./../output/slo_montly_data.csv', sep=';')\n",
    "df.head()"
   ]
  },
  {
   "cell_type": "code",
   "execution_count": 32,
   "metadata": {},
   "outputs": [],
   "source": [
    "columns = ['month','Feature', 'AvailabilitySLA', 'AvailabilitySlo', 'ExperienceSlo', 'LatencySLA', 'LatencySlo']\n",
    "grouped = df.groupby(columns).aggregate({'Source':'count', 'ava_prop': 'min', 'exp_prop': 'min', 'lat': 'max' }).reset_index()\n",
    "\n",
    "grouped['ava_debt'] = grouped['AvailabilitySlo'] - grouped['ava_prop']\n",
    "grouped.loc[grouped['ava_debt'] < 0, 'ava_debt'] = 0\n",
    "\n",
    "grouped['exp_debt'] = grouped['ExperienceSlo'] - grouped['exp_prop']\n",
    "grouped.loc[grouped['exp_debt'] < 0, 'exp_debt'] = 0\n",
    "\n",
    "\n",
    "grouped['lat_debt'] = grouped['LatencySlo'] - grouped['lat']\n",
    "grouped.loc[grouped['lat_debt'] > 0, 'lat_debt'] = 0\n",
    "grouped['lat_debt'] = grouped['lat_debt'] * -1\n",
    "\n",
    "\n",
    "def debt_per(x, target):\n",
    "    tmp = grouped[grouped['month'] == x['month']][target].sum()\n",
    "    return x[target] / tmp if tmp > 0 else 0\n",
    "def debt_ava_per(x):\n",
    "    return debt_per(x, 'ava_debt')\n",
    "def debt_exp_per(x):    \n",
    "    return debt_per(x, 'exp_debt')\n",
    "def debt_lat_per(x):    \n",
    "    return debt_per(x, 'lat_debt')\n",
    "\n",
    "\n",
    "grouped['ava_debt_per'] = grouped.apply(debt_ava_per, axis=1) \n",
    "grouped['exp_debt_per'] = grouped.apply(debt_exp_per, axis=1) \n",
    "grouped['lat_debt_per'] = grouped.apply(debt_lat_per, axis=1)\n",
    "\n"
   ]
  },
  {
   "cell_type": "code",
   "execution_count": 33,
   "metadata": {},
   "outputs": [
    {
     "data": {
      "application/vnd.plotly.v1+json": {
       "config": {
        "plotlyServerURL": "https://plot.ly"
       },
       "data": [
        {
         "hovertemplate": "Feature=Cancel order<br>month=%{x}<br>ava_debt=%{y}<extra></extra>",
         "legendgroup": "Cancel order",
         "line": {
          "color": "#636efa",
          "dash": "solid"
         },
         "mode": "lines",
         "name": "Cancel order",
         "orientation": "v",
         "showlegend": true,
         "type": "scatter",
         "x": [
          "2020-01",
          "2020-02",
          "2020-03",
          "2020-04",
          "2020-05",
          "2020-06",
          "2020-07",
          "2020-08",
          "2020-09",
          "2020-10",
          "2020-11",
          "2020-12"
         ],
         "xaxis": "x",
         "y": [
          0.18907076488921937,
          0.17095418938322093,
          0.15441637438170974,
          0.1741757639942697,
          0.16159474173114974,
          0.1702505679022447,
          0.14283679713385466,
          0.1739316680582078,
          0.16123050872765654,
          0.16914122029947143,
          0.17311011759330763,
          0.16609929266659473
         ],
         "yaxis": "y"
        },
        {
         "hovertemplate": "Feature=Dashboard<br>month=%{x}<br>ava_debt=%{y}<extra></extra>",
         "legendgroup": "Dashboard",
         "line": {
          "color": "#EF553B",
          "dash": "solid"
         },
         "mode": "lines",
         "name": "Dashboard",
         "orientation": "v",
         "showlegend": true,
         "type": "scatter",
         "x": [
          "2020-01",
          "2020-01",
          "2020-01",
          "2020-01",
          "2020-01",
          "2020-01",
          "2020-02",
          "2020-02",
          "2020-02",
          "2020-02",
          "2020-02",
          "2020-02",
          "2020-03",
          "2020-03",
          "2020-03",
          "2020-03",
          "2020-03",
          "2020-03",
          "2020-04",
          "2020-04",
          "2020-04",
          "2020-04",
          "2020-04",
          "2020-04",
          "2020-05",
          "2020-05",
          "2020-05",
          "2020-05",
          "2020-05",
          "2020-05",
          "2020-06",
          "2020-06",
          "2020-06",
          "2020-06",
          "2020-06",
          "2020-06",
          "2020-07",
          "2020-07",
          "2020-07",
          "2020-07",
          "2020-07",
          "2020-07",
          "2020-08",
          "2020-08",
          "2020-08",
          "2020-08",
          "2020-08",
          "2020-08",
          "2020-09",
          "2020-09",
          "2020-09",
          "2020-09",
          "2020-09",
          "2020-09",
          "2020-10",
          "2020-10",
          "2020-10",
          "2020-10",
          "2020-10",
          "2020-10",
          "2020-11",
          "2020-11",
          "2020-11",
          "2020-11",
          "2020-11",
          "2020-11",
          "2020-12",
          "2020-12",
          "2020-12",
          "2020-12",
          "2020-12",
          "2020-12"
         ],
         "xaxis": "x",
         "y": [
          0,
          0,
          0,
          0,
          0.002510625953061618,
          0.002510625953061618,
          0,
          0,
          0,
          0,
          0.0022516267100491927,
          0.0022516267100491927,
          0,
          0,
          0,
          0,
          0.002046406977907367,
          0.002046406977907367,
          0,
          0,
          0,
          0,
          0.002261370995739642,
          0.002261370995739642,
          0,
          0,
          0,
          0,
          0.0026933210766405535,
          0.0026933210766405535,
          0,
          0,
          0,
          0,
          0.0016945191195391063,
          0.0016945191195391063,
          0,
          0,
          0,
          0,
          0.002058608681421381,
          0.002058608681421381,
          0,
          0,
          0,
          0,
          0.001823512560080176,
          0.001823512560080176,
          0,
          0,
          0,
          0,
          0.0019593364198673413,
          0.0019593364198673413,
          0,
          0,
          0,
          0,
          0.001649125371729343,
          0.001649125371729343,
          0,
          0,
          0,
          0,
          0.0021274026248312428,
          0.0021274026248312428,
          0,
          0,
          0,
          0,
          0.0023874201536407957,
          0.0023874201536407957
         ],
         "yaxis": "y"
        },
        {
         "hovertemplate": "Feature=Delete item in shopping cart<br>month=%{x}<br>ava_debt=%{y}<extra></extra>",
         "legendgroup": "Delete item in shopping cart",
         "line": {
          "color": "#00cc96",
          "dash": "solid"
         },
         "mode": "lines",
         "name": "Delete item in shopping cart",
         "orientation": "v",
         "showlegend": true,
         "type": "scatter",
         "x": [
          "2020-01",
          "2020-02",
          "2020-03",
          "2020-04",
          "2020-05",
          "2020-06",
          "2020-07",
          "2020-08",
          "2020-09",
          "2020-10",
          "2020-11",
          "2020-12"
         ],
         "xaxis": "x",
         "y": [
          0.17331616034850006,
          0.17433386212634294,
          0.1737213102471845,
          0.18026233458437324,
          0.18184146589238281,
          0.18334878707558588,
          0.18507806666614202,
          0.1824861465442047,
          0.18301985470035131,
          0.17240671221363502,
          0.17203749198046592,
          0.19284787424207583
         ],
         "yaxis": "y"
        },
        {
         "hovertemplate": "Feature=Display Points<br>month=%{x}<br>ava_debt=%{y}<extra></extra>",
         "legendgroup": "Display Points",
         "line": {
          "color": "#ab63fa",
          "dash": "solid"
         },
         "mode": "lines",
         "name": "Display Points",
         "orientation": "v",
         "showlegend": true,
         "type": "scatter",
         "x": [
          "2020-01",
          "2020-01",
          "2020-02",
          "2020-02",
          "2020-03",
          "2020-03",
          "2020-04",
          "2020-04",
          "2020-05",
          "2020-05",
          "2020-06",
          "2020-06",
          "2020-07",
          "2020-07",
          "2020-08",
          "2020-08",
          "2020-09",
          "2020-09",
          "2020-10",
          "2020-10",
          "2020-11",
          "2020-11",
          "2020-12",
          "2020-12"
         ],
         "xaxis": "x",
         "y": [
          0.15578962717371514,
          0.16578962717371515,
          0.1709247820528802,
          0.1809247820528802,
          0.16066823730312552,
          0.17066823730312553,
          0.15828913100823727,
          0.16828913100823728,
          0.17386865641999905,
          0.18386865641999905,
          0.1533957777788656,
          0.1633957777788656,
          0.16278250889194035,
          0.17278250889194036,
          0.17785705203848368,
          0.18785705203848369,
          0.1808971464426392,
          0.19089714644263922,
          0.16702113161124954,
          0.17702113161124955,
          0.1554942833073234,
          0.1654942833073234,
          0.15854023302037223,
          0.16854023302037224
         ],
         "yaxis": "y"
        },
        {
         "hovertemplate": "Feature=Display Profile<br>month=%{x}<br>ava_debt=%{y}<extra></extra>",
         "legendgroup": "Display Profile",
         "line": {
          "color": "#FFA15A",
          "dash": "solid"
         },
         "mode": "lines",
         "name": "Display Profile",
         "orientation": "v",
         "showlegend": true,
         "type": "scatter",
         "x": [
          "2020-01",
          "2020-01",
          "2020-02",
          "2020-02",
          "2020-03",
          "2020-03",
          "2020-04",
          "2020-04",
          "2020-05",
          "2020-05",
          "2020-06",
          "2020-06",
          "2020-07",
          "2020-07",
          "2020-08",
          "2020-08",
          "2020-09",
          "2020-09",
          "2020-10",
          "2020-10",
          "2020-11",
          "2020-11",
          "2020-12",
          "2020-12"
         ],
         "xaxis": "x",
         "y": [
          0.15092236581477192,
          0.15092236581477192,
          0.18352230302666273,
          0.18352230302666273,
          0.16651921720012508,
          0.16651921720012508,
          0.17723411677669287,
          0.17723411677669287,
          0.17098567022980404,
          0.17098567022980404,
          0.17183523245358168,
          0.17183523245358168,
          0.16649695824764743,
          0.16649695824764743,
          0.1809530746040401,
          0.1809530746040401,
          0.16110905667738618,
          0.16110905667738618,
          0.16024536651649768,
          0.16024536651649768,
          0.17295430027939418,
          0.17295430027939418,
          0.16442829739945897,
          0.16442829739945897
         ],
         "yaxis": "y"
        },
        {
         "hovertemplate": "Feature=Display shopping cart<br>month=%{x}<br>ava_debt=%{y}<extra></extra>",
         "legendgroup": "Display shopping cart",
         "line": {
          "color": "#19d3f3",
          "dash": "solid"
         },
         "mode": "lines",
         "name": "Display shopping cart",
         "orientation": "v",
         "showlegend": true,
         "type": "scatter",
         "x": [
          "2020-01",
          "2020-02",
          "2020-03",
          "2020-04",
          "2020-05",
          "2020-06",
          "2020-07",
          "2020-08",
          "2020-09",
          "2020-10",
          "2020-11",
          "2020-12"
         ],
         "xaxis": "x",
         "y": [
          0.17331616034850006,
          0.17433386212634294,
          0.15067503100201907,
          0.17892342643939108,
          0.18184146589238281,
          0.18334878707558588,
          0.17520062379445245,
          0.16436923207893805,
          0.18301985470035131,
          0.16493648683534134,
          0.16583453248676816,
          0.19284787424207583
         ],
         "yaxis": "y"
        },
        {
         "hovertemplate": "Feature=Login<br>month=%{x}<br>ava_debt=%{y}<extra></extra>",
         "legendgroup": "Login",
         "line": {
          "color": "#FF6692",
          "dash": "solid"
         },
         "mode": "lines",
         "name": "Login",
         "orientation": "v",
         "showlegend": true,
         "type": "scatter",
         "x": [
          "2020-01",
          "2020-01",
          "2020-01",
          "2020-01",
          "2020-01",
          "2020-01",
          "2020-01",
          "2020-01",
          "2020-02",
          "2020-02",
          "2020-02",
          "2020-02",
          "2020-02",
          "2020-02",
          "2020-02",
          "2020-02",
          "2020-03",
          "2020-03",
          "2020-03",
          "2020-03",
          "2020-03",
          "2020-03",
          "2020-03",
          "2020-03",
          "2020-04",
          "2020-04",
          "2020-04",
          "2020-04",
          "2020-04",
          "2020-04",
          "2020-04",
          "2020-04",
          "2020-05",
          "2020-05",
          "2020-05",
          "2020-05",
          "2020-05",
          "2020-05",
          "2020-05",
          "2020-05",
          "2020-06",
          "2020-06",
          "2020-06",
          "2020-06",
          "2020-06",
          "2020-06",
          "2020-06",
          "2020-06",
          "2020-07",
          "2020-07",
          "2020-07",
          "2020-07",
          "2020-07",
          "2020-07",
          "2020-07",
          "2020-07",
          "2020-08",
          "2020-08",
          "2020-08",
          "2020-08",
          "2020-08",
          "2020-08",
          "2020-08",
          "2020-08",
          "2020-09",
          "2020-09",
          "2020-09",
          "2020-09",
          "2020-09",
          "2020-09",
          "2020-09",
          "2020-09",
          "2020-10",
          "2020-10",
          "2020-10",
          "2020-10",
          "2020-10",
          "2020-10",
          "2020-10",
          "2020-10",
          "2020-11",
          "2020-11",
          "2020-11",
          "2020-11",
          "2020-11",
          "2020-11",
          "2020-11",
          "2020-11",
          "2020-12",
          "2020-12",
          "2020-12",
          "2020-12",
          "2020-12",
          "2020-12",
          "2020-12",
          "2020-12"
         ],
         "xaxis": "x",
         "y": [
          0,
          0,
          0,
          0,
          0,
          0.0015436603578036223,
          0.0015436603578036223,
          0.0015436603578036223,
          0,
          0,
          0,
          0,
          0,
          0.0012962888021955665,
          0.0012962888021955665,
          0.0012962888021955665,
          0,
          0,
          0,
          0,
          0,
          0.0020416773625592244,
          0.0020416773625592244,
          0.0020416773625592244,
          0,
          0,
          0,
          0,
          0,
          0.0017853592515088001,
          0.0017853592515088001,
          0.0017853592515088001,
          0,
          0,
          0,
          0,
          0,
          0.0017343262357352174,
          0.0017343262357352174,
          0.0017343262357352174,
          0,
          0,
          0,
          0,
          0,
          0.0020306279444626263,
          0.0020306279444626263,
          0.0020306279444626263,
          0,
          0,
          0,
          0,
          0,
          0.00228382414548034,
          0.00228382414548034,
          0.00228382414548034,
          0,
          0,
          0,
          0,
          0,
          0.0017185682418935366,
          0.0017185682418935366,
          0.0017185682418935366,
          0,
          0,
          0,
          0,
          0,
          0.0010932514814100402,
          0.0010932514814100402,
          0.0010932514814100402,
          0,
          0,
          0,
          0,
          0,
          0.001776165576777955,
          0.001776165576777955,
          0.001776165576777955,
          0,
          0,
          0,
          0,
          0,
          0.0022097590164700254,
          0.0022097590164700254,
          0.0022097590164700254,
          0,
          0,
          0,
          0,
          0,
          0.001665390294187219,
          0.001665390294187219,
          0.001665390294187219
         ],
         "yaxis": "y"
        },
        {
         "hovertemplate": "Feature=Onboarding<br>month=%{x}<br>ava_debt=%{y}<extra></extra>",
         "legendgroup": "Onboarding",
         "line": {
          "color": "#B6E880",
          "dash": "solid"
         },
         "mode": "lines",
         "name": "Onboarding",
         "orientation": "v",
         "showlegend": true,
         "type": "scatter",
         "x": [
          "2020-01",
          "2020-02",
          "2020-03",
          "2020-04",
          "2020-05",
          "2020-06",
          "2020-07",
          "2020-08",
          "2020-09",
          "2020-10",
          "2020-11",
          "2020-12"
         ],
         "xaxis": "x",
         "y": [
          0.1570439786870036,
          0.1767344516688828,
          0.17437475589687912,
          0.1658778994366773,
          0.1794213658532544,
          0.17083560329584024,
          0.18333730035028206,
          0.1784519937040524,
          0.17073828727118656,
          0.1716115740629498,
          0.1698915201983351,
          0.16393485854512235
         ],
         "yaxis": "y"
        },
        {
         "hovertemplate": "Feature=Recuperate Password<br>month=%{x}<br>ava_debt=%{y}<extra></extra>",
         "legendgroup": "Recuperate Password",
         "line": {
          "color": "#FF97FF",
          "dash": "solid"
         },
         "mode": "lines",
         "name": "Recuperate Password",
         "orientation": "v",
         "showlegend": true,
         "type": "scatter",
         "x": [
          "2020-01",
          "2020-02",
          "2020-03",
          "2020-04",
          "2020-05",
          "2020-06",
          "2020-07",
          "2020-08",
          "2020-09",
          "2020-10",
          "2020-11",
          "2020-12"
         ],
         "xaxis": "x",
         "y": [
          0.18622346571220627,
          0.17681344587931258,
          0.17422384906511523,
          0.18405580964875368,
          0.16788423424482612,
          0.17156131680457543,
          0.15691643970198488,
          0.17430320208756822,
          0.19222433230318914,
          0.1822471135458288,
          0.19113433234084554,
          0.18059001049206824
         ],
         "yaxis": "y"
        },
        {
         "hovertemplate": "Feature=Reward Points<br>month=%{x}<br>ava_debt=%{y}<extra></extra>",
         "legendgroup": "Reward Points",
         "line": {
          "color": "#FECB52",
          "dash": "solid"
         },
         "mode": "lines",
         "name": "Reward Points",
         "orientation": "v",
         "showlegend": true,
         "type": "scatter",
         "x": [
          "2020-01",
          "2020-02",
          "2020-03",
          "2020-04",
          "2020-05",
          "2020-06",
          "2020-07",
          "2020-08",
          "2020-09",
          "2020-10",
          "2020-11",
          "2020-12"
         ],
         "xaxis": "x",
         "y": [
          0.16810491048593224,
          0.1709247820528802,
          0.16254426799889954,
          0.16106660296645803,
          0.17386865641999905,
          0.16589912541190477,
          0.16663315165529402,
          0.17785705203848368,
          0.1808971464426392,
          0.16702113161124954,
          0.16585735360559706,
          0.15854023302037223
         ],
         "yaxis": "y"
        },
        {
         "hovertemplate": "Feature=Save item in shopping cart<br>month=%{x}<br>ava_debt=%{y}<extra></extra>",
         "legendgroup": "Save item in shopping cart",
         "line": {
          "color": "#636efa",
          "dash": "solid"
         },
         "mode": "lines",
         "name": "Save item in shopping cart",
         "orientation": "v",
         "showlegend": true,
         "type": "scatter",
         "x": [
          "2020-01",
          "2020-02",
          "2020-03",
          "2020-04",
          "2020-05",
          "2020-06",
          "2020-07",
          "2020-08",
          "2020-09",
          "2020-10",
          "2020-11",
          "2020-12"
         ],
         "xaxis": "x",
         "y": [
          0.17742415008788637,
          0.18571410041007075,
          0.17402046010897687,
          0.18718429374302925,
          0.17826051704885948,
          0.1756213602849902,
          0.19241461438457486,
          0.1717598293623671,
          0.19023372085027523,
          0.16894030894621193,
          0.17716513880525941,
          0.16317005868112477
         ],
         "yaxis": "y"
        },
        {
         "hovertemplate": "Feature=Search product<br>month=%{x}<br>ava_debt=%{y}<extra></extra>",
         "legendgroup": "Search product",
         "line": {
          "color": "#EF553B",
          "dash": "solid"
         },
         "mode": "lines",
         "name": "Search product",
         "orientation": "v",
         "showlegend": true,
         "type": "scatter",
         "x": [
          "2020-01",
          "2020-02",
          "2020-03",
          "2020-04",
          "2020-05",
          "2020-06",
          "2020-07",
          "2020-08",
          "2020-09",
          "2020-10",
          "2020-11",
          "2020-12"
         ],
         "xaxis": "x",
         "y": [
          0.1838750225005058,
          0.1749209019754775,
          0.17277721664402257,
          0.1866302148822876,
          0.1944385491926276,
          0.1818843178730022,
          0.16782831280474608,
          0.2087252384731092,
          0.17708893395581116,
          0.18532483257417987,
          0.18922749649471993,
          0.15891896977711706
         ],
         "yaxis": "y"
        },
        {
         "hovertemplate": "Feature=Update number of items in shopping cart<br>month=%{x}<br>ava_debt=%{y}<extra></extra>",
         "legendgroup": "Update number of items in shopping cart",
         "line": {
          "color": "#00cc96",
          "dash": "solid"
         },
         "mode": "lines",
         "name": "Update number of items in shopping cart",
         "orientation": "v",
         "showlegend": true,
         "type": "scatter",
         "x": [
          "2020-01",
          "2020-01",
          "2020-02",
          "2020-02",
          "2020-03",
          "2020-03",
          "2020-04",
          "2020-04",
          "2020-05",
          "2020-05",
          "2020-06",
          "2020-06",
          "2020-07",
          "2020-07",
          "2020-08",
          "2020-08",
          "2020-09",
          "2020-09",
          "2020-10",
          "2020-10",
          "2020-11",
          "2020-11",
          "2020-12",
          "2020-12"
         ],
         "xaxis": "x",
         "y": [
          0.17742415008788637,
          0.17742415008788637,
          0.18571410041007075,
          0.18571410041007075,
          0.17402046010897687,
          0.17402046010897687,
          0.18021335655269122,
          0.18021335655269122,
          0.18184146589238281,
          0.18184146589238281,
          0.18334878707558588,
          0.18334878707558588,
          0.19241461438457486,
          0.19241461438457486,
          0.16495920857678958,
          0.16495920857678958,
          0.19023372085027523,
          0.19023372085027523,
          0.16894030894621193,
          0.16894030894621193,
          0.16583453248676816,
          0.16583453248676816,
          0.19284787424207583,
          0.19284787424207583
         ],
         "yaxis": "y"
        },
        {
         "hovertemplate": "Feature=Update password<br>month=%{x}<br>ava_debt=%{y}<extra></extra>",
         "legendgroup": "Update password",
         "line": {
          "color": "#ab63fa",
          "dash": "solid"
         },
         "mode": "lines",
         "name": "Update password",
         "orientation": "v",
         "showlegend": true,
         "type": "scatter",
         "x": [
          "2020-01",
          "2020-02",
          "2020-03",
          "2020-04",
          "2020-05",
          "2020-06",
          "2020-07",
          "2020-08",
          "2020-09",
          "2020-10",
          "2020-11",
          "2020-12"
         ],
         "xaxis": "x",
         "y": [
          0.17222100457939027,
          0.16282441291148797,
          0.1555133600795614,
          0.16600927834550416,
          0.14583724523463004,
          0.16760332070802442,
          0.16893034878435376,
          0.16783596042885707,
          0.1619404167105749,
          0.15232256750920903,
          0.16903551760022206,
          0.16441491293914623
         ],
         "yaxis": "y"
        },
        {
         "hovertemplate": "Feature=list orders<br>month=%{x}<br>ava_debt=%{y}<extra></extra>",
         "legendgroup": "list orders",
         "line": {
          "color": "#FFA15A",
          "dash": "solid"
         },
         "mode": "lines",
         "name": "list orders",
         "orientation": "v",
         "showlegend": true,
         "type": "scatter",
         "x": [
          "2020-01",
          "2020-02",
          "2020-03",
          "2020-04",
          "2020-05",
          "2020-06",
          "2020-07",
          "2020-08",
          "2020-09",
          "2020-10",
          "2020-11",
          "2020-12"
         ],
         "xaxis": "x",
         "y": [
          0.17328455946668286,
          0.17484995501347445,
          0.17681925162264267,
          0.14974893585360782,
          0.1514333566012992,
          0.17356196418286685,
          0.1620529762756553,
          0.1687594950155047,
          0.16340196674919083,
          0.14990160430069088,
          0.15168216681795088,
          0.1459751623111728
         ],
         "yaxis": "y"
        }
       ],
       "layout": {
        "legend": {
         "title": {
          "text": "Feature"
         },
         "tracegroupgap": 0
        },
        "template": {
         "data": {
          "bar": [
           {
            "error_x": {
             "color": "#2a3f5f"
            },
            "error_y": {
             "color": "#2a3f5f"
            },
            "marker": {
             "line": {
              "color": "#E5ECF6",
              "width": 0.5
             }
            },
            "type": "bar"
           }
          ],
          "barpolar": [
           {
            "marker": {
             "line": {
              "color": "#E5ECF6",
              "width": 0.5
             }
            },
            "type": "barpolar"
           }
          ],
          "carpet": [
           {
            "aaxis": {
             "endlinecolor": "#2a3f5f",
             "gridcolor": "white",
             "linecolor": "white",
             "minorgridcolor": "white",
             "startlinecolor": "#2a3f5f"
            },
            "baxis": {
             "endlinecolor": "#2a3f5f",
             "gridcolor": "white",
             "linecolor": "white",
             "minorgridcolor": "white",
             "startlinecolor": "#2a3f5f"
            },
            "type": "carpet"
           }
          ],
          "choropleth": [
           {
            "colorbar": {
             "outlinewidth": 0,
             "ticks": ""
            },
            "type": "choropleth"
           }
          ],
          "contour": [
           {
            "colorbar": {
             "outlinewidth": 0,
             "ticks": ""
            },
            "colorscale": [
             [
              0,
              "#0d0887"
             ],
             [
              0.1111111111111111,
              "#46039f"
             ],
             [
              0.2222222222222222,
              "#7201a8"
             ],
             [
              0.3333333333333333,
              "#9c179e"
             ],
             [
              0.4444444444444444,
              "#bd3786"
             ],
             [
              0.5555555555555556,
              "#d8576b"
             ],
             [
              0.6666666666666666,
              "#ed7953"
             ],
             [
              0.7777777777777778,
              "#fb9f3a"
             ],
             [
              0.8888888888888888,
              "#fdca26"
             ],
             [
              1,
              "#f0f921"
             ]
            ],
            "type": "contour"
           }
          ],
          "contourcarpet": [
           {
            "colorbar": {
             "outlinewidth": 0,
             "ticks": ""
            },
            "type": "contourcarpet"
           }
          ],
          "heatmap": [
           {
            "colorbar": {
             "outlinewidth": 0,
             "ticks": ""
            },
            "colorscale": [
             [
              0,
              "#0d0887"
             ],
             [
              0.1111111111111111,
              "#46039f"
             ],
             [
              0.2222222222222222,
              "#7201a8"
             ],
             [
              0.3333333333333333,
              "#9c179e"
             ],
             [
              0.4444444444444444,
              "#bd3786"
             ],
             [
              0.5555555555555556,
              "#d8576b"
             ],
             [
              0.6666666666666666,
              "#ed7953"
             ],
             [
              0.7777777777777778,
              "#fb9f3a"
             ],
             [
              0.8888888888888888,
              "#fdca26"
             ],
             [
              1,
              "#f0f921"
             ]
            ],
            "type": "heatmap"
           }
          ],
          "heatmapgl": [
           {
            "colorbar": {
             "outlinewidth": 0,
             "ticks": ""
            },
            "colorscale": [
             [
              0,
              "#0d0887"
             ],
             [
              0.1111111111111111,
              "#46039f"
             ],
             [
              0.2222222222222222,
              "#7201a8"
             ],
             [
              0.3333333333333333,
              "#9c179e"
             ],
             [
              0.4444444444444444,
              "#bd3786"
             ],
             [
              0.5555555555555556,
              "#d8576b"
             ],
             [
              0.6666666666666666,
              "#ed7953"
             ],
             [
              0.7777777777777778,
              "#fb9f3a"
             ],
             [
              0.8888888888888888,
              "#fdca26"
             ],
             [
              1,
              "#f0f921"
             ]
            ],
            "type": "heatmapgl"
           }
          ],
          "histogram": [
           {
            "marker": {
             "colorbar": {
              "outlinewidth": 0,
              "ticks": ""
             }
            },
            "type": "histogram"
           }
          ],
          "histogram2d": [
           {
            "colorbar": {
             "outlinewidth": 0,
             "ticks": ""
            },
            "colorscale": [
             [
              0,
              "#0d0887"
             ],
             [
              0.1111111111111111,
              "#46039f"
             ],
             [
              0.2222222222222222,
              "#7201a8"
             ],
             [
              0.3333333333333333,
              "#9c179e"
             ],
             [
              0.4444444444444444,
              "#bd3786"
             ],
             [
              0.5555555555555556,
              "#d8576b"
             ],
             [
              0.6666666666666666,
              "#ed7953"
             ],
             [
              0.7777777777777778,
              "#fb9f3a"
             ],
             [
              0.8888888888888888,
              "#fdca26"
             ],
             [
              1,
              "#f0f921"
             ]
            ],
            "type": "histogram2d"
           }
          ],
          "histogram2dcontour": [
           {
            "colorbar": {
             "outlinewidth": 0,
             "ticks": ""
            },
            "colorscale": [
             [
              0,
              "#0d0887"
             ],
             [
              0.1111111111111111,
              "#46039f"
             ],
             [
              0.2222222222222222,
              "#7201a8"
             ],
             [
              0.3333333333333333,
              "#9c179e"
             ],
             [
              0.4444444444444444,
              "#bd3786"
             ],
             [
              0.5555555555555556,
              "#d8576b"
             ],
             [
              0.6666666666666666,
              "#ed7953"
             ],
             [
              0.7777777777777778,
              "#fb9f3a"
             ],
             [
              0.8888888888888888,
              "#fdca26"
             ],
             [
              1,
              "#f0f921"
             ]
            ],
            "type": "histogram2dcontour"
           }
          ],
          "mesh3d": [
           {
            "colorbar": {
             "outlinewidth": 0,
             "ticks": ""
            },
            "type": "mesh3d"
           }
          ],
          "parcoords": [
           {
            "line": {
             "colorbar": {
              "outlinewidth": 0,
              "ticks": ""
             }
            },
            "type": "parcoords"
           }
          ],
          "pie": [
           {
            "automargin": true,
            "type": "pie"
           }
          ],
          "scatter": [
           {
            "marker": {
             "colorbar": {
              "outlinewidth": 0,
              "ticks": ""
             }
            },
            "type": "scatter"
           }
          ],
          "scatter3d": [
           {
            "line": {
             "colorbar": {
              "outlinewidth": 0,
              "ticks": ""
             }
            },
            "marker": {
             "colorbar": {
              "outlinewidth": 0,
              "ticks": ""
             }
            },
            "type": "scatter3d"
           }
          ],
          "scattercarpet": [
           {
            "marker": {
             "colorbar": {
              "outlinewidth": 0,
              "ticks": ""
             }
            },
            "type": "scattercarpet"
           }
          ],
          "scattergeo": [
           {
            "marker": {
             "colorbar": {
              "outlinewidth": 0,
              "ticks": ""
             }
            },
            "type": "scattergeo"
           }
          ],
          "scattergl": [
           {
            "marker": {
             "colorbar": {
              "outlinewidth": 0,
              "ticks": ""
             }
            },
            "type": "scattergl"
           }
          ],
          "scattermapbox": [
           {
            "marker": {
             "colorbar": {
              "outlinewidth": 0,
              "ticks": ""
             }
            },
            "type": "scattermapbox"
           }
          ],
          "scatterpolar": [
           {
            "marker": {
             "colorbar": {
              "outlinewidth": 0,
              "ticks": ""
             }
            },
            "type": "scatterpolar"
           }
          ],
          "scatterpolargl": [
           {
            "marker": {
             "colorbar": {
              "outlinewidth": 0,
              "ticks": ""
             }
            },
            "type": "scatterpolargl"
           }
          ],
          "scatterternary": [
           {
            "marker": {
             "colorbar": {
              "outlinewidth": 0,
              "ticks": ""
             }
            },
            "type": "scatterternary"
           }
          ],
          "surface": [
           {
            "colorbar": {
             "outlinewidth": 0,
             "ticks": ""
            },
            "colorscale": [
             [
              0,
              "#0d0887"
             ],
             [
              0.1111111111111111,
              "#46039f"
             ],
             [
              0.2222222222222222,
              "#7201a8"
             ],
             [
              0.3333333333333333,
              "#9c179e"
             ],
             [
              0.4444444444444444,
              "#bd3786"
             ],
             [
              0.5555555555555556,
              "#d8576b"
             ],
             [
              0.6666666666666666,
              "#ed7953"
             ],
             [
              0.7777777777777778,
              "#fb9f3a"
             ],
             [
              0.8888888888888888,
              "#fdca26"
             ],
             [
              1,
              "#f0f921"
             ]
            ],
            "type": "surface"
           }
          ],
          "table": [
           {
            "cells": {
             "fill": {
              "color": "#EBF0F8"
             },
             "line": {
              "color": "white"
             }
            },
            "header": {
             "fill": {
              "color": "#C8D4E3"
             },
             "line": {
              "color": "white"
             }
            },
            "type": "table"
           }
          ]
         },
         "layout": {
          "annotationdefaults": {
           "arrowcolor": "#2a3f5f",
           "arrowhead": 0,
           "arrowwidth": 1
          },
          "coloraxis": {
           "colorbar": {
            "outlinewidth": 0,
            "ticks": ""
           }
          },
          "colorscale": {
           "diverging": [
            [
             0,
             "#8e0152"
            ],
            [
             0.1,
             "#c51b7d"
            ],
            [
             0.2,
             "#de77ae"
            ],
            [
             0.3,
             "#f1b6da"
            ],
            [
             0.4,
             "#fde0ef"
            ],
            [
             0.5,
             "#f7f7f7"
            ],
            [
             0.6,
             "#e6f5d0"
            ],
            [
             0.7,
             "#b8e186"
            ],
            [
             0.8,
             "#7fbc41"
            ],
            [
             0.9,
             "#4d9221"
            ],
            [
             1,
             "#276419"
            ]
           ],
           "sequential": [
            [
             0,
             "#0d0887"
            ],
            [
             0.1111111111111111,
             "#46039f"
            ],
            [
             0.2222222222222222,
             "#7201a8"
            ],
            [
             0.3333333333333333,
             "#9c179e"
            ],
            [
             0.4444444444444444,
             "#bd3786"
            ],
            [
             0.5555555555555556,
             "#d8576b"
            ],
            [
             0.6666666666666666,
             "#ed7953"
            ],
            [
             0.7777777777777778,
             "#fb9f3a"
            ],
            [
             0.8888888888888888,
             "#fdca26"
            ],
            [
             1,
             "#f0f921"
            ]
           ],
           "sequentialminus": [
            [
             0,
             "#0d0887"
            ],
            [
             0.1111111111111111,
             "#46039f"
            ],
            [
             0.2222222222222222,
             "#7201a8"
            ],
            [
             0.3333333333333333,
             "#9c179e"
            ],
            [
             0.4444444444444444,
             "#bd3786"
            ],
            [
             0.5555555555555556,
             "#d8576b"
            ],
            [
             0.6666666666666666,
             "#ed7953"
            ],
            [
             0.7777777777777778,
             "#fb9f3a"
            ],
            [
             0.8888888888888888,
             "#fdca26"
            ],
            [
             1,
             "#f0f921"
            ]
           ]
          },
          "colorway": [
           "#636efa",
           "#EF553B",
           "#00cc96",
           "#ab63fa",
           "#FFA15A",
           "#19d3f3",
           "#FF6692",
           "#B6E880",
           "#FF97FF",
           "#FECB52"
          ],
          "font": {
           "color": "#2a3f5f"
          },
          "geo": {
           "bgcolor": "white",
           "lakecolor": "white",
           "landcolor": "#E5ECF6",
           "showlakes": true,
           "showland": true,
           "subunitcolor": "white"
          },
          "hoverlabel": {
           "align": "left"
          },
          "hovermode": "closest",
          "mapbox": {
           "style": "light"
          },
          "paper_bgcolor": "white",
          "plot_bgcolor": "#E5ECF6",
          "polar": {
           "angularaxis": {
            "gridcolor": "white",
            "linecolor": "white",
            "ticks": ""
           },
           "bgcolor": "#E5ECF6",
           "radialaxis": {
            "gridcolor": "white",
            "linecolor": "white",
            "ticks": ""
           }
          },
          "scene": {
           "xaxis": {
            "backgroundcolor": "#E5ECF6",
            "gridcolor": "white",
            "gridwidth": 2,
            "linecolor": "white",
            "showbackground": true,
            "ticks": "",
            "zerolinecolor": "white"
           },
           "yaxis": {
            "backgroundcolor": "#E5ECF6",
            "gridcolor": "white",
            "gridwidth": 2,
            "linecolor": "white",
            "showbackground": true,
            "ticks": "",
            "zerolinecolor": "white"
           },
           "zaxis": {
            "backgroundcolor": "#E5ECF6",
            "gridcolor": "white",
            "gridwidth": 2,
            "linecolor": "white",
            "showbackground": true,
            "ticks": "",
            "zerolinecolor": "white"
           }
          },
          "shapedefaults": {
           "line": {
            "color": "#2a3f5f"
           }
          },
          "ternary": {
           "aaxis": {
            "gridcolor": "white",
            "linecolor": "white",
            "ticks": ""
           },
           "baxis": {
            "gridcolor": "white",
            "linecolor": "white",
            "ticks": ""
           },
           "bgcolor": "#E5ECF6",
           "caxis": {
            "gridcolor": "white",
            "linecolor": "white",
            "ticks": ""
           }
          },
          "title": {
           "x": 0.05
          },
          "xaxis": {
           "automargin": true,
           "gridcolor": "white",
           "linecolor": "white",
           "ticks": "",
           "title": {
            "standoff": 15
           },
           "zerolinecolor": "white",
           "zerolinewidth": 2
          },
          "yaxis": {
           "automargin": true,
           "gridcolor": "white",
           "linecolor": "white",
           "ticks": "",
           "title": {
            "standoff": 15
           },
           "zerolinecolor": "white",
           "zerolinewidth": 2
          }
         }
        },
        "title": {
         "text": "Availability Feature Debt Value Per Month"
        },
        "xaxis": {
         "anchor": "y",
         "domain": [
          0,
          1
         ],
         "title": {
          "text": "month"
         }
        },
        "yaxis": {
         "anchor": "x",
         "domain": [
          0,
          1
         ],
         "title": {
          "text": "ava_debt"
         }
        }
       }
      },
      "text/html": [
       "<div>                            <div id=\"d66ba9bd-1e61-405f-be3a-0c6906d0eccb\" class=\"plotly-graph-div\" style=\"height:525px; width:100%;\"></div>            <script type=\"text/javascript\">                require([\"plotly\"], function(Plotly) {                    window.PLOTLYENV=window.PLOTLYENV || {};                                    if (document.getElementById(\"d66ba9bd-1e61-405f-be3a-0c6906d0eccb\")) {                    Plotly.newPlot(                        \"d66ba9bd-1e61-405f-be3a-0c6906d0eccb\",                        [{\"hovertemplate\": \"Feature=Cancel order<br>month=%{x}<br>ava_debt=%{y}<extra></extra>\", \"legendgroup\": \"Cancel order\", \"line\": {\"color\": \"#636efa\", \"dash\": \"solid\"}, \"mode\": \"lines\", \"name\": \"Cancel order\", \"orientation\": \"v\", \"showlegend\": true, \"type\": \"scatter\", \"x\": [\"2020-01\", \"2020-02\", \"2020-03\", \"2020-04\", \"2020-05\", \"2020-06\", \"2020-07\", \"2020-08\", \"2020-09\", \"2020-10\", \"2020-11\", \"2020-12\"], \"xaxis\": \"x\", \"y\": [0.18907076488921937, 0.17095418938322093, 0.15441637438170974, 0.1741757639942697, 0.16159474173114974, 0.1702505679022447, 0.14283679713385466, 0.1739316680582078, 0.16123050872765654, 0.16914122029947143, 0.17311011759330763, 0.16609929266659473], \"yaxis\": \"y\"}, {\"hovertemplate\": \"Feature=Dashboard<br>month=%{x}<br>ava_debt=%{y}<extra></extra>\", \"legendgroup\": \"Dashboard\", \"line\": {\"color\": \"#EF553B\", \"dash\": \"solid\"}, \"mode\": \"lines\", \"name\": \"Dashboard\", \"orientation\": \"v\", \"showlegend\": true, \"type\": \"scatter\", \"x\": [\"2020-01\", \"2020-01\", \"2020-01\", \"2020-01\", \"2020-01\", \"2020-01\", \"2020-02\", \"2020-02\", \"2020-02\", \"2020-02\", \"2020-02\", \"2020-02\", \"2020-03\", \"2020-03\", \"2020-03\", \"2020-03\", \"2020-03\", \"2020-03\", \"2020-04\", \"2020-04\", \"2020-04\", \"2020-04\", \"2020-04\", \"2020-04\", \"2020-05\", \"2020-05\", \"2020-05\", \"2020-05\", \"2020-05\", \"2020-05\", \"2020-06\", \"2020-06\", \"2020-06\", \"2020-06\", \"2020-06\", \"2020-06\", \"2020-07\", \"2020-07\", \"2020-07\", \"2020-07\", \"2020-07\", \"2020-07\", \"2020-08\", \"2020-08\", \"2020-08\", \"2020-08\", \"2020-08\", \"2020-08\", \"2020-09\", \"2020-09\", \"2020-09\", \"2020-09\", \"2020-09\", \"2020-09\", \"2020-10\", \"2020-10\", \"2020-10\", \"2020-10\", \"2020-10\", \"2020-10\", \"2020-11\", \"2020-11\", \"2020-11\", \"2020-11\", \"2020-11\", \"2020-11\", \"2020-12\", \"2020-12\", \"2020-12\", \"2020-12\", \"2020-12\", \"2020-12\"], \"xaxis\": \"x\", \"y\": [0.0, 0.0, 0.0, 0.0, 0.002510625953061618, 0.002510625953061618, 0.0, 0.0, 0.0, 0.0, 0.0022516267100491927, 0.0022516267100491927, 0.0, 0.0, 0.0, 0.0, 0.002046406977907367, 0.002046406977907367, 0.0, 0.0, 0.0, 0.0, 0.002261370995739642, 0.002261370995739642, 0.0, 0.0, 0.0, 0.0, 0.0026933210766405535, 0.0026933210766405535, 0.0, 0.0, 0.0, 0.0, 0.0016945191195391063, 0.0016945191195391063, 0.0, 0.0, 0.0, 0.0, 0.002058608681421381, 0.002058608681421381, 0.0, 0.0, 0.0, 0.0, 0.001823512560080176, 0.001823512560080176, 0.0, 0.0, 0.0, 0.0, 0.0019593364198673413, 0.0019593364198673413, 0.0, 0.0, 0.0, 0.0, 0.001649125371729343, 0.001649125371729343, 0.0, 0.0, 0.0, 0.0, 0.0021274026248312428, 0.0021274026248312428, 0.0, 0.0, 0.0, 0.0, 0.0023874201536407957, 0.0023874201536407957], \"yaxis\": \"y\"}, {\"hovertemplate\": \"Feature=Delete item in shopping cart<br>month=%{x}<br>ava_debt=%{y}<extra></extra>\", \"legendgroup\": \"Delete item in shopping cart\", \"line\": {\"color\": \"#00cc96\", \"dash\": \"solid\"}, \"mode\": \"lines\", \"name\": \"Delete item in shopping cart\", \"orientation\": \"v\", \"showlegend\": true, \"type\": \"scatter\", \"x\": [\"2020-01\", \"2020-02\", \"2020-03\", \"2020-04\", \"2020-05\", \"2020-06\", \"2020-07\", \"2020-08\", \"2020-09\", \"2020-10\", \"2020-11\", \"2020-12\"], \"xaxis\": \"x\", \"y\": [0.17331616034850006, 0.17433386212634294, 0.1737213102471845, 0.18026233458437324, 0.18184146589238281, 0.18334878707558588, 0.18507806666614202, 0.1824861465442047, 0.18301985470035131, 0.17240671221363502, 0.17203749198046592, 0.19284787424207583], \"yaxis\": \"y\"}, {\"hovertemplate\": \"Feature=Display Points<br>month=%{x}<br>ava_debt=%{y}<extra></extra>\", \"legendgroup\": \"Display Points\", \"line\": {\"color\": \"#ab63fa\", \"dash\": \"solid\"}, \"mode\": \"lines\", \"name\": \"Display Points\", \"orientation\": \"v\", \"showlegend\": true, \"type\": \"scatter\", \"x\": [\"2020-01\", \"2020-01\", \"2020-02\", \"2020-02\", \"2020-03\", \"2020-03\", \"2020-04\", \"2020-04\", \"2020-05\", \"2020-05\", \"2020-06\", \"2020-06\", \"2020-07\", \"2020-07\", \"2020-08\", \"2020-08\", \"2020-09\", \"2020-09\", \"2020-10\", \"2020-10\", \"2020-11\", \"2020-11\", \"2020-12\", \"2020-12\"], \"xaxis\": \"x\", \"y\": [0.15578962717371514, 0.16578962717371515, 0.1709247820528802, 0.1809247820528802, 0.16066823730312552, 0.17066823730312553, 0.15828913100823727, 0.16828913100823728, 0.17386865641999905, 0.18386865641999905, 0.1533957777788656, 0.1633957777788656, 0.16278250889194035, 0.17278250889194036, 0.17785705203848368, 0.18785705203848369, 0.1808971464426392, 0.19089714644263922, 0.16702113161124954, 0.17702113161124955, 0.1554942833073234, 0.1654942833073234, 0.15854023302037223, 0.16854023302037224], \"yaxis\": \"y\"}, {\"hovertemplate\": \"Feature=Display Profile<br>month=%{x}<br>ava_debt=%{y}<extra></extra>\", \"legendgroup\": \"Display Profile\", \"line\": {\"color\": \"#FFA15A\", \"dash\": \"solid\"}, \"mode\": \"lines\", \"name\": \"Display Profile\", \"orientation\": \"v\", \"showlegend\": true, \"type\": \"scatter\", \"x\": [\"2020-01\", \"2020-01\", \"2020-02\", \"2020-02\", \"2020-03\", \"2020-03\", \"2020-04\", \"2020-04\", \"2020-05\", \"2020-05\", \"2020-06\", \"2020-06\", \"2020-07\", \"2020-07\", \"2020-08\", \"2020-08\", \"2020-09\", \"2020-09\", \"2020-10\", \"2020-10\", \"2020-11\", \"2020-11\", \"2020-12\", \"2020-12\"], \"xaxis\": \"x\", \"y\": [0.15092236581477192, 0.15092236581477192, 0.18352230302666273, 0.18352230302666273, 0.16651921720012508, 0.16651921720012508, 0.17723411677669287, 0.17723411677669287, 0.17098567022980404, 0.17098567022980404, 0.17183523245358168, 0.17183523245358168, 0.16649695824764743, 0.16649695824764743, 0.1809530746040401, 0.1809530746040401, 0.16110905667738618, 0.16110905667738618, 0.16024536651649768, 0.16024536651649768, 0.17295430027939418, 0.17295430027939418, 0.16442829739945897, 0.16442829739945897], \"yaxis\": \"y\"}, {\"hovertemplate\": \"Feature=Display shopping cart<br>month=%{x}<br>ava_debt=%{y}<extra></extra>\", \"legendgroup\": \"Display shopping cart\", \"line\": {\"color\": \"#19d3f3\", \"dash\": \"solid\"}, \"mode\": \"lines\", \"name\": \"Display shopping cart\", \"orientation\": \"v\", \"showlegend\": true, \"type\": \"scatter\", \"x\": [\"2020-01\", \"2020-02\", \"2020-03\", \"2020-04\", \"2020-05\", \"2020-06\", \"2020-07\", \"2020-08\", \"2020-09\", \"2020-10\", \"2020-11\", \"2020-12\"], \"xaxis\": \"x\", \"y\": [0.17331616034850006, 0.17433386212634294, 0.15067503100201907, 0.17892342643939108, 0.18184146589238281, 0.18334878707558588, 0.17520062379445245, 0.16436923207893805, 0.18301985470035131, 0.16493648683534134, 0.16583453248676816, 0.19284787424207583], \"yaxis\": \"y\"}, {\"hovertemplate\": \"Feature=Login<br>month=%{x}<br>ava_debt=%{y}<extra></extra>\", \"legendgroup\": \"Login\", \"line\": {\"color\": \"#FF6692\", \"dash\": \"solid\"}, \"mode\": \"lines\", \"name\": \"Login\", \"orientation\": \"v\", \"showlegend\": true, \"type\": \"scatter\", \"x\": [\"2020-01\", \"2020-01\", \"2020-01\", \"2020-01\", \"2020-01\", \"2020-01\", \"2020-01\", \"2020-01\", \"2020-02\", \"2020-02\", \"2020-02\", \"2020-02\", \"2020-02\", \"2020-02\", \"2020-02\", \"2020-02\", \"2020-03\", \"2020-03\", \"2020-03\", \"2020-03\", \"2020-03\", \"2020-03\", \"2020-03\", \"2020-03\", \"2020-04\", \"2020-04\", \"2020-04\", \"2020-04\", \"2020-04\", \"2020-04\", \"2020-04\", \"2020-04\", \"2020-05\", \"2020-05\", \"2020-05\", \"2020-05\", \"2020-05\", \"2020-05\", \"2020-05\", \"2020-05\", \"2020-06\", \"2020-06\", \"2020-06\", \"2020-06\", \"2020-06\", \"2020-06\", \"2020-06\", \"2020-06\", \"2020-07\", \"2020-07\", \"2020-07\", \"2020-07\", \"2020-07\", \"2020-07\", \"2020-07\", \"2020-07\", \"2020-08\", \"2020-08\", \"2020-08\", \"2020-08\", \"2020-08\", \"2020-08\", \"2020-08\", \"2020-08\", \"2020-09\", \"2020-09\", \"2020-09\", \"2020-09\", \"2020-09\", \"2020-09\", \"2020-09\", \"2020-09\", \"2020-10\", \"2020-10\", \"2020-10\", \"2020-10\", \"2020-10\", \"2020-10\", \"2020-10\", \"2020-10\", \"2020-11\", \"2020-11\", \"2020-11\", \"2020-11\", \"2020-11\", \"2020-11\", \"2020-11\", \"2020-11\", \"2020-12\", \"2020-12\", \"2020-12\", \"2020-12\", \"2020-12\", \"2020-12\", \"2020-12\", \"2020-12\"], \"xaxis\": \"x\", \"y\": [0.0, 0.0, 0.0, 0.0, 0.0, 0.0015436603578036223, 0.0015436603578036223, 0.0015436603578036223, 0.0, 0.0, 0.0, 0.0, 0.0, 0.0012962888021955665, 0.0012962888021955665, 0.0012962888021955665, 0.0, 0.0, 0.0, 0.0, 0.0, 0.0020416773625592244, 0.0020416773625592244, 0.0020416773625592244, 0.0, 0.0, 0.0, 0.0, 0.0, 0.0017853592515088001, 0.0017853592515088001, 0.0017853592515088001, 0.0, 0.0, 0.0, 0.0, 0.0, 0.0017343262357352174, 0.0017343262357352174, 0.0017343262357352174, 0.0, 0.0, 0.0, 0.0, 0.0, 0.0020306279444626263, 0.0020306279444626263, 0.0020306279444626263, 0.0, 0.0, 0.0, 0.0, 0.0, 0.00228382414548034, 0.00228382414548034, 0.00228382414548034, 0.0, 0.0, 0.0, 0.0, 0.0, 0.0017185682418935366, 0.0017185682418935366, 0.0017185682418935366, 0.0, 0.0, 0.0, 0.0, 0.0, 0.0010932514814100402, 0.0010932514814100402, 0.0010932514814100402, 0.0, 0.0, 0.0, 0.0, 0.0, 0.001776165576777955, 0.001776165576777955, 0.001776165576777955, 0.0, 0.0, 0.0, 0.0, 0.0, 0.0022097590164700254, 0.0022097590164700254, 0.0022097590164700254, 0.0, 0.0, 0.0, 0.0, 0.0, 0.001665390294187219, 0.001665390294187219, 0.001665390294187219], \"yaxis\": \"y\"}, {\"hovertemplate\": \"Feature=Onboarding<br>month=%{x}<br>ava_debt=%{y}<extra></extra>\", \"legendgroup\": \"Onboarding\", \"line\": {\"color\": \"#B6E880\", \"dash\": \"solid\"}, \"mode\": \"lines\", \"name\": \"Onboarding\", \"orientation\": \"v\", \"showlegend\": true, \"type\": \"scatter\", \"x\": [\"2020-01\", \"2020-02\", \"2020-03\", \"2020-04\", \"2020-05\", \"2020-06\", \"2020-07\", \"2020-08\", \"2020-09\", \"2020-10\", \"2020-11\", \"2020-12\"], \"xaxis\": \"x\", \"y\": [0.1570439786870036, 0.1767344516688828, 0.17437475589687912, 0.1658778994366773, 0.1794213658532544, 0.17083560329584024, 0.18333730035028206, 0.1784519937040524, 0.17073828727118656, 0.1716115740629498, 0.1698915201983351, 0.16393485854512235], \"yaxis\": \"y\"}, {\"hovertemplate\": \"Feature=Recuperate Password<br>month=%{x}<br>ava_debt=%{y}<extra></extra>\", \"legendgroup\": \"Recuperate Password\", \"line\": {\"color\": \"#FF97FF\", \"dash\": \"solid\"}, \"mode\": \"lines\", \"name\": \"Recuperate Password\", \"orientation\": \"v\", \"showlegend\": true, \"type\": \"scatter\", \"x\": [\"2020-01\", \"2020-02\", \"2020-03\", \"2020-04\", \"2020-05\", \"2020-06\", \"2020-07\", \"2020-08\", \"2020-09\", \"2020-10\", \"2020-11\", \"2020-12\"], \"xaxis\": \"x\", \"y\": [0.18622346571220627, 0.17681344587931258, 0.17422384906511523, 0.18405580964875368, 0.16788423424482612, 0.17156131680457543, 0.15691643970198488, 0.17430320208756822, 0.19222433230318914, 0.1822471135458288, 0.19113433234084554, 0.18059001049206824], \"yaxis\": \"y\"}, {\"hovertemplate\": \"Feature=Reward Points<br>month=%{x}<br>ava_debt=%{y}<extra></extra>\", \"legendgroup\": \"Reward Points\", \"line\": {\"color\": \"#FECB52\", \"dash\": \"solid\"}, \"mode\": \"lines\", \"name\": \"Reward Points\", \"orientation\": \"v\", \"showlegend\": true, \"type\": \"scatter\", \"x\": [\"2020-01\", \"2020-02\", \"2020-03\", \"2020-04\", \"2020-05\", \"2020-06\", \"2020-07\", \"2020-08\", \"2020-09\", \"2020-10\", \"2020-11\", \"2020-12\"], \"xaxis\": \"x\", \"y\": [0.16810491048593224, 0.1709247820528802, 0.16254426799889954, 0.16106660296645803, 0.17386865641999905, 0.16589912541190477, 0.16663315165529402, 0.17785705203848368, 0.1808971464426392, 0.16702113161124954, 0.16585735360559706, 0.15854023302037223], \"yaxis\": \"y\"}, {\"hovertemplate\": \"Feature=Save item in shopping cart<br>month=%{x}<br>ava_debt=%{y}<extra></extra>\", \"legendgroup\": \"Save item in shopping cart\", \"line\": {\"color\": \"#636efa\", \"dash\": \"solid\"}, \"mode\": \"lines\", \"name\": \"Save item in shopping cart\", \"orientation\": \"v\", \"showlegend\": true, \"type\": \"scatter\", \"x\": [\"2020-01\", \"2020-02\", \"2020-03\", \"2020-04\", \"2020-05\", \"2020-06\", \"2020-07\", \"2020-08\", \"2020-09\", \"2020-10\", \"2020-11\", \"2020-12\"], \"xaxis\": \"x\", \"y\": [0.17742415008788637, 0.18571410041007075, 0.17402046010897687, 0.18718429374302925, 0.17826051704885948, 0.1756213602849902, 0.19241461438457486, 0.1717598293623671, 0.19023372085027523, 0.16894030894621193, 0.17716513880525941, 0.16317005868112477], \"yaxis\": \"y\"}, {\"hovertemplate\": \"Feature=Search product<br>month=%{x}<br>ava_debt=%{y}<extra></extra>\", \"legendgroup\": \"Search product\", \"line\": {\"color\": \"#EF553B\", \"dash\": \"solid\"}, \"mode\": \"lines\", \"name\": \"Search product\", \"orientation\": \"v\", \"showlegend\": true, \"type\": \"scatter\", \"x\": [\"2020-01\", \"2020-02\", \"2020-03\", \"2020-04\", \"2020-05\", \"2020-06\", \"2020-07\", \"2020-08\", \"2020-09\", \"2020-10\", \"2020-11\", \"2020-12\"], \"xaxis\": \"x\", \"y\": [0.1838750225005058, 0.1749209019754775, 0.17277721664402257, 0.1866302148822876, 0.1944385491926276, 0.1818843178730022, 0.16782831280474608, 0.2087252384731092, 0.17708893395581116, 0.18532483257417987, 0.18922749649471993, 0.15891896977711706], \"yaxis\": \"y\"}, {\"hovertemplate\": \"Feature=Update number of items in shopping cart<br>month=%{x}<br>ava_debt=%{y}<extra></extra>\", \"legendgroup\": \"Update number of items in shopping cart\", \"line\": {\"color\": \"#00cc96\", \"dash\": \"solid\"}, \"mode\": \"lines\", \"name\": \"Update number of items in shopping cart\", \"orientation\": \"v\", \"showlegend\": true, \"type\": \"scatter\", \"x\": [\"2020-01\", \"2020-01\", \"2020-02\", \"2020-02\", \"2020-03\", \"2020-03\", \"2020-04\", \"2020-04\", \"2020-05\", \"2020-05\", \"2020-06\", \"2020-06\", \"2020-07\", \"2020-07\", \"2020-08\", \"2020-08\", \"2020-09\", \"2020-09\", \"2020-10\", \"2020-10\", \"2020-11\", \"2020-11\", \"2020-12\", \"2020-12\"], \"xaxis\": \"x\", \"y\": [0.17742415008788637, 0.17742415008788637, 0.18571410041007075, 0.18571410041007075, 0.17402046010897687, 0.17402046010897687, 0.18021335655269122, 0.18021335655269122, 0.18184146589238281, 0.18184146589238281, 0.18334878707558588, 0.18334878707558588, 0.19241461438457486, 0.19241461438457486, 0.16495920857678958, 0.16495920857678958, 0.19023372085027523, 0.19023372085027523, 0.16894030894621193, 0.16894030894621193, 0.16583453248676816, 0.16583453248676816, 0.19284787424207583, 0.19284787424207583], \"yaxis\": \"y\"}, {\"hovertemplate\": \"Feature=Update password<br>month=%{x}<br>ava_debt=%{y}<extra></extra>\", \"legendgroup\": \"Update password\", \"line\": {\"color\": \"#ab63fa\", \"dash\": \"solid\"}, \"mode\": \"lines\", \"name\": \"Update password\", \"orientation\": \"v\", \"showlegend\": true, \"type\": \"scatter\", \"x\": [\"2020-01\", \"2020-02\", \"2020-03\", \"2020-04\", \"2020-05\", \"2020-06\", \"2020-07\", \"2020-08\", \"2020-09\", \"2020-10\", \"2020-11\", \"2020-12\"], \"xaxis\": \"x\", \"y\": [0.17222100457939027, 0.16282441291148797, 0.1555133600795614, 0.16600927834550416, 0.14583724523463004, 0.16760332070802442, 0.16893034878435376, 0.16783596042885707, 0.1619404167105749, 0.15232256750920903, 0.16903551760022206, 0.16441491293914623], \"yaxis\": \"y\"}, {\"hovertemplate\": \"Feature=list orders<br>month=%{x}<br>ava_debt=%{y}<extra></extra>\", \"legendgroup\": \"list orders\", \"line\": {\"color\": \"#FFA15A\", \"dash\": \"solid\"}, \"mode\": \"lines\", \"name\": \"list orders\", \"orientation\": \"v\", \"showlegend\": true, \"type\": \"scatter\", \"x\": [\"2020-01\", \"2020-02\", \"2020-03\", \"2020-04\", \"2020-05\", \"2020-06\", \"2020-07\", \"2020-08\", \"2020-09\", \"2020-10\", \"2020-11\", \"2020-12\"], \"xaxis\": \"x\", \"y\": [0.17328455946668286, 0.17484995501347445, 0.17681925162264267, 0.14974893585360782, 0.1514333566012992, 0.17356196418286685, 0.1620529762756553, 0.1687594950155047, 0.16340196674919083, 0.14990160430069088, 0.15168216681795088, 0.1459751623111728], \"yaxis\": \"y\"}],                        {\"legend\": {\"title\": {\"text\": \"Feature\"}, \"tracegroupgap\": 0}, \"template\": {\"data\": {\"bar\": [{\"error_x\": {\"color\": \"#2a3f5f\"}, \"error_y\": {\"color\": \"#2a3f5f\"}, \"marker\": {\"line\": {\"color\": \"#E5ECF6\", \"width\": 0.5}}, \"type\": \"bar\"}], \"barpolar\": [{\"marker\": {\"line\": {\"color\": \"#E5ECF6\", \"width\": 0.5}}, \"type\": \"barpolar\"}], \"carpet\": [{\"aaxis\": {\"endlinecolor\": \"#2a3f5f\", \"gridcolor\": \"white\", \"linecolor\": \"white\", \"minorgridcolor\": \"white\", \"startlinecolor\": \"#2a3f5f\"}, \"baxis\": {\"endlinecolor\": \"#2a3f5f\", \"gridcolor\": \"white\", \"linecolor\": \"white\", \"minorgridcolor\": \"white\", \"startlinecolor\": \"#2a3f5f\"}, \"type\": \"carpet\"}], \"choropleth\": [{\"colorbar\": {\"outlinewidth\": 0, \"ticks\": \"\"}, \"type\": \"choropleth\"}], \"contour\": [{\"colorbar\": {\"outlinewidth\": 0, \"ticks\": \"\"}, \"colorscale\": [[0.0, \"#0d0887\"], [0.1111111111111111, \"#46039f\"], [0.2222222222222222, \"#7201a8\"], [0.3333333333333333, \"#9c179e\"], [0.4444444444444444, \"#bd3786\"], [0.5555555555555556, \"#d8576b\"], [0.6666666666666666, \"#ed7953\"], [0.7777777777777778, \"#fb9f3a\"], [0.8888888888888888, \"#fdca26\"], [1.0, \"#f0f921\"]], \"type\": \"contour\"}], \"contourcarpet\": [{\"colorbar\": {\"outlinewidth\": 0, \"ticks\": \"\"}, \"type\": \"contourcarpet\"}], \"heatmap\": [{\"colorbar\": {\"outlinewidth\": 0, \"ticks\": \"\"}, \"colorscale\": [[0.0, \"#0d0887\"], [0.1111111111111111, \"#46039f\"], [0.2222222222222222, \"#7201a8\"], [0.3333333333333333, \"#9c179e\"], [0.4444444444444444, \"#bd3786\"], [0.5555555555555556, \"#d8576b\"], [0.6666666666666666, \"#ed7953\"], [0.7777777777777778, \"#fb9f3a\"], [0.8888888888888888, \"#fdca26\"], [1.0, \"#f0f921\"]], \"type\": \"heatmap\"}], \"heatmapgl\": [{\"colorbar\": {\"outlinewidth\": 0, \"ticks\": \"\"}, \"colorscale\": [[0.0, \"#0d0887\"], [0.1111111111111111, \"#46039f\"], [0.2222222222222222, \"#7201a8\"], [0.3333333333333333, \"#9c179e\"], [0.4444444444444444, \"#bd3786\"], [0.5555555555555556, \"#d8576b\"], [0.6666666666666666, \"#ed7953\"], [0.7777777777777778, \"#fb9f3a\"], [0.8888888888888888, \"#fdca26\"], [1.0, \"#f0f921\"]], \"type\": \"heatmapgl\"}], \"histogram\": [{\"marker\": {\"colorbar\": {\"outlinewidth\": 0, \"ticks\": \"\"}}, \"type\": \"histogram\"}], \"histogram2d\": [{\"colorbar\": {\"outlinewidth\": 0, \"ticks\": \"\"}, \"colorscale\": [[0.0, \"#0d0887\"], [0.1111111111111111, \"#46039f\"], [0.2222222222222222, \"#7201a8\"], [0.3333333333333333, \"#9c179e\"], [0.4444444444444444, \"#bd3786\"], [0.5555555555555556, \"#d8576b\"], [0.6666666666666666, \"#ed7953\"], [0.7777777777777778, \"#fb9f3a\"], [0.8888888888888888, \"#fdca26\"], [1.0, \"#f0f921\"]], \"type\": \"histogram2d\"}], \"histogram2dcontour\": [{\"colorbar\": {\"outlinewidth\": 0, \"ticks\": \"\"}, \"colorscale\": [[0.0, \"#0d0887\"], [0.1111111111111111, \"#46039f\"], [0.2222222222222222, \"#7201a8\"], [0.3333333333333333, \"#9c179e\"], [0.4444444444444444, \"#bd3786\"], [0.5555555555555556, \"#d8576b\"], [0.6666666666666666, \"#ed7953\"], [0.7777777777777778, \"#fb9f3a\"], [0.8888888888888888, \"#fdca26\"], [1.0, \"#f0f921\"]], \"type\": \"histogram2dcontour\"}], \"mesh3d\": [{\"colorbar\": {\"outlinewidth\": 0, \"ticks\": \"\"}, \"type\": \"mesh3d\"}], \"parcoords\": [{\"line\": {\"colorbar\": {\"outlinewidth\": 0, \"ticks\": \"\"}}, \"type\": \"parcoords\"}], \"pie\": [{\"automargin\": true, \"type\": \"pie\"}], \"scatter\": [{\"marker\": {\"colorbar\": {\"outlinewidth\": 0, \"ticks\": \"\"}}, \"type\": \"scatter\"}], \"scatter3d\": [{\"line\": {\"colorbar\": {\"outlinewidth\": 0, \"ticks\": \"\"}}, \"marker\": {\"colorbar\": {\"outlinewidth\": 0, \"ticks\": \"\"}}, \"type\": \"scatter3d\"}], \"scattercarpet\": [{\"marker\": {\"colorbar\": {\"outlinewidth\": 0, \"ticks\": \"\"}}, \"type\": \"scattercarpet\"}], \"scattergeo\": [{\"marker\": {\"colorbar\": {\"outlinewidth\": 0, \"ticks\": \"\"}}, \"type\": \"scattergeo\"}], \"scattergl\": [{\"marker\": {\"colorbar\": {\"outlinewidth\": 0, \"ticks\": \"\"}}, \"type\": \"scattergl\"}], \"scattermapbox\": [{\"marker\": {\"colorbar\": {\"outlinewidth\": 0, \"ticks\": \"\"}}, \"type\": \"scattermapbox\"}], \"scatterpolar\": [{\"marker\": {\"colorbar\": {\"outlinewidth\": 0, \"ticks\": \"\"}}, \"type\": \"scatterpolar\"}], \"scatterpolargl\": [{\"marker\": {\"colorbar\": {\"outlinewidth\": 0, \"ticks\": \"\"}}, \"type\": \"scatterpolargl\"}], \"scatterternary\": [{\"marker\": {\"colorbar\": {\"outlinewidth\": 0, \"ticks\": \"\"}}, \"type\": \"scatterternary\"}], \"surface\": [{\"colorbar\": {\"outlinewidth\": 0, \"ticks\": \"\"}, \"colorscale\": [[0.0, \"#0d0887\"], [0.1111111111111111, \"#46039f\"], [0.2222222222222222, \"#7201a8\"], [0.3333333333333333, \"#9c179e\"], [0.4444444444444444, \"#bd3786\"], [0.5555555555555556, \"#d8576b\"], [0.6666666666666666, \"#ed7953\"], [0.7777777777777778, \"#fb9f3a\"], [0.8888888888888888, \"#fdca26\"], [1.0, \"#f0f921\"]], \"type\": \"surface\"}], \"table\": [{\"cells\": {\"fill\": {\"color\": \"#EBF0F8\"}, \"line\": {\"color\": \"white\"}}, \"header\": {\"fill\": {\"color\": \"#C8D4E3\"}, \"line\": {\"color\": \"white\"}}, \"type\": \"table\"}]}, \"layout\": {\"annotationdefaults\": {\"arrowcolor\": \"#2a3f5f\", \"arrowhead\": 0, \"arrowwidth\": 1}, \"coloraxis\": {\"colorbar\": {\"outlinewidth\": 0, \"ticks\": \"\"}}, \"colorscale\": {\"diverging\": [[0, \"#8e0152\"], [0.1, \"#c51b7d\"], [0.2, \"#de77ae\"], [0.3, \"#f1b6da\"], [0.4, \"#fde0ef\"], [0.5, \"#f7f7f7\"], [0.6, \"#e6f5d0\"], [0.7, \"#b8e186\"], [0.8, \"#7fbc41\"], [0.9, \"#4d9221\"], [1, \"#276419\"]], \"sequential\": [[0.0, \"#0d0887\"], [0.1111111111111111, \"#46039f\"], [0.2222222222222222, \"#7201a8\"], [0.3333333333333333, \"#9c179e\"], [0.4444444444444444, \"#bd3786\"], [0.5555555555555556, \"#d8576b\"], [0.6666666666666666, \"#ed7953\"], [0.7777777777777778, \"#fb9f3a\"], [0.8888888888888888, \"#fdca26\"], [1.0, \"#f0f921\"]], \"sequentialminus\": [[0.0, \"#0d0887\"], [0.1111111111111111, \"#46039f\"], [0.2222222222222222, \"#7201a8\"], [0.3333333333333333, \"#9c179e\"], [0.4444444444444444, \"#bd3786\"], [0.5555555555555556, \"#d8576b\"], [0.6666666666666666, \"#ed7953\"], [0.7777777777777778, \"#fb9f3a\"], [0.8888888888888888, \"#fdca26\"], [1.0, \"#f0f921\"]]}, \"colorway\": [\"#636efa\", \"#EF553B\", \"#00cc96\", \"#ab63fa\", \"#FFA15A\", \"#19d3f3\", \"#FF6692\", \"#B6E880\", \"#FF97FF\", \"#FECB52\"], \"font\": {\"color\": \"#2a3f5f\"}, \"geo\": {\"bgcolor\": \"white\", \"lakecolor\": \"white\", \"landcolor\": \"#E5ECF6\", \"showlakes\": true, \"showland\": true, \"subunitcolor\": \"white\"}, \"hoverlabel\": {\"align\": \"left\"}, \"hovermode\": \"closest\", \"mapbox\": {\"style\": \"light\"}, \"paper_bgcolor\": \"white\", \"plot_bgcolor\": \"#E5ECF6\", \"polar\": {\"angularaxis\": {\"gridcolor\": \"white\", \"linecolor\": \"white\", \"ticks\": \"\"}, \"bgcolor\": \"#E5ECF6\", \"radialaxis\": {\"gridcolor\": \"white\", \"linecolor\": \"white\", \"ticks\": \"\"}}, \"scene\": {\"xaxis\": {\"backgroundcolor\": \"#E5ECF6\", \"gridcolor\": \"white\", \"gridwidth\": 2, \"linecolor\": \"white\", \"showbackground\": true, \"ticks\": \"\", \"zerolinecolor\": \"white\"}, \"yaxis\": {\"backgroundcolor\": \"#E5ECF6\", \"gridcolor\": \"white\", \"gridwidth\": 2, \"linecolor\": \"white\", \"showbackground\": true, \"ticks\": \"\", \"zerolinecolor\": \"white\"}, \"zaxis\": {\"backgroundcolor\": \"#E5ECF6\", \"gridcolor\": \"white\", \"gridwidth\": 2, \"linecolor\": \"white\", \"showbackground\": true, \"ticks\": \"\", \"zerolinecolor\": \"white\"}}, \"shapedefaults\": {\"line\": {\"color\": \"#2a3f5f\"}}, \"ternary\": {\"aaxis\": {\"gridcolor\": \"white\", \"linecolor\": \"white\", \"ticks\": \"\"}, \"baxis\": {\"gridcolor\": \"white\", \"linecolor\": \"white\", \"ticks\": \"\"}, \"bgcolor\": \"#E5ECF6\", \"caxis\": {\"gridcolor\": \"white\", \"linecolor\": \"white\", \"ticks\": \"\"}}, \"title\": {\"x\": 0.05}, \"xaxis\": {\"automargin\": true, \"gridcolor\": \"white\", \"linecolor\": \"white\", \"ticks\": \"\", \"title\": {\"standoff\": 15}, \"zerolinecolor\": \"white\", \"zerolinewidth\": 2}, \"yaxis\": {\"automargin\": true, \"gridcolor\": \"white\", \"linecolor\": \"white\", \"ticks\": \"\", \"title\": {\"standoff\": 15}, \"zerolinecolor\": \"white\", \"zerolinewidth\": 2}}}, \"title\": {\"text\": \"Availability Feature Debt Value Per Month\"}, \"xaxis\": {\"anchor\": \"y\", \"domain\": [0.0, 1.0], \"title\": {\"text\": \"month\"}}, \"yaxis\": {\"anchor\": \"x\", \"domain\": [0.0, 1.0], \"title\": {\"text\": \"ava_debt\"}}},                        {\"responsive\": true}                    ).then(function(){\n",
       "                            \n",
       "var gd = document.getElementById('d66ba9bd-1e61-405f-be3a-0c6906d0eccb');\n",
       "var x = new MutationObserver(function (mutations, observer) {{\n",
       "        var display = window.getComputedStyle(gd).display;\n",
       "        if (!display || display === 'none') {{\n",
       "            console.log([gd, 'removed!']);\n",
       "            Plotly.purge(gd);\n",
       "            observer.disconnect();\n",
       "        }}\n",
       "}});\n",
       "\n",
       "// Listen for the removal of the full notebook cells\n",
       "var notebookContainer = gd.closest('#notebook-container');\n",
       "if (notebookContainer) {{\n",
       "    x.observe(notebookContainer, {childList: true});\n",
       "}}\n",
       "\n",
       "// Listen for the clearing of the current output cell\n",
       "var outputEl = gd.closest('.output');\n",
       "if (outputEl) {{\n",
       "    x.observe(outputEl, {childList: true});\n",
       "}}\n",
       "\n",
       "                        })                };                });            </script>        </div>"
      ]
     },
     "metadata": {},
     "output_type": "display_data"
    }
   ],
   "source": [
    "fig = px.line(grouped, x=\"month\", y=\"ava_debt\", color=\"Feature\", title=\"Availability Feature Debt Value Per Month\")\n",
    "fig.show()\n"
   ]
  },
  {
   "cell_type": "code",
   "execution_count": 35,
   "metadata": {},
   "outputs": [
    {
     "data": {
      "application/vnd.plotly.v1+json": {
       "config": {
        "plotlyServerURL": "https://plot.ly"
       },
       "data": [
        {
         "alignmentgroup": "True",
         "hovertemplate": "Feature=Cancel order<br>month=%{x}<br>ava_debt_per=%{y}<extra></extra>",
         "legendgroup": "Cancel order",
         "marker": {
          "color": "#636efa"
         },
         "name": "Cancel order",
         "offsetgroup": "Cancel order",
         "orientation": "v",
         "showlegend": true,
         "textposition": "auto",
         "type": "bar",
         "x": [
          "2020-01",
          "2020-02",
          "2020-03",
          "2020-04",
          "2020-05",
          "2020-06",
          "2020-07",
          "2020-08",
          "2020-09",
          "2020-10",
          "2020-11",
          "2020-12"
         ],
         "xaxis": "x",
         "y": [
          0.06895850938932079,
          0.06017144027249909,
          0.05736718531799018,
          0.06253423425975076,
          0.057910901428369944,
          0.06122897300861086,
          0.05164794143577077,
          0.06135542761891359,
          0.056662105689629046,
          0.06276359134245606,
          0.06330766263539493,
          0.06064800113667767
         ],
         "yaxis": "y"
        },
        {
         "alignmentgroup": "True",
         "hovertemplate": "Feature=Dashboard<br>month=%{x}<br>ava_debt_per=%{y}<extra></extra>",
         "legendgroup": "Dashboard",
         "marker": {
          "color": "#EF553B"
         },
         "name": "Dashboard",
         "offsetgroup": "Dashboard",
         "orientation": "v",
         "showlegend": true,
         "textposition": "auto",
         "type": "bar",
         "x": [
          "2020-01",
          "2020-01",
          "2020-01",
          "2020-01",
          "2020-01",
          "2020-01",
          "2020-02",
          "2020-02",
          "2020-02",
          "2020-02",
          "2020-02",
          "2020-02",
          "2020-03",
          "2020-03",
          "2020-03",
          "2020-03",
          "2020-03",
          "2020-03",
          "2020-04",
          "2020-04",
          "2020-04",
          "2020-04",
          "2020-04",
          "2020-04",
          "2020-05",
          "2020-05",
          "2020-05",
          "2020-05",
          "2020-05",
          "2020-05",
          "2020-06",
          "2020-06",
          "2020-06",
          "2020-06",
          "2020-06",
          "2020-06",
          "2020-07",
          "2020-07",
          "2020-07",
          "2020-07",
          "2020-07",
          "2020-07",
          "2020-08",
          "2020-08",
          "2020-08",
          "2020-08",
          "2020-08",
          "2020-08",
          "2020-09",
          "2020-09",
          "2020-09",
          "2020-09",
          "2020-09",
          "2020-09",
          "2020-10",
          "2020-10",
          "2020-10",
          "2020-10",
          "2020-10",
          "2020-10",
          "2020-11",
          "2020-11",
          "2020-11",
          "2020-11",
          "2020-11",
          "2020-11",
          "2020-12",
          "2020-12",
          "2020-12",
          "2020-12",
          "2020-12",
          "2020-12"
         ],
         "xaxis": "x",
         "y": [
          0,
          0,
          0,
          0,
          0.0009156837306852387,
          0.0009156837306852387,
          0,
          0,
          0,
          0,
          0.0007925141968646384,
          0.0007925141968646384,
          0,
          0,
          0,
          0,
          0.0007602601007030605,
          0.0007602601007030605,
          0,
          0,
          0,
          0,
          0.0008118988563784399,
          0.0008118988563784399,
          0,
          0,
          0,
          0,
          0.0009652087048957256,
          0.0009652087048957256,
          0,
          0,
          0,
          0,
          0.0006094174410766652,
          0.0006094174410766652,
          0,
          0,
          0,
          0,
          0.0007443663170183232,
          0.0007443663170183232,
          0,
          0,
          0,
          0,
          0.0006432548721072267,
          0.0006432548721072267,
          0,
          0,
          0,
          0,
          0.0006885801464014046,
          0.0006885801464014046,
          0,
          0,
          0,
          0,
          0.0006119444492621996,
          0.0006119444492621996,
          0,
          0,
          0,
          0,
          0.0007780070254407629,
          0.0007780070254407629,
          0,
          0,
          0,
          0,
          0.0008717211125177431,
          0.0008717211125177431
         ],
         "yaxis": "y"
        },
        {
         "alignmentgroup": "True",
         "hovertemplate": "Feature=Delete item in shopping cart<br>month=%{x}<br>ava_debt_per=%{y}<extra></extra>",
         "legendgroup": "Delete item in shopping cart",
         "marker": {
          "color": "#00cc96"
         },
         "name": "Delete item in shopping cart",
         "offsetgroup": "Delete item in shopping cart",
         "orientation": "v",
         "showlegend": true,
         "textposition": "auto",
         "type": "bar",
         "x": [
          "2020-01",
          "2020-02",
          "2020-03",
          "2020-04",
          "2020-05",
          "2020-06",
          "2020-07",
          "2020-08",
          "2020-09",
          "2020-10",
          "2020-11",
          "2020-12"
         ],
         "xaxis": "x",
         "y": [
          0.06321243835722451,
          0.06136099741255546,
          0.0645391567995184,
          0.06471949254363328,
          0.06516674425213768,
          0.06593962107344356,
          0.06692183905006481,
          0.06437307064749356,
          0.06431965285086891,
          0.06397532435271683,
          0.06291539543937003,
          0.07041473752519785
         ],
         "yaxis": "y"
        },
        {
         "alignmentgroup": "True",
         "hovertemplate": "Feature=Display Points<br>month=%{x}<br>ava_debt_per=%{y}<extra></extra>",
         "legendgroup": "Display Points",
         "marker": {
          "color": "#ab63fa"
         },
         "name": "Display Points",
         "offsetgroup": "Display Points",
         "orientation": "v",
         "showlegend": true,
         "textposition": "auto",
         "type": "bar",
         "x": [
          "2020-01",
          "2020-01",
          "2020-02",
          "2020-02",
          "2020-03",
          "2020-03",
          "2020-04",
          "2020-04",
          "2020-05",
          "2020-05",
          "2020-06",
          "2020-06",
          "2020-07",
          "2020-07",
          "2020-08",
          "2020-08",
          "2020-09",
          "2020-09",
          "2020-10",
          "2020-10",
          "2020-11",
          "2020-11",
          "2020-12",
          "2020-12"
         ],
         "xaxis": "x",
         "y": [
          0.05682010370303408,
          0.06046733649598994,
          0.06016108965501756,
          0.06368083026445155,
          0.05968981321436185,
          0.06340491049906957,
          0.05683046465389492,
          0.060420759470216676,
          0.06230951895807115,
          0.06589323095315068,
          0.05516731047058785,
          0.05876371392245579,
          0.058860053254625115,
          0.062475924127686676,
          0.0627401301021765,
          0.06626768941922855,
          0.0635736580599581,
          0.06708801189638618,
          0.0619768855364927,
          0.06568760674515671,
          0.05686542049771627,
          0.06052249516877192,
          0.05788795411506554,
          0.06153926413349014
         ],
         "yaxis": "y"
        },
        {
         "alignmentgroup": "True",
         "hovertemplate": "Feature=Display Profile<br>month=%{x}<br>ava_debt_per=%{y}<extra></extra>",
         "legendgroup": "Display Profile",
         "marker": {
          "color": "#FFA15A"
         },
         "name": "Display Profile",
         "offsetgroup": "Display Profile",
         "orientation": "v",
         "showlegend": true,
         "textposition": "auto",
         "type": "bar",
         "x": [
          "2020-01",
          "2020-01",
          "2020-02",
          "2020-02",
          "2020-03",
          "2020-03",
          "2020-04",
          "2020-04",
          "2020-05",
          "2020-05",
          "2020-06",
          "2020-06",
          "2020-07",
          "2020-07",
          "2020-08",
          "2020-08",
          "2020-09",
          "2020-09",
          "2020-10",
          "2020-10",
          "2020-11",
          "2020-11",
          "2020-12",
          "2020-12"
         ],
         "xaxis": "x",
         "y": [
          0.05504490017901162,
          0.05504490017901162,
          0.06459509026997944,
          0.06459509026997944,
          0.061863509167184104,
          0.061863509167184104,
          0.06363227307387247,
          0.06363227307387247,
          0.06127633973892611,
          0.06127633973892611,
          0.06179888231485897,
          0.06179888231485897,
          0.06020315017810147,
          0.06020315017810147,
          0.06383227042686969,
          0.06383227042686969,
          0.056619423141748074,
          0.056619423141748074,
          0.059462588012290596,
          0.059462588012290596,
          0.06325067908019244,
          0.06325067908019244,
          0.06003786896071438,
          0.06003786896071438
         ],
         "yaxis": "y"
        },
        {
         "alignmentgroup": "True",
         "hovertemplate": "Feature=Display shopping cart<br>month=%{x}<br>ava_debt_per=%{y}<extra></extra>",
         "legendgroup": "Display shopping cart",
         "marker": {
          "color": "#19d3f3"
         },
         "name": "Display shopping cart",
         "offsetgroup": "Display shopping cart",
         "orientation": "v",
         "showlegend": true,
         "textposition": "auto",
         "type": "bar",
         "x": [
          "2020-01",
          "2020-02",
          "2020-03",
          "2020-04",
          "2020-05",
          "2020-06",
          "2020-07",
          "2020-08",
          "2020-09",
          "2020-10",
          "2020-11",
          "2020-12"
         ],
         "xaxis": "x",
         "y": [
          0.06321243835722451,
          0.06136099741255546,
          0.055977239854885376,
          0.06423878504638723,
          0.06516674425213768,
          0.06593962107344356,
          0.06335028325205763,
          0.05798222160567491,
          0.06431965285086891,
          0.06120333197824338,
          0.06064692683437141,
          0.07041473752519785
         ],
         "yaxis": "y"
        },
        {
         "alignmentgroup": "True",
         "hovertemplate": "Feature=Login<br>month=%{x}<br>ava_debt_per=%{y}<extra></extra>",
         "legendgroup": "Login",
         "marker": {
          "color": "#FF6692"
         },
         "name": "Login",
         "offsetgroup": "Login",
         "orientation": "v",
         "showlegend": true,
         "textposition": "auto",
         "type": "bar",
         "x": [
          "2020-01",
          "2020-01",
          "2020-01",
          "2020-01",
          "2020-01",
          "2020-01",
          "2020-01",
          "2020-01",
          "2020-02",
          "2020-02",
          "2020-02",
          "2020-02",
          "2020-02",
          "2020-02",
          "2020-02",
          "2020-02",
          "2020-03",
          "2020-03",
          "2020-03",
          "2020-03",
          "2020-03",
          "2020-03",
          "2020-03",
          "2020-03",
          "2020-04",
          "2020-04",
          "2020-04",
          "2020-04",
          "2020-04",
          "2020-04",
          "2020-04",
          "2020-04",
          "2020-05",
          "2020-05",
          "2020-05",
          "2020-05",
          "2020-05",
          "2020-05",
          "2020-05",
          "2020-05",
          "2020-06",
          "2020-06",
          "2020-06",
          "2020-06",
          "2020-06",
          "2020-06",
          "2020-06",
          "2020-06",
          "2020-07",
          "2020-07",
          "2020-07",
          "2020-07",
          "2020-07",
          "2020-07",
          "2020-07",
          "2020-07",
          "2020-08",
          "2020-08",
          "2020-08",
          "2020-08",
          "2020-08",
          "2020-08",
          "2020-08",
          "2020-08",
          "2020-09",
          "2020-09",
          "2020-09",
          "2020-09",
          "2020-09",
          "2020-09",
          "2020-09",
          "2020-09",
          "2020-10",
          "2020-10",
          "2020-10",
          "2020-10",
          "2020-10",
          "2020-10",
          "2020-10",
          "2020-10",
          "2020-11",
          "2020-11",
          "2020-11",
          "2020-11",
          "2020-11",
          "2020-11",
          "2020-11",
          "2020-11",
          "2020-12",
          "2020-12",
          "2020-12",
          "2020-12",
          "2020-12",
          "2020-12",
          "2020-12",
          "2020-12"
         ],
         "xaxis": "x",
         "y": [
          0,
          0,
          0,
          0,
          0,
          0.0005630088678167343,
          0.0005630088678167343,
          0.0005630088678167343,
          0,
          0,
          0,
          0,
          0,
          0.0004562600338642274,
          0.0004562600338642274,
          0.0004562600338642274,
          0,
          0,
          0,
          0,
          0,
          0.000758503002589301,
          0.000758503002589301,
          0.000758503002589301,
          0,
          0,
          0,
          0,
          0,
          0.0006409966065964131,
          0.0006409966065964131,
          0.0006409966065964131,
          0,
          0,
          0,
          0,
          0,
          0.0006215325734385421,
          0.0006215325734385421,
          0.0006215325734385421,
          0,
          0,
          0,
          0,
          0,
          0.0007302957348924874,
          0.0007302957348924874,
          0.0007302957348924874,
          0,
          0,
          0,
          0,
          0,
          0.0008258013206837063,
          0.0008258013206837063,
          0.0008258013206837063,
          0,
          0,
          0,
          0,
          0,
          0.0006062351413681312,
          0.0006062351413681312,
          0.0006062351413681312,
          0,
          0,
          0,
          0,
          0,
          0.00038420725378740544,
          0.00038420725378740544,
          0.00038420725378740544,
          0,
          0,
          0,
          0,
          0,
          0.0006590855275848906,
          0.0006590855275848906,
          0.0006590855275848906,
          0,
          0,
          0,
          0,
          0,
          0.000808125372826936,
          0.000808125372826936,
          0.000808125372826936,
          0,
          0,
          0,
          0,
          0,
          0.0006080856265752881,
          0.0006080856265752881,
          0.0006080856265752881
         ],
         "yaxis": "y"
        },
        {
         "alignmentgroup": "True",
         "hovertemplate": "Feature=Onboarding<br>month=%{x}<br>ava_debt_per=%{y}<extra></extra>",
         "legendgroup": "Onboarding",
         "marker": {
          "color": "#B6E880"
         },
         "name": "Onboarding",
         "offsetgroup": "Onboarding",
         "orientation": "v",
         "showlegend": true,
         "textposition": "auto",
         "type": "bar",
         "x": [
          "2020-01",
          "2020-02",
          "2020-03",
          "2020-04",
          "2020-05",
          "2020-06",
          "2020-07",
          "2020-08",
          "2020-09",
          "2020-10",
          "2020-11",
          "2020-12"
         ],
         "xaxis": "x",
         "y": [
          0.057277594900350025,
          0.06220594266250147,
          0.06478191821540684,
          0.05955505624898436,
          0.064299450098186,
          0.06143937533951006,
          0.06629240042823235,
          0.06294999930372444,
          0.06000347548966537,
          0.06368027075276028,
          0.06213059753444695,
          0.059857699137482456
         ],
         "yaxis": "y"
        },
        {
         "alignmentgroup": "True",
         "hovertemplate": "Feature=Recuperate Password<br>month=%{x}<br>ava_debt_per=%{y}<extra></extra>",
         "legendgroup": "Recuperate Password",
         "marker": {
          "color": "#FF97FF"
         },
         "name": "Recuperate Password",
         "offsetgroup": "Recuperate Password",
         "orientation": "v",
         "showlegend": true,
         "textposition": "auto",
         "type": "bar",
         "x": [
          "2020-01",
          "2020-02",
          "2020-03",
          "2020-04",
          "2020-05",
          "2020-06",
          "2020-07",
          "2020-08",
          "2020-09",
          "2020-10",
          "2020-11",
          "2020-12"
         ],
         "xaxis": "x",
         "y": [
          0.06792003309634494,
          0.06223374657553746,
          0.06472585485931386,
          0.06608146192958236,
          0.06016487440479244,
          0.0617003711962983,
          0.05673895838229274,
          0.06148648845160081,
          0.06755443196845384,
          0.06762682294523054,
          0.06989925255728377,
          0.0659390114537092
         ],
         "yaxis": "y"
        },
        {
         "alignmentgroup": "True",
         "hovertemplate": "Feature=Reward Points<br>month=%{x}<br>ava_debt_per=%{y}<extra></extra>",
         "legendgroup": "Reward Points",
         "marker": {
          "color": "#FECB52"
         },
         "name": "Reward Points",
         "offsetgroup": "Reward Points",
         "orientation": "v",
         "showlegend": true,
         "textposition": "auto",
         "type": "bar",
         "x": [
          "2020-01",
          "2020-02",
          "2020-03",
          "2020-04",
          "2020-05",
          "2020-06",
          "2020-07",
          "2020-08",
          "2020-09",
          "2020-10",
          "2020-11",
          "2020-12"
         ],
         "xaxis": "x",
         "y": [
          0.061311774218120105,
          0.06016108965501756,
          0.060386776868751685,
          0.05782765897130282,
          0.06230951895807115,
          0.05966401872932454,
          0.0602523959556827,
          0.0627401301021765,
          0.0635736580599581,
          0.0619768855364927,
          0.06065527268793484,
          0.05788795411506554
         ],
         "yaxis": "y"
        },
        {
         "alignmentgroup": "True",
         "hovertemplate": "Feature=Save item in shopping cart<br>month=%{x}<br>ava_debt_per=%{y}<extra></extra>",
         "legendgroup": "Save item in shopping cart",
         "marker": {
          "color": "#636efa"
         },
         "name": "Save item in shopping cart",
         "offsetgroup": "Save item in shopping cart",
         "orientation": "v",
         "showlegend": true,
         "textposition": "auto",
         "type": "bar",
         "x": [
          "2020-01",
          "2020-02",
          "2020-03",
          "2020-04",
          "2020-05",
          "2020-06",
          "2020-07",
          "2020-08",
          "2020-09",
          "2020-10",
          "2020-11",
          "2020-12"
         ],
         "xaxis": "x",
         "y": [
          0.0647107178462861,
          0.06536654609578267,
          0.06465029388344494,
          0.06720467995224463,
          0.06388343531970761,
          0.06316052663506806,
          0.06957463997045557,
          0.06058929863624889,
          0.06685486066881528,
          0.06268903874049592,
          0.06479061417187715,
          0.059578446996932044
         ],
         "yaxis": "y"
        },
        {
         "alignmentgroup": "True",
         "hovertemplate": "Feature=Search product<br>month=%{x}<br>ava_debt_per=%{y}<extra></extra>",
         "legendgroup": "Search product",
         "marker": {
          "color": "#EF553B"
         },
         "name": "Search product",
         "offsetgroup": "Search product",
         "orientation": "v",
         "showlegend": true,
         "textposition": "auto",
         "type": "bar",
         "x": [
          "2020-01",
          "2020-02",
          "2020-03",
          "2020-04",
          "2020-05",
          "2020-06",
          "2020-07",
          "2020-08",
          "2020-09",
          "2020-10",
          "2020-11",
          "2020-12"
         ],
         "xaxis": "x",
         "y": [
          0.06706350118693409,
          0.061567620212190956,
          0.0641884168413567,
          0.06700574930608921,
          0.06968117610474801,
          0.06541293886391093,
          0.06068455079457455,
          0.07362906596797279,
          0.062235317443656346,
          0.06876887867251165,
          0.06920190844981108,
          0.05802624264649034
         ],
         "yaxis": "y"
        },
        {
         "alignmentgroup": "True",
         "hovertemplate": "Feature=Update number of items in shopping cart<br>month=%{x}<br>ava_debt_per=%{y}<extra></extra>",
         "legendgroup": "Update number of items in shopping cart",
         "marker": {
          "color": "#00cc96"
         },
         "name": "Update number of items in shopping cart",
         "offsetgroup": "Update number of items in shopping cart",
         "orientation": "v",
         "showlegend": true,
         "textposition": "auto",
         "type": "bar",
         "x": [
          "2020-01",
          "2020-01",
          "2020-02",
          "2020-02",
          "2020-03",
          "2020-03",
          "2020-04",
          "2020-04",
          "2020-05",
          "2020-05",
          "2020-06",
          "2020-06",
          "2020-07",
          "2020-07",
          "2020-08",
          "2020-08",
          "2020-09",
          "2020-09",
          "2020-10",
          "2020-10",
          "2020-11",
          "2020-11",
          "2020-12",
          "2020-12"
         ],
         "xaxis": "x",
         "y": [
          0.0647107178462861,
          0.0647107178462861,
          0.06536654609578267,
          0.06536654609578267,
          0.06465029388344494,
          0.06465029388344494,
          0.06470190798630712,
          0.06470190798630712,
          0.06516674425213768,
          0.06516674425213768,
          0.06593962107344356,
          0.06593962107344356,
          0.06957463997045557,
          0.06957463997045557,
          0.0581903393148587,
          0.0581903393148587,
          0.06685486066881528,
          0.06685486066881528,
          0.06268903874049592,
          0.06268903874049592,
          0.06064692683437141,
          0.06064692683437141,
          0.07041473752519785,
          0.07041473752519785
         ],
         "yaxis": "y"
        },
        {
         "alignmentgroup": "True",
         "hovertemplate": "Feature=Update password<br>month=%{x}<br>ava_debt_per=%{y}<extra></extra>",
         "legendgroup": "Update password",
         "marker": {
          "color": "#ab63fa"
         },
         "name": "Update password",
         "offsetgroup": "Update password",
         "orientation": "v",
         "showlegend": true,
         "textposition": "auto",
         "type": "bar",
         "x": [
          "2020-01",
          "2020-02",
          "2020-03",
          "2020-04",
          "2020-05",
          "2020-06",
          "2020-07",
          "2020-08",
          "2020-09",
          "2020-10",
          "2020-11",
          "2020-12"
         ],
         "xaxis": "x",
         "y": [
          0.0628130095537753,
          0.05730996983318115,
          0.05777472617673537,
          0.05960222515051787,
          0.05226386850766982,
          0.06027691611388671,
          0.06108303277454747,
          0.05920513059471944,
          0.05691159247395705,
          0.056522658181457776,
          0.06181755099245525,
          0.06003298187931127
         ],
         "yaxis": "y"
        },
        {
         "alignmentgroup": "True",
         "hovertemplate": "Feature=list orders<br>month=%{x}<br>ava_debt_per=%{y}<extra></extra>",
         "legendgroup": "list orders",
         "marker": {
          "color": "#FFA15A"
         },
         "name": "list orders",
         "offsetgroup": "list orders",
         "orientation": "v",
         "showlegend": true,
         "textposition": "auto",
         "type": "bar",
         "x": [
          "2020-01",
          "2020-02",
          "2020-03",
          "2020-04",
          "2020-05",
          "2020-06",
          "2020-07",
          "2020-08",
          "2020-09",
          "2020-10",
          "2020-11",
          "2020-12"
         ],
         "xaxis": "x",
         "y": [
          0.06320091277997951,
          0.061542648721863144,
          0.06569007215873322,
          0.053764282814490694,
          0.054269353650723134,
          0.06241988471002408,
          0.05859626368080777,
          0.059530912898294305,
          0.057425232872491204,
          0.05562430622913342,
          0.055471301032076495,
          0.0533000572587942
         ],
         "yaxis": "y"
        }
       ],
       "layout": {
        "barmode": "relative",
        "legend": {
         "title": {
          "text": "Feature"
         },
         "tracegroupgap": 0
        },
        "template": {
         "data": {
          "bar": [
           {
            "error_x": {
             "color": "#2a3f5f"
            },
            "error_y": {
             "color": "#2a3f5f"
            },
            "marker": {
             "line": {
              "color": "#E5ECF6",
              "width": 0.5
             }
            },
            "type": "bar"
           }
          ],
          "barpolar": [
           {
            "marker": {
             "line": {
              "color": "#E5ECF6",
              "width": 0.5
             }
            },
            "type": "barpolar"
           }
          ],
          "carpet": [
           {
            "aaxis": {
             "endlinecolor": "#2a3f5f",
             "gridcolor": "white",
             "linecolor": "white",
             "minorgridcolor": "white",
             "startlinecolor": "#2a3f5f"
            },
            "baxis": {
             "endlinecolor": "#2a3f5f",
             "gridcolor": "white",
             "linecolor": "white",
             "minorgridcolor": "white",
             "startlinecolor": "#2a3f5f"
            },
            "type": "carpet"
           }
          ],
          "choropleth": [
           {
            "colorbar": {
             "outlinewidth": 0,
             "ticks": ""
            },
            "type": "choropleth"
           }
          ],
          "contour": [
           {
            "colorbar": {
             "outlinewidth": 0,
             "ticks": ""
            },
            "colorscale": [
             [
              0,
              "#0d0887"
             ],
             [
              0.1111111111111111,
              "#46039f"
             ],
             [
              0.2222222222222222,
              "#7201a8"
             ],
             [
              0.3333333333333333,
              "#9c179e"
             ],
             [
              0.4444444444444444,
              "#bd3786"
             ],
             [
              0.5555555555555556,
              "#d8576b"
             ],
             [
              0.6666666666666666,
              "#ed7953"
             ],
             [
              0.7777777777777778,
              "#fb9f3a"
             ],
             [
              0.8888888888888888,
              "#fdca26"
             ],
             [
              1,
              "#f0f921"
             ]
            ],
            "type": "contour"
           }
          ],
          "contourcarpet": [
           {
            "colorbar": {
             "outlinewidth": 0,
             "ticks": ""
            },
            "type": "contourcarpet"
           }
          ],
          "heatmap": [
           {
            "colorbar": {
             "outlinewidth": 0,
             "ticks": ""
            },
            "colorscale": [
             [
              0,
              "#0d0887"
             ],
             [
              0.1111111111111111,
              "#46039f"
             ],
             [
              0.2222222222222222,
              "#7201a8"
             ],
             [
              0.3333333333333333,
              "#9c179e"
             ],
             [
              0.4444444444444444,
              "#bd3786"
             ],
             [
              0.5555555555555556,
              "#d8576b"
             ],
             [
              0.6666666666666666,
              "#ed7953"
             ],
             [
              0.7777777777777778,
              "#fb9f3a"
             ],
             [
              0.8888888888888888,
              "#fdca26"
             ],
             [
              1,
              "#f0f921"
             ]
            ],
            "type": "heatmap"
           }
          ],
          "heatmapgl": [
           {
            "colorbar": {
             "outlinewidth": 0,
             "ticks": ""
            },
            "colorscale": [
             [
              0,
              "#0d0887"
             ],
             [
              0.1111111111111111,
              "#46039f"
             ],
             [
              0.2222222222222222,
              "#7201a8"
             ],
             [
              0.3333333333333333,
              "#9c179e"
             ],
             [
              0.4444444444444444,
              "#bd3786"
             ],
             [
              0.5555555555555556,
              "#d8576b"
             ],
             [
              0.6666666666666666,
              "#ed7953"
             ],
             [
              0.7777777777777778,
              "#fb9f3a"
             ],
             [
              0.8888888888888888,
              "#fdca26"
             ],
             [
              1,
              "#f0f921"
             ]
            ],
            "type": "heatmapgl"
           }
          ],
          "histogram": [
           {
            "marker": {
             "colorbar": {
              "outlinewidth": 0,
              "ticks": ""
             }
            },
            "type": "histogram"
           }
          ],
          "histogram2d": [
           {
            "colorbar": {
             "outlinewidth": 0,
             "ticks": ""
            },
            "colorscale": [
             [
              0,
              "#0d0887"
             ],
             [
              0.1111111111111111,
              "#46039f"
             ],
             [
              0.2222222222222222,
              "#7201a8"
             ],
             [
              0.3333333333333333,
              "#9c179e"
             ],
             [
              0.4444444444444444,
              "#bd3786"
             ],
             [
              0.5555555555555556,
              "#d8576b"
             ],
             [
              0.6666666666666666,
              "#ed7953"
             ],
             [
              0.7777777777777778,
              "#fb9f3a"
             ],
             [
              0.8888888888888888,
              "#fdca26"
             ],
             [
              1,
              "#f0f921"
             ]
            ],
            "type": "histogram2d"
           }
          ],
          "histogram2dcontour": [
           {
            "colorbar": {
             "outlinewidth": 0,
             "ticks": ""
            },
            "colorscale": [
             [
              0,
              "#0d0887"
             ],
             [
              0.1111111111111111,
              "#46039f"
             ],
             [
              0.2222222222222222,
              "#7201a8"
             ],
             [
              0.3333333333333333,
              "#9c179e"
             ],
             [
              0.4444444444444444,
              "#bd3786"
             ],
             [
              0.5555555555555556,
              "#d8576b"
             ],
             [
              0.6666666666666666,
              "#ed7953"
             ],
             [
              0.7777777777777778,
              "#fb9f3a"
             ],
             [
              0.8888888888888888,
              "#fdca26"
             ],
             [
              1,
              "#f0f921"
             ]
            ],
            "type": "histogram2dcontour"
           }
          ],
          "mesh3d": [
           {
            "colorbar": {
             "outlinewidth": 0,
             "ticks": ""
            },
            "type": "mesh3d"
           }
          ],
          "parcoords": [
           {
            "line": {
             "colorbar": {
              "outlinewidth": 0,
              "ticks": ""
             }
            },
            "type": "parcoords"
           }
          ],
          "pie": [
           {
            "automargin": true,
            "type": "pie"
           }
          ],
          "scatter": [
           {
            "marker": {
             "colorbar": {
              "outlinewidth": 0,
              "ticks": ""
             }
            },
            "type": "scatter"
           }
          ],
          "scatter3d": [
           {
            "line": {
             "colorbar": {
              "outlinewidth": 0,
              "ticks": ""
             }
            },
            "marker": {
             "colorbar": {
              "outlinewidth": 0,
              "ticks": ""
             }
            },
            "type": "scatter3d"
           }
          ],
          "scattercarpet": [
           {
            "marker": {
             "colorbar": {
              "outlinewidth": 0,
              "ticks": ""
             }
            },
            "type": "scattercarpet"
           }
          ],
          "scattergeo": [
           {
            "marker": {
             "colorbar": {
              "outlinewidth": 0,
              "ticks": ""
             }
            },
            "type": "scattergeo"
           }
          ],
          "scattergl": [
           {
            "marker": {
             "colorbar": {
              "outlinewidth": 0,
              "ticks": ""
             }
            },
            "type": "scattergl"
           }
          ],
          "scattermapbox": [
           {
            "marker": {
             "colorbar": {
              "outlinewidth": 0,
              "ticks": ""
             }
            },
            "type": "scattermapbox"
           }
          ],
          "scatterpolar": [
           {
            "marker": {
             "colorbar": {
              "outlinewidth": 0,
              "ticks": ""
             }
            },
            "type": "scatterpolar"
           }
          ],
          "scatterpolargl": [
           {
            "marker": {
             "colorbar": {
              "outlinewidth": 0,
              "ticks": ""
             }
            },
            "type": "scatterpolargl"
           }
          ],
          "scatterternary": [
           {
            "marker": {
             "colorbar": {
              "outlinewidth": 0,
              "ticks": ""
             }
            },
            "type": "scatterternary"
           }
          ],
          "surface": [
           {
            "colorbar": {
             "outlinewidth": 0,
             "ticks": ""
            },
            "colorscale": [
             [
              0,
              "#0d0887"
             ],
             [
              0.1111111111111111,
              "#46039f"
             ],
             [
              0.2222222222222222,
              "#7201a8"
             ],
             [
              0.3333333333333333,
              "#9c179e"
             ],
             [
              0.4444444444444444,
              "#bd3786"
             ],
             [
              0.5555555555555556,
              "#d8576b"
             ],
             [
              0.6666666666666666,
              "#ed7953"
             ],
             [
              0.7777777777777778,
              "#fb9f3a"
             ],
             [
              0.8888888888888888,
              "#fdca26"
             ],
             [
              1,
              "#f0f921"
             ]
            ],
            "type": "surface"
           }
          ],
          "table": [
           {
            "cells": {
             "fill": {
              "color": "#EBF0F8"
             },
             "line": {
              "color": "white"
             }
            },
            "header": {
             "fill": {
              "color": "#C8D4E3"
             },
             "line": {
              "color": "white"
             }
            },
            "type": "table"
           }
          ]
         },
         "layout": {
          "annotationdefaults": {
           "arrowcolor": "#2a3f5f",
           "arrowhead": 0,
           "arrowwidth": 1
          },
          "coloraxis": {
           "colorbar": {
            "outlinewidth": 0,
            "ticks": ""
           }
          },
          "colorscale": {
           "diverging": [
            [
             0,
             "#8e0152"
            ],
            [
             0.1,
             "#c51b7d"
            ],
            [
             0.2,
             "#de77ae"
            ],
            [
             0.3,
             "#f1b6da"
            ],
            [
             0.4,
             "#fde0ef"
            ],
            [
             0.5,
             "#f7f7f7"
            ],
            [
             0.6,
             "#e6f5d0"
            ],
            [
             0.7,
             "#b8e186"
            ],
            [
             0.8,
             "#7fbc41"
            ],
            [
             0.9,
             "#4d9221"
            ],
            [
             1,
             "#276419"
            ]
           ],
           "sequential": [
            [
             0,
             "#0d0887"
            ],
            [
             0.1111111111111111,
             "#46039f"
            ],
            [
             0.2222222222222222,
             "#7201a8"
            ],
            [
             0.3333333333333333,
             "#9c179e"
            ],
            [
             0.4444444444444444,
             "#bd3786"
            ],
            [
             0.5555555555555556,
             "#d8576b"
            ],
            [
             0.6666666666666666,
             "#ed7953"
            ],
            [
             0.7777777777777778,
             "#fb9f3a"
            ],
            [
             0.8888888888888888,
             "#fdca26"
            ],
            [
             1,
             "#f0f921"
            ]
           ],
           "sequentialminus": [
            [
             0,
             "#0d0887"
            ],
            [
             0.1111111111111111,
             "#46039f"
            ],
            [
             0.2222222222222222,
             "#7201a8"
            ],
            [
             0.3333333333333333,
             "#9c179e"
            ],
            [
             0.4444444444444444,
             "#bd3786"
            ],
            [
             0.5555555555555556,
             "#d8576b"
            ],
            [
             0.6666666666666666,
             "#ed7953"
            ],
            [
             0.7777777777777778,
             "#fb9f3a"
            ],
            [
             0.8888888888888888,
             "#fdca26"
            ],
            [
             1,
             "#f0f921"
            ]
           ]
          },
          "colorway": [
           "#636efa",
           "#EF553B",
           "#00cc96",
           "#ab63fa",
           "#FFA15A",
           "#19d3f3",
           "#FF6692",
           "#B6E880",
           "#FF97FF",
           "#FECB52"
          ],
          "font": {
           "color": "#2a3f5f"
          },
          "geo": {
           "bgcolor": "white",
           "lakecolor": "white",
           "landcolor": "#E5ECF6",
           "showlakes": true,
           "showland": true,
           "subunitcolor": "white"
          },
          "hoverlabel": {
           "align": "left"
          },
          "hovermode": "closest",
          "mapbox": {
           "style": "light"
          },
          "paper_bgcolor": "white",
          "plot_bgcolor": "#E5ECF6",
          "polar": {
           "angularaxis": {
            "gridcolor": "white",
            "linecolor": "white",
            "ticks": ""
           },
           "bgcolor": "#E5ECF6",
           "radialaxis": {
            "gridcolor": "white",
            "linecolor": "white",
            "ticks": ""
           }
          },
          "scene": {
           "xaxis": {
            "backgroundcolor": "#E5ECF6",
            "gridcolor": "white",
            "gridwidth": 2,
            "linecolor": "white",
            "showbackground": true,
            "ticks": "",
            "zerolinecolor": "white"
           },
           "yaxis": {
            "backgroundcolor": "#E5ECF6",
            "gridcolor": "white",
            "gridwidth": 2,
            "linecolor": "white",
            "showbackground": true,
            "ticks": "",
            "zerolinecolor": "white"
           },
           "zaxis": {
            "backgroundcolor": "#E5ECF6",
            "gridcolor": "white",
            "gridwidth": 2,
            "linecolor": "white",
            "showbackground": true,
            "ticks": "",
            "zerolinecolor": "white"
           }
          },
          "shapedefaults": {
           "line": {
            "color": "#2a3f5f"
           }
          },
          "ternary": {
           "aaxis": {
            "gridcolor": "white",
            "linecolor": "white",
            "ticks": ""
           },
           "baxis": {
            "gridcolor": "white",
            "linecolor": "white",
            "ticks": ""
           },
           "bgcolor": "#E5ECF6",
           "caxis": {
            "gridcolor": "white",
            "linecolor": "white",
            "ticks": ""
           }
          },
          "title": {
           "x": 0.05
          },
          "xaxis": {
           "automargin": true,
           "gridcolor": "white",
           "linecolor": "white",
           "ticks": "",
           "title": {
            "standoff": 15
           },
           "zerolinecolor": "white",
           "zerolinewidth": 2
          },
          "yaxis": {
           "automargin": true,
           "gridcolor": "white",
           "linecolor": "white",
           "ticks": "",
           "title": {
            "standoff": 15
           },
           "zerolinecolor": "white",
           "zerolinewidth": 2
          }
         }
        },
        "title": {
         "text": "Availability Feature Debt Percentage Per Month"
        },
        "xaxis": {
         "anchor": "y",
         "domain": [
          0,
          1
         ],
         "title": {
          "text": "month"
         }
        },
        "yaxis": {
         "anchor": "x",
         "domain": [
          0,
          1
         ],
         "title": {
          "text": "ava_debt_per"
         }
        }
       }
      },
      "text/html": [
       "<div>                            <div id=\"fccdc289-1046-4bc1-9ee7-bef97cced9ef\" class=\"plotly-graph-div\" style=\"height:525px; width:100%;\"></div>            <script type=\"text/javascript\">                require([\"plotly\"], function(Plotly) {                    window.PLOTLYENV=window.PLOTLYENV || {};                                    if (document.getElementById(\"fccdc289-1046-4bc1-9ee7-bef97cced9ef\")) {                    Plotly.newPlot(                        \"fccdc289-1046-4bc1-9ee7-bef97cced9ef\",                        [{\"alignmentgroup\": \"True\", \"hovertemplate\": \"Feature=Cancel order<br>month=%{x}<br>ava_debt_per=%{y}<extra></extra>\", \"legendgroup\": \"Cancel order\", \"marker\": {\"color\": \"#636efa\"}, \"name\": \"Cancel order\", \"offsetgroup\": \"Cancel order\", \"orientation\": \"v\", \"showlegend\": true, \"textposition\": \"auto\", \"type\": \"bar\", \"x\": [\"2020-01\", \"2020-02\", \"2020-03\", \"2020-04\", \"2020-05\", \"2020-06\", \"2020-07\", \"2020-08\", \"2020-09\", \"2020-10\", \"2020-11\", \"2020-12\"], \"xaxis\": \"x\", \"y\": [0.06895850938932079, 0.06017144027249909, 0.05736718531799018, 0.06253423425975076, 0.057910901428369944, 0.06122897300861086, 0.05164794143577077, 0.06135542761891359, 0.056662105689629046, 0.06276359134245606, 0.06330766263539493, 0.06064800113667767], \"yaxis\": \"y\"}, {\"alignmentgroup\": \"True\", \"hovertemplate\": \"Feature=Dashboard<br>month=%{x}<br>ava_debt_per=%{y}<extra></extra>\", \"legendgroup\": \"Dashboard\", \"marker\": {\"color\": \"#EF553B\"}, \"name\": \"Dashboard\", \"offsetgroup\": \"Dashboard\", \"orientation\": \"v\", \"showlegend\": true, \"textposition\": \"auto\", \"type\": \"bar\", \"x\": [\"2020-01\", \"2020-01\", \"2020-01\", \"2020-01\", \"2020-01\", \"2020-01\", \"2020-02\", \"2020-02\", \"2020-02\", \"2020-02\", \"2020-02\", \"2020-02\", \"2020-03\", \"2020-03\", \"2020-03\", \"2020-03\", \"2020-03\", \"2020-03\", \"2020-04\", \"2020-04\", \"2020-04\", \"2020-04\", \"2020-04\", \"2020-04\", \"2020-05\", \"2020-05\", \"2020-05\", \"2020-05\", \"2020-05\", \"2020-05\", \"2020-06\", \"2020-06\", \"2020-06\", \"2020-06\", \"2020-06\", \"2020-06\", \"2020-07\", \"2020-07\", \"2020-07\", \"2020-07\", \"2020-07\", \"2020-07\", \"2020-08\", \"2020-08\", \"2020-08\", \"2020-08\", \"2020-08\", \"2020-08\", \"2020-09\", \"2020-09\", \"2020-09\", \"2020-09\", \"2020-09\", \"2020-09\", \"2020-10\", \"2020-10\", \"2020-10\", \"2020-10\", \"2020-10\", \"2020-10\", \"2020-11\", \"2020-11\", \"2020-11\", \"2020-11\", \"2020-11\", \"2020-11\", \"2020-12\", \"2020-12\", \"2020-12\", \"2020-12\", \"2020-12\", \"2020-12\"], \"xaxis\": \"x\", \"y\": [0.0, 0.0, 0.0, 0.0, 0.0009156837306852387, 0.0009156837306852387, 0.0, 0.0, 0.0, 0.0, 0.0007925141968646384, 0.0007925141968646384, 0.0, 0.0, 0.0, 0.0, 0.0007602601007030605, 0.0007602601007030605, 0.0, 0.0, 0.0, 0.0, 0.0008118988563784399, 0.0008118988563784399, 0.0, 0.0, 0.0, 0.0, 0.0009652087048957256, 0.0009652087048957256, 0.0, 0.0, 0.0, 0.0, 0.0006094174410766652, 0.0006094174410766652, 0.0, 0.0, 0.0, 0.0, 0.0007443663170183232, 0.0007443663170183232, 0.0, 0.0, 0.0, 0.0, 0.0006432548721072267, 0.0006432548721072267, 0.0, 0.0, 0.0, 0.0, 0.0006885801464014046, 0.0006885801464014046, 0.0, 0.0, 0.0, 0.0, 0.0006119444492621996, 0.0006119444492621996, 0.0, 0.0, 0.0, 0.0, 0.0007780070254407629, 0.0007780070254407629, 0.0, 0.0, 0.0, 0.0, 0.0008717211125177431, 0.0008717211125177431], \"yaxis\": \"y\"}, {\"alignmentgroup\": \"True\", \"hovertemplate\": \"Feature=Delete item in shopping cart<br>month=%{x}<br>ava_debt_per=%{y}<extra></extra>\", \"legendgroup\": \"Delete item in shopping cart\", \"marker\": {\"color\": \"#00cc96\"}, \"name\": \"Delete item in shopping cart\", \"offsetgroup\": \"Delete item in shopping cart\", \"orientation\": \"v\", \"showlegend\": true, \"textposition\": \"auto\", \"type\": \"bar\", \"x\": [\"2020-01\", \"2020-02\", \"2020-03\", \"2020-04\", \"2020-05\", \"2020-06\", \"2020-07\", \"2020-08\", \"2020-09\", \"2020-10\", \"2020-11\", \"2020-12\"], \"xaxis\": \"x\", \"y\": [0.06321243835722451, 0.06136099741255546, 0.0645391567995184, 0.06471949254363328, 0.06516674425213768, 0.06593962107344356, 0.06692183905006481, 0.06437307064749356, 0.06431965285086891, 0.06397532435271683, 0.06291539543937003, 0.07041473752519785], \"yaxis\": \"y\"}, {\"alignmentgroup\": \"True\", \"hovertemplate\": \"Feature=Display Points<br>month=%{x}<br>ava_debt_per=%{y}<extra></extra>\", \"legendgroup\": \"Display Points\", \"marker\": {\"color\": \"#ab63fa\"}, \"name\": \"Display Points\", \"offsetgroup\": \"Display Points\", \"orientation\": \"v\", \"showlegend\": true, \"textposition\": \"auto\", \"type\": \"bar\", \"x\": [\"2020-01\", \"2020-01\", \"2020-02\", \"2020-02\", \"2020-03\", \"2020-03\", \"2020-04\", \"2020-04\", \"2020-05\", \"2020-05\", \"2020-06\", \"2020-06\", \"2020-07\", \"2020-07\", \"2020-08\", \"2020-08\", \"2020-09\", \"2020-09\", \"2020-10\", \"2020-10\", \"2020-11\", \"2020-11\", \"2020-12\", \"2020-12\"], \"xaxis\": \"x\", \"y\": [0.05682010370303408, 0.06046733649598994, 0.06016108965501756, 0.06368083026445155, 0.05968981321436185, 0.06340491049906957, 0.05683046465389492, 0.060420759470216676, 0.06230951895807115, 0.06589323095315068, 0.05516731047058785, 0.05876371392245579, 0.058860053254625115, 0.062475924127686676, 0.0627401301021765, 0.06626768941922855, 0.0635736580599581, 0.06708801189638618, 0.0619768855364927, 0.06568760674515671, 0.05686542049771627, 0.06052249516877192, 0.05788795411506554, 0.06153926413349014], \"yaxis\": \"y\"}, {\"alignmentgroup\": \"True\", \"hovertemplate\": \"Feature=Display Profile<br>month=%{x}<br>ava_debt_per=%{y}<extra></extra>\", \"legendgroup\": \"Display Profile\", \"marker\": {\"color\": \"#FFA15A\"}, \"name\": \"Display Profile\", \"offsetgroup\": \"Display Profile\", \"orientation\": \"v\", \"showlegend\": true, \"textposition\": \"auto\", \"type\": \"bar\", \"x\": [\"2020-01\", \"2020-01\", \"2020-02\", \"2020-02\", \"2020-03\", \"2020-03\", \"2020-04\", \"2020-04\", \"2020-05\", \"2020-05\", \"2020-06\", \"2020-06\", \"2020-07\", \"2020-07\", \"2020-08\", \"2020-08\", \"2020-09\", \"2020-09\", \"2020-10\", \"2020-10\", \"2020-11\", \"2020-11\", \"2020-12\", \"2020-12\"], \"xaxis\": \"x\", \"y\": [0.05504490017901162, 0.05504490017901162, 0.06459509026997944, 0.06459509026997944, 0.061863509167184104, 0.061863509167184104, 0.06363227307387247, 0.06363227307387247, 0.06127633973892611, 0.06127633973892611, 0.06179888231485897, 0.06179888231485897, 0.06020315017810147, 0.06020315017810147, 0.06383227042686969, 0.06383227042686969, 0.056619423141748074, 0.056619423141748074, 0.059462588012290596, 0.059462588012290596, 0.06325067908019244, 0.06325067908019244, 0.06003786896071438, 0.06003786896071438], \"yaxis\": \"y\"}, {\"alignmentgroup\": \"True\", \"hovertemplate\": \"Feature=Display shopping cart<br>month=%{x}<br>ava_debt_per=%{y}<extra></extra>\", \"legendgroup\": \"Display shopping cart\", \"marker\": {\"color\": \"#19d3f3\"}, \"name\": \"Display shopping cart\", \"offsetgroup\": \"Display shopping cart\", \"orientation\": \"v\", \"showlegend\": true, \"textposition\": \"auto\", \"type\": \"bar\", \"x\": [\"2020-01\", \"2020-02\", \"2020-03\", \"2020-04\", \"2020-05\", \"2020-06\", \"2020-07\", \"2020-08\", \"2020-09\", \"2020-10\", \"2020-11\", \"2020-12\"], \"xaxis\": \"x\", \"y\": [0.06321243835722451, 0.06136099741255546, 0.055977239854885376, 0.06423878504638723, 0.06516674425213768, 0.06593962107344356, 0.06335028325205763, 0.05798222160567491, 0.06431965285086891, 0.06120333197824338, 0.06064692683437141, 0.07041473752519785], \"yaxis\": \"y\"}, {\"alignmentgroup\": \"True\", \"hovertemplate\": \"Feature=Login<br>month=%{x}<br>ava_debt_per=%{y}<extra></extra>\", \"legendgroup\": \"Login\", \"marker\": {\"color\": \"#FF6692\"}, \"name\": \"Login\", \"offsetgroup\": \"Login\", \"orientation\": \"v\", \"showlegend\": true, \"textposition\": \"auto\", \"type\": \"bar\", \"x\": [\"2020-01\", \"2020-01\", \"2020-01\", \"2020-01\", \"2020-01\", \"2020-01\", \"2020-01\", \"2020-01\", \"2020-02\", \"2020-02\", \"2020-02\", \"2020-02\", \"2020-02\", \"2020-02\", \"2020-02\", \"2020-02\", \"2020-03\", \"2020-03\", \"2020-03\", \"2020-03\", \"2020-03\", \"2020-03\", \"2020-03\", \"2020-03\", \"2020-04\", \"2020-04\", \"2020-04\", \"2020-04\", \"2020-04\", \"2020-04\", \"2020-04\", \"2020-04\", \"2020-05\", \"2020-05\", \"2020-05\", \"2020-05\", \"2020-05\", \"2020-05\", \"2020-05\", \"2020-05\", \"2020-06\", \"2020-06\", \"2020-06\", \"2020-06\", \"2020-06\", \"2020-06\", \"2020-06\", \"2020-06\", \"2020-07\", \"2020-07\", \"2020-07\", \"2020-07\", \"2020-07\", \"2020-07\", \"2020-07\", \"2020-07\", \"2020-08\", \"2020-08\", \"2020-08\", \"2020-08\", \"2020-08\", \"2020-08\", \"2020-08\", \"2020-08\", \"2020-09\", \"2020-09\", \"2020-09\", \"2020-09\", \"2020-09\", \"2020-09\", \"2020-09\", \"2020-09\", \"2020-10\", \"2020-10\", \"2020-10\", \"2020-10\", \"2020-10\", \"2020-10\", \"2020-10\", \"2020-10\", \"2020-11\", \"2020-11\", \"2020-11\", \"2020-11\", \"2020-11\", \"2020-11\", \"2020-11\", \"2020-11\", \"2020-12\", \"2020-12\", \"2020-12\", \"2020-12\", \"2020-12\", \"2020-12\", \"2020-12\", \"2020-12\"], \"xaxis\": \"x\", \"y\": [0.0, 0.0, 0.0, 0.0, 0.0, 0.0005630088678167343, 0.0005630088678167343, 0.0005630088678167343, 0.0, 0.0, 0.0, 0.0, 0.0, 0.0004562600338642274, 0.0004562600338642274, 0.0004562600338642274, 0.0, 0.0, 0.0, 0.0, 0.0, 0.000758503002589301, 0.000758503002589301, 0.000758503002589301, 0.0, 0.0, 0.0, 0.0, 0.0, 0.0006409966065964131, 0.0006409966065964131, 0.0006409966065964131, 0.0, 0.0, 0.0, 0.0, 0.0, 0.0006215325734385421, 0.0006215325734385421, 0.0006215325734385421, 0.0, 0.0, 0.0, 0.0, 0.0, 0.0007302957348924874, 0.0007302957348924874, 0.0007302957348924874, 0.0, 0.0, 0.0, 0.0, 0.0, 0.0008258013206837063, 0.0008258013206837063, 0.0008258013206837063, 0.0, 0.0, 0.0, 0.0, 0.0, 0.0006062351413681312, 0.0006062351413681312, 0.0006062351413681312, 0.0, 0.0, 0.0, 0.0, 0.0, 0.00038420725378740544, 0.00038420725378740544, 0.00038420725378740544, 0.0, 0.0, 0.0, 0.0, 0.0, 0.0006590855275848906, 0.0006590855275848906, 0.0006590855275848906, 0.0, 0.0, 0.0, 0.0, 0.0, 0.000808125372826936, 0.000808125372826936, 0.000808125372826936, 0.0, 0.0, 0.0, 0.0, 0.0, 0.0006080856265752881, 0.0006080856265752881, 0.0006080856265752881], \"yaxis\": \"y\"}, {\"alignmentgroup\": \"True\", \"hovertemplate\": \"Feature=Onboarding<br>month=%{x}<br>ava_debt_per=%{y}<extra></extra>\", \"legendgroup\": \"Onboarding\", \"marker\": {\"color\": \"#B6E880\"}, \"name\": \"Onboarding\", \"offsetgroup\": \"Onboarding\", \"orientation\": \"v\", \"showlegend\": true, \"textposition\": \"auto\", \"type\": \"bar\", \"x\": [\"2020-01\", \"2020-02\", \"2020-03\", \"2020-04\", \"2020-05\", \"2020-06\", \"2020-07\", \"2020-08\", \"2020-09\", \"2020-10\", \"2020-11\", \"2020-12\"], \"xaxis\": \"x\", \"y\": [0.057277594900350025, 0.06220594266250147, 0.06478191821540684, 0.05955505624898436, 0.064299450098186, 0.06143937533951006, 0.06629240042823235, 0.06294999930372444, 0.06000347548966537, 0.06368027075276028, 0.06213059753444695, 0.059857699137482456], \"yaxis\": \"y\"}, {\"alignmentgroup\": \"True\", \"hovertemplate\": \"Feature=Recuperate Password<br>month=%{x}<br>ava_debt_per=%{y}<extra></extra>\", \"legendgroup\": \"Recuperate Password\", \"marker\": {\"color\": \"#FF97FF\"}, \"name\": \"Recuperate Password\", \"offsetgroup\": \"Recuperate Password\", \"orientation\": \"v\", \"showlegend\": true, \"textposition\": \"auto\", \"type\": \"bar\", \"x\": [\"2020-01\", \"2020-02\", \"2020-03\", \"2020-04\", \"2020-05\", \"2020-06\", \"2020-07\", \"2020-08\", \"2020-09\", \"2020-10\", \"2020-11\", \"2020-12\"], \"xaxis\": \"x\", \"y\": [0.06792003309634494, 0.06223374657553746, 0.06472585485931386, 0.06608146192958236, 0.06016487440479244, 0.0617003711962983, 0.05673895838229274, 0.06148648845160081, 0.06755443196845384, 0.06762682294523054, 0.06989925255728377, 0.0659390114537092], \"yaxis\": \"y\"}, {\"alignmentgroup\": \"True\", \"hovertemplate\": \"Feature=Reward Points<br>month=%{x}<br>ava_debt_per=%{y}<extra></extra>\", \"legendgroup\": \"Reward Points\", \"marker\": {\"color\": \"#FECB52\"}, \"name\": \"Reward Points\", \"offsetgroup\": \"Reward Points\", \"orientation\": \"v\", \"showlegend\": true, \"textposition\": \"auto\", \"type\": \"bar\", \"x\": [\"2020-01\", \"2020-02\", \"2020-03\", \"2020-04\", \"2020-05\", \"2020-06\", \"2020-07\", \"2020-08\", \"2020-09\", \"2020-10\", \"2020-11\", \"2020-12\"], \"xaxis\": \"x\", \"y\": [0.061311774218120105, 0.06016108965501756, 0.060386776868751685, 0.05782765897130282, 0.06230951895807115, 0.05966401872932454, 0.0602523959556827, 0.0627401301021765, 0.0635736580599581, 0.0619768855364927, 0.06065527268793484, 0.05788795411506554], \"yaxis\": \"y\"}, {\"alignmentgroup\": \"True\", \"hovertemplate\": \"Feature=Save item in shopping cart<br>month=%{x}<br>ava_debt_per=%{y}<extra></extra>\", \"legendgroup\": \"Save item in shopping cart\", \"marker\": {\"color\": \"#636efa\"}, \"name\": \"Save item in shopping cart\", \"offsetgroup\": \"Save item in shopping cart\", \"orientation\": \"v\", \"showlegend\": true, \"textposition\": \"auto\", \"type\": \"bar\", \"x\": [\"2020-01\", \"2020-02\", \"2020-03\", \"2020-04\", \"2020-05\", \"2020-06\", \"2020-07\", \"2020-08\", \"2020-09\", \"2020-10\", \"2020-11\", \"2020-12\"], \"xaxis\": \"x\", \"y\": [0.0647107178462861, 0.06536654609578267, 0.06465029388344494, 0.06720467995224463, 0.06388343531970761, 0.06316052663506806, 0.06957463997045557, 0.06058929863624889, 0.06685486066881528, 0.06268903874049592, 0.06479061417187715, 0.059578446996932044], \"yaxis\": \"y\"}, {\"alignmentgroup\": \"True\", \"hovertemplate\": \"Feature=Search product<br>month=%{x}<br>ava_debt_per=%{y}<extra></extra>\", \"legendgroup\": \"Search product\", \"marker\": {\"color\": \"#EF553B\"}, \"name\": \"Search product\", \"offsetgroup\": \"Search product\", \"orientation\": \"v\", \"showlegend\": true, \"textposition\": \"auto\", \"type\": \"bar\", \"x\": [\"2020-01\", \"2020-02\", \"2020-03\", \"2020-04\", \"2020-05\", \"2020-06\", \"2020-07\", \"2020-08\", \"2020-09\", \"2020-10\", \"2020-11\", \"2020-12\"], \"xaxis\": \"x\", \"y\": [0.06706350118693409, 0.061567620212190956, 0.0641884168413567, 0.06700574930608921, 0.06968117610474801, 0.06541293886391093, 0.06068455079457455, 0.07362906596797279, 0.062235317443656346, 0.06876887867251165, 0.06920190844981108, 0.05802624264649034], \"yaxis\": \"y\"}, {\"alignmentgroup\": \"True\", \"hovertemplate\": \"Feature=Update number of items in shopping cart<br>month=%{x}<br>ava_debt_per=%{y}<extra></extra>\", \"legendgroup\": \"Update number of items in shopping cart\", \"marker\": {\"color\": \"#00cc96\"}, \"name\": \"Update number of items in shopping cart\", \"offsetgroup\": \"Update number of items in shopping cart\", \"orientation\": \"v\", \"showlegend\": true, \"textposition\": \"auto\", \"type\": \"bar\", \"x\": [\"2020-01\", \"2020-01\", \"2020-02\", \"2020-02\", \"2020-03\", \"2020-03\", \"2020-04\", \"2020-04\", \"2020-05\", \"2020-05\", \"2020-06\", \"2020-06\", \"2020-07\", \"2020-07\", \"2020-08\", \"2020-08\", \"2020-09\", \"2020-09\", \"2020-10\", \"2020-10\", \"2020-11\", \"2020-11\", \"2020-12\", \"2020-12\"], \"xaxis\": \"x\", \"y\": [0.0647107178462861, 0.0647107178462861, 0.06536654609578267, 0.06536654609578267, 0.06465029388344494, 0.06465029388344494, 0.06470190798630712, 0.06470190798630712, 0.06516674425213768, 0.06516674425213768, 0.06593962107344356, 0.06593962107344356, 0.06957463997045557, 0.06957463997045557, 0.0581903393148587, 0.0581903393148587, 0.06685486066881528, 0.06685486066881528, 0.06268903874049592, 0.06268903874049592, 0.06064692683437141, 0.06064692683437141, 0.07041473752519785, 0.07041473752519785], \"yaxis\": \"y\"}, {\"alignmentgroup\": \"True\", \"hovertemplate\": \"Feature=Update password<br>month=%{x}<br>ava_debt_per=%{y}<extra></extra>\", \"legendgroup\": \"Update password\", \"marker\": {\"color\": \"#ab63fa\"}, \"name\": \"Update password\", \"offsetgroup\": \"Update password\", \"orientation\": \"v\", \"showlegend\": true, \"textposition\": \"auto\", \"type\": \"bar\", \"x\": [\"2020-01\", \"2020-02\", \"2020-03\", \"2020-04\", \"2020-05\", \"2020-06\", \"2020-07\", \"2020-08\", \"2020-09\", \"2020-10\", \"2020-11\", \"2020-12\"], \"xaxis\": \"x\", \"y\": [0.0628130095537753, 0.05730996983318115, 0.05777472617673537, 0.05960222515051787, 0.05226386850766982, 0.06027691611388671, 0.06108303277454747, 0.05920513059471944, 0.05691159247395705, 0.056522658181457776, 0.06181755099245525, 0.06003298187931127], \"yaxis\": \"y\"}, {\"alignmentgroup\": \"True\", \"hovertemplate\": \"Feature=list orders<br>month=%{x}<br>ava_debt_per=%{y}<extra></extra>\", \"legendgroup\": \"list orders\", \"marker\": {\"color\": \"#FFA15A\"}, \"name\": \"list orders\", \"offsetgroup\": \"list orders\", \"orientation\": \"v\", \"showlegend\": true, \"textposition\": \"auto\", \"type\": \"bar\", \"x\": [\"2020-01\", \"2020-02\", \"2020-03\", \"2020-04\", \"2020-05\", \"2020-06\", \"2020-07\", \"2020-08\", \"2020-09\", \"2020-10\", \"2020-11\", \"2020-12\"], \"xaxis\": \"x\", \"y\": [0.06320091277997951, 0.061542648721863144, 0.06569007215873322, 0.053764282814490694, 0.054269353650723134, 0.06241988471002408, 0.05859626368080777, 0.059530912898294305, 0.057425232872491204, 0.05562430622913342, 0.055471301032076495, 0.0533000572587942], \"yaxis\": \"y\"}],                        {\"barmode\": \"relative\", \"legend\": {\"title\": {\"text\": \"Feature\"}, \"tracegroupgap\": 0}, \"template\": {\"data\": {\"bar\": [{\"error_x\": {\"color\": \"#2a3f5f\"}, \"error_y\": {\"color\": \"#2a3f5f\"}, \"marker\": {\"line\": {\"color\": \"#E5ECF6\", \"width\": 0.5}}, \"type\": \"bar\"}], \"barpolar\": [{\"marker\": {\"line\": {\"color\": \"#E5ECF6\", \"width\": 0.5}}, \"type\": \"barpolar\"}], \"carpet\": [{\"aaxis\": {\"endlinecolor\": \"#2a3f5f\", \"gridcolor\": \"white\", \"linecolor\": \"white\", \"minorgridcolor\": \"white\", \"startlinecolor\": \"#2a3f5f\"}, \"baxis\": {\"endlinecolor\": \"#2a3f5f\", \"gridcolor\": \"white\", \"linecolor\": \"white\", \"minorgridcolor\": \"white\", \"startlinecolor\": \"#2a3f5f\"}, \"type\": \"carpet\"}], \"choropleth\": [{\"colorbar\": {\"outlinewidth\": 0, \"ticks\": \"\"}, \"type\": \"choropleth\"}], \"contour\": [{\"colorbar\": {\"outlinewidth\": 0, \"ticks\": \"\"}, \"colorscale\": [[0.0, \"#0d0887\"], [0.1111111111111111, \"#46039f\"], [0.2222222222222222, \"#7201a8\"], [0.3333333333333333, \"#9c179e\"], [0.4444444444444444, \"#bd3786\"], [0.5555555555555556, \"#d8576b\"], [0.6666666666666666, \"#ed7953\"], [0.7777777777777778, \"#fb9f3a\"], [0.8888888888888888, \"#fdca26\"], [1.0, \"#f0f921\"]], \"type\": \"contour\"}], \"contourcarpet\": [{\"colorbar\": {\"outlinewidth\": 0, \"ticks\": \"\"}, \"type\": \"contourcarpet\"}], \"heatmap\": [{\"colorbar\": {\"outlinewidth\": 0, \"ticks\": \"\"}, \"colorscale\": [[0.0, \"#0d0887\"], [0.1111111111111111, \"#46039f\"], [0.2222222222222222, \"#7201a8\"], [0.3333333333333333, \"#9c179e\"], [0.4444444444444444, \"#bd3786\"], [0.5555555555555556, \"#d8576b\"], [0.6666666666666666, \"#ed7953\"], [0.7777777777777778, \"#fb9f3a\"], [0.8888888888888888, \"#fdca26\"], [1.0, \"#f0f921\"]], \"type\": \"heatmap\"}], \"heatmapgl\": [{\"colorbar\": {\"outlinewidth\": 0, \"ticks\": \"\"}, \"colorscale\": [[0.0, \"#0d0887\"], [0.1111111111111111, \"#46039f\"], [0.2222222222222222, \"#7201a8\"], [0.3333333333333333, \"#9c179e\"], [0.4444444444444444, \"#bd3786\"], [0.5555555555555556, \"#d8576b\"], [0.6666666666666666, \"#ed7953\"], [0.7777777777777778, \"#fb9f3a\"], [0.8888888888888888, \"#fdca26\"], [1.0, \"#f0f921\"]], \"type\": \"heatmapgl\"}], \"histogram\": [{\"marker\": {\"colorbar\": {\"outlinewidth\": 0, \"ticks\": \"\"}}, \"type\": \"histogram\"}], \"histogram2d\": [{\"colorbar\": {\"outlinewidth\": 0, \"ticks\": \"\"}, \"colorscale\": [[0.0, \"#0d0887\"], [0.1111111111111111, \"#46039f\"], [0.2222222222222222, \"#7201a8\"], [0.3333333333333333, \"#9c179e\"], [0.4444444444444444, \"#bd3786\"], [0.5555555555555556, \"#d8576b\"], [0.6666666666666666, \"#ed7953\"], [0.7777777777777778, \"#fb9f3a\"], [0.8888888888888888, \"#fdca26\"], [1.0, \"#f0f921\"]], \"type\": \"histogram2d\"}], \"histogram2dcontour\": [{\"colorbar\": {\"outlinewidth\": 0, \"ticks\": \"\"}, \"colorscale\": [[0.0, \"#0d0887\"], [0.1111111111111111, \"#46039f\"], [0.2222222222222222, \"#7201a8\"], [0.3333333333333333, \"#9c179e\"], [0.4444444444444444, \"#bd3786\"], [0.5555555555555556, \"#d8576b\"], [0.6666666666666666, \"#ed7953\"], [0.7777777777777778, \"#fb9f3a\"], [0.8888888888888888, \"#fdca26\"], [1.0, \"#f0f921\"]], \"type\": \"histogram2dcontour\"}], \"mesh3d\": [{\"colorbar\": {\"outlinewidth\": 0, \"ticks\": \"\"}, \"type\": \"mesh3d\"}], \"parcoords\": [{\"line\": {\"colorbar\": {\"outlinewidth\": 0, \"ticks\": \"\"}}, \"type\": \"parcoords\"}], \"pie\": [{\"automargin\": true, \"type\": \"pie\"}], \"scatter\": [{\"marker\": {\"colorbar\": {\"outlinewidth\": 0, \"ticks\": \"\"}}, \"type\": \"scatter\"}], \"scatter3d\": [{\"line\": {\"colorbar\": {\"outlinewidth\": 0, \"ticks\": \"\"}}, \"marker\": {\"colorbar\": {\"outlinewidth\": 0, \"ticks\": \"\"}}, \"type\": \"scatter3d\"}], \"scattercarpet\": [{\"marker\": {\"colorbar\": {\"outlinewidth\": 0, \"ticks\": \"\"}}, \"type\": \"scattercarpet\"}], \"scattergeo\": [{\"marker\": {\"colorbar\": {\"outlinewidth\": 0, \"ticks\": \"\"}}, \"type\": \"scattergeo\"}], \"scattergl\": [{\"marker\": {\"colorbar\": {\"outlinewidth\": 0, \"ticks\": \"\"}}, \"type\": \"scattergl\"}], \"scattermapbox\": [{\"marker\": {\"colorbar\": {\"outlinewidth\": 0, \"ticks\": \"\"}}, \"type\": \"scattermapbox\"}], \"scatterpolar\": [{\"marker\": {\"colorbar\": {\"outlinewidth\": 0, \"ticks\": \"\"}}, \"type\": \"scatterpolar\"}], \"scatterpolargl\": [{\"marker\": {\"colorbar\": {\"outlinewidth\": 0, \"ticks\": \"\"}}, \"type\": \"scatterpolargl\"}], \"scatterternary\": [{\"marker\": {\"colorbar\": {\"outlinewidth\": 0, \"ticks\": \"\"}}, \"type\": \"scatterternary\"}], \"surface\": [{\"colorbar\": {\"outlinewidth\": 0, \"ticks\": \"\"}, \"colorscale\": [[0.0, \"#0d0887\"], [0.1111111111111111, \"#46039f\"], [0.2222222222222222, \"#7201a8\"], [0.3333333333333333, \"#9c179e\"], [0.4444444444444444, \"#bd3786\"], [0.5555555555555556, \"#d8576b\"], [0.6666666666666666, \"#ed7953\"], [0.7777777777777778, \"#fb9f3a\"], [0.8888888888888888, \"#fdca26\"], [1.0, \"#f0f921\"]], \"type\": \"surface\"}], \"table\": [{\"cells\": {\"fill\": {\"color\": \"#EBF0F8\"}, \"line\": {\"color\": \"white\"}}, \"header\": {\"fill\": {\"color\": \"#C8D4E3\"}, \"line\": {\"color\": \"white\"}}, \"type\": \"table\"}]}, \"layout\": {\"annotationdefaults\": {\"arrowcolor\": \"#2a3f5f\", \"arrowhead\": 0, \"arrowwidth\": 1}, \"coloraxis\": {\"colorbar\": {\"outlinewidth\": 0, \"ticks\": \"\"}}, \"colorscale\": {\"diverging\": [[0, \"#8e0152\"], [0.1, \"#c51b7d\"], [0.2, \"#de77ae\"], [0.3, \"#f1b6da\"], [0.4, \"#fde0ef\"], [0.5, \"#f7f7f7\"], [0.6, \"#e6f5d0\"], [0.7, \"#b8e186\"], [0.8, \"#7fbc41\"], [0.9, \"#4d9221\"], [1, \"#276419\"]], \"sequential\": [[0.0, \"#0d0887\"], [0.1111111111111111, \"#46039f\"], [0.2222222222222222, \"#7201a8\"], [0.3333333333333333, \"#9c179e\"], [0.4444444444444444, \"#bd3786\"], [0.5555555555555556, \"#d8576b\"], [0.6666666666666666, \"#ed7953\"], [0.7777777777777778, \"#fb9f3a\"], [0.8888888888888888, \"#fdca26\"], [1.0, \"#f0f921\"]], \"sequentialminus\": [[0.0, \"#0d0887\"], [0.1111111111111111, \"#46039f\"], [0.2222222222222222, \"#7201a8\"], [0.3333333333333333, \"#9c179e\"], [0.4444444444444444, \"#bd3786\"], [0.5555555555555556, \"#d8576b\"], [0.6666666666666666, \"#ed7953\"], [0.7777777777777778, \"#fb9f3a\"], [0.8888888888888888, \"#fdca26\"], [1.0, \"#f0f921\"]]}, \"colorway\": [\"#636efa\", \"#EF553B\", \"#00cc96\", \"#ab63fa\", \"#FFA15A\", \"#19d3f3\", \"#FF6692\", \"#B6E880\", \"#FF97FF\", \"#FECB52\"], \"font\": {\"color\": \"#2a3f5f\"}, \"geo\": {\"bgcolor\": \"white\", \"lakecolor\": \"white\", \"landcolor\": \"#E5ECF6\", \"showlakes\": true, \"showland\": true, \"subunitcolor\": \"white\"}, \"hoverlabel\": {\"align\": \"left\"}, \"hovermode\": \"closest\", \"mapbox\": {\"style\": \"light\"}, \"paper_bgcolor\": \"white\", \"plot_bgcolor\": \"#E5ECF6\", \"polar\": {\"angularaxis\": {\"gridcolor\": \"white\", \"linecolor\": \"white\", \"ticks\": \"\"}, \"bgcolor\": \"#E5ECF6\", \"radialaxis\": {\"gridcolor\": \"white\", \"linecolor\": \"white\", \"ticks\": \"\"}}, \"scene\": {\"xaxis\": {\"backgroundcolor\": \"#E5ECF6\", \"gridcolor\": \"white\", \"gridwidth\": 2, \"linecolor\": \"white\", \"showbackground\": true, \"ticks\": \"\", \"zerolinecolor\": \"white\"}, \"yaxis\": {\"backgroundcolor\": \"#E5ECF6\", \"gridcolor\": \"white\", \"gridwidth\": 2, \"linecolor\": \"white\", \"showbackground\": true, \"ticks\": \"\", \"zerolinecolor\": \"white\"}, \"zaxis\": {\"backgroundcolor\": \"#E5ECF6\", \"gridcolor\": \"white\", \"gridwidth\": 2, \"linecolor\": \"white\", \"showbackground\": true, \"ticks\": \"\", \"zerolinecolor\": \"white\"}}, \"shapedefaults\": {\"line\": {\"color\": \"#2a3f5f\"}}, \"ternary\": {\"aaxis\": {\"gridcolor\": \"white\", \"linecolor\": \"white\", \"ticks\": \"\"}, \"baxis\": {\"gridcolor\": \"white\", \"linecolor\": \"white\", \"ticks\": \"\"}, \"bgcolor\": \"#E5ECF6\", \"caxis\": {\"gridcolor\": \"white\", \"linecolor\": \"white\", \"ticks\": \"\"}}, \"title\": {\"x\": 0.05}, \"xaxis\": {\"automargin\": true, \"gridcolor\": \"white\", \"linecolor\": \"white\", \"ticks\": \"\", \"title\": {\"standoff\": 15}, \"zerolinecolor\": \"white\", \"zerolinewidth\": 2}, \"yaxis\": {\"automargin\": true, \"gridcolor\": \"white\", \"linecolor\": \"white\", \"ticks\": \"\", \"title\": {\"standoff\": 15}, \"zerolinecolor\": \"white\", \"zerolinewidth\": 2}}}, \"title\": {\"text\": \"Availability Feature Debt Percentage Per Month\"}, \"xaxis\": {\"anchor\": \"y\", \"domain\": [0.0, 1.0], \"title\": {\"text\": \"month\"}}, \"yaxis\": {\"anchor\": \"x\", \"domain\": [0.0, 1.0], \"title\": {\"text\": \"ava_debt_per\"}}},                        {\"responsive\": true}                    ).then(function(){\n",
       "                            \n",
       "var gd = document.getElementById('fccdc289-1046-4bc1-9ee7-bef97cced9ef');\n",
       "var x = new MutationObserver(function (mutations, observer) {{\n",
       "        var display = window.getComputedStyle(gd).display;\n",
       "        if (!display || display === 'none') {{\n",
       "            console.log([gd, 'removed!']);\n",
       "            Plotly.purge(gd);\n",
       "            observer.disconnect();\n",
       "        }}\n",
       "}});\n",
       "\n",
       "// Listen for the removal of the full notebook cells\n",
       "var notebookContainer = gd.closest('#notebook-container');\n",
       "if (notebookContainer) {{\n",
       "    x.observe(notebookContainer, {childList: true});\n",
       "}}\n",
       "\n",
       "// Listen for the clearing of the current output cell\n",
       "var outputEl = gd.closest('.output');\n",
       "if (outputEl) {{\n",
       "    x.observe(outputEl, {childList: true});\n",
       "}}\n",
       "\n",
       "                        })                };                });            </script>        </div>"
      ]
     },
     "metadata": {},
     "output_type": "display_data"
    }
   ],
   "source": [
    "fig = px.bar(grouped, x=\"month\", y=\"ava_debt_per\", color=\"Feature\", title=\"Availability Feature Debt Percentage Per Month\")\n",
    "fig.show()"
   ]
  },
  {
   "cell_type": "code",
   "execution_count": 36,
   "metadata": {},
   "outputs": [
    {
     "data": {
      "application/vnd.plotly.v1+json": {
       "config": {
        "plotlyServerURL": "https://plot.ly"
       },
       "data": [
        {
         "hovertemplate": "Feature=Cancel order<br>month=%{x}<br>exp_debt=%{y}<extra></extra>",
         "legendgroup": "Cancel order",
         "line": {
          "color": "#636efa",
          "dash": "solid"
         },
         "mode": "lines",
         "name": "Cancel order",
         "orientation": "v",
         "showlegend": true,
         "type": "scatter",
         "x": [
          "2020-01",
          "2020-02",
          "2020-03",
          "2020-04",
          "2020-05",
          "2020-06",
          "2020-07",
          "2020-08",
          "2020-09",
          "2020-10",
          "2020-11",
          "2020-12"
         ],
         "xaxis": "x",
         "y": [
          0.16242562312574027,
          0.13028535926246332,
          0.14268347892104505,
          0.1614731859767763,
          0.15571529544741158,
          0.1558820345768891,
          0.15313356014935853,
          0.16938812146491244,
          0.17011488178748113,
          0.1463006204591536,
          0.1536349176681634,
          0.153485900297887
         ],
         "yaxis": "y"
        },
        {
         "hovertemplate": "Feature=Dashboard<br>month=%{x}<br>exp_debt=%{y}<extra></extra>",
         "legendgroup": "Dashboard",
         "line": {
          "color": "#EF553B",
          "dash": "solid"
         },
         "mode": "lines",
         "name": "Dashboard",
         "orientation": "v",
         "showlegend": true,
         "type": "scatter",
         "x": [
          "2020-01",
          "2020-01",
          "2020-01",
          "2020-01",
          "2020-01",
          "2020-01",
          "2020-02",
          "2020-02",
          "2020-02",
          "2020-02",
          "2020-02",
          "2020-02",
          "2020-03",
          "2020-03",
          "2020-03",
          "2020-03",
          "2020-03",
          "2020-03",
          "2020-04",
          "2020-04",
          "2020-04",
          "2020-04",
          "2020-04",
          "2020-04",
          "2020-05",
          "2020-05",
          "2020-05",
          "2020-05",
          "2020-05",
          "2020-05",
          "2020-06",
          "2020-06",
          "2020-06",
          "2020-06",
          "2020-06",
          "2020-06",
          "2020-07",
          "2020-07",
          "2020-07",
          "2020-07",
          "2020-07",
          "2020-07",
          "2020-08",
          "2020-08",
          "2020-08",
          "2020-08",
          "2020-08",
          "2020-08",
          "2020-09",
          "2020-09",
          "2020-09",
          "2020-09",
          "2020-09",
          "2020-09",
          "2020-10",
          "2020-10",
          "2020-10",
          "2020-10",
          "2020-10",
          "2020-10",
          "2020-11",
          "2020-11",
          "2020-11",
          "2020-11",
          "2020-11",
          "2020-11",
          "2020-12",
          "2020-12",
          "2020-12",
          "2020-12",
          "2020-12",
          "2020-12"
         ],
         "xaxis": "x",
         "y": [
          0,
          0,
          0.001993895621675179,
          0.001993895621675179,
          0.011993895621675188,
          0.011993895621675188,
          0,
          0,
          0.000994259139907916,
          0.000994259139907916,
          0.010994259139907925,
          0.010994259139907925,
          0,
          0,
          0.0013192992359202238,
          0.0013192992359202238,
          0.011319299235920233,
          0.011319299235920233,
          0,
          0,
          0.0013181357798640603,
          0.0013181357798640603,
          0.01131813577986407,
          0.01131813577986407,
          0,
          0,
          0.001559507363047552,
          0.001559507363047552,
          0.011559507363047561,
          0.011559507363047561,
          0,
          0,
          0.001244821543595953,
          0.001244821543595953,
          0.011244821543595962,
          0.011244821543595962,
          0,
          0,
          0.0017346405960405598,
          0.0017346405960405598,
          0.011734640596040569,
          0.011734640596040569,
          0,
          0,
          0.0013280486237500222,
          0.0013280486237500222,
          0.011328048623750031,
          0.011328048623750031,
          0,
          0,
          0.0012434532494796091,
          0.0012434532494796091,
          0.011243453249479618,
          0.011243453249479618,
          0,
          0,
          0.0014164224148461857,
          0.0014164224148461857,
          0.011416422414846195,
          0.011416422414846195,
          0,
          0,
          0.0016981805583163867,
          0.0016981805583163867,
          0.011698180558316396,
          0.011698180558316396,
          0,
          0,
          0.0015912084461303655,
          0.0015912084461303655,
          0.011591208446130374,
          0.011591208446130374
         ],
         "yaxis": "y"
        },
        {
         "hovertemplate": "Feature=Delete item in shopping cart<br>month=%{x}<br>exp_debt=%{y}<extra></extra>",
         "legendgroup": "Delete item in shopping cart",
         "line": {
          "color": "#00cc96",
          "dash": "solid"
         },
         "mode": "lines",
         "name": "Delete item in shopping cart",
         "orientation": "v",
         "showlegend": true,
         "type": "scatter",
         "x": [
          "2020-01",
          "2020-02",
          "2020-03",
          "2020-04",
          "2020-05",
          "2020-06",
          "2020-07",
          "2020-08",
          "2020-09",
          "2020-10",
          "2020-11",
          "2020-12"
         ],
         "xaxis": "x",
         "y": [
          0.16633728898883293,
          0.16732008983439917,
          0.1773024576064448,
          0.16634306863441128,
          0.15936133507447547,
          0.17160577951291378,
          0.17563557748479885,
          0.18068757636540766,
          0.17851478583293978,
          0.17356859546325032,
          0.17620171777130522,
          0.17207979881252522
         ],
         "yaxis": "y"
        },
        {
         "hovertemplate": "Feature=Display Points<br>month=%{x}<br>exp_debt=%{y}<extra></extra>",
         "legendgroup": "Display Points",
         "line": {
          "color": "#ab63fa",
          "dash": "solid"
         },
         "mode": "lines",
         "name": "Display Points",
         "orientation": "v",
         "showlegend": true,
         "type": "scatter",
         "x": [
          "2020-01",
          "2020-01",
          "2020-02",
          "2020-02",
          "2020-03",
          "2020-03",
          "2020-04",
          "2020-04",
          "2020-05",
          "2020-05",
          "2020-06",
          "2020-06",
          "2020-07",
          "2020-07",
          "2020-08",
          "2020-08",
          "2020-09",
          "2020-09",
          "2020-10",
          "2020-10",
          "2020-11",
          "2020-11",
          "2020-12",
          "2020-12"
         ],
         "xaxis": "x",
         "y": [
          0.13297981244463097,
          0.14297981244463098,
          0.1391473783406274,
          0.1491473783406274,
          0.13766705840773164,
          0.14766705840773164,
          0.1425777963761249,
          0.1525777963761249,
          0.16356378762112744,
          0.17356378762112745,
          0.1574582283396313,
          0.1674582283396313,
          0.15318664262930637,
          0.16318664262930638,
          0.14425729424938205,
          0.15425729424938206,
          0.15578884496314926,
          0.16578884496314927,
          0.14890805405944907,
          0.15890805405944908,
          0.14592278421120575,
          0.15592278421120576,
          0.14398637922126323,
          0.15398637922126324
         ],
         "yaxis": "y"
        },
        {
         "hovertemplate": "Feature=Display Profile<br>month=%{x}<br>exp_debt=%{y}<extra></extra>",
         "legendgroup": "Display Profile",
         "line": {
          "color": "#FFA15A",
          "dash": "solid"
         },
         "mode": "lines",
         "name": "Display Profile",
         "orientation": "v",
         "showlegend": true,
         "type": "scatter",
         "x": [
          "2020-01",
          "2020-01",
          "2020-02",
          "2020-02",
          "2020-03",
          "2020-03",
          "2020-04",
          "2020-04",
          "2020-05",
          "2020-05",
          "2020-06",
          "2020-06",
          "2020-07",
          "2020-07",
          "2020-08",
          "2020-08",
          "2020-09",
          "2020-09",
          "2020-10",
          "2020-10",
          "2020-11",
          "2020-11",
          "2020-12",
          "2020-12"
         ],
         "xaxis": "x",
         "y": [
          0.1466172897809197,
          0.1466172897809197,
          0.14999417297931406,
          0.14999417297931406,
          0.1463915388104836,
          0.1463915388104836,
          0.1533346022615094,
          0.1533346022615094,
          0.15393512336147097,
          0.15393512336147097,
          0.13887355081696617,
          0.13887355081696617,
          0.15302417064624207,
          0.15302417064624207,
          0.15151391823613414,
          0.15151391823613414,
          0.14804925351454412,
          0.14804925351454412,
          0.15904038798250242,
          0.15904038798250242,
          0.14721566629631078,
          0.14721566629631078,
          0.15962785790744793,
          0.15962785790744793
         ],
         "yaxis": "y"
        },
        {
         "hovertemplate": "Feature=Display shopping cart<br>month=%{x}<br>exp_debt=%{y}<extra></extra>",
         "legendgroup": "Display shopping cart",
         "line": {
          "color": "#19d3f3",
          "dash": "solid"
         },
         "mode": "lines",
         "name": "Display shopping cart",
         "orientation": "v",
         "showlegend": true,
         "type": "scatter",
         "x": [
          "2020-01",
          "2020-02",
          "2020-03",
          "2020-04",
          "2020-05",
          "2020-06",
          "2020-07",
          "2020-08",
          "2020-09",
          "2020-10",
          "2020-11",
          "2020-12"
         ],
         "xaxis": "x",
         "y": [
          0.1485815391623675,
          0.15598932670348842,
          0.1773024576064448,
          0.14869927232080082,
          0.1567430377364346,
          0.17160577951291378,
          0.1731150492860335,
          0.16309772077975893,
          0.14736377087793706,
          0.17356859546325032,
          0.15365394720740477,
          0.17207979881252522
         ],
         "yaxis": "y"
        },
        {
         "hovertemplate": "Feature=Login<br>month=%{x}<br>exp_debt=%{y}<extra></extra>",
         "legendgroup": "Login",
         "line": {
          "color": "#FF6692",
          "dash": "solid"
         },
         "mode": "lines",
         "name": "Login",
         "orientation": "v",
         "showlegend": true,
         "type": "scatter",
         "x": [
          "2020-01",
          "2020-01",
          "2020-01",
          "2020-01",
          "2020-01",
          "2020-01",
          "2020-01",
          "2020-01",
          "2020-02",
          "2020-02",
          "2020-02",
          "2020-02",
          "2020-02",
          "2020-02",
          "2020-02",
          "2020-02",
          "2020-03",
          "2020-03",
          "2020-03",
          "2020-03",
          "2020-03",
          "2020-03",
          "2020-03",
          "2020-03",
          "2020-04",
          "2020-04",
          "2020-04",
          "2020-04",
          "2020-04",
          "2020-04",
          "2020-04",
          "2020-04",
          "2020-05",
          "2020-05",
          "2020-05",
          "2020-05",
          "2020-05",
          "2020-05",
          "2020-05",
          "2020-05",
          "2020-06",
          "2020-06",
          "2020-06",
          "2020-06",
          "2020-06",
          "2020-06",
          "2020-06",
          "2020-06",
          "2020-07",
          "2020-07",
          "2020-07",
          "2020-07",
          "2020-07",
          "2020-07",
          "2020-07",
          "2020-07",
          "2020-08",
          "2020-08",
          "2020-08",
          "2020-08",
          "2020-08",
          "2020-08",
          "2020-08",
          "2020-08",
          "2020-09",
          "2020-09",
          "2020-09",
          "2020-09",
          "2020-09",
          "2020-09",
          "2020-09",
          "2020-09",
          "2020-10",
          "2020-10",
          "2020-10",
          "2020-10",
          "2020-10",
          "2020-10",
          "2020-10",
          "2020-10",
          "2020-11",
          "2020-11",
          "2020-11",
          "2020-11",
          "2020-11",
          "2020-11",
          "2020-11",
          "2020-11",
          "2020-12",
          "2020-12",
          "2020-12",
          "2020-12",
          "2020-12",
          "2020-12",
          "2020-12",
          "2020-12"
         ],
         "xaxis": "x",
         "y": [
          0,
          0,
          0.001091938503901213,
          0.001091938503901213,
          0.001091938503901213,
          0.011091938503901222,
          0.011091938503901222,
          0.011091938503901222,
          0,
          0,
          0.000816532701210626,
          0.000816532701210626,
          0.000816532701210626,
          0.010816532701210635,
          0.010816532701210635,
          0.010816532701210635,
          0,
          0,
          0.0012359930853411694,
          0.0012359930853411694,
          0.0012359930853411694,
          0.011235993085341178,
          0.011235993085341178,
          0.011235993085341178,
          0,
          0,
          0.0014880346333884242,
          0.0014880346333884242,
          0.0014880346333884242,
          0.011488034633388433,
          0.011488034633388433,
          0.011488034633388433,
          0,
          0,
          0.0013709612266170623,
          0.0013709612266170623,
          0.0013709612266170623,
          0.011370961226617071,
          0.011370961226617071,
          0.011370961226617071,
          0,
          0,
          0.0012388177711539772,
          0.0012388177711539772,
          0.0012388177711539772,
          0.011238817771153986,
          0.011238817771153986,
          0.011238817771153986,
          0,
          0,
          0.0015754899276539946,
          0.0015754899276539946,
          0.0015754899276539946,
          0.011575489927654004,
          0.011575489927654004,
          0.011575489927654004,
          0,
          0,
          0.0017115157659709501,
          0.0017115157659709501,
          0.0017115157659709501,
          0.011711515765970959,
          0.011711515765970959,
          0.011711515765970959,
          0,
          0,
          0.0013809051750895973,
          0.0013809051750895973,
          0.0013809051750895973,
          0.011380905175089606,
          0.011380905175089606,
          0.011380905175089606,
          0,
          0,
          0.0013995903063496185,
          0.0013995903063496185,
          0.0013995903063496185,
          0.011399590306349627,
          0.011399590306349627,
          0.011399590306349627,
          0,
          0,
          0.0011462641217879765,
          0.0011462641217879765,
          0.0011462641217879765,
          0.011146264121787985,
          0.011146264121787985,
          0.011146264121787985,
          0,
          0,
          0.0013506628011651367,
          0.0013506628011651367,
          0.0013506628011651367,
          0.011350662801165146,
          0.011350662801165146,
          0.011350662801165146
         ],
         "yaxis": "y"
        },
        {
         "hovertemplate": "Feature=Onboarding<br>month=%{x}<br>exp_debt=%{y}<extra></extra>",
         "legendgroup": "Onboarding",
         "line": {
          "color": "#B6E880",
          "dash": "solid"
         },
         "mode": "lines",
         "name": "Onboarding",
         "orientation": "v",
         "showlegend": true,
         "type": "scatter",
         "x": [
          "2020-01",
          "2020-02",
          "2020-03",
          "2020-04",
          "2020-05",
          "2020-06",
          "2020-07",
          "2020-08",
          "2020-09",
          "2020-10",
          "2020-11",
          "2020-12"
         ],
         "xaxis": "x",
         "y": [
          0.15331538164471326,
          0.15897675814429924,
          0.15347876614439804,
          0.1588748393693704,
          0.16151766143043855,
          0.16432557579627893,
          0.1701136598562213,
          0.15919452151178703,
          0.16102115348350343,
          0.1692600253027311,
          0.1725234652913521,
          0.17297577731959002
         ],
         "yaxis": "y"
        },
        {
         "hovertemplate": "Feature=Recuperate Password<br>month=%{x}<br>exp_debt=%{y}<extra></extra>",
         "legendgroup": "Recuperate Password",
         "line": {
          "color": "#FF97FF",
          "dash": "solid"
         },
         "mode": "lines",
         "name": "Recuperate Password",
         "orientation": "v",
         "showlegend": true,
         "type": "scatter",
         "x": [
          "2020-01",
          "2020-02",
          "2020-03",
          "2020-04",
          "2020-05",
          "2020-06",
          "2020-07",
          "2020-08",
          "2020-09",
          "2020-10",
          "2020-11",
          "2020-12"
         ],
         "xaxis": "x",
         "y": [
          0.18062907745616563,
          0.16310543765381003,
          0.1669547819157433,
          0.16284412274640447,
          0.16590292112135685,
          0.16109984789942733,
          0.17852117398007317,
          0.1671384379191968,
          0.1764365322634055,
          0.17480392572871872,
          0.1811457501068109,
          0.16214220584150374
         ],
         "yaxis": "y"
        },
        {
         "hovertemplate": "Feature=Reward Points<br>month=%{x}<br>exp_debt=%{y}<extra></extra>",
         "legendgroup": "Reward Points",
         "line": {
          "color": "#FECB52",
          "dash": "solid"
         },
         "mode": "lines",
         "name": "Reward Points",
         "orientation": "v",
         "showlegend": true,
         "type": "scatter",
         "x": [
          "2020-01",
          "2020-02",
          "2020-03",
          "2020-04",
          "2020-05",
          "2020-06",
          "2020-07",
          "2020-08",
          "2020-09",
          "2020-10",
          "2020-11",
          "2020-12"
         ],
         "xaxis": "x",
         "y": [
          0.16422931446077005,
          0.15574773629338035,
          0.1580575040069817,
          0.1643255626661696,
          0.16356378762112744,
          0.16222493558173467,
          0.15793296971396065,
          0.15403461824274223,
          0.1564619674187423,
          0.1520129717616736,
          0.1512133243896141,
          0.15704185102255064
         ],
         "yaxis": "y"
        },
        {
         "hovertemplate": "Feature=Save item in shopping cart<br>month=%{x}<br>exp_debt=%{y}<extra></extra>",
         "legendgroup": "Save item in shopping cart",
         "line": {
          "color": "#636efa",
          "dash": "solid"
         },
         "mode": "lines",
         "name": "Save item in shopping cart",
         "orientation": "v",
         "showlegend": true,
         "type": "scatter",
         "x": [
          "2020-01",
          "2020-02",
          "2020-03",
          "2020-04",
          "2020-05",
          "2020-06",
          "2020-07",
          "2020-08",
          "2020-09",
          "2020-10",
          "2020-11",
          "2020-12"
         ],
         "xaxis": "x",
         "y": [
          0.16827580768500838,
          0.17199463787882674,
          0.1808427752931122,
          0.1556090089757547,
          0.1788273741373092,
          0.16893794914586424,
          0.17570428871567856,
          0.1615632623838702,
          0.18233504329212546,
          0.17286928256111844,
          0.17036544485587612,
          0.16350996692860797
         ],
         "yaxis": "y"
        },
        {
         "hovertemplate": "Feature=Search product<br>month=%{x}<br>exp_debt=%{y}<extra></extra>",
         "legendgroup": "Search product",
         "line": {
          "color": "#EF553B",
          "dash": "solid"
         },
         "mode": "lines",
         "name": "Search product",
         "orientation": "v",
         "showlegend": true,
         "type": "scatter",
         "x": [
          "2020-01",
          "2020-02",
          "2020-03",
          "2020-04",
          "2020-05",
          "2020-06",
          "2020-07",
          "2020-08",
          "2020-09",
          "2020-10",
          "2020-11",
          "2020-12"
         ],
         "xaxis": "x",
         "y": [
          0.16449944831273167,
          0.15715434843248188,
          0.1718544385243609,
          0.16749817363283637,
          0.15843348836657412,
          0.16748839686171735,
          0.16311627511638294,
          0.16280056456880698,
          0.17017504722731314,
          0.17686630464101594,
          0.15297401615159012,
          0.1630553821617956
         ],
         "yaxis": "y"
        },
        {
         "hovertemplate": "Feature=Update number of items in shopping cart<br>month=%{x}<br>exp_debt=%{y}<extra></extra>",
         "legendgroup": "Update number of items in shopping cart",
         "line": {
          "color": "#00cc96",
          "dash": "solid"
         },
         "mode": "lines",
         "name": "Update number of items in shopping cart",
         "orientation": "v",
         "showlegend": true,
         "type": "scatter",
         "x": [
          "2020-01",
          "2020-01",
          "2020-02",
          "2020-02",
          "2020-03",
          "2020-03",
          "2020-04",
          "2020-04",
          "2020-05",
          "2020-05",
          "2020-06",
          "2020-06",
          "2020-07",
          "2020-07",
          "2020-08",
          "2020-08",
          "2020-09",
          "2020-09",
          "2020-10",
          "2020-10",
          "2020-11",
          "2020-11",
          "2020-12",
          "2020-12"
         ],
         "xaxis": "x",
         "y": [
          0.16827580768500838,
          0.16827580768500838,
          0.17199463787882674,
          0.17199463787882674,
          0.1808427752931122,
          0.1808427752931122,
          0.1556090089757547,
          0.1556090089757547,
          0.16421061614356747,
          0.16421061614356747,
          0.17160577951291378,
          0.17160577951291378,
          0.17570428871567856,
          0.17570428871567856,
          0.16309772077975893,
          0.16309772077975893,
          0.18233504329212546,
          0.18233504329212546,
          0.17356859546325032,
          0.17356859546325032,
          0.17036544485587612,
          0.17036544485587612,
          0.17207979881252522,
          0.17207979881252522
         ],
         "yaxis": "y"
        },
        {
         "hovertemplate": "Feature=Update password<br>month=%{x}<br>exp_debt=%{y}<extra></extra>",
         "legendgroup": "Update password",
         "line": {
          "color": "#ab63fa",
          "dash": "solid"
         },
         "mode": "lines",
         "name": "Update password",
         "orientation": "v",
         "showlegend": true,
         "type": "scatter",
         "x": [
          "2020-01",
          "2020-02",
          "2020-03",
          "2020-04",
          "2020-05",
          "2020-06",
          "2020-07",
          "2020-08",
          "2020-09",
          "2020-10",
          "2020-11",
          "2020-12"
         ],
         "xaxis": "x",
         "y": [
          0.17255719508484213,
          0.1599007816172936,
          0.1678281254527848,
          0.14949130512458508,
          0.14636879007065806,
          0.1541651647735569,
          0.1294071623473687,
          0.1536787280295766,
          0.14772754759067885,
          0.15076242156915443,
          0.1415340949798779,
          0.1489296773263432
         ],
         "yaxis": "y"
        },
        {
         "hovertemplate": "Feature=list orders<br>month=%{x}<br>exp_debt=%{y}<extra></extra>",
         "legendgroup": "list orders",
         "line": {
          "color": "#FFA15A",
          "dash": "solid"
         },
         "mode": "lines",
         "name": "list orders",
         "orientation": "v",
         "showlegend": true,
         "type": "scatter",
         "x": [
          "2020-01",
          "2020-02",
          "2020-03",
          "2020-04",
          "2020-05",
          "2020-06",
          "2020-07",
          "2020-08",
          "2020-09",
          "2020-10",
          "2020-11",
          "2020-12"
         ],
         "xaxis": "x",
         "y": [
          0.17658288798525534,
          0.15168466142809978,
          0.13986710029998806,
          0.1765431015170288,
          0.16999880495529884,
          0.15922245820216163,
          0.15102507752014382,
          0.15539004313700266,
          0.15694010250212964,
          0.15004555174442957,
          0.14487901782525725,
          0.14989214328110478
         ],
         "yaxis": "y"
        }
       ],
       "layout": {
        "legend": {
         "title": {
          "text": "Feature"
         },
         "tracegroupgap": 0
        },
        "template": {
         "data": {
          "bar": [
           {
            "error_x": {
             "color": "#2a3f5f"
            },
            "error_y": {
             "color": "#2a3f5f"
            },
            "marker": {
             "line": {
              "color": "#E5ECF6",
              "width": 0.5
             }
            },
            "type": "bar"
           }
          ],
          "barpolar": [
           {
            "marker": {
             "line": {
              "color": "#E5ECF6",
              "width": 0.5
             }
            },
            "type": "barpolar"
           }
          ],
          "carpet": [
           {
            "aaxis": {
             "endlinecolor": "#2a3f5f",
             "gridcolor": "white",
             "linecolor": "white",
             "minorgridcolor": "white",
             "startlinecolor": "#2a3f5f"
            },
            "baxis": {
             "endlinecolor": "#2a3f5f",
             "gridcolor": "white",
             "linecolor": "white",
             "minorgridcolor": "white",
             "startlinecolor": "#2a3f5f"
            },
            "type": "carpet"
           }
          ],
          "choropleth": [
           {
            "colorbar": {
             "outlinewidth": 0,
             "ticks": ""
            },
            "type": "choropleth"
           }
          ],
          "contour": [
           {
            "colorbar": {
             "outlinewidth": 0,
             "ticks": ""
            },
            "colorscale": [
             [
              0,
              "#0d0887"
             ],
             [
              0.1111111111111111,
              "#46039f"
             ],
             [
              0.2222222222222222,
              "#7201a8"
             ],
             [
              0.3333333333333333,
              "#9c179e"
             ],
             [
              0.4444444444444444,
              "#bd3786"
             ],
             [
              0.5555555555555556,
              "#d8576b"
             ],
             [
              0.6666666666666666,
              "#ed7953"
             ],
             [
              0.7777777777777778,
              "#fb9f3a"
             ],
             [
              0.8888888888888888,
              "#fdca26"
             ],
             [
              1,
              "#f0f921"
             ]
            ],
            "type": "contour"
           }
          ],
          "contourcarpet": [
           {
            "colorbar": {
             "outlinewidth": 0,
             "ticks": ""
            },
            "type": "contourcarpet"
           }
          ],
          "heatmap": [
           {
            "colorbar": {
             "outlinewidth": 0,
             "ticks": ""
            },
            "colorscale": [
             [
              0,
              "#0d0887"
             ],
             [
              0.1111111111111111,
              "#46039f"
             ],
             [
              0.2222222222222222,
              "#7201a8"
             ],
             [
              0.3333333333333333,
              "#9c179e"
             ],
             [
              0.4444444444444444,
              "#bd3786"
             ],
             [
              0.5555555555555556,
              "#d8576b"
             ],
             [
              0.6666666666666666,
              "#ed7953"
             ],
             [
              0.7777777777777778,
              "#fb9f3a"
             ],
             [
              0.8888888888888888,
              "#fdca26"
             ],
             [
              1,
              "#f0f921"
             ]
            ],
            "type": "heatmap"
           }
          ],
          "heatmapgl": [
           {
            "colorbar": {
             "outlinewidth": 0,
             "ticks": ""
            },
            "colorscale": [
             [
              0,
              "#0d0887"
             ],
             [
              0.1111111111111111,
              "#46039f"
             ],
             [
              0.2222222222222222,
              "#7201a8"
             ],
             [
              0.3333333333333333,
              "#9c179e"
             ],
             [
              0.4444444444444444,
              "#bd3786"
             ],
             [
              0.5555555555555556,
              "#d8576b"
             ],
             [
              0.6666666666666666,
              "#ed7953"
             ],
             [
              0.7777777777777778,
              "#fb9f3a"
             ],
             [
              0.8888888888888888,
              "#fdca26"
             ],
             [
              1,
              "#f0f921"
             ]
            ],
            "type": "heatmapgl"
           }
          ],
          "histogram": [
           {
            "marker": {
             "colorbar": {
              "outlinewidth": 0,
              "ticks": ""
             }
            },
            "type": "histogram"
           }
          ],
          "histogram2d": [
           {
            "colorbar": {
             "outlinewidth": 0,
             "ticks": ""
            },
            "colorscale": [
             [
              0,
              "#0d0887"
             ],
             [
              0.1111111111111111,
              "#46039f"
             ],
             [
              0.2222222222222222,
              "#7201a8"
             ],
             [
              0.3333333333333333,
              "#9c179e"
             ],
             [
              0.4444444444444444,
              "#bd3786"
             ],
             [
              0.5555555555555556,
              "#d8576b"
             ],
             [
              0.6666666666666666,
              "#ed7953"
             ],
             [
              0.7777777777777778,
              "#fb9f3a"
             ],
             [
              0.8888888888888888,
              "#fdca26"
             ],
             [
              1,
              "#f0f921"
             ]
            ],
            "type": "histogram2d"
           }
          ],
          "histogram2dcontour": [
           {
            "colorbar": {
             "outlinewidth": 0,
             "ticks": ""
            },
            "colorscale": [
             [
              0,
              "#0d0887"
             ],
             [
              0.1111111111111111,
              "#46039f"
             ],
             [
              0.2222222222222222,
              "#7201a8"
             ],
             [
              0.3333333333333333,
              "#9c179e"
             ],
             [
              0.4444444444444444,
              "#bd3786"
             ],
             [
              0.5555555555555556,
              "#d8576b"
             ],
             [
              0.6666666666666666,
              "#ed7953"
             ],
             [
              0.7777777777777778,
              "#fb9f3a"
             ],
             [
              0.8888888888888888,
              "#fdca26"
             ],
             [
              1,
              "#f0f921"
             ]
            ],
            "type": "histogram2dcontour"
           }
          ],
          "mesh3d": [
           {
            "colorbar": {
             "outlinewidth": 0,
             "ticks": ""
            },
            "type": "mesh3d"
           }
          ],
          "parcoords": [
           {
            "line": {
             "colorbar": {
              "outlinewidth": 0,
              "ticks": ""
             }
            },
            "type": "parcoords"
           }
          ],
          "pie": [
           {
            "automargin": true,
            "type": "pie"
           }
          ],
          "scatter": [
           {
            "marker": {
             "colorbar": {
              "outlinewidth": 0,
              "ticks": ""
             }
            },
            "type": "scatter"
           }
          ],
          "scatter3d": [
           {
            "line": {
             "colorbar": {
              "outlinewidth": 0,
              "ticks": ""
             }
            },
            "marker": {
             "colorbar": {
              "outlinewidth": 0,
              "ticks": ""
             }
            },
            "type": "scatter3d"
           }
          ],
          "scattercarpet": [
           {
            "marker": {
             "colorbar": {
              "outlinewidth": 0,
              "ticks": ""
             }
            },
            "type": "scattercarpet"
           }
          ],
          "scattergeo": [
           {
            "marker": {
             "colorbar": {
              "outlinewidth": 0,
              "ticks": ""
             }
            },
            "type": "scattergeo"
           }
          ],
          "scattergl": [
           {
            "marker": {
             "colorbar": {
              "outlinewidth": 0,
              "ticks": ""
             }
            },
            "type": "scattergl"
           }
          ],
          "scattermapbox": [
           {
            "marker": {
             "colorbar": {
              "outlinewidth": 0,
              "ticks": ""
             }
            },
            "type": "scattermapbox"
           }
          ],
          "scatterpolar": [
           {
            "marker": {
             "colorbar": {
              "outlinewidth": 0,
              "ticks": ""
             }
            },
            "type": "scatterpolar"
           }
          ],
          "scatterpolargl": [
           {
            "marker": {
             "colorbar": {
              "outlinewidth": 0,
              "ticks": ""
             }
            },
            "type": "scatterpolargl"
           }
          ],
          "scatterternary": [
           {
            "marker": {
             "colorbar": {
              "outlinewidth": 0,
              "ticks": ""
             }
            },
            "type": "scatterternary"
           }
          ],
          "surface": [
           {
            "colorbar": {
             "outlinewidth": 0,
             "ticks": ""
            },
            "colorscale": [
             [
              0,
              "#0d0887"
             ],
             [
              0.1111111111111111,
              "#46039f"
             ],
             [
              0.2222222222222222,
              "#7201a8"
             ],
             [
              0.3333333333333333,
              "#9c179e"
             ],
             [
              0.4444444444444444,
              "#bd3786"
             ],
             [
              0.5555555555555556,
              "#d8576b"
             ],
             [
              0.6666666666666666,
              "#ed7953"
             ],
             [
              0.7777777777777778,
              "#fb9f3a"
             ],
             [
              0.8888888888888888,
              "#fdca26"
             ],
             [
              1,
              "#f0f921"
             ]
            ],
            "type": "surface"
           }
          ],
          "table": [
           {
            "cells": {
             "fill": {
              "color": "#EBF0F8"
             },
             "line": {
              "color": "white"
             }
            },
            "header": {
             "fill": {
              "color": "#C8D4E3"
             },
             "line": {
              "color": "white"
             }
            },
            "type": "table"
           }
          ]
         },
         "layout": {
          "annotationdefaults": {
           "arrowcolor": "#2a3f5f",
           "arrowhead": 0,
           "arrowwidth": 1
          },
          "coloraxis": {
           "colorbar": {
            "outlinewidth": 0,
            "ticks": ""
           }
          },
          "colorscale": {
           "diverging": [
            [
             0,
             "#8e0152"
            ],
            [
             0.1,
             "#c51b7d"
            ],
            [
             0.2,
             "#de77ae"
            ],
            [
             0.3,
             "#f1b6da"
            ],
            [
             0.4,
             "#fde0ef"
            ],
            [
             0.5,
             "#f7f7f7"
            ],
            [
             0.6,
             "#e6f5d0"
            ],
            [
             0.7,
             "#b8e186"
            ],
            [
             0.8,
             "#7fbc41"
            ],
            [
             0.9,
             "#4d9221"
            ],
            [
             1,
             "#276419"
            ]
           ],
           "sequential": [
            [
             0,
             "#0d0887"
            ],
            [
             0.1111111111111111,
             "#46039f"
            ],
            [
             0.2222222222222222,
             "#7201a8"
            ],
            [
             0.3333333333333333,
             "#9c179e"
            ],
            [
             0.4444444444444444,
             "#bd3786"
            ],
            [
             0.5555555555555556,
             "#d8576b"
            ],
            [
             0.6666666666666666,
             "#ed7953"
            ],
            [
             0.7777777777777778,
             "#fb9f3a"
            ],
            [
             0.8888888888888888,
             "#fdca26"
            ],
            [
             1,
             "#f0f921"
            ]
           ],
           "sequentialminus": [
            [
             0,
             "#0d0887"
            ],
            [
             0.1111111111111111,
             "#46039f"
            ],
            [
             0.2222222222222222,
             "#7201a8"
            ],
            [
             0.3333333333333333,
             "#9c179e"
            ],
            [
             0.4444444444444444,
             "#bd3786"
            ],
            [
             0.5555555555555556,
             "#d8576b"
            ],
            [
             0.6666666666666666,
             "#ed7953"
            ],
            [
             0.7777777777777778,
             "#fb9f3a"
            ],
            [
             0.8888888888888888,
             "#fdca26"
            ],
            [
             1,
             "#f0f921"
            ]
           ]
          },
          "colorway": [
           "#636efa",
           "#EF553B",
           "#00cc96",
           "#ab63fa",
           "#FFA15A",
           "#19d3f3",
           "#FF6692",
           "#B6E880",
           "#FF97FF",
           "#FECB52"
          ],
          "font": {
           "color": "#2a3f5f"
          },
          "geo": {
           "bgcolor": "white",
           "lakecolor": "white",
           "landcolor": "#E5ECF6",
           "showlakes": true,
           "showland": true,
           "subunitcolor": "white"
          },
          "hoverlabel": {
           "align": "left"
          },
          "hovermode": "closest",
          "mapbox": {
           "style": "light"
          },
          "paper_bgcolor": "white",
          "plot_bgcolor": "#E5ECF6",
          "polar": {
           "angularaxis": {
            "gridcolor": "white",
            "linecolor": "white",
            "ticks": ""
           },
           "bgcolor": "#E5ECF6",
           "radialaxis": {
            "gridcolor": "white",
            "linecolor": "white",
            "ticks": ""
           }
          },
          "scene": {
           "xaxis": {
            "backgroundcolor": "#E5ECF6",
            "gridcolor": "white",
            "gridwidth": 2,
            "linecolor": "white",
            "showbackground": true,
            "ticks": "",
            "zerolinecolor": "white"
           },
           "yaxis": {
            "backgroundcolor": "#E5ECF6",
            "gridcolor": "white",
            "gridwidth": 2,
            "linecolor": "white",
            "showbackground": true,
            "ticks": "",
            "zerolinecolor": "white"
           },
           "zaxis": {
            "backgroundcolor": "#E5ECF6",
            "gridcolor": "white",
            "gridwidth": 2,
            "linecolor": "white",
            "showbackground": true,
            "ticks": "",
            "zerolinecolor": "white"
           }
          },
          "shapedefaults": {
           "line": {
            "color": "#2a3f5f"
           }
          },
          "ternary": {
           "aaxis": {
            "gridcolor": "white",
            "linecolor": "white",
            "ticks": ""
           },
           "baxis": {
            "gridcolor": "white",
            "linecolor": "white",
            "ticks": ""
           },
           "bgcolor": "#E5ECF6",
           "caxis": {
            "gridcolor": "white",
            "linecolor": "white",
            "ticks": ""
           }
          },
          "title": {
           "x": 0.05
          },
          "xaxis": {
           "automargin": true,
           "gridcolor": "white",
           "linecolor": "white",
           "ticks": "",
           "title": {
            "standoff": 15
           },
           "zerolinecolor": "white",
           "zerolinewidth": 2
          },
          "yaxis": {
           "automargin": true,
           "gridcolor": "white",
           "linecolor": "white",
           "ticks": "",
           "title": {
            "standoff": 15
           },
           "zerolinecolor": "white",
           "zerolinewidth": 2
          }
         }
        },
        "title": {
         "text": "Experience Feature Debt Value Per Month"
        },
        "xaxis": {
         "anchor": "y",
         "domain": [
          0,
          1
         ],
         "title": {
          "text": "month"
         }
        },
        "yaxis": {
         "anchor": "x",
         "domain": [
          0,
          1
         ],
         "title": {
          "text": "exp_debt"
         }
        }
       }
      },
      "text/html": [
       "<div>                            <div id=\"0a3c9e2b-3c22-4bdf-9731-f65a0e7316e3\" class=\"plotly-graph-div\" style=\"height:525px; width:100%;\"></div>            <script type=\"text/javascript\">                require([\"plotly\"], function(Plotly) {                    window.PLOTLYENV=window.PLOTLYENV || {};                                    if (document.getElementById(\"0a3c9e2b-3c22-4bdf-9731-f65a0e7316e3\")) {                    Plotly.newPlot(                        \"0a3c9e2b-3c22-4bdf-9731-f65a0e7316e3\",                        [{\"hovertemplate\": \"Feature=Cancel order<br>month=%{x}<br>exp_debt=%{y}<extra></extra>\", \"legendgroup\": \"Cancel order\", \"line\": {\"color\": \"#636efa\", \"dash\": \"solid\"}, \"mode\": \"lines\", \"name\": \"Cancel order\", \"orientation\": \"v\", \"showlegend\": true, \"type\": \"scatter\", \"x\": [\"2020-01\", \"2020-02\", \"2020-03\", \"2020-04\", \"2020-05\", \"2020-06\", \"2020-07\", \"2020-08\", \"2020-09\", \"2020-10\", \"2020-11\", \"2020-12\"], \"xaxis\": \"x\", \"y\": [0.16242562312574027, 0.13028535926246332, 0.14268347892104505, 0.1614731859767763, 0.15571529544741158, 0.1558820345768891, 0.15313356014935853, 0.16938812146491244, 0.17011488178748113, 0.1463006204591536, 0.1536349176681634, 0.153485900297887], \"yaxis\": \"y\"}, {\"hovertemplate\": \"Feature=Dashboard<br>month=%{x}<br>exp_debt=%{y}<extra></extra>\", \"legendgroup\": \"Dashboard\", \"line\": {\"color\": \"#EF553B\", \"dash\": \"solid\"}, \"mode\": \"lines\", \"name\": \"Dashboard\", \"orientation\": \"v\", \"showlegend\": true, \"type\": \"scatter\", \"x\": [\"2020-01\", \"2020-01\", \"2020-01\", \"2020-01\", \"2020-01\", \"2020-01\", \"2020-02\", \"2020-02\", \"2020-02\", \"2020-02\", \"2020-02\", \"2020-02\", \"2020-03\", \"2020-03\", \"2020-03\", \"2020-03\", \"2020-03\", \"2020-03\", \"2020-04\", \"2020-04\", \"2020-04\", \"2020-04\", \"2020-04\", \"2020-04\", \"2020-05\", \"2020-05\", \"2020-05\", \"2020-05\", \"2020-05\", \"2020-05\", \"2020-06\", \"2020-06\", \"2020-06\", \"2020-06\", \"2020-06\", \"2020-06\", \"2020-07\", \"2020-07\", \"2020-07\", \"2020-07\", \"2020-07\", \"2020-07\", \"2020-08\", \"2020-08\", \"2020-08\", \"2020-08\", \"2020-08\", \"2020-08\", \"2020-09\", \"2020-09\", \"2020-09\", \"2020-09\", \"2020-09\", \"2020-09\", \"2020-10\", \"2020-10\", \"2020-10\", \"2020-10\", \"2020-10\", \"2020-10\", \"2020-11\", \"2020-11\", \"2020-11\", \"2020-11\", \"2020-11\", \"2020-11\", \"2020-12\", \"2020-12\", \"2020-12\", \"2020-12\", \"2020-12\", \"2020-12\"], \"xaxis\": \"x\", \"y\": [0.0, 0.0, 0.001993895621675179, 0.001993895621675179, 0.011993895621675188, 0.011993895621675188, 0.0, 0.0, 0.000994259139907916, 0.000994259139907916, 0.010994259139907925, 0.010994259139907925, 0.0, 0.0, 0.0013192992359202238, 0.0013192992359202238, 0.011319299235920233, 0.011319299235920233, 0.0, 0.0, 0.0013181357798640603, 0.0013181357798640603, 0.01131813577986407, 0.01131813577986407, 0.0, 0.0, 0.001559507363047552, 0.001559507363047552, 0.011559507363047561, 0.011559507363047561, 0.0, 0.0, 0.001244821543595953, 0.001244821543595953, 0.011244821543595962, 0.011244821543595962, 0.0, 0.0, 0.0017346405960405598, 0.0017346405960405598, 0.011734640596040569, 0.011734640596040569, 0.0, 0.0, 0.0013280486237500222, 0.0013280486237500222, 0.011328048623750031, 0.011328048623750031, 0.0, 0.0, 0.0012434532494796091, 0.0012434532494796091, 0.011243453249479618, 0.011243453249479618, 0.0, 0.0, 0.0014164224148461857, 0.0014164224148461857, 0.011416422414846195, 0.011416422414846195, 0.0, 0.0, 0.0016981805583163867, 0.0016981805583163867, 0.011698180558316396, 0.011698180558316396, 0.0, 0.0, 0.0015912084461303655, 0.0015912084461303655, 0.011591208446130374, 0.011591208446130374], \"yaxis\": \"y\"}, {\"hovertemplate\": \"Feature=Delete item in shopping cart<br>month=%{x}<br>exp_debt=%{y}<extra></extra>\", \"legendgroup\": \"Delete item in shopping cart\", \"line\": {\"color\": \"#00cc96\", \"dash\": \"solid\"}, \"mode\": \"lines\", \"name\": \"Delete item in shopping cart\", \"orientation\": \"v\", \"showlegend\": true, \"type\": \"scatter\", \"x\": [\"2020-01\", \"2020-02\", \"2020-03\", \"2020-04\", \"2020-05\", \"2020-06\", \"2020-07\", \"2020-08\", \"2020-09\", \"2020-10\", \"2020-11\", \"2020-12\"], \"xaxis\": \"x\", \"y\": [0.16633728898883293, 0.16732008983439917, 0.1773024576064448, 0.16634306863441128, 0.15936133507447547, 0.17160577951291378, 0.17563557748479885, 0.18068757636540766, 0.17851478583293978, 0.17356859546325032, 0.17620171777130522, 0.17207979881252522], \"yaxis\": \"y\"}, {\"hovertemplate\": \"Feature=Display Points<br>month=%{x}<br>exp_debt=%{y}<extra></extra>\", \"legendgroup\": \"Display Points\", \"line\": {\"color\": \"#ab63fa\", \"dash\": \"solid\"}, \"mode\": \"lines\", \"name\": \"Display Points\", \"orientation\": \"v\", \"showlegend\": true, \"type\": \"scatter\", \"x\": [\"2020-01\", \"2020-01\", \"2020-02\", \"2020-02\", \"2020-03\", \"2020-03\", \"2020-04\", \"2020-04\", \"2020-05\", \"2020-05\", \"2020-06\", \"2020-06\", \"2020-07\", \"2020-07\", \"2020-08\", \"2020-08\", \"2020-09\", \"2020-09\", \"2020-10\", \"2020-10\", \"2020-11\", \"2020-11\", \"2020-12\", \"2020-12\"], \"xaxis\": \"x\", \"y\": [0.13297981244463097, 0.14297981244463098, 0.1391473783406274, 0.1491473783406274, 0.13766705840773164, 0.14766705840773164, 0.1425777963761249, 0.1525777963761249, 0.16356378762112744, 0.17356378762112745, 0.1574582283396313, 0.1674582283396313, 0.15318664262930637, 0.16318664262930638, 0.14425729424938205, 0.15425729424938206, 0.15578884496314926, 0.16578884496314927, 0.14890805405944907, 0.15890805405944908, 0.14592278421120575, 0.15592278421120576, 0.14398637922126323, 0.15398637922126324], \"yaxis\": \"y\"}, {\"hovertemplate\": \"Feature=Display Profile<br>month=%{x}<br>exp_debt=%{y}<extra></extra>\", \"legendgroup\": \"Display Profile\", \"line\": {\"color\": \"#FFA15A\", \"dash\": \"solid\"}, \"mode\": \"lines\", \"name\": \"Display Profile\", \"orientation\": \"v\", \"showlegend\": true, \"type\": \"scatter\", \"x\": [\"2020-01\", \"2020-01\", \"2020-02\", \"2020-02\", \"2020-03\", \"2020-03\", \"2020-04\", \"2020-04\", \"2020-05\", \"2020-05\", \"2020-06\", \"2020-06\", \"2020-07\", \"2020-07\", \"2020-08\", \"2020-08\", \"2020-09\", \"2020-09\", \"2020-10\", \"2020-10\", \"2020-11\", \"2020-11\", \"2020-12\", \"2020-12\"], \"xaxis\": \"x\", \"y\": [0.1466172897809197, 0.1466172897809197, 0.14999417297931406, 0.14999417297931406, 0.1463915388104836, 0.1463915388104836, 0.1533346022615094, 0.1533346022615094, 0.15393512336147097, 0.15393512336147097, 0.13887355081696617, 0.13887355081696617, 0.15302417064624207, 0.15302417064624207, 0.15151391823613414, 0.15151391823613414, 0.14804925351454412, 0.14804925351454412, 0.15904038798250242, 0.15904038798250242, 0.14721566629631078, 0.14721566629631078, 0.15962785790744793, 0.15962785790744793], \"yaxis\": \"y\"}, {\"hovertemplate\": \"Feature=Display shopping cart<br>month=%{x}<br>exp_debt=%{y}<extra></extra>\", \"legendgroup\": \"Display shopping cart\", \"line\": {\"color\": \"#19d3f3\", \"dash\": \"solid\"}, \"mode\": \"lines\", \"name\": \"Display shopping cart\", \"orientation\": \"v\", \"showlegend\": true, \"type\": \"scatter\", \"x\": [\"2020-01\", \"2020-02\", \"2020-03\", \"2020-04\", \"2020-05\", \"2020-06\", \"2020-07\", \"2020-08\", \"2020-09\", \"2020-10\", \"2020-11\", \"2020-12\"], \"xaxis\": \"x\", \"y\": [0.1485815391623675, 0.15598932670348842, 0.1773024576064448, 0.14869927232080082, 0.1567430377364346, 0.17160577951291378, 0.1731150492860335, 0.16309772077975893, 0.14736377087793706, 0.17356859546325032, 0.15365394720740477, 0.17207979881252522], \"yaxis\": \"y\"}, {\"hovertemplate\": \"Feature=Login<br>month=%{x}<br>exp_debt=%{y}<extra></extra>\", \"legendgroup\": \"Login\", \"line\": {\"color\": \"#FF6692\", \"dash\": \"solid\"}, \"mode\": \"lines\", \"name\": \"Login\", \"orientation\": \"v\", \"showlegend\": true, \"type\": \"scatter\", \"x\": [\"2020-01\", \"2020-01\", \"2020-01\", \"2020-01\", \"2020-01\", \"2020-01\", \"2020-01\", \"2020-01\", \"2020-02\", \"2020-02\", \"2020-02\", \"2020-02\", \"2020-02\", \"2020-02\", \"2020-02\", \"2020-02\", \"2020-03\", \"2020-03\", \"2020-03\", \"2020-03\", \"2020-03\", \"2020-03\", \"2020-03\", \"2020-03\", \"2020-04\", \"2020-04\", \"2020-04\", \"2020-04\", \"2020-04\", \"2020-04\", \"2020-04\", \"2020-04\", \"2020-05\", \"2020-05\", \"2020-05\", \"2020-05\", \"2020-05\", \"2020-05\", \"2020-05\", \"2020-05\", \"2020-06\", \"2020-06\", \"2020-06\", \"2020-06\", \"2020-06\", \"2020-06\", \"2020-06\", \"2020-06\", \"2020-07\", \"2020-07\", \"2020-07\", \"2020-07\", \"2020-07\", \"2020-07\", \"2020-07\", \"2020-07\", \"2020-08\", \"2020-08\", \"2020-08\", \"2020-08\", \"2020-08\", \"2020-08\", \"2020-08\", \"2020-08\", \"2020-09\", \"2020-09\", \"2020-09\", \"2020-09\", \"2020-09\", \"2020-09\", \"2020-09\", \"2020-09\", \"2020-10\", \"2020-10\", \"2020-10\", \"2020-10\", \"2020-10\", \"2020-10\", \"2020-10\", \"2020-10\", \"2020-11\", \"2020-11\", \"2020-11\", \"2020-11\", \"2020-11\", \"2020-11\", \"2020-11\", \"2020-11\", \"2020-12\", \"2020-12\", \"2020-12\", \"2020-12\", \"2020-12\", \"2020-12\", \"2020-12\", \"2020-12\"], \"xaxis\": \"x\", \"y\": [0.0, 0.0, 0.001091938503901213, 0.001091938503901213, 0.001091938503901213, 0.011091938503901222, 0.011091938503901222, 0.011091938503901222, 0.0, 0.0, 0.000816532701210626, 0.000816532701210626, 0.000816532701210626, 0.010816532701210635, 0.010816532701210635, 0.010816532701210635, 0.0, 0.0, 0.0012359930853411694, 0.0012359930853411694, 0.0012359930853411694, 0.011235993085341178, 0.011235993085341178, 0.011235993085341178, 0.0, 0.0, 0.0014880346333884242, 0.0014880346333884242, 0.0014880346333884242, 0.011488034633388433, 0.011488034633388433, 0.011488034633388433, 0.0, 0.0, 0.0013709612266170623, 0.0013709612266170623, 0.0013709612266170623, 0.011370961226617071, 0.011370961226617071, 0.011370961226617071, 0.0, 0.0, 0.0012388177711539772, 0.0012388177711539772, 0.0012388177711539772, 0.011238817771153986, 0.011238817771153986, 0.011238817771153986, 0.0, 0.0, 0.0015754899276539946, 0.0015754899276539946, 0.0015754899276539946, 0.011575489927654004, 0.011575489927654004, 0.011575489927654004, 0.0, 0.0, 0.0017115157659709501, 0.0017115157659709501, 0.0017115157659709501, 0.011711515765970959, 0.011711515765970959, 0.011711515765970959, 0.0, 0.0, 0.0013809051750895973, 0.0013809051750895973, 0.0013809051750895973, 0.011380905175089606, 0.011380905175089606, 0.011380905175089606, 0.0, 0.0, 0.0013995903063496185, 0.0013995903063496185, 0.0013995903063496185, 0.011399590306349627, 0.011399590306349627, 0.011399590306349627, 0.0, 0.0, 0.0011462641217879765, 0.0011462641217879765, 0.0011462641217879765, 0.011146264121787985, 0.011146264121787985, 0.011146264121787985, 0.0, 0.0, 0.0013506628011651367, 0.0013506628011651367, 0.0013506628011651367, 0.011350662801165146, 0.011350662801165146, 0.011350662801165146], \"yaxis\": \"y\"}, {\"hovertemplate\": \"Feature=Onboarding<br>month=%{x}<br>exp_debt=%{y}<extra></extra>\", \"legendgroup\": \"Onboarding\", \"line\": {\"color\": \"#B6E880\", \"dash\": \"solid\"}, \"mode\": \"lines\", \"name\": \"Onboarding\", \"orientation\": \"v\", \"showlegend\": true, \"type\": \"scatter\", \"x\": [\"2020-01\", \"2020-02\", \"2020-03\", \"2020-04\", \"2020-05\", \"2020-06\", \"2020-07\", \"2020-08\", \"2020-09\", \"2020-10\", \"2020-11\", \"2020-12\"], \"xaxis\": \"x\", \"y\": [0.15331538164471326, 0.15897675814429924, 0.15347876614439804, 0.1588748393693704, 0.16151766143043855, 0.16432557579627893, 0.1701136598562213, 0.15919452151178703, 0.16102115348350343, 0.1692600253027311, 0.1725234652913521, 0.17297577731959002], \"yaxis\": \"y\"}, {\"hovertemplate\": \"Feature=Recuperate Password<br>month=%{x}<br>exp_debt=%{y}<extra></extra>\", \"legendgroup\": \"Recuperate Password\", \"line\": {\"color\": \"#FF97FF\", \"dash\": \"solid\"}, \"mode\": \"lines\", \"name\": \"Recuperate Password\", \"orientation\": \"v\", \"showlegend\": true, \"type\": \"scatter\", \"x\": [\"2020-01\", \"2020-02\", \"2020-03\", \"2020-04\", \"2020-05\", \"2020-06\", \"2020-07\", \"2020-08\", \"2020-09\", \"2020-10\", \"2020-11\", \"2020-12\"], \"xaxis\": \"x\", \"y\": [0.18062907745616563, 0.16310543765381003, 0.1669547819157433, 0.16284412274640447, 0.16590292112135685, 0.16109984789942733, 0.17852117398007317, 0.1671384379191968, 0.1764365322634055, 0.17480392572871872, 0.1811457501068109, 0.16214220584150374], \"yaxis\": \"y\"}, {\"hovertemplate\": \"Feature=Reward Points<br>month=%{x}<br>exp_debt=%{y}<extra></extra>\", \"legendgroup\": \"Reward Points\", \"line\": {\"color\": \"#FECB52\", \"dash\": \"solid\"}, \"mode\": \"lines\", \"name\": \"Reward Points\", \"orientation\": \"v\", \"showlegend\": true, \"type\": \"scatter\", \"x\": [\"2020-01\", \"2020-02\", \"2020-03\", \"2020-04\", \"2020-05\", \"2020-06\", \"2020-07\", \"2020-08\", \"2020-09\", \"2020-10\", \"2020-11\", \"2020-12\"], \"xaxis\": \"x\", \"y\": [0.16422931446077005, 0.15574773629338035, 0.1580575040069817, 0.1643255626661696, 0.16356378762112744, 0.16222493558173467, 0.15793296971396065, 0.15403461824274223, 0.1564619674187423, 0.1520129717616736, 0.1512133243896141, 0.15704185102255064], \"yaxis\": \"y\"}, {\"hovertemplate\": \"Feature=Save item in shopping cart<br>month=%{x}<br>exp_debt=%{y}<extra></extra>\", \"legendgroup\": \"Save item in shopping cart\", \"line\": {\"color\": \"#636efa\", \"dash\": \"solid\"}, \"mode\": \"lines\", \"name\": \"Save item in shopping cart\", \"orientation\": \"v\", \"showlegend\": true, \"type\": \"scatter\", \"x\": [\"2020-01\", \"2020-02\", \"2020-03\", \"2020-04\", \"2020-05\", \"2020-06\", \"2020-07\", \"2020-08\", \"2020-09\", \"2020-10\", \"2020-11\", \"2020-12\"], \"xaxis\": \"x\", \"y\": [0.16827580768500838, 0.17199463787882674, 0.1808427752931122, 0.1556090089757547, 0.1788273741373092, 0.16893794914586424, 0.17570428871567856, 0.1615632623838702, 0.18233504329212546, 0.17286928256111844, 0.17036544485587612, 0.16350996692860797], \"yaxis\": \"y\"}, {\"hovertemplate\": \"Feature=Search product<br>month=%{x}<br>exp_debt=%{y}<extra></extra>\", \"legendgroup\": \"Search product\", \"line\": {\"color\": \"#EF553B\", \"dash\": \"solid\"}, \"mode\": \"lines\", \"name\": \"Search product\", \"orientation\": \"v\", \"showlegend\": true, \"type\": \"scatter\", \"x\": [\"2020-01\", \"2020-02\", \"2020-03\", \"2020-04\", \"2020-05\", \"2020-06\", \"2020-07\", \"2020-08\", \"2020-09\", \"2020-10\", \"2020-11\", \"2020-12\"], \"xaxis\": \"x\", \"y\": [0.16449944831273167, 0.15715434843248188, 0.1718544385243609, 0.16749817363283637, 0.15843348836657412, 0.16748839686171735, 0.16311627511638294, 0.16280056456880698, 0.17017504722731314, 0.17686630464101594, 0.15297401615159012, 0.1630553821617956], \"yaxis\": \"y\"}, {\"hovertemplate\": \"Feature=Update number of items in shopping cart<br>month=%{x}<br>exp_debt=%{y}<extra></extra>\", \"legendgroup\": \"Update number of items in shopping cart\", \"line\": {\"color\": \"#00cc96\", \"dash\": \"solid\"}, \"mode\": \"lines\", \"name\": \"Update number of items in shopping cart\", \"orientation\": \"v\", \"showlegend\": true, \"type\": \"scatter\", \"x\": [\"2020-01\", \"2020-01\", \"2020-02\", \"2020-02\", \"2020-03\", \"2020-03\", \"2020-04\", \"2020-04\", \"2020-05\", \"2020-05\", \"2020-06\", \"2020-06\", \"2020-07\", \"2020-07\", \"2020-08\", \"2020-08\", \"2020-09\", \"2020-09\", \"2020-10\", \"2020-10\", \"2020-11\", \"2020-11\", \"2020-12\", \"2020-12\"], \"xaxis\": \"x\", \"y\": [0.16827580768500838, 0.16827580768500838, 0.17199463787882674, 0.17199463787882674, 0.1808427752931122, 0.1808427752931122, 0.1556090089757547, 0.1556090089757547, 0.16421061614356747, 0.16421061614356747, 0.17160577951291378, 0.17160577951291378, 0.17570428871567856, 0.17570428871567856, 0.16309772077975893, 0.16309772077975893, 0.18233504329212546, 0.18233504329212546, 0.17356859546325032, 0.17356859546325032, 0.17036544485587612, 0.17036544485587612, 0.17207979881252522, 0.17207979881252522], \"yaxis\": \"y\"}, {\"hovertemplate\": \"Feature=Update password<br>month=%{x}<br>exp_debt=%{y}<extra></extra>\", \"legendgroup\": \"Update password\", \"line\": {\"color\": \"#ab63fa\", \"dash\": \"solid\"}, \"mode\": \"lines\", \"name\": \"Update password\", \"orientation\": \"v\", \"showlegend\": true, \"type\": \"scatter\", \"x\": [\"2020-01\", \"2020-02\", \"2020-03\", \"2020-04\", \"2020-05\", \"2020-06\", \"2020-07\", \"2020-08\", \"2020-09\", \"2020-10\", \"2020-11\", \"2020-12\"], \"xaxis\": \"x\", \"y\": [0.17255719508484213, 0.1599007816172936, 0.1678281254527848, 0.14949130512458508, 0.14636879007065806, 0.1541651647735569, 0.1294071623473687, 0.1536787280295766, 0.14772754759067885, 0.15076242156915443, 0.1415340949798779, 0.1489296773263432], \"yaxis\": \"y\"}, {\"hovertemplate\": \"Feature=list orders<br>month=%{x}<br>exp_debt=%{y}<extra></extra>\", \"legendgroup\": \"list orders\", \"line\": {\"color\": \"#FFA15A\", \"dash\": \"solid\"}, \"mode\": \"lines\", \"name\": \"list orders\", \"orientation\": \"v\", \"showlegend\": true, \"type\": \"scatter\", \"x\": [\"2020-01\", \"2020-02\", \"2020-03\", \"2020-04\", \"2020-05\", \"2020-06\", \"2020-07\", \"2020-08\", \"2020-09\", \"2020-10\", \"2020-11\", \"2020-12\"], \"xaxis\": \"x\", \"y\": [0.17658288798525534, 0.15168466142809978, 0.13986710029998806, 0.1765431015170288, 0.16999880495529884, 0.15922245820216163, 0.15102507752014382, 0.15539004313700266, 0.15694010250212964, 0.15004555174442957, 0.14487901782525725, 0.14989214328110478], \"yaxis\": \"y\"}],                        {\"legend\": {\"title\": {\"text\": \"Feature\"}, \"tracegroupgap\": 0}, \"template\": {\"data\": {\"bar\": [{\"error_x\": {\"color\": \"#2a3f5f\"}, \"error_y\": {\"color\": \"#2a3f5f\"}, \"marker\": {\"line\": {\"color\": \"#E5ECF6\", \"width\": 0.5}}, \"type\": \"bar\"}], \"barpolar\": [{\"marker\": {\"line\": {\"color\": \"#E5ECF6\", \"width\": 0.5}}, \"type\": \"barpolar\"}], \"carpet\": [{\"aaxis\": {\"endlinecolor\": \"#2a3f5f\", \"gridcolor\": \"white\", \"linecolor\": \"white\", \"minorgridcolor\": \"white\", \"startlinecolor\": \"#2a3f5f\"}, \"baxis\": {\"endlinecolor\": \"#2a3f5f\", \"gridcolor\": \"white\", \"linecolor\": \"white\", \"minorgridcolor\": \"white\", \"startlinecolor\": \"#2a3f5f\"}, \"type\": \"carpet\"}], \"choropleth\": [{\"colorbar\": {\"outlinewidth\": 0, \"ticks\": \"\"}, \"type\": \"choropleth\"}], \"contour\": [{\"colorbar\": {\"outlinewidth\": 0, \"ticks\": \"\"}, \"colorscale\": [[0.0, \"#0d0887\"], [0.1111111111111111, \"#46039f\"], [0.2222222222222222, \"#7201a8\"], [0.3333333333333333, \"#9c179e\"], [0.4444444444444444, \"#bd3786\"], [0.5555555555555556, \"#d8576b\"], [0.6666666666666666, \"#ed7953\"], [0.7777777777777778, \"#fb9f3a\"], [0.8888888888888888, \"#fdca26\"], [1.0, \"#f0f921\"]], \"type\": \"contour\"}], \"contourcarpet\": [{\"colorbar\": {\"outlinewidth\": 0, \"ticks\": \"\"}, \"type\": \"contourcarpet\"}], \"heatmap\": [{\"colorbar\": {\"outlinewidth\": 0, \"ticks\": \"\"}, \"colorscale\": [[0.0, \"#0d0887\"], [0.1111111111111111, \"#46039f\"], [0.2222222222222222, \"#7201a8\"], [0.3333333333333333, \"#9c179e\"], [0.4444444444444444, \"#bd3786\"], [0.5555555555555556, \"#d8576b\"], [0.6666666666666666, \"#ed7953\"], [0.7777777777777778, \"#fb9f3a\"], [0.8888888888888888, \"#fdca26\"], [1.0, \"#f0f921\"]], \"type\": \"heatmap\"}], \"heatmapgl\": [{\"colorbar\": {\"outlinewidth\": 0, \"ticks\": \"\"}, \"colorscale\": [[0.0, \"#0d0887\"], [0.1111111111111111, \"#46039f\"], [0.2222222222222222, \"#7201a8\"], [0.3333333333333333, \"#9c179e\"], [0.4444444444444444, \"#bd3786\"], [0.5555555555555556, \"#d8576b\"], [0.6666666666666666, \"#ed7953\"], [0.7777777777777778, \"#fb9f3a\"], [0.8888888888888888, \"#fdca26\"], [1.0, \"#f0f921\"]], \"type\": \"heatmapgl\"}], \"histogram\": [{\"marker\": {\"colorbar\": {\"outlinewidth\": 0, \"ticks\": \"\"}}, \"type\": \"histogram\"}], \"histogram2d\": [{\"colorbar\": {\"outlinewidth\": 0, \"ticks\": \"\"}, \"colorscale\": [[0.0, \"#0d0887\"], [0.1111111111111111, \"#46039f\"], [0.2222222222222222, \"#7201a8\"], [0.3333333333333333, \"#9c179e\"], [0.4444444444444444, \"#bd3786\"], [0.5555555555555556, \"#d8576b\"], [0.6666666666666666, \"#ed7953\"], [0.7777777777777778, \"#fb9f3a\"], [0.8888888888888888, \"#fdca26\"], [1.0, \"#f0f921\"]], \"type\": \"histogram2d\"}], \"histogram2dcontour\": [{\"colorbar\": {\"outlinewidth\": 0, \"ticks\": \"\"}, \"colorscale\": [[0.0, \"#0d0887\"], [0.1111111111111111, \"#46039f\"], [0.2222222222222222, \"#7201a8\"], [0.3333333333333333, \"#9c179e\"], [0.4444444444444444, \"#bd3786\"], [0.5555555555555556, \"#d8576b\"], [0.6666666666666666, \"#ed7953\"], [0.7777777777777778, \"#fb9f3a\"], [0.8888888888888888, \"#fdca26\"], [1.0, \"#f0f921\"]], \"type\": \"histogram2dcontour\"}], \"mesh3d\": [{\"colorbar\": {\"outlinewidth\": 0, \"ticks\": \"\"}, \"type\": \"mesh3d\"}], \"parcoords\": [{\"line\": {\"colorbar\": {\"outlinewidth\": 0, \"ticks\": \"\"}}, \"type\": \"parcoords\"}], \"pie\": [{\"automargin\": true, \"type\": \"pie\"}], \"scatter\": [{\"marker\": {\"colorbar\": {\"outlinewidth\": 0, \"ticks\": \"\"}}, \"type\": \"scatter\"}], \"scatter3d\": [{\"line\": {\"colorbar\": {\"outlinewidth\": 0, \"ticks\": \"\"}}, \"marker\": {\"colorbar\": {\"outlinewidth\": 0, \"ticks\": \"\"}}, \"type\": \"scatter3d\"}], \"scattercarpet\": [{\"marker\": {\"colorbar\": {\"outlinewidth\": 0, \"ticks\": \"\"}}, \"type\": \"scattercarpet\"}], \"scattergeo\": [{\"marker\": {\"colorbar\": {\"outlinewidth\": 0, \"ticks\": \"\"}}, \"type\": \"scattergeo\"}], \"scattergl\": [{\"marker\": {\"colorbar\": {\"outlinewidth\": 0, \"ticks\": \"\"}}, \"type\": \"scattergl\"}], \"scattermapbox\": [{\"marker\": {\"colorbar\": {\"outlinewidth\": 0, \"ticks\": \"\"}}, \"type\": \"scattermapbox\"}], \"scatterpolar\": [{\"marker\": {\"colorbar\": {\"outlinewidth\": 0, \"ticks\": \"\"}}, \"type\": \"scatterpolar\"}], \"scatterpolargl\": [{\"marker\": {\"colorbar\": {\"outlinewidth\": 0, \"ticks\": \"\"}}, \"type\": \"scatterpolargl\"}], \"scatterternary\": [{\"marker\": {\"colorbar\": {\"outlinewidth\": 0, \"ticks\": \"\"}}, \"type\": \"scatterternary\"}], \"surface\": [{\"colorbar\": {\"outlinewidth\": 0, \"ticks\": \"\"}, \"colorscale\": [[0.0, \"#0d0887\"], [0.1111111111111111, \"#46039f\"], [0.2222222222222222, \"#7201a8\"], [0.3333333333333333, \"#9c179e\"], [0.4444444444444444, \"#bd3786\"], [0.5555555555555556, \"#d8576b\"], [0.6666666666666666, \"#ed7953\"], [0.7777777777777778, \"#fb9f3a\"], [0.8888888888888888, \"#fdca26\"], [1.0, \"#f0f921\"]], \"type\": \"surface\"}], \"table\": [{\"cells\": {\"fill\": {\"color\": \"#EBF0F8\"}, \"line\": {\"color\": \"white\"}}, \"header\": {\"fill\": {\"color\": \"#C8D4E3\"}, \"line\": {\"color\": \"white\"}}, \"type\": \"table\"}]}, \"layout\": {\"annotationdefaults\": {\"arrowcolor\": \"#2a3f5f\", \"arrowhead\": 0, \"arrowwidth\": 1}, \"coloraxis\": {\"colorbar\": {\"outlinewidth\": 0, \"ticks\": \"\"}}, \"colorscale\": {\"diverging\": [[0, \"#8e0152\"], [0.1, \"#c51b7d\"], [0.2, \"#de77ae\"], [0.3, \"#f1b6da\"], [0.4, \"#fde0ef\"], [0.5, \"#f7f7f7\"], [0.6, \"#e6f5d0\"], [0.7, \"#b8e186\"], [0.8, \"#7fbc41\"], [0.9, \"#4d9221\"], [1, \"#276419\"]], \"sequential\": [[0.0, \"#0d0887\"], [0.1111111111111111, \"#46039f\"], [0.2222222222222222, \"#7201a8\"], [0.3333333333333333, \"#9c179e\"], [0.4444444444444444, \"#bd3786\"], [0.5555555555555556, \"#d8576b\"], [0.6666666666666666, \"#ed7953\"], [0.7777777777777778, \"#fb9f3a\"], [0.8888888888888888, \"#fdca26\"], [1.0, \"#f0f921\"]], \"sequentialminus\": [[0.0, \"#0d0887\"], [0.1111111111111111, \"#46039f\"], [0.2222222222222222, \"#7201a8\"], [0.3333333333333333, \"#9c179e\"], [0.4444444444444444, \"#bd3786\"], [0.5555555555555556, \"#d8576b\"], [0.6666666666666666, \"#ed7953\"], [0.7777777777777778, \"#fb9f3a\"], [0.8888888888888888, \"#fdca26\"], [1.0, \"#f0f921\"]]}, \"colorway\": [\"#636efa\", \"#EF553B\", \"#00cc96\", \"#ab63fa\", \"#FFA15A\", \"#19d3f3\", \"#FF6692\", \"#B6E880\", \"#FF97FF\", \"#FECB52\"], \"font\": {\"color\": \"#2a3f5f\"}, \"geo\": {\"bgcolor\": \"white\", \"lakecolor\": \"white\", \"landcolor\": \"#E5ECF6\", \"showlakes\": true, \"showland\": true, \"subunitcolor\": \"white\"}, \"hoverlabel\": {\"align\": \"left\"}, \"hovermode\": \"closest\", \"mapbox\": {\"style\": \"light\"}, \"paper_bgcolor\": \"white\", \"plot_bgcolor\": \"#E5ECF6\", \"polar\": {\"angularaxis\": {\"gridcolor\": \"white\", \"linecolor\": \"white\", \"ticks\": \"\"}, \"bgcolor\": \"#E5ECF6\", \"radialaxis\": {\"gridcolor\": \"white\", \"linecolor\": \"white\", \"ticks\": \"\"}}, \"scene\": {\"xaxis\": {\"backgroundcolor\": \"#E5ECF6\", \"gridcolor\": \"white\", \"gridwidth\": 2, \"linecolor\": \"white\", \"showbackground\": true, \"ticks\": \"\", \"zerolinecolor\": \"white\"}, \"yaxis\": {\"backgroundcolor\": \"#E5ECF6\", \"gridcolor\": \"white\", \"gridwidth\": 2, \"linecolor\": \"white\", \"showbackground\": true, \"ticks\": \"\", \"zerolinecolor\": \"white\"}, \"zaxis\": {\"backgroundcolor\": \"#E5ECF6\", \"gridcolor\": \"white\", \"gridwidth\": 2, \"linecolor\": \"white\", \"showbackground\": true, \"ticks\": \"\", \"zerolinecolor\": \"white\"}}, \"shapedefaults\": {\"line\": {\"color\": \"#2a3f5f\"}}, \"ternary\": {\"aaxis\": {\"gridcolor\": \"white\", \"linecolor\": \"white\", \"ticks\": \"\"}, \"baxis\": {\"gridcolor\": \"white\", \"linecolor\": \"white\", \"ticks\": \"\"}, \"bgcolor\": \"#E5ECF6\", \"caxis\": {\"gridcolor\": \"white\", \"linecolor\": \"white\", \"ticks\": \"\"}}, \"title\": {\"x\": 0.05}, \"xaxis\": {\"automargin\": true, \"gridcolor\": \"white\", \"linecolor\": \"white\", \"ticks\": \"\", \"title\": {\"standoff\": 15}, \"zerolinecolor\": \"white\", \"zerolinewidth\": 2}, \"yaxis\": {\"automargin\": true, \"gridcolor\": \"white\", \"linecolor\": \"white\", \"ticks\": \"\", \"title\": {\"standoff\": 15}, \"zerolinecolor\": \"white\", \"zerolinewidth\": 2}}}, \"title\": {\"text\": \"Experience Feature Debt Value Per Month\"}, \"xaxis\": {\"anchor\": \"y\", \"domain\": [0.0, 1.0], \"title\": {\"text\": \"month\"}}, \"yaxis\": {\"anchor\": \"x\", \"domain\": [0.0, 1.0], \"title\": {\"text\": \"exp_debt\"}}},                        {\"responsive\": true}                    ).then(function(){\n",
       "                            \n",
       "var gd = document.getElementById('0a3c9e2b-3c22-4bdf-9731-f65a0e7316e3');\n",
       "var x = new MutationObserver(function (mutations, observer) {{\n",
       "        var display = window.getComputedStyle(gd).display;\n",
       "        if (!display || display === 'none') {{\n",
       "            console.log([gd, 'removed!']);\n",
       "            Plotly.purge(gd);\n",
       "            observer.disconnect();\n",
       "        }}\n",
       "}});\n",
       "\n",
       "// Listen for the removal of the full notebook cells\n",
       "var notebookContainer = gd.closest('#notebook-container');\n",
       "if (notebookContainer) {{\n",
       "    x.observe(notebookContainer, {childList: true});\n",
       "}}\n",
       "\n",
       "// Listen for the clearing of the current output cell\n",
       "var outputEl = gd.closest('.output');\n",
       "if (outputEl) {{\n",
       "    x.observe(outputEl, {childList: true});\n",
       "}}\n",
       "\n",
       "                        })                };                });            </script>        </div>"
      ]
     },
     "metadata": {},
     "output_type": "display_data"
    }
   ],
   "source": [
    "fig = px.line(grouped, x=\"month\", y=\"exp_debt\", color=\"Feature\", title=\"Experience Feature Debt Value Per Month\")\n",
    "fig.show()"
   ]
  },
  {
   "cell_type": "code",
   "execution_count": 37,
   "metadata": {},
   "outputs": [
    {
     "data": {
      "application/vnd.plotly.v1+json": {
       "config": {
        "plotlyServerURL": "https://plot.ly"
       },
       "data": [
        {
         "alignmentgroup": "True",
         "hovertemplate": "Feature=Cancel order<br>month=%{x}<br>exp_debt_per=%{y}<extra></extra>",
         "legendgroup": "Cancel order",
         "marker": {
          "color": "#636efa"
         },
         "name": "Cancel order",
         "offsetgroup": "Cancel order",
         "orientation": "v",
         "showlegend": true,
         "textposition": "auto",
         "type": "bar",
         "x": [
          "2020-01",
          "2020-02",
          "2020-03",
          "2020-04",
          "2020-05",
          "2020-06",
          "2020-07",
          "2020-08",
          "2020-09",
          "2020-10",
          "2020-11",
          "2020-12"
         ],
         "xaxis": "x",
         "y": [
          0.06181269373699804,
          0.05082704538428019,
          0.05407405951767795,
          0.06237026010951484,
          0.05866495690571268,
          0.05893805531251812,
          0.057397968101247074,
          0.06464473157181871,
          0.06317640723369604,
          0.05464778378718296,
          0.05911755170841762,
          0.05811549803330243
         ],
         "yaxis": "y"
        },
        {
         "alignmentgroup": "True",
         "hovertemplate": "Feature=Dashboard<br>month=%{x}<br>exp_debt_per=%{y}<extra></extra>",
         "legendgroup": "Dashboard",
         "marker": {
          "color": "#EF553B"
         },
         "name": "Dashboard",
         "offsetgroup": "Dashboard",
         "orientation": "v",
         "showlegend": true,
         "textposition": "auto",
         "type": "bar",
         "x": [
          "2020-01",
          "2020-01",
          "2020-01",
          "2020-01",
          "2020-01",
          "2020-01",
          "2020-02",
          "2020-02",
          "2020-02",
          "2020-02",
          "2020-02",
          "2020-02",
          "2020-03",
          "2020-03",
          "2020-03",
          "2020-03",
          "2020-03",
          "2020-03",
          "2020-04",
          "2020-04",
          "2020-04",
          "2020-04",
          "2020-04",
          "2020-04",
          "2020-05",
          "2020-05",
          "2020-05",
          "2020-05",
          "2020-05",
          "2020-05",
          "2020-06",
          "2020-06",
          "2020-06",
          "2020-06",
          "2020-06",
          "2020-06",
          "2020-07",
          "2020-07",
          "2020-07",
          "2020-07",
          "2020-07",
          "2020-07",
          "2020-08",
          "2020-08",
          "2020-08",
          "2020-08",
          "2020-08",
          "2020-08",
          "2020-09",
          "2020-09",
          "2020-09",
          "2020-09",
          "2020-09",
          "2020-09",
          "2020-10",
          "2020-10",
          "2020-10",
          "2020-10",
          "2020-10",
          "2020-10",
          "2020-11",
          "2020-11",
          "2020-11",
          "2020-11",
          "2020-11",
          "2020-11",
          "2020-12",
          "2020-12",
          "2020-12",
          "2020-12",
          "2020-12",
          "2020-12"
         ],
         "xaxis": "x",
         "y": [
          0,
          0,
          0.0007587969006019316,
          0.0007587969006019316,
          0.0045643968144250344,
          0.0045643968144250344,
          0,
          0,
          0.0003878812992796099,
          0.0003878812992796099,
          0.004289090588796769,
          0.004289090588796769,
          0,
          0,
          0.000499986865643034,
          0.000499986865643034,
          0.004289778082298207,
          0.004289778082298207,
          0,
          0,
          0.0005091400838626158,
          0.0005091400838626158,
          0.004371717002267213,
          0.004371717002267213,
          0,
          0,
          0.0005875365806837125,
          0.0005875365806837125,
          0.004354986447259289,
          0.004354986447259289,
          0,
          0,
          0.00047065950344960303,
          0.00047065950344960303,
          0.004251599075639166,
          0.004251599075639166,
          0,
          0,
          0.0006501830526342748,
          0.0006501830526342748,
          0.004398412248459418,
          0.004398412248459418,
          0,
          0,
          0.0005068321559633504,
          0.0005068321559633504,
          0.004323199620975321,
          0.004323199620975321,
          0,
          0,
          0.0004617873994311971,
          0.0004617873994311971,
          0.004175536988524777,
          0.004175536988524777,
          0,
          0,
          0.0005290773588991363,
          0.0005290773588991363,
          0.004264385084572138,
          0.004264385084572138,
          0,
          0,
          0.0006534470059946667,
          0.0006534470059946667,
          0.004501371202244499,
          0.004501371202244499,
          0,
          0,
          0.0006024909854402862,
          0.0006024909854402862,
          0.00438886471231105,
          0.00438886471231105
         ],
         "yaxis": "y"
        },
        {
         "alignmentgroup": "True",
         "hovertemplate": "Feature=Delete item in shopping cart<br>month=%{x}<br>exp_debt_per=%{y}<extra></extra>",
         "legendgroup": "Delete item in shopping cart",
         "marker": {
          "color": "#00cc96"
         },
         "name": "Delete item in shopping cart",
         "offsetgroup": "Delete item in shopping cart",
         "orientation": "v",
         "showlegend": true,
         "textposition": "auto",
         "type": "bar",
         "x": [
          "2020-01",
          "2020-02",
          "2020-03",
          "2020-04",
          "2020-05",
          "2020-06",
          "2020-07",
          "2020-08",
          "2020-09",
          "2020-10",
          "2020-11",
          "2020-12"
         ],
         "xaxis": "x",
         "y": [
          0.06330131726414706,
          0.06527506887848031,
          0.067193929652828,
          0.06425128974438682,
          0.060038584056363795,
          0.06488310825768122,
          0.06583223993541316,
          0.06895701877728071,
          0.06629592125342079,
          0.06483321155680903,
          0.06780108532329888,
          0.06515584291489517
         ],
         "yaxis": "y"
        },
        {
         "alignmentgroup": "True",
         "hovertemplate": "Feature=Display Points<br>month=%{x}<br>exp_debt_per=%{y}<extra></extra>",
         "legendgroup": "Display Points",
         "marker": {
          "color": "#ab63fa"
         },
         "name": "Display Points",
         "offsetgroup": "Display Points",
         "orientation": "v",
         "showlegend": true,
         "textposition": "auto",
         "type": "bar",
         "x": [
          "2020-01",
          "2020-01",
          "2020-02",
          "2020-02",
          "2020-03",
          "2020-03",
          "2020-04",
          "2020-04",
          "2020-05",
          "2020-05",
          "2020-06",
          "2020-06",
          "2020-07",
          "2020-07",
          "2020-08",
          "2020-08",
          "2020-09",
          "2020-09",
          "2020-10",
          "2020-10",
          "2020-11",
          "2020-11",
          "2020-12",
          "2020-12"
         ],
         "xaxis": "x",
         "y": [
          0.05060679627794996,
          0.05441239619177306,
          0.05428430449944139,
          0.05818551378895855,
          0.052172940877637554,
          0.05596273209429273,
          0.05507177053594101,
          0.05893434745434561,
          0.06162183698498121,
          0.06538928685155679,
          0.05953400464961716,
          0.06331494422180672,
          0.057417864631359804,
          0.06116609382718494,
          0.05505388443639996,
          0.05887025190141194,
          0.05785607589672585,
          0.061569825485819435,
          0.05562174047431927,
          0.05935704819999227,
          0.0561499812150441,
          0.05999790541129394,
          0.0545186243310641,
          0.05830499805793486
         ],
         "yaxis": "y"
        },
        {
         "alignmentgroup": "True",
         "hovertemplate": "Feature=Display Profile<br>month=%{x}<br>exp_debt_per=%{y}<extra></extra>",
         "legendgroup": "Display Profile",
         "marker": {
          "color": "#FFA15A"
         },
         "name": "Display Profile",
         "offsetgroup": "Display Profile",
         "orientation": "v",
         "showlegend": true,
         "textposition": "auto",
         "type": "bar",
         "x": [
          "2020-01",
          "2020-01",
          "2020-02",
          "2020-02",
          "2020-03",
          "2020-03",
          "2020-04",
          "2020-04",
          "2020-05",
          "2020-05",
          "2020-06",
          "2020-06",
          "2020-07",
          "2020-07",
          "2020-08",
          "2020-08",
          "2020-09",
          "2020-09",
          "2020-10",
          "2020-10",
          "2020-11",
          "2020-11",
          "2020-12",
          "2020-12"
         ],
         "xaxis": "x",
         "y": [
          0.05579667453552444,
          0.05579667453552444,
          0.05851586610003432,
          0.05851586610003432,
          0.05547933679766051,
          0.05547933679766051,
          0.059226669548805504,
          0.059226669548805504,
          0.05799428599694683,
          0.05799428599694683,
          0.052507250381434514,
          0.052507250381434514,
          0.057356966408317285,
          0.057356966408317285,
          0.05782327880528657,
          0.05782327880528657,
          0.0549817854405249,
          0.0549817854405249,
          0.05940647899250725,
          0.05940647899250725,
          0.05664747244086146,
          0.05664747244086146,
          0.06044107272574197,
          0.06044107272574197
         ],
         "yaxis": "y"
        },
        {
         "alignmentgroup": "True",
         "hovertemplate": "Feature=Display shopping cart<br>month=%{x}<br>exp_debt_per=%{y}<extra></extra>",
         "legendgroup": "Display shopping cart",
         "marker": {
          "color": "#19d3f3"
         },
         "name": "Display shopping cart",
         "offsetgroup": "Display shopping cart",
         "orientation": "v",
         "showlegend": true,
         "textposition": "auto",
         "type": "bar",
         "x": [
          "2020-01",
          "2020-02",
          "2020-03",
          "2020-04",
          "2020-05",
          "2020-06",
          "2020-07",
          "2020-08",
          "2020-09",
          "2020-10",
          "2020-11",
          "2020-12"
         ],
         "xaxis": "x",
         "y": [
          0.05654418926320092,
          0.06085470104011756,
          0.067193929652828,
          0.05743623770498843,
          0.05905215366067807,
          0.06488310825768122,
          0.06488748819706187,
          0.062244083520147826,
          0.05472721435452187,
          0.06483321155680903,
          0.05912487413086666,
          0.06515584291489517
         ],
         "yaxis": "y"
        },
        {
         "alignmentgroup": "True",
         "hovertemplate": "Feature=Login<br>month=%{x}<br>exp_debt_per=%{y}<extra></extra>",
         "legendgroup": "Login",
         "marker": {
          "color": "#FF6692"
         },
         "name": "Login",
         "offsetgroup": "Login",
         "orientation": "v",
         "showlegend": true,
         "textposition": "auto",
         "type": "bar",
         "x": [
          "2020-01",
          "2020-01",
          "2020-01",
          "2020-01",
          "2020-01",
          "2020-01",
          "2020-01",
          "2020-01",
          "2020-02",
          "2020-02",
          "2020-02",
          "2020-02",
          "2020-02",
          "2020-02",
          "2020-02",
          "2020-02",
          "2020-03",
          "2020-03",
          "2020-03",
          "2020-03",
          "2020-03",
          "2020-03",
          "2020-03",
          "2020-03",
          "2020-04",
          "2020-04",
          "2020-04",
          "2020-04",
          "2020-04",
          "2020-04",
          "2020-04",
          "2020-04",
          "2020-05",
          "2020-05",
          "2020-05",
          "2020-05",
          "2020-05",
          "2020-05",
          "2020-05",
          "2020-05",
          "2020-06",
          "2020-06",
          "2020-06",
          "2020-06",
          "2020-06",
          "2020-06",
          "2020-06",
          "2020-06",
          "2020-07",
          "2020-07",
          "2020-07",
          "2020-07",
          "2020-07",
          "2020-07",
          "2020-07",
          "2020-07",
          "2020-08",
          "2020-08",
          "2020-08",
          "2020-08",
          "2020-08",
          "2020-08",
          "2020-08",
          "2020-08",
          "2020-09",
          "2020-09",
          "2020-09",
          "2020-09",
          "2020-09",
          "2020-09",
          "2020-09",
          "2020-09",
          "2020-10",
          "2020-10",
          "2020-10",
          "2020-10",
          "2020-10",
          "2020-10",
          "2020-10",
          "2020-10",
          "2020-11",
          "2020-11",
          "2020-11",
          "2020-11",
          "2020-11",
          "2020-11",
          "2020-11",
          "2020-11",
          "2020-12",
          "2020-12",
          "2020-12",
          "2020-12",
          "2020-12",
          "2020-12",
          "2020-12",
          "2020-12"
         ],
         "xaxis": "x",
         "y": [
          0,
          0,
          0.00041554810763465804,
          0.00041554810763465804,
          0.00041554810763465804,
          0.004221148021457761,
          0.004221148021457761,
          0.004221148021457761,
          0,
          0,
          0.00031854649591574305,
          0.00031854649591574305,
          0.00031854649591574305,
          0.004219755785432902,
          0.004219755785432902,
          0.004219755785432902,
          0,
          0,
          0.00046841557386724866,
          0.00046841557386724866,
          0.00046841557386724866,
          0.0042582067905224215,
          0.0042582067905224215,
          0.0042582067905224215,
          0,
          0,
          0.0005747648228712768,
          0.0005747648228712768,
          0.0005747648228712768,
          0.004437341741275874,
          0.004437341741275874,
          0.004437341741275874,
          0,
          0,
          0.0005165027690298737,
          0.0005165027690298737,
          0.0005165027690298737,
          0.004283952635605451,
          0.004283952635605451,
          0.004283952635605451,
          0,
          0,
          0.00046838951336877424,
          0.00046838951336877424,
          0.00046838951336877424,
          0.004249329085558337,
          0.004249329085558337,
          0.004249329085558337,
          0,
          0,
          0.000590529734456114,
          0.000590529734456114,
          0.000590529734456114,
          0.004338758930281256,
          0.004338758930281256,
          0.004338758930281256,
          0,
          0,
          0.000653177308510657,
          0.000653177308510657,
          0.000653177308510657,
          0.004469544773522628,
          0.004469544773522628,
          0.004469544773522628,
          0,
          0,
          0.0005128336026566186,
          0.0005128336026566186,
          0.0005128336026566186,
          0.004226583191750199,
          0.004226583191750199,
          0.004226583191750199,
          0,
          0,
          0.000522790048408477,
          0.000522790048408477,
          0.000522790048408477,
          0.004258097774081479,
          0.004258097774081479,
          0.004258097774081479,
          0,
          0,
          0.0004410737449521015,
          0.0004410737449521015,
          0.0004410737449521015,
          0.004288997941201933,
          0.004288997941201933,
          0.004288997941201933,
          0,
          0,
          0.0005114114144193338,
          0.0005114114144193338,
          0.0005114114144193338,
          0.004297785141290097,
          0.004297785141290097,
          0.004297785141290097
         ],
         "yaxis": "y"
        },
        {
         "alignmentgroup": "True",
         "hovertemplate": "Feature=Onboarding<br>month=%{x}<br>exp_debt_per=%{y}<extra></extra>",
         "legendgroup": "Onboarding",
         "marker": {
          "color": "#B6E880"
         },
         "name": "Onboarding",
         "offsetgroup": "Onboarding",
         "orientation": "v",
         "showlegend": true,
         "textposition": "auto",
         "type": "bar",
         "x": [
          "2020-01",
          "2020-02",
          "2020-03",
          "2020-04",
          "2020-05",
          "2020-06",
          "2020-07",
          "2020-08",
          "2020-09",
          "2020-10",
          "2020-11",
          "2020-12"
         ],
         "xaxis": "x",
         "y": [
          0.058345700317487634,
          0.06202016056898624,
          0.05816524798771124,
          0.061366628746336756,
          0.06085096920057045,
          0.062130507225098594,
          0.06376249864817557,
          0.06075447925057318,
          0.05979922425847346,
          0.06322382801608988,
          0.06638572165154612,
          0.06549509386279427
         ],
         "yaxis": "y"
        },
        {
         "alignmentgroup": "True",
         "hovertemplate": "Feature=Recuperate Password<br>month=%{x}<br>exp_debt_per=%{y}<extra></extra>",
         "legendgroup": "Recuperate Password",
         "marker": {
          "color": "#FF97FF"
         },
         "name": "Recuperate Password",
         "offsetgroup": "Recuperate Password",
         "orientation": "v",
         "showlegend": true,
         "textposition": "auto",
         "type": "bar",
         "x": [
          "2020-01",
          "2020-02",
          "2020-03",
          "2020-04",
          "2020-05",
          "2020-06",
          "2020-07",
          "2020-08",
          "2020-09",
          "2020-10",
          "2020-11",
          "2020-12"
         ],
         "xaxis": "x",
         "y": [
          0.06874020016011298,
          0.0636308448545805,
          0.06327237660828633,
          0.06289979498181064,
          0.06250309380431539,
          0.06091087899966639,
          0.06691382763850895,
          0.06378616966277452,
          0.06552410991943178,
          0.06529464542524521,
          0.06970351148838226,
          0.061393098821514044
         ],
         "yaxis": "y"
        },
        {
         "alignmentgroup": "True",
         "hovertemplate": "Feature=Reward Points<br>month=%{x}<br>exp_debt_per=%{y}<extra></extra>",
         "legendgroup": "Reward Points",
         "marker": {
          "color": "#FECB52"
         },
         "name": "Reward Points",
         "offsetgroup": "Reward Points",
         "orientation": "v",
         "showlegend": true,
         "textposition": "auto",
         "type": "bar",
         "x": [
          "2020-01",
          "2020-02",
          "2020-03",
          "2020-04",
          "2020-05",
          "2020-06",
          "2020-07",
          "2020-08",
          "2020-09",
          "2020-10",
          "2020-11",
          "2020-12"
         ],
         "xaxis": "x",
         "y": [
          0.062499106495913316,
          0.06076045156490037,
          0.05990049404120985,
          0.06347201254581943,
          0.06162183698498121,
          0.06133626785368828,
          0.05919689680652348,
          0.05878527055471403,
          0.05810605672101268,
          0.056781522782389085,
          0.058185740971417044,
          0.05946191387309377
         ],
         "yaxis": "y"
        },
        {
         "alignmentgroup": "True",
         "hovertemplate": "Feature=Save item in shopping cart<br>month=%{x}<br>exp_debt_per=%{y}<extra></extra>",
         "legendgroup": "Save item in shopping cart",
         "marker": {
          "color": "#636efa"
         },
         "name": "Save item in shopping cart",
         "offsetgroup": "Save item in shopping cart",
         "orientation": "v",
         "showlegend": true,
         "textposition": "auto",
         "type": "bar",
         "x": [
          "2020-01",
          "2020-02",
          "2020-03",
          "2020-04",
          "2020-05",
          "2020-06",
          "2020-07",
          "2020-08",
          "2020-09",
          "2020-10",
          "2020-11",
          "2020-12"
         ],
         "xaxis": "x",
         "y": [
          0.06403903992245803,
          0.06709870790400181,
          0.0685356361401381,
          0.06010517663655633,
          0.06737231668336657,
          0.06387441771701455,
          0.0658579944795796,
          0.06165847781029941,
          0.06771466921034905,
          0.06457199666820944,
          0.06555533174657917,
          0.06191098428599881
         ],
         "yaxis": "y"
        },
        {
         "alignmentgroup": "True",
         "hovertemplate": "Feature=Search product<br>month=%{x}<br>exp_debt_per=%{y}<extra></extra>",
         "legendgroup": "Search product",
         "marker": {
          "color": "#EF553B"
         },
         "name": "Search product",
         "offsetgroup": "Search product",
         "orientation": "v",
         "showlegend": true,
         "textposition": "auto",
         "type": "bar",
         "x": [
          "2020-01",
          "2020-02",
          "2020-03",
          "2020-04",
          "2020-05",
          "2020-06",
          "2020-07",
          "2020-08",
          "2020-09",
          "2020-10",
          "2020-11",
          "2020-12"
         ],
         "xaxis": "x",
         "y": [
          0.0626019086322879,
          0.06130920039928142,
          0.06512924416628287,
          0.06469745793491187,
          0.05968902246077524,
          0.06332635075770568,
          0.06113971847054722,
          0.0621306777905975,
          0.06319875117144141,
          0.0660650074136821,
          0.05886324181472157,
          0.06173886150422941
         ],
         "yaxis": "y"
        },
        {
         "alignmentgroup": "True",
         "hovertemplate": "Feature=Update number of items in shopping cart<br>month=%{x}<br>exp_debt_per=%{y}<extra></extra>",
         "legendgroup": "Update number of items in shopping cart",
         "marker": {
          "color": "#00cc96"
         },
         "name": "Update number of items in shopping cart",
         "offsetgroup": "Update number of items in shopping cart",
         "orientation": "v",
         "showlegend": true,
         "textposition": "auto",
         "type": "bar",
         "x": [
          "2020-01",
          "2020-01",
          "2020-02",
          "2020-02",
          "2020-03",
          "2020-03",
          "2020-04",
          "2020-04",
          "2020-05",
          "2020-05",
          "2020-06",
          "2020-06",
          "2020-07",
          "2020-07",
          "2020-08",
          "2020-08",
          "2020-09",
          "2020-09",
          "2020-10",
          "2020-10",
          "2020-11",
          "2020-11",
          "2020-12",
          "2020-12"
         ],
         "xaxis": "x",
         "y": [
          0.06403903992245803,
          0.06403903992245803,
          0.06709870790400181,
          0.06709870790400181,
          0.0685356361401381,
          0.0685356361401381,
          0.06010517663655633,
          0.06010517663655633,
          0.061865526388037606,
          0.061865526388037606,
          0.06488310825768122,
          0.06488310825768122,
          0.0658579944795796,
          0.0658579944795796,
          0.062244083520147826,
          0.062244083520147826,
          0.06771466921034905,
          0.06771466921034905,
          0.06483321155680903,
          0.06483321155680903,
          0.06555533174657917,
          0.06555533174657917,
          0.06515584291489517,
          0.06515584291489517
         ],
         "yaxis": "y"
        },
        {
         "alignmentgroup": "True",
         "hovertemplate": "Feature=Update password<br>month=%{x}<br>exp_debt_per=%{y}<extra></extra>",
         "legendgroup": "Update password",
         "marker": {
          "color": "#ab63fa"
         },
         "name": "Update password",
         "offsetgroup": "Update password",
         "orientation": "v",
         "showlegend": true,
         "textposition": "auto",
         "type": "bar",
         "x": [
          "2020-01",
          "2020-02",
          "2020-03",
          "2020-04",
          "2020-05",
          "2020-06",
          "2020-07",
          "2020-08",
          "2020-09",
          "2020-10",
          "2020-11",
          "2020-12"
         ],
         "xaxis": "x",
         "y": [
          0.06566836467444309,
          0.062380641464643984,
          0.06360335557486657,
          0.05774216646764007,
          0.05514370786225289,
          0.05828891721454652,
          0.048504770405929105,
          0.05864944977164988,
          0.05486231191626854,
          0.05631440380284321,
          0.05446124686673936,
          0.05639034173798058
         ],
         "yaxis": "y"
        },
        {
         "alignmentgroup": "True",
         "hovertemplate": "Feature=list orders<br>month=%{x}<br>exp_debt_per=%{y}<extra></extra>",
         "legendgroup": "list orders",
         "marker": {
          "color": "#FFA15A"
         },
         "name": "list orders",
         "offsetgroup": "list orders",
         "orientation": "v",
         "showlegend": true,
         "textposition": "auto",
         "type": "bar",
         "x": [
          "2020-01",
          "2020-02",
          "2020-03",
          "2020-04",
          "2020-05",
          "2020-06",
          "2020-07",
          "2020-08",
          "2020-09",
          "2020-10",
          "2020-11",
          "2020-12"
         ],
         "xaxis": "x",
         "y": [
          0.06720038232993217,
          0.059175361024056745,
          0.05300671082159223,
          0.06819113090232344,
          0.06404619750468477,
          0.060201049299785106,
          0.0566076604862758,
          0.05930255050148631,
          0.05828362411795878,
          0.05604663086338355,
          0.05574834782187176,
          0.05675476731839227
         ],
         "yaxis": "y"
        }
       ],
       "layout": {
        "barmode": "relative",
        "legend": {
         "title": {
          "text": "Feature"
         },
         "tracegroupgap": 0
        },
        "template": {
         "data": {
          "bar": [
           {
            "error_x": {
             "color": "#2a3f5f"
            },
            "error_y": {
             "color": "#2a3f5f"
            },
            "marker": {
             "line": {
              "color": "#E5ECF6",
              "width": 0.5
             }
            },
            "type": "bar"
           }
          ],
          "barpolar": [
           {
            "marker": {
             "line": {
              "color": "#E5ECF6",
              "width": 0.5
             }
            },
            "type": "barpolar"
           }
          ],
          "carpet": [
           {
            "aaxis": {
             "endlinecolor": "#2a3f5f",
             "gridcolor": "white",
             "linecolor": "white",
             "minorgridcolor": "white",
             "startlinecolor": "#2a3f5f"
            },
            "baxis": {
             "endlinecolor": "#2a3f5f",
             "gridcolor": "white",
             "linecolor": "white",
             "minorgridcolor": "white",
             "startlinecolor": "#2a3f5f"
            },
            "type": "carpet"
           }
          ],
          "choropleth": [
           {
            "colorbar": {
             "outlinewidth": 0,
             "ticks": ""
            },
            "type": "choropleth"
           }
          ],
          "contour": [
           {
            "colorbar": {
             "outlinewidth": 0,
             "ticks": ""
            },
            "colorscale": [
             [
              0,
              "#0d0887"
             ],
             [
              0.1111111111111111,
              "#46039f"
             ],
             [
              0.2222222222222222,
              "#7201a8"
             ],
             [
              0.3333333333333333,
              "#9c179e"
             ],
             [
              0.4444444444444444,
              "#bd3786"
             ],
             [
              0.5555555555555556,
              "#d8576b"
             ],
             [
              0.6666666666666666,
              "#ed7953"
             ],
             [
              0.7777777777777778,
              "#fb9f3a"
             ],
             [
              0.8888888888888888,
              "#fdca26"
             ],
             [
              1,
              "#f0f921"
             ]
            ],
            "type": "contour"
           }
          ],
          "contourcarpet": [
           {
            "colorbar": {
             "outlinewidth": 0,
             "ticks": ""
            },
            "type": "contourcarpet"
           }
          ],
          "heatmap": [
           {
            "colorbar": {
             "outlinewidth": 0,
             "ticks": ""
            },
            "colorscale": [
             [
              0,
              "#0d0887"
             ],
             [
              0.1111111111111111,
              "#46039f"
             ],
             [
              0.2222222222222222,
              "#7201a8"
             ],
             [
              0.3333333333333333,
              "#9c179e"
             ],
             [
              0.4444444444444444,
              "#bd3786"
             ],
             [
              0.5555555555555556,
              "#d8576b"
             ],
             [
              0.6666666666666666,
              "#ed7953"
             ],
             [
              0.7777777777777778,
              "#fb9f3a"
             ],
             [
              0.8888888888888888,
              "#fdca26"
             ],
             [
              1,
              "#f0f921"
             ]
            ],
            "type": "heatmap"
           }
          ],
          "heatmapgl": [
           {
            "colorbar": {
             "outlinewidth": 0,
             "ticks": ""
            },
            "colorscale": [
             [
              0,
              "#0d0887"
             ],
             [
              0.1111111111111111,
              "#46039f"
             ],
             [
              0.2222222222222222,
              "#7201a8"
             ],
             [
              0.3333333333333333,
              "#9c179e"
             ],
             [
              0.4444444444444444,
              "#bd3786"
             ],
             [
              0.5555555555555556,
              "#d8576b"
             ],
             [
              0.6666666666666666,
              "#ed7953"
             ],
             [
              0.7777777777777778,
              "#fb9f3a"
             ],
             [
              0.8888888888888888,
              "#fdca26"
             ],
             [
              1,
              "#f0f921"
             ]
            ],
            "type": "heatmapgl"
           }
          ],
          "histogram": [
           {
            "marker": {
             "colorbar": {
              "outlinewidth": 0,
              "ticks": ""
             }
            },
            "type": "histogram"
           }
          ],
          "histogram2d": [
           {
            "colorbar": {
             "outlinewidth": 0,
             "ticks": ""
            },
            "colorscale": [
             [
              0,
              "#0d0887"
             ],
             [
              0.1111111111111111,
              "#46039f"
             ],
             [
              0.2222222222222222,
              "#7201a8"
             ],
             [
              0.3333333333333333,
              "#9c179e"
             ],
             [
              0.4444444444444444,
              "#bd3786"
             ],
             [
              0.5555555555555556,
              "#d8576b"
             ],
             [
              0.6666666666666666,
              "#ed7953"
             ],
             [
              0.7777777777777778,
              "#fb9f3a"
             ],
             [
              0.8888888888888888,
              "#fdca26"
             ],
             [
              1,
              "#f0f921"
             ]
            ],
            "type": "histogram2d"
           }
          ],
          "histogram2dcontour": [
           {
            "colorbar": {
             "outlinewidth": 0,
             "ticks": ""
            },
            "colorscale": [
             [
              0,
              "#0d0887"
             ],
             [
              0.1111111111111111,
              "#46039f"
             ],
             [
              0.2222222222222222,
              "#7201a8"
             ],
             [
              0.3333333333333333,
              "#9c179e"
             ],
             [
              0.4444444444444444,
              "#bd3786"
             ],
             [
              0.5555555555555556,
              "#d8576b"
             ],
             [
              0.6666666666666666,
              "#ed7953"
             ],
             [
              0.7777777777777778,
              "#fb9f3a"
             ],
             [
              0.8888888888888888,
              "#fdca26"
             ],
             [
              1,
              "#f0f921"
             ]
            ],
            "type": "histogram2dcontour"
           }
          ],
          "mesh3d": [
           {
            "colorbar": {
             "outlinewidth": 0,
             "ticks": ""
            },
            "type": "mesh3d"
           }
          ],
          "parcoords": [
           {
            "line": {
             "colorbar": {
              "outlinewidth": 0,
              "ticks": ""
             }
            },
            "type": "parcoords"
           }
          ],
          "pie": [
           {
            "automargin": true,
            "type": "pie"
           }
          ],
          "scatter": [
           {
            "marker": {
             "colorbar": {
              "outlinewidth": 0,
              "ticks": ""
             }
            },
            "type": "scatter"
           }
          ],
          "scatter3d": [
           {
            "line": {
             "colorbar": {
              "outlinewidth": 0,
              "ticks": ""
             }
            },
            "marker": {
             "colorbar": {
              "outlinewidth": 0,
              "ticks": ""
             }
            },
            "type": "scatter3d"
           }
          ],
          "scattercarpet": [
           {
            "marker": {
             "colorbar": {
              "outlinewidth": 0,
              "ticks": ""
             }
            },
            "type": "scattercarpet"
           }
          ],
          "scattergeo": [
           {
            "marker": {
             "colorbar": {
              "outlinewidth": 0,
              "ticks": ""
             }
            },
            "type": "scattergeo"
           }
          ],
          "scattergl": [
           {
            "marker": {
             "colorbar": {
              "outlinewidth": 0,
              "ticks": ""
             }
            },
            "type": "scattergl"
           }
          ],
          "scattermapbox": [
           {
            "marker": {
             "colorbar": {
              "outlinewidth": 0,
              "ticks": ""
             }
            },
            "type": "scattermapbox"
           }
          ],
          "scatterpolar": [
           {
            "marker": {
             "colorbar": {
              "outlinewidth": 0,
              "ticks": ""
             }
            },
            "type": "scatterpolar"
           }
          ],
          "scatterpolargl": [
           {
            "marker": {
             "colorbar": {
              "outlinewidth": 0,
              "ticks": ""
             }
            },
            "type": "scatterpolargl"
           }
          ],
          "scatterternary": [
           {
            "marker": {
             "colorbar": {
              "outlinewidth": 0,
              "ticks": ""
             }
            },
            "type": "scatterternary"
           }
          ],
          "surface": [
           {
            "colorbar": {
             "outlinewidth": 0,
             "ticks": ""
            },
            "colorscale": [
             [
              0,
              "#0d0887"
             ],
             [
              0.1111111111111111,
              "#46039f"
             ],
             [
              0.2222222222222222,
              "#7201a8"
             ],
             [
              0.3333333333333333,
              "#9c179e"
             ],
             [
              0.4444444444444444,
              "#bd3786"
             ],
             [
              0.5555555555555556,
              "#d8576b"
             ],
             [
              0.6666666666666666,
              "#ed7953"
             ],
             [
              0.7777777777777778,
              "#fb9f3a"
             ],
             [
              0.8888888888888888,
              "#fdca26"
             ],
             [
              1,
              "#f0f921"
             ]
            ],
            "type": "surface"
           }
          ],
          "table": [
           {
            "cells": {
             "fill": {
              "color": "#EBF0F8"
             },
             "line": {
              "color": "white"
             }
            },
            "header": {
             "fill": {
              "color": "#C8D4E3"
             },
             "line": {
              "color": "white"
             }
            },
            "type": "table"
           }
          ]
         },
         "layout": {
          "annotationdefaults": {
           "arrowcolor": "#2a3f5f",
           "arrowhead": 0,
           "arrowwidth": 1
          },
          "coloraxis": {
           "colorbar": {
            "outlinewidth": 0,
            "ticks": ""
           }
          },
          "colorscale": {
           "diverging": [
            [
             0,
             "#8e0152"
            ],
            [
             0.1,
             "#c51b7d"
            ],
            [
             0.2,
             "#de77ae"
            ],
            [
             0.3,
             "#f1b6da"
            ],
            [
             0.4,
             "#fde0ef"
            ],
            [
             0.5,
             "#f7f7f7"
            ],
            [
             0.6,
             "#e6f5d0"
            ],
            [
             0.7,
             "#b8e186"
            ],
            [
             0.8,
             "#7fbc41"
            ],
            [
             0.9,
             "#4d9221"
            ],
            [
             1,
             "#276419"
            ]
           ],
           "sequential": [
            [
             0,
             "#0d0887"
            ],
            [
             0.1111111111111111,
             "#46039f"
            ],
            [
             0.2222222222222222,
             "#7201a8"
            ],
            [
             0.3333333333333333,
             "#9c179e"
            ],
            [
             0.4444444444444444,
             "#bd3786"
            ],
            [
             0.5555555555555556,
             "#d8576b"
            ],
            [
             0.6666666666666666,
             "#ed7953"
            ],
            [
             0.7777777777777778,
             "#fb9f3a"
            ],
            [
             0.8888888888888888,
             "#fdca26"
            ],
            [
             1,
             "#f0f921"
            ]
           ],
           "sequentialminus": [
            [
             0,
             "#0d0887"
            ],
            [
             0.1111111111111111,
             "#46039f"
            ],
            [
             0.2222222222222222,
             "#7201a8"
            ],
            [
             0.3333333333333333,
             "#9c179e"
            ],
            [
             0.4444444444444444,
             "#bd3786"
            ],
            [
             0.5555555555555556,
             "#d8576b"
            ],
            [
             0.6666666666666666,
             "#ed7953"
            ],
            [
             0.7777777777777778,
             "#fb9f3a"
            ],
            [
             0.8888888888888888,
             "#fdca26"
            ],
            [
             1,
             "#f0f921"
            ]
           ]
          },
          "colorway": [
           "#636efa",
           "#EF553B",
           "#00cc96",
           "#ab63fa",
           "#FFA15A",
           "#19d3f3",
           "#FF6692",
           "#B6E880",
           "#FF97FF",
           "#FECB52"
          ],
          "font": {
           "color": "#2a3f5f"
          },
          "geo": {
           "bgcolor": "white",
           "lakecolor": "white",
           "landcolor": "#E5ECF6",
           "showlakes": true,
           "showland": true,
           "subunitcolor": "white"
          },
          "hoverlabel": {
           "align": "left"
          },
          "hovermode": "closest",
          "mapbox": {
           "style": "light"
          },
          "paper_bgcolor": "white",
          "plot_bgcolor": "#E5ECF6",
          "polar": {
           "angularaxis": {
            "gridcolor": "white",
            "linecolor": "white",
            "ticks": ""
           },
           "bgcolor": "#E5ECF6",
           "radialaxis": {
            "gridcolor": "white",
            "linecolor": "white",
            "ticks": ""
           }
          },
          "scene": {
           "xaxis": {
            "backgroundcolor": "#E5ECF6",
            "gridcolor": "white",
            "gridwidth": 2,
            "linecolor": "white",
            "showbackground": true,
            "ticks": "",
            "zerolinecolor": "white"
           },
           "yaxis": {
            "backgroundcolor": "#E5ECF6",
            "gridcolor": "white",
            "gridwidth": 2,
            "linecolor": "white",
            "showbackground": true,
            "ticks": "",
            "zerolinecolor": "white"
           },
           "zaxis": {
            "backgroundcolor": "#E5ECF6",
            "gridcolor": "white",
            "gridwidth": 2,
            "linecolor": "white",
            "showbackground": true,
            "ticks": "",
            "zerolinecolor": "white"
           }
          },
          "shapedefaults": {
           "line": {
            "color": "#2a3f5f"
           }
          },
          "ternary": {
           "aaxis": {
            "gridcolor": "white",
            "linecolor": "white",
            "ticks": ""
           },
           "baxis": {
            "gridcolor": "white",
            "linecolor": "white",
            "ticks": ""
           },
           "bgcolor": "#E5ECF6",
           "caxis": {
            "gridcolor": "white",
            "linecolor": "white",
            "ticks": ""
           }
          },
          "title": {
           "x": 0.05
          },
          "xaxis": {
           "automargin": true,
           "gridcolor": "white",
           "linecolor": "white",
           "ticks": "",
           "title": {
            "standoff": 15
           },
           "zerolinecolor": "white",
           "zerolinewidth": 2
          },
          "yaxis": {
           "automargin": true,
           "gridcolor": "white",
           "linecolor": "white",
           "ticks": "",
           "title": {
            "standoff": 15
           },
           "zerolinecolor": "white",
           "zerolinewidth": 2
          }
         }
        },
        "title": {
         "text": "Experience Feature Debt Percentage Per Month"
        },
        "xaxis": {
         "anchor": "y",
         "domain": [
          0,
          1
         ],
         "title": {
          "text": "month"
         }
        },
        "yaxis": {
         "anchor": "x",
         "domain": [
          0,
          1
         ],
         "title": {
          "text": "exp_debt_per"
         }
        }
       }
      },
      "text/html": [
       "<div>                            <div id=\"a56f6707-13c6-425b-9281-2861d8e6ecd0\" class=\"plotly-graph-div\" style=\"height:525px; width:100%;\"></div>            <script type=\"text/javascript\">                require([\"plotly\"], function(Plotly) {                    window.PLOTLYENV=window.PLOTLYENV || {};                                    if (document.getElementById(\"a56f6707-13c6-425b-9281-2861d8e6ecd0\")) {                    Plotly.newPlot(                        \"a56f6707-13c6-425b-9281-2861d8e6ecd0\",                        [{\"alignmentgroup\": \"True\", \"hovertemplate\": \"Feature=Cancel order<br>month=%{x}<br>exp_debt_per=%{y}<extra></extra>\", \"legendgroup\": \"Cancel order\", \"marker\": {\"color\": \"#636efa\"}, \"name\": \"Cancel order\", \"offsetgroup\": \"Cancel order\", \"orientation\": \"v\", \"showlegend\": true, \"textposition\": \"auto\", \"type\": \"bar\", \"x\": [\"2020-01\", \"2020-02\", \"2020-03\", \"2020-04\", \"2020-05\", \"2020-06\", \"2020-07\", \"2020-08\", \"2020-09\", \"2020-10\", \"2020-11\", \"2020-12\"], \"xaxis\": \"x\", \"y\": [0.06181269373699804, 0.05082704538428019, 0.05407405951767795, 0.06237026010951484, 0.05866495690571268, 0.05893805531251812, 0.057397968101247074, 0.06464473157181871, 0.06317640723369604, 0.05464778378718296, 0.05911755170841762, 0.05811549803330243], \"yaxis\": \"y\"}, {\"alignmentgroup\": \"True\", \"hovertemplate\": \"Feature=Dashboard<br>month=%{x}<br>exp_debt_per=%{y}<extra></extra>\", \"legendgroup\": \"Dashboard\", \"marker\": {\"color\": \"#EF553B\"}, \"name\": \"Dashboard\", \"offsetgroup\": \"Dashboard\", \"orientation\": \"v\", \"showlegend\": true, \"textposition\": \"auto\", \"type\": \"bar\", \"x\": [\"2020-01\", \"2020-01\", \"2020-01\", \"2020-01\", \"2020-01\", \"2020-01\", \"2020-02\", \"2020-02\", \"2020-02\", \"2020-02\", \"2020-02\", \"2020-02\", \"2020-03\", \"2020-03\", \"2020-03\", \"2020-03\", \"2020-03\", \"2020-03\", \"2020-04\", \"2020-04\", \"2020-04\", \"2020-04\", \"2020-04\", \"2020-04\", \"2020-05\", \"2020-05\", \"2020-05\", \"2020-05\", \"2020-05\", \"2020-05\", \"2020-06\", \"2020-06\", \"2020-06\", \"2020-06\", \"2020-06\", \"2020-06\", \"2020-07\", \"2020-07\", \"2020-07\", \"2020-07\", \"2020-07\", \"2020-07\", \"2020-08\", \"2020-08\", \"2020-08\", \"2020-08\", \"2020-08\", \"2020-08\", \"2020-09\", \"2020-09\", \"2020-09\", \"2020-09\", \"2020-09\", \"2020-09\", \"2020-10\", \"2020-10\", \"2020-10\", \"2020-10\", \"2020-10\", \"2020-10\", \"2020-11\", \"2020-11\", \"2020-11\", \"2020-11\", \"2020-11\", \"2020-11\", \"2020-12\", \"2020-12\", \"2020-12\", \"2020-12\", \"2020-12\", \"2020-12\"], \"xaxis\": \"x\", \"y\": [0.0, 0.0, 0.0007587969006019316, 0.0007587969006019316, 0.0045643968144250344, 0.0045643968144250344, 0.0, 0.0, 0.0003878812992796099, 0.0003878812992796099, 0.004289090588796769, 0.004289090588796769, 0.0, 0.0, 0.000499986865643034, 0.000499986865643034, 0.004289778082298207, 0.004289778082298207, 0.0, 0.0, 0.0005091400838626158, 0.0005091400838626158, 0.004371717002267213, 0.004371717002267213, 0.0, 0.0, 0.0005875365806837125, 0.0005875365806837125, 0.004354986447259289, 0.004354986447259289, 0.0, 0.0, 0.00047065950344960303, 0.00047065950344960303, 0.004251599075639166, 0.004251599075639166, 0.0, 0.0, 0.0006501830526342748, 0.0006501830526342748, 0.004398412248459418, 0.004398412248459418, 0.0, 0.0, 0.0005068321559633504, 0.0005068321559633504, 0.004323199620975321, 0.004323199620975321, 0.0, 0.0, 0.0004617873994311971, 0.0004617873994311971, 0.004175536988524777, 0.004175536988524777, 0.0, 0.0, 0.0005290773588991363, 0.0005290773588991363, 0.004264385084572138, 0.004264385084572138, 0.0, 0.0, 0.0006534470059946667, 0.0006534470059946667, 0.004501371202244499, 0.004501371202244499, 0.0, 0.0, 0.0006024909854402862, 0.0006024909854402862, 0.00438886471231105, 0.00438886471231105], \"yaxis\": \"y\"}, {\"alignmentgroup\": \"True\", \"hovertemplate\": \"Feature=Delete item in shopping cart<br>month=%{x}<br>exp_debt_per=%{y}<extra></extra>\", \"legendgroup\": \"Delete item in shopping cart\", \"marker\": {\"color\": \"#00cc96\"}, \"name\": \"Delete item in shopping cart\", \"offsetgroup\": \"Delete item in shopping cart\", \"orientation\": \"v\", \"showlegend\": true, \"textposition\": \"auto\", \"type\": \"bar\", \"x\": [\"2020-01\", \"2020-02\", \"2020-03\", \"2020-04\", \"2020-05\", \"2020-06\", \"2020-07\", \"2020-08\", \"2020-09\", \"2020-10\", \"2020-11\", \"2020-12\"], \"xaxis\": \"x\", \"y\": [0.06330131726414706, 0.06527506887848031, 0.067193929652828, 0.06425128974438682, 0.060038584056363795, 0.06488310825768122, 0.06583223993541316, 0.06895701877728071, 0.06629592125342079, 0.06483321155680903, 0.06780108532329888, 0.06515584291489517], \"yaxis\": \"y\"}, {\"alignmentgroup\": \"True\", \"hovertemplate\": \"Feature=Display Points<br>month=%{x}<br>exp_debt_per=%{y}<extra></extra>\", \"legendgroup\": \"Display Points\", \"marker\": {\"color\": \"#ab63fa\"}, \"name\": \"Display Points\", \"offsetgroup\": \"Display Points\", \"orientation\": \"v\", \"showlegend\": true, \"textposition\": \"auto\", \"type\": \"bar\", \"x\": [\"2020-01\", \"2020-01\", \"2020-02\", \"2020-02\", \"2020-03\", \"2020-03\", \"2020-04\", \"2020-04\", \"2020-05\", \"2020-05\", \"2020-06\", \"2020-06\", \"2020-07\", \"2020-07\", \"2020-08\", \"2020-08\", \"2020-09\", \"2020-09\", \"2020-10\", \"2020-10\", \"2020-11\", \"2020-11\", \"2020-12\", \"2020-12\"], \"xaxis\": \"x\", \"y\": [0.05060679627794996, 0.05441239619177306, 0.05428430449944139, 0.05818551378895855, 0.052172940877637554, 0.05596273209429273, 0.05507177053594101, 0.05893434745434561, 0.06162183698498121, 0.06538928685155679, 0.05953400464961716, 0.06331494422180672, 0.057417864631359804, 0.06116609382718494, 0.05505388443639996, 0.05887025190141194, 0.05785607589672585, 0.061569825485819435, 0.05562174047431927, 0.05935704819999227, 0.0561499812150441, 0.05999790541129394, 0.0545186243310641, 0.05830499805793486], \"yaxis\": \"y\"}, {\"alignmentgroup\": \"True\", \"hovertemplate\": \"Feature=Display Profile<br>month=%{x}<br>exp_debt_per=%{y}<extra></extra>\", \"legendgroup\": \"Display Profile\", \"marker\": {\"color\": \"#FFA15A\"}, \"name\": \"Display Profile\", \"offsetgroup\": \"Display Profile\", \"orientation\": \"v\", \"showlegend\": true, \"textposition\": \"auto\", \"type\": \"bar\", \"x\": [\"2020-01\", \"2020-01\", \"2020-02\", \"2020-02\", \"2020-03\", \"2020-03\", \"2020-04\", \"2020-04\", \"2020-05\", \"2020-05\", \"2020-06\", \"2020-06\", \"2020-07\", \"2020-07\", \"2020-08\", \"2020-08\", \"2020-09\", \"2020-09\", \"2020-10\", \"2020-10\", \"2020-11\", \"2020-11\", \"2020-12\", \"2020-12\"], \"xaxis\": \"x\", \"y\": [0.05579667453552444, 0.05579667453552444, 0.05851586610003432, 0.05851586610003432, 0.05547933679766051, 0.05547933679766051, 0.059226669548805504, 0.059226669548805504, 0.05799428599694683, 0.05799428599694683, 0.052507250381434514, 0.052507250381434514, 0.057356966408317285, 0.057356966408317285, 0.05782327880528657, 0.05782327880528657, 0.0549817854405249, 0.0549817854405249, 0.05940647899250725, 0.05940647899250725, 0.05664747244086146, 0.05664747244086146, 0.06044107272574197, 0.06044107272574197], \"yaxis\": \"y\"}, {\"alignmentgroup\": \"True\", \"hovertemplate\": \"Feature=Display shopping cart<br>month=%{x}<br>exp_debt_per=%{y}<extra></extra>\", \"legendgroup\": \"Display shopping cart\", \"marker\": {\"color\": \"#19d3f3\"}, \"name\": \"Display shopping cart\", \"offsetgroup\": \"Display shopping cart\", \"orientation\": \"v\", \"showlegend\": true, \"textposition\": \"auto\", \"type\": \"bar\", \"x\": [\"2020-01\", \"2020-02\", \"2020-03\", \"2020-04\", \"2020-05\", \"2020-06\", \"2020-07\", \"2020-08\", \"2020-09\", \"2020-10\", \"2020-11\", \"2020-12\"], \"xaxis\": \"x\", \"y\": [0.05654418926320092, 0.06085470104011756, 0.067193929652828, 0.05743623770498843, 0.05905215366067807, 0.06488310825768122, 0.06488748819706187, 0.062244083520147826, 0.05472721435452187, 0.06483321155680903, 0.05912487413086666, 0.06515584291489517], \"yaxis\": \"y\"}, {\"alignmentgroup\": \"True\", \"hovertemplate\": \"Feature=Login<br>month=%{x}<br>exp_debt_per=%{y}<extra></extra>\", \"legendgroup\": \"Login\", \"marker\": {\"color\": \"#FF6692\"}, \"name\": \"Login\", \"offsetgroup\": \"Login\", \"orientation\": \"v\", \"showlegend\": true, \"textposition\": \"auto\", \"type\": \"bar\", \"x\": [\"2020-01\", \"2020-01\", \"2020-01\", \"2020-01\", \"2020-01\", \"2020-01\", \"2020-01\", \"2020-01\", \"2020-02\", \"2020-02\", \"2020-02\", \"2020-02\", \"2020-02\", \"2020-02\", \"2020-02\", \"2020-02\", \"2020-03\", \"2020-03\", \"2020-03\", \"2020-03\", \"2020-03\", \"2020-03\", \"2020-03\", \"2020-03\", \"2020-04\", \"2020-04\", \"2020-04\", \"2020-04\", \"2020-04\", \"2020-04\", \"2020-04\", \"2020-04\", \"2020-05\", \"2020-05\", \"2020-05\", \"2020-05\", \"2020-05\", \"2020-05\", \"2020-05\", \"2020-05\", \"2020-06\", \"2020-06\", \"2020-06\", \"2020-06\", \"2020-06\", \"2020-06\", \"2020-06\", \"2020-06\", \"2020-07\", \"2020-07\", \"2020-07\", \"2020-07\", \"2020-07\", \"2020-07\", \"2020-07\", \"2020-07\", \"2020-08\", \"2020-08\", \"2020-08\", \"2020-08\", \"2020-08\", \"2020-08\", \"2020-08\", \"2020-08\", \"2020-09\", \"2020-09\", \"2020-09\", \"2020-09\", \"2020-09\", \"2020-09\", \"2020-09\", \"2020-09\", \"2020-10\", \"2020-10\", \"2020-10\", \"2020-10\", \"2020-10\", \"2020-10\", \"2020-10\", \"2020-10\", \"2020-11\", \"2020-11\", \"2020-11\", \"2020-11\", \"2020-11\", \"2020-11\", \"2020-11\", \"2020-11\", \"2020-12\", \"2020-12\", \"2020-12\", \"2020-12\", \"2020-12\", \"2020-12\", \"2020-12\", \"2020-12\"], \"xaxis\": \"x\", \"y\": [0.0, 0.0, 0.00041554810763465804, 0.00041554810763465804, 0.00041554810763465804, 0.004221148021457761, 0.004221148021457761, 0.004221148021457761, 0.0, 0.0, 0.00031854649591574305, 0.00031854649591574305, 0.00031854649591574305, 0.004219755785432902, 0.004219755785432902, 0.004219755785432902, 0.0, 0.0, 0.00046841557386724866, 0.00046841557386724866, 0.00046841557386724866, 0.0042582067905224215, 0.0042582067905224215, 0.0042582067905224215, 0.0, 0.0, 0.0005747648228712768, 0.0005747648228712768, 0.0005747648228712768, 0.004437341741275874, 0.004437341741275874, 0.004437341741275874, 0.0, 0.0, 0.0005165027690298737, 0.0005165027690298737, 0.0005165027690298737, 0.004283952635605451, 0.004283952635605451, 0.004283952635605451, 0.0, 0.0, 0.00046838951336877424, 0.00046838951336877424, 0.00046838951336877424, 0.004249329085558337, 0.004249329085558337, 0.004249329085558337, 0.0, 0.0, 0.000590529734456114, 0.000590529734456114, 0.000590529734456114, 0.004338758930281256, 0.004338758930281256, 0.004338758930281256, 0.0, 0.0, 0.000653177308510657, 0.000653177308510657, 0.000653177308510657, 0.004469544773522628, 0.004469544773522628, 0.004469544773522628, 0.0, 0.0, 0.0005128336026566186, 0.0005128336026566186, 0.0005128336026566186, 0.004226583191750199, 0.004226583191750199, 0.004226583191750199, 0.0, 0.0, 0.000522790048408477, 0.000522790048408477, 0.000522790048408477, 0.004258097774081479, 0.004258097774081479, 0.004258097774081479, 0.0, 0.0, 0.0004410737449521015, 0.0004410737449521015, 0.0004410737449521015, 0.004288997941201933, 0.004288997941201933, 0.004288997941201933, 0.0, 0.0, 0.0005114114144193338, 0.0005114114144193338, 0.0005114114144193338, 0.004297785141290097, 0.004297785141290097, 0.004297785141290097], \"yaxis\": \"y\"}, {\"alignmentgroup\": \"True\", \"hovertemplate\": \"Feature=Onboarding<br>month=%{x}<br>exp_debt_per=%{y}<extra></extra>\", \"legendgroup\": \"Onboarding\", \"marker\": {\"color\": \"#B6E880\"}, \"name\": \"Onboarding\", \"offsetgroup\": \"Onboarding\", \"orientation\": \"v\", \"showlegend\": true, \"textposition\": \"auto\", \"type\": \"bar\", \"x\": [\"2020-01\", \"2020-02\", \"2020-03\", \"2020-04\", \"2020-05\", \"2020-06\", \"2020-07\", \"2020-08\", \"2020-09\", \"2020-10\", \"2020-11\", \"2020-12\"], \"xaxis\": \"x\", \"y\": [0.058345700317487634, 0.06202016056898624, 0.05816524798771124, 0.061366628746336756, 0.06085096920057045, 0.062130507225098594, 0.06376249864817557, 0.06075447925057318, 0.05979922425847346, 0.06322382801608988, 0.06638572165154612, 0.06549509386279427], \"yaxis\": \"y\"}, {\"alignmentgroup\": \"True\", \"hovertemplate\": \"Feature=Recuperate Password<br>month=%{x}<br>exp_debt_per=%{y}<extra></extra>\", \"legendgroup\": \"Recuperate Password\", \"marker\": {\"color\": \"#FF97FF\"}, \"name\": \"Recuperate Password\", \"offsetgroup\": \"Recuperate Password\", \"orientation\": \"v\", \"showlegend\": true, \"textposition\": \"auto\", \"type\": \"bar\", \"x\": [\"2020-01\", \"2020-02\", \"2020-03\", \"2020-04\", \"2020-05\", \"2020-06\", \"2020-07\", \"2020-08\", \"2020-09\", \"2020-10\", \"2020-11\", \"2020-12\"], \"xaxis\": \"x\", \"y\": [0.06874020016011298, 0.0636308448545805, 0.06327237660828633, 0.06289979498181064, 0.06250309380431539, 0.06091087899966639, 0.06691382763850895, 0.06378616966277452, 0.06552410991943178, 0.06529464542524521, 0.06970351148838226, 0.061393098821514044], \"yaxis\": \"y\"}, {\"alignmentgroup\": \"True\", \"hovertemplate\": \"Feature=Reward Points<br>month=%{x}<br>exp_debt_per=%{y}<extra></extra>\", \"legendgroup\": \"Reward Points\", \"marker\": {\"color\": \"#FECB52\"}, \"name\": \"Reward Points\", \"offsetgroup\": \"Reward Points\", \"orientation\": \"v\", \"showlegend\": true, \"textposition\": \"auto\", \"type\": \"bar\", \"x\": [\"2020-01\", \"2020-02\", \"2020-03\", \"2020-04\", \"2020-05\", \"2020-06\", \"2020-07\", \"2020-08\", \"2020-09\", \"2020-10\", \"2020-11\", \"2020-12\"], \"xaxis\": \"x\", \"y\": [0.062499106495913316, 0.06076045156490037, 0.05990049404120985, 0.06347201254581943, 0.06162183698498121, 0.06133626785368828, 0.05919689680652348, 0.05878527055471403, 0.05810605672101268, 0.056781522782389085, 0.058185740971417044, 0.05946191387309377], \"yaxis\": \"y\"}, {\"alignmentgroup\": \"True\", \"hovertemplate\": \"Feature=Save item in shopping cart<br>month=%{x}<br>exp_debt_per=%{y}<extra></extra>\", \"legendgroup\": \"Save item in shopping cart\", \"marker\": {\"color\": \"#636efa\"}, \"name\": \"Save item in shopping cart\", \"offsetgroup\": \"Save item in shopping cart\", \"orientation\": \"v\", \"showlegend\": true, \"textposition\": \"auto\", \"type\": \"bar\", \"x\": [\"2020-01\", \"2020-02\", \"2020-03\", \"2020-04\", \"2020-05\", \"2020-06\", \"2020-07\", \"2020-08\", \"2020-09\", \"2020-10\", \"2020-11\", \"2020-12\"], \"xaxis\": \"x\", \"y\": [0.06403903992245803, 0.06709870790400181, 0.0685356361401381, 0.06010517663655633, 0.06737231668336657, 0.06387441771701455, 0.0658579944795796, 0.06165847781029941, 0.06771466921034905, 0.06457199666820944, 0.06555533174657917, 0.06191098428599881], \"yaxis\": \"y\"}, {\"alignmentgroup\": \"True\", \"hovertemplate\": \"Feature=Search product<br>month=%{x}<br>exp_debt_per=%{y}<extra></extra>\", \"legendgroup\": \"Search product\", \"marker\": {\"color\": \"#EF553B\"}, \"name\": \"Search product\", \"offsetgroup\": \"Search product\", \"orientation\": \"v\", \"showlegend\": true, \"textposition\": \"auto\", \"type\": \"bar\", \"x\": [\"2020-01\", \"2020-02\", \"2020-03\", \"2020-04\", \"2020-05\", \"2020-06\", \"2020-07\", \"2020-08\", \"2020-09\", \"2020-10\", \"2020-11\", \"2020-12\"], \"xaxis\": \"x\", \"y\": [0.0626019086322879, 0.06130920039928142, 0.06512924416628287, 0.06469745793491187, 0.05968902246077524, 0.06332635075770568, 0.06113971847054722, 0.0621306777905975, 0.06319875117144141, 0.0660650074136821, 0.05886324181472157, 0.06173886150422941], \"yaxis\": \"y\"}, {\"alignmentgroup\": \"True\", \"hovertemplate\": \"Feature=Update number of items in shopping cart<br>month=%{x}<br>exp_debt_per=%{y}<extra></extra>\", \"legendgroup\": \"Update number of items in shopping cart\", \"marker\": {\"color\": \"#00cc96\"}, \"name\": \"Update number of items in shopping cart\", \"offsetgroup\": \"Update number of items in shopping cart\", \"orientation\": \"v\", \"showlegend\": true, \"textposition\": \"auto\", \"type\": \"bar\", \"x\": [\"2020-01\", \"2020-01\", \"2020-02\", \"2020-02\", \"2020-03\", \"2020-03\", \"2020-04\", \"2020-04\", \"2020-05\", \"2020-05\", \"2020-06\", \"2020-06\", \"2020-07\", \"2020-07\", \"2020-08\", \"2020-08\", \"2020-09\", \"2020-09\", \"2020-10\", \"2020-10\", \"2020-11\", \"2020-11\", \"2020-12\", \"2020-12\"], \"xaxis\": \"x\", \"y\": [0.06403903992245803, 0.06403903992245803, 0.06709870790400181, 0.06709870790400181, 0.0685356361401381, 0.0685356361401381, 0.06010517663655633, 0.06010517663655633, 0.061865526388037606, 0.061865526388037606, 0.06488310825768122, 0.06488310825768122, 0.0658579944795796, 0.0658579944795796, 0.062244083520147826, 0.062244083520147826, 0.06771466921034905, 0.06771466921034905, 0.06483321155680903, 0.06483321155680903, 0.06555533174657917, 0.06555533174657917, 0.06515584291489517, 0.06515584291489517], \"yaxis\": \"y\"}, {\"alignmentgroup\": \"True\", \"hovertemplate\": \"Feature=Update password<br>month=%{x}<br>exp_debt_per=%{y}<extra></extra>\", \"legendgroup\": \"Update password\", \"marker\": {\"color\": \"#ab63fa\"}, \"name\": \"Update password\", \"offsetgroup\": \"Update password\", \"orientation\": \"v\", \"showlegend\": true, \"textposition\": \"auto\", \"type\": \"bar\", \"x\": [\"2020-01\", \"2020-02\", \"2020-03\", \"2020-04\", \"2020-05\", \"2020-06\", \"2020-07\", \"2020-08\", \"2020-09\", \"2020-10\", \"2020-11\", \"2020-12\"], \"xaxis\": \"x\", \"y\": [0.06566836467444309, 0.062380641464643984, 0.06360335557486657, 0.05774216646764007, 0.05514370786225289, 0.05828891721454652, 0.048504770405929105, 0.05864944977164988, 0.05486231191626854, 0.05631440380284321, 0.05446124686673936, 0.05639034173798058], \"yaxis\": \"y\"}, {\"alignmentgroup\": \"True\", \"hovertemplate\": \"Feature=list orders<br>month=%{x}<br>exp_debt_per=%{y}<extra></extra>\", \"legendgroup\": \"list orders\", \"marker\": {\"color\": \"#FFA15A\"}, \"name\": \"list orders\", \"offsetgroup\": \"list orders\", \"orientation\": \"v\", \"showlegend\": true, \"textposition\": \"auto\", \"type\": \"bar\", \"x\": [\"2020-01\", \"2020-02\", \"2020-03\", \"2020-04\", \"2020-05\", \"2020-06\", \"2020-07\", \"2020-08\", \"2020-09\", \"2020-10\", \"2020-11\", \"2020-12\"], \"xaxis\": \"x\", \"y\": [0.06720038232993217, 0.059175361024056745, 0.05300671082159223, 0.06819113090232344, 0.06404619750468477, 0.060201049299785106, 0.0566076604862758, 0.05930255050148631, 0.05828362411795878, 0.05604663086338355, 0.05574834782187176, 0.05675476731839227], \"yaxis\": \"y\"}],                        {\"barmode\": \"relative\", \"legend\": {\"title\": {\"text\": \"Feature\"}, \"tracegroupgap\": 0}, \"template\": {\"data\": {\"bar\": [{\"error_x\": {\"color\": \"#2a3f5f\"}, \"error_y\": {\"color\": \"#2a3f5f\"}, \"marker\": {\"line\": {\"color\": \"#E5ECF6\", \"width\": 0.5}}, \"type\": \"bar\"}], \"barpolar\": [{\"marker\": {\"line\": {\"color\": \"#E5ECF6\", \"width\": 0.5}}, \"type\": \"barpolar\"}], \"carpet\": [{\"aaxis\": {\"endlinecolor\": \"#2a3f5f\", \"gridcolor\": \"white\", \"linecolor\": \"white\", \"minorgridcolor\": \"white\", \"startlinecolor\": \"#2a3f5f\"}, \"baxis\": {\"endlinecolor\": \"#2a3f5f\", \"gridcolor\": \"white\", \"linecolor\": \"white\", \"minorgridcolor\": \"white\", \"startlinecolor\": \"#2a3f5f\"}, \"type\": \"carpet\"}], \"choropleth\": [{\"colorbar\": {\"outlinewidth\": 0, \"ticks\": \"\"}, \"type\": \"choropleth\"}], \"contour\": [{\"colorbar\": {\"outlinewidth\": 0, \"ticks\": \"\"}, \"colorscale\": [[0.0, \"#0d0887\"], [0.1111111111111111, \"#46039f\"], [0.2222222222222222, \"#7201a8\"], [0.3333333333333333, \"#9c179e\"], [0.4444444444444444, \"#bd3786\"], [0.5555555555555556, \"#d8576b\"], [0.6666666666666666, \"#ed7953\"], [0.7777777777777778, \"#fb9f3a\"], [0.8888888888888888, \"#fdca26\"], [1.0, \"#f0f921\"]], \"type\": \"contour\"}], \"contourcarpet\": [{\"colorbar\": {\"outlinewidth\": 0, \"ticks\": \"\"}, \"type\": \"contourcarpet\"}], \"heatmap\": [{\"colorbar\": {\"outlinewidth\": 0, \"ticks\": \"\"}, \"colorscale\": [[0.0, \"#0d0887\"], [0.1111111111111111, \"#46039f\"], [0.2222222222222222, \"#7201a8\"], [0.3333333333333333, \"#9c179e\"], [0.4444444444444444, \"#bd3786\"], [0.5555555555555556, \"#d8576b\"], [0.6666666666666666, \"#ed7953\"], [0.7777777777777778, \"#fb9f3a\"], [0.8888888888888888, \"#fdca26\"], [1.0, \"#f0f921\"]], \"type\": \"heatmap\"}], \"heatmapgl\": [{\"colorbar\": {\"outlinewidth\": 0, \"ticks\": \"\"}, \"colorscale\": [[0.0, \"#0d0887\"], [0.1111111111111111, \"#46039f\"], [0.2222222222222222, \"#7201a8\"], [0.3333333333333333, \"#9c179e\"], [0.4444444444444444, \"#bd3786\"], [0.5555555555555556, \"#d8576b\"], [0.6666666666666666, \"#ed7953\"], [0.7777777777777778, \"#fb9f3a\"], [0.8888888888888888, \"#fdca26\"], [1.0, \"#f0f921\"]], \"type\": \"heatmapgl\"}], \"histogram\": [{\"marker\": {\"colorbar\": {\"outlinewidth\": 0, \"ticks\": \"\"}}, \"type\": \"histogram\"}], \"histogram2d\": [{\"colorbar\": {\"outlinewidth\": 0, \"ticks\": \"\"}, \"colorscale\": [[0.0, \"#0d0887\"], [0.1111111111111111, \"#46039f\"], [0.2222222222222222, \"#7201a8\"], [0.3333333333333333, \"#9c179e\"], [0.4444444444444444, \"#bd3786\"], [0.5555555555555556, \"#d8576b\"], [0.6666666666666666, \"#ed7953\"], [0.7777777777777778, \"#fb9f3a\"], [0.8888888888888888, \"#fdca26\"], [1.0, \"#f0f921\"]], \"type\": \"histogram2d\"}], \"histogram2dcontour\": [{\"colorbar\": {\"outlinewidth\": 0, \"ticks\": \"\"}, \"colorscale\": [[0.0, \"#0d0887\"], [0.1111111111111111, \"#46039f\"], [0.2222222222222222, \"#7201a8\"], [0.3333333333333333, \"#9c179e\"], [0.4444444444444444, \"#bd3786\"], [0.5555555555555556, \"#d8576b\"], [0.6666666666666666, \"#ed7953\"], [0.7777777777777778, \"#fb9f3a\"], [0.8888888888888888, \"#fdca26\"], [1.0, \"#f0f921\"]], \"type\": \"histogram2dcontour\"}], \"mesh3d\": [{\"colorbar\": {\"outlinewidth\": 0, \"ticks\": \"\"}, \"type\": \"mesh3d\"}], \"parcoords\": [{\"line\": {\"colorbar\": {\"outlinewidth\": 0, \"ticks\": \"\"}}, \"type\": \"parcoords\"}], \"pie\": [{\"automargin\": true, \"type\": \"pie\"}], \"scatter\": [{\"marker\": {\"colorbar\": {\"outlinewidth\": 0, \"ticks\": \"\"}}, \"type\": \"scatter\"}], \"scatter3d\": [{\"line\": {\"colorbar\": {\"outlinewidth\": 0, \"ticks\": \"\"}}, \"marker\": {\"colorbar\": {\"outlinewidth\": 0, \"ticks\": \"\"}}, \"type\": \"scatter3d\"}], \"scattercarpet\": [{\"marker\": {\"colorbar\": {\"outlinewidth\": 0, \"ticks\": \"\"}}, \"type\": \"scattercarpet\"}], \"scattergeo\": [{\"marker\": {\"colorbar\": {\"outlinewidth\": 0, \"ticks\": \"\"}}, \"type\": \"scattergeo\"}], \"scattergl\": [{\"marker\": {\"colorbar\": {\"outlinewidth\": 0, \"ticks\": \"\"}}, \"type\": \"scattergl\"}], \"scattermapbox\": [{\"marker\": {\"colorbar\": {\"outlinewidth\": 0, \"ticks\": \"\"}}, \"type\": \"scattermapbox\"}], \"scatterpolar\": [{\"marker\": {\"colorbar\": {\"outlinewidth\": 0, \"ticks\": \"\"}}, \"type\": \"scatterpolar\"}], \"scatterpolargl\": [{\"marker\": {\"colorbar\": {\"outlinewidth\": 0, \"ticks\": \"\"}}, \"type\": \"scatterpolargl\"}], \"scatterternary\": [{\"marker\": {\"colorbar\": {\"outlinewidth\": 0, \"ticks\": \"\"}}, \"type\": \"scatterternary\"}], \"surface\": [{\"colorbar\": {\"outlinewidth\": 0, \"ticks\": \"\"}, \"colorscale\": [[0.0, \"#0d0887\"], [0.1111111111111111, \"#46039f\"], [0.2222222222222222, \"#7201a8\"], [0.3333333333333333, \"#9c179e\"], [0.4444444444444444, \"#bd3786\"], [0.5555555555555556, \"#d8576b\"], [0.6666666666666666, \"#ed7953\"], [0.7777777777777778, \"#fb9f3a\"], [0.8888888888888888, \"#fdca26\"], [1.0, \"#f0f921\"]], \"type\": \"surface\"}], \"table\": [{\"cells\": {\"fill\": {\"color\": \"#EBF0F8\"}, \"line\": {\"color\": \"white\"}}, \"header\": {\"fill\": {\"color\": \"#C8D4E3\"}, \"line\": {\"color\": \"white\"}}, \"type\": \"table\"}]}, \"layout\": {\"annotationdefaults\": {\"arrowcolor\": \"#2a3f5f\", \"arrowhead\": 0, \"arrowwidth\": 1}, \"coloraxis\": {\"colorbar\": {\"outlinewidth\": 0, \"ticks\": \"\"}}, \"colorscale\": {\"diverging\": [[0, \"#8e0152\"], [0.1, \"#c51b7d\"], [0.2, \"#de77ae\"], [0.3, \"#f1b6da\"], [0.4, \"#fde0ef\"], [0.5, \"#f7f7f7\"], [0.6, \"#e6f5d0\"], [0.7, \"#b8e186\"], [0.8, \"#7fbc41\"], [0.9, \"#4d9221\"], [1, \"#276419\"]], \"sequential\": [[0.0, \"#0d0887\"], [0.1111111111111111, \"#46039f\"], [0.2222222222222222, \"#7201a8\"], [0.3333333333333333, \"#9c179e\"], [0.4444444444444444, \"#bd3786\"], [0.5555555555555556, \"#d8576b\"], [0.6666666666666666, \"#ed7953\"], [0.7777777777777778, \"#fb9f3a\"], [0.8888888888888888, \"#fdca26\"], [1.0, \"#f0f921\"]], \"sequentialminus\": [[0.0, \"#0d0887\"], [0.1111111111111111, \"#46039f\"], [0.2222222222222222, \"#7201a8\"], [0.3333333333333333, \"#9c179e\"], [0.4444444444444444, \"#bd3786\"], [0.5555555555555556, \"#d8576b\"], [0.6666666666666666, \"#ed7953\"], [0.7777777777777778, \"#fb9f3a\"], [0.8888888888888888, \"#fdca26\"], [1.0, \"#f0f921\"]]}, \"colorway\": [\"#636efa\", \"#EF553B\", \"#00cc96\", \"#ab63fa\", \"#FFA15A\", \"#19d3f3\", \"#FF6692\", \"#B6E880\", \"#FF97FF\", \"#FECB52\"], \"font\": {\"color\": \"#2a3f5f\"}, \"geo\": {\"bgcolor\": \"white\", \"lakecolor\": \"white\", \"landcolor\": \"#E5ECF6\", \"showlakes\": true, \"showland\": true, \"subunitcolor\": \"white\"}, \"hoverlabel\": {\"align\": \"left\"}, \"hovermode\": \"closest\", \"mapbox\": {\"style\": \"light\"}, \"paper_bgcolor\": \"white\", \"plot_bgcolor\": \"#E5ECF6\", \"polar\": {\"angularaxis\": {\"gridcolor\": \"white\", \"linecolor\": \"white\", \"ticks\": \"\"}, \"bgcolor\": \"#E5ECF6\", \"radialaxis\": {\"gridcolor\": \"white\", \"linecolor\": \"white\", \"ticks\": \"\"}}, \"scene\": {\"xaxis\": {\"backgroundcolor\": \"#E5ECF6\", \"gridcolor\": \"white\", \"gridwidth\": 2, \"linecolor\": \"white\", \"showbackground\": true, \"ticks\": \"\", \"zerolinecolor\": \"white\"}, \"yaxis\": {\"backgroundcolor\": \"#E5ECF6\", \"gridcolor\": \"white\", \"gridwidth\": 2, \"linecolor\": \"white\", \"showbackground\": true, \"ticks\": \"\", \"zerolinecolor\": \"white\"}, \"zaxis\": {\"backgroundcolor\": \"#E5ECF6\", \"gridcolor\": \"white\", \"gridwidth\": 2, \"linecolor\": \"white\", \"showbackground\": true, \"ticks\": \"\", \"zerolinecolor\": \"white\"}}, \"shapedefaults\": {\"line\": {\"color\": \"#2a3f5f\"}}, \"ternary\": {\"aaxis\": {\"gridcolor\": \"white\", \"linecolor\": \"white\", \"ticks\": \"\"}, \"baxis\": {\"gridcolor\": \"white\", \"linecolor\": \"white\", \"ticks\": \"\"}, \"bgcolor\": \"#E5ECF6\", \"caxis\": {\"gridcolor\": \"white\", \"linecolor\": \"white\", \"ticks\": \"\"}}, \"title\": {\"x\": 0.05}, \"xaxis\": {\"automargin\": true, \"gridcolor\": \"white\", \"linecolor\": \"white\", \"ticks\": \"\", \"title\": {\"standoff\": 15}, \"zerolinecolor\": \"white\", \"zerolinewidth\": 2}, \"yaxis\": {\"automargin\": true, \"gridcolor\": \"white\", \"linecolor\": \"white\", \"ticks\": \"\", \"title\": {\"standoff\": 15}, \"zerolinecolor\": \"white\", \"zerolinewidth\": 2}}}, \"title\": {\"text\": \"Experience Feature Debt Percentage Per Month\"}, \"xaxis\": {\"anchor\": \"y\", \"domain\": [0.0, 1.0], \"title\": {\"text\": \"month\"}}, \"yaxis\": {\"anchor\": \"x\", \"domain\": [0.0, 1.0], \"title\": {\"text\": \"exp_debt_per\"}}},                        {\"responsive\": true}                    ).then(function(){\n",
       "                            \n",
       "var gd = document.getElementById('a56f6707-13c6-425b-9281-2861d8e6ecd0');\n",
       "var x = new MutationObserver(function (mutations, observer) {{\n",
       "        var display = window.getComputedStyle(gd).display;\n",
       "        if (!display || display === 'none') {{\n",
       "            console.log([gd, 'removed!']);\n",
       "            Plotly.purge(gd);\n",
       "            observer.disconnect();\n",
       "        }}\n",
       "}});\n",
       "\n",
       "// Listen for the removal of the full notebook cells\n",
       "var notebookContainer = gd.closest('#notebook-container');\n",
       "if (notebookContainer) {{\n",
       "    x.observe(notebookContainer, {childList: true});\n",
       "}}\n",
       "\n",
       "// Listen for the clearing of the current output cell\n",
       "var outputEl = gd.closest('.output');\n",
       "if (outputEl) {{\n",
       "    x.observe(outputEl, {childList: true});\n",
       "}}\n",
       "\n",
       "                        })                };                });            </script>        </div>"
      ]
     },
     "metadata": {},
     "output_type": "display_data"
    }
   ],
   "source": [
    "fig = px.bar(grouped, x=\"month\", y=\"exp_debt_per\", color=\"Feature\", title=\"Experience Feature Debt Percentage Per Month\")\n",
    "fig.show()"
   ]
  },
  {
   "cell_type": "code",
   "execution_count": 38,
   "metadata": {},
   "outputs": [
    {
     "data": {
      "application/vnd.plotly.v1+json": {
       "config": {
        "plotlyServerURL": "https://plot.ly"
       },
       "data": [
        {
         "hovertemplate": "Feature=Cancel order<br>month=%{x}<br>lat_debt=%{y}<extra></extra>",
         "legendgroup": "Cancel order",
         "line": {
          "color": "#636efa",
          "dash": "solid"
         },
         "mode": "lines",
         "name": "Cancel order",
         "orientation": "v",
         "showlegend": true,
         "type": "scatter",
         "x": [
          "2020-01",
          "2020-02",
          "2020-03",
          "2020-04",
          "2020-05",
          "2020-06",
          "2020-07",
          "2020-08",
          "2020-09",
          "2020-10",
          "2020-11",
          "2020-12"
         ],
         "xaxis": "x",
         "y": [
          0,
          0,
          0,
          0,
          0,
          0,
          0,
          0,
          0,
          0,
          0,
          0
         ],
         "yaxis": "y"
        },
        {
         "hovertemplate": "Feature=Dashboard<br>month=%{x}<br>lat_debt=%{y}<extra></extra>",
         "legendgroup": "Dashboard",
         "line": {
          "color": "#EF553B",
          "dash": "solid"
         },
         "mode": "lines",
         "name": "Dashboard",
         "orientation": "v",
         "showlegend": true,
         "type": "scatter",
         "x": [
          "2020-01",
          "2020-01",
          "2020-01",
          "2020-01",
          "2020-01",
          "2020-01",
          "2020-02",
          "2020-02",
          "2020-02",
          "2020-02",
          "2020-02",
          "2020-02",
          "2020-03",
          "2020-03",
          "2020-03",
          "2020-03",
          "2020-03",
          "2020-03",
          "2020-04",
          "2020-04",
          "2020-04",
          "2020-04",
          "2020-04",
          "2020-04",
          "2020-05",
          "2020-05",
          "2020-05",
          "2020-05",
          "2020-05",
          "2020-05",
          "2020-06",
          "2020-06",
          "2020-06",
          "2020-06",
          "2020-06",
          "2020-06",
          "2020-07",
          "2020-07",
          "2020-07",
          "2020-07",
          "2020-07",
          "2020-07",
          "2020-08",
          "2020-08",
          "2020-08",
          "2020-08",
          "2020-08",
          "2020-08",
          "2020-09",
          "2020-09",
          "2020-09",
          "2020-09",
          "2020-09",
          "2020-09",
          "2020-10",
          "2020-10",
          "2020-10",
          "2020-10",
          "2020-10",
          "2020-10",
          "2020-11",
          "2020-11",
          "2020-11",
          "2020-11",
          "2020-11",
          "2020-11",
          "2020-12",
          "2020-12",
          "2020-12",
          "2020-12",
          "2020-12",
          "2020-12"
         ],
         "xaxis": "x",
         "y": [
          0,
          0.007278337365591581,
          0,
          0,
          0.007278337365591581,
          0.5072783373655916,
          0,
          0.018611076149425143,
          0,
          0,
          0.018611076149425143,
          0.5186110761494251,
          0,
          0.011537844086021432,
          0,
          0,
          0.011537844086021432,
          0.5115378440860214,
          0,
          0.011828176388888778,
          0,
          0,
          0.011828176388888778,
          0.5118281763888888,
          0,
          0.016317342741935636,
          0,
          0,
          0.016317342741935636,
          0.5163173427419356,
          0,
          0.0020026777777775173,
          0,
          0,
          0.0020026777777775173,
          0.5020026777777775,
          0,
          0.010187376344085841,
          0,
          0,
          0.010187376344085841,
          0.5101873763440858,
          0,
          0.00978282123655938,
          0,
          0,
          0.00978282123655938,
          0.5097828212365594,
          0,
          0.012543604166666888,
          0,
          0,
          0.012543604166666888,
          0.5125436041666669,
          0,
          0.014893927419354913,
          0,
          0,
          0.014893927419354913,
          0.5148939274193549,
          0,
          0.006798468055555507,
          0,
          0,
          0.006798468055555507,
          0.5067984680555555,
          0,
          0.00972995138888888,
          0,
          0,
          0.00972995138888888,
          0.5097299513888889
         ],
         "yaxis": "y"
        },
        {
         "hovertemplate": "Feature=Delete item in shopping cart<br>month=%{x}<br>lat_debt=%{y}<extra></extra>",
         "legendgroup": "Delete item in shopping cart",
         "line": {
          "color": "#00cc96",
          "dash": "solid"
         },
         "mode": "lines",
         "name": "Delete item in shopping cart",
         "orientation": "v",
         "showlegend": true,
         "type": "scatter",
         "x": [
          "2020-01",
          "2020-02",
          "2020-03",
          "2020-04",
          "2020-05",
          "2020-06",
          "2020-07",
          "2020-08",
          "2020-09",
          "2020-10",
          "2020-11",
          "2020-12"
         ],
         "xaxis": "x",
         "y": [
          0.0013807809139783078,
          0.006873005747126459,
          0,
          0.005247949999999779,
          0.004137912634408769,
          0,
          0.0037658279569889874,
          0,
          0,
          0.005642489247311699,
          0.012373529166667119,
          0.013102416666666894
         ],
         "yaxis": "y"
        },
        {
         "hovertemplate": "Feature=Display Points<br>month=%{x}<br>lat_debt=%{y}<extra></extra>",
         "legendgroup": "Display Points",
         "line": {
          "color": "#ab63fa",
          "dash": "solid"
         },
         "mode": "lines",
         "name": "Display Points",
         "orientation": "v",
         "showlegend": true,
         "type": "scatter",
         "x": [
          "2020-01",
          "2020-01",
          "2020-02",
          "2020-02",
          "2020-03",
          "2020-03",
          "2020-04",
          "2020-04",
          "2020-05",
          "2020-05",
          "2020-06",
          "2020-06",
          "2020-07",
          "2020-07",
          "2020-08",
          "2020-08",
          "2020-09",
          "2020-09",
          "2020-10",
          "2020-10",
          "2020-11",
          "2020-11",
          "2020-12",
          "2020-12"
         ],
         "xaxis": "x",
         "y": [
          0,
          0,
          0,
          0,
          0,
          0,
          0,
          0,
          0,
          0.0015684811827956224,
          0,
          0,
          0,
          0,
          0,
          0,
          0,
          0,
          0,
          0.018369065860214917,
          0,
          0,
          0,
          0.004374055555555589
         ],
         "yaxis": "y"
        },
        {
         "hovertemplate": "Feature=Display Profile<br>month=%{x}<br>lat_debt=%{y}<extra></extra>",
         "legendgroup": "Display Profile",
         "line": {
          "color": "#FFA15A",
          "dash": "solid"
         },
         "mode": "lines",
         "name": "Display Profile",
         "orientation": "v",
         "showlegend": true,
         "type": "scatter",
         "x": [
          "2020-01",
          "2020-01",
          "2020-02",
          "2020-02",
          "2020-03",
          "2020-03",
          "2020-04",
          "2020-04",
          "2020-05",
          "2020-05",
          "2020-06",
          "2020-06",
          "2020-07",
          "2020-07",
          "2020-08",
          "2020-08",
          "2020-09",
          "2020-09",
          "2020-10",
          "2020-10",
          "2020-11",
          "2020-11",
          "2020-12",
          "2020-12"
         ],
         "xaxis": "x",
         "y": [
          0.002911185483871037,
          0,
          0.0019547227011496027,
          0,
          0,
          0,
          0.0006666652777778115,
          0,
          0.0023755174731179274,
          0,
          0,
          0,
          0,
          0,
          0,
          0,
          0,
          0,
          0,
          0,
          0.0010504986111112835,
          0,
          0,
          0
         ],
         "yaxis": "y"
        },
        {
         "hovertemplate": "Feature=Display shopping cart<br>month=%{x}<br>lat_debt=%{y}<extra></extra>",
         "legendgroup": "Display shopping cart",
         "line": {
          "color": "#19d3f3",
          "dash": "solid"
         },
         "mode": "lines",
         "name": "Display shopping cart",
         "orientation": "v",
         "showlegend": true,
         "type": "scatter",
         "x": [
          "2020-01",
          "2020-02",
          "2020-03",
          "2020-04",
          "2020-05",
          "2020-06",
          "2020-07",
          "2020-08",
          "2020-09",
          "2020-10",
          "2020-11",
          "2020-12"
         ],
         "xaxis": "x",
         "y": [
          0.5093348924731185,
          0.5068730057471265,
          0.5086517056451612,
          0.5052479499999998,
          0.495346616935484,
          0.5066333708333333,
          0.503765827956989,
          0.5026034610215051,
          0.5072966180555551,
          0.49823103629032284,
          0.4973015236111109,
          0.49770249861111115
         ],
         "yaxis": "y"
        },
        {
         "hovertemplate": "Feature=Login<br>month=%{x}<br>lat_debt=%{y}<extra></extra>",
         "legendgroup": "Login",
         "line": {
          "color": "#FF6692",
          "dash": "solid"
         },
         "mode": "lines",
         "name": "Login",
         "orientation": "v",
         "showlegend": true,
         "type": "scatter",
         "x": [
          "2020-01",
          "2020-01",
          "2020-01",
          "2020-01",
          "2020-01",
          "2020-01",
          "2020-01",
          "2020-01",
          "2020-02",
          "2020-02",
          "2020-02",
          "2020-02",
          "2020-02",
          "2020-02",
          "2020-02",
          "2020-02",
          "2020-03",
          "2020-03",
          "2020-03",
          "2020-03",
          "2020-03",
          "2020-03",
          "2020-03",
          "2020-03",
          "2020-04",
          "2020-04",
          "2020-04",
          "2020-04",
          "2020-04",
          "2020-04",
          "2020-04",
          "2020-04",
          "2020-05",
          "2020-05",
          "2020-05",
          "2020-05",
          "2020-05",
          "2020-05",
          "2020-05",
          "2020-05",
          "2020-06",
          "2020-06",
          "2020-06",
          "2020-06",
          "2020-06",
          "2020-06",
          "2020-06",
          "2020-06",
          "2020-07",
          "2020-07",
          "2020-07",
          "2020-07",
          "2020-07",
          "2020-07",
          "2020-07",
          "2020-07",
          "2020-08",
          "2020-08",
          "2020-08",
          "2020-08",
          "2020-08",
          "2020-08",
          "2020-08",
          "2020-08",
          "2020-09",
          "2020-09",
          "2020-09",
          "2020-09",
          "2020-09",
          "2020-09",
          "2020-09",
          "2020-09",
          "2020-10",
          "2020-10",
          "2020-10",
          "2020-10",
          "2020-10",
          "2020-10",
          "2020-10",
          "2020-10",
          "2020-11",
          "2020-11",
          "2020-11",
          "2020-11",
          "2020-11",
          "2020-11",
          "2020-11",
          "2020-11",
          "2020-12",
          "2020-12",
          "2020-12",
          "2020-12",
          "2020-12",
          "2020-12",
          "2020-12",
          "2020-12"
         ],
         "xaxis": "x",
         "y": [
          0,
          0.009334892473118472,
          0.009334892473118472,
          0,
          0,
          0.009334892473118472,
          0.5093348924731185,
          0.009334892473118472,
          0,
          0.02086955747126451,
          0.02086955747126451,
          0,
          0,
          0.02086955747126451,
          0.5208695574712645,
          0.02086955747126451,
          0,
          0.008651705645161156,
          0.008651705645161156,
          0,
          0,
          0.008651705645161156,
          0.5086517056451612,
          0.008651705645161156,
          0,
          0,
          0,
          0,
          0,
          0,
          0.49829910555555557,
          0,
          0,
          0.00037127419354821,
          0.00037127419354821,
          0,
          0,
          0.00037127419354821,
          0.5003712741935482,
          0.00037127419354821,
          0,
          0.006633370833333263,
          0.006633370833333263,
          0,
          0,
          0.006633370833333263,
          0.5066333708333333,
          0.006633370833333263,
          0,
          0.01656866801075263,
          0.01656866801075263,
          0,
          0,
          0.01656866801075263,
          0.5165686680107526,
          0.01656866801075263,
          0,
          0.0026034610215051046,
          0.0026034610215051046,
          0,
          0,
          0.0026034610215051046,
          0.5026034610215051,
          0.0026034610215051046,
          0,
          0.0072966180555551485,
          0.0072966180555551485,
          0,
          0,
          0.0072966180555551485,
          0.5072966180555551,
          0.0072966180555551485,
          0,
          0,
          0,
          0,
          0,
          0,
          0.4956681693548388,
          0,
          0,
          0.01521604861111081,
          0.01521604861111081,
          0,
          0,
          0.01521604861111081,
          0.5152160486111108,
          0.01521604861111081,
          0,
          0,
          0,
          0,
          0,
          0,
          0.49740842777777805,
          0
         ],
         "yaxis": "y"
        },
        {
         "hovertemplate": "Feature=Onboarding<br>month=%{x}<br>lat_debt=%{y}<extra></extra>",
         "legendgroup": "Onboarding",
         "line": {
          "color": "#B6E880",
          "dash": "solid"
         },
         "mode": "lines",
         "name": "Onboarding",
         "orientation": "v",
         "showlegend": true,
         "type": "scatter",
         "x": [
          "2020-01",
          "2020-02",
          "2020-03",
          "2020-04",
          "2020-05",
          "2020-06",
          "2020-07",
          "2020-08",
          "2020-09",
          "2020-10",
          "2020-11",
          "2020-12"
         ],
         "xaxis": "x",
         "y": [
          0,
          0,
          0.0019984677419355723,
          0.004222065277777798,
          0.008098446236559198,
          0,
          0,
          0.00043800940860250215,
          0.009817140277777803,
          0.0024186250000002296,
          0.001213861111110992,
          0.003975512500000056
         ],
         "yaxis": "y"
        },
        {
         "hovertemplate": "Feature=Recuperate Password<br>month=%{x}<br>lat_debt=%{y}<extra></extra>",
         "legendgroup": "Recuperate Password",
         "line": {
          "color": "#FF97FF",
          "dash": "solid"
         },
         "mode": "lines",
         "name": "Recuperate Password",
         "orientation": "v",
         "showlegend": true,
         "type": "scatter",
         "x": [
          "2020-01",
          "2020-02",
          "2020-03",
          "2020-04",
          "2020-05",
          "2020-06",
          "2020-07",
          "2020-08",
          "2020-09",
          "2020-10",
          "2020-11",
          "2020-12"
         ],
         "xaxis": "x",
         "y": [
          0.0018852190860216833,
          0.010869037356321831,
          0.015161834677419384,
          0.008949308333333406,
          0,
          0.00436365555555529,
          0.0034295430107527114,
          0.013474037634408909,
          0,
          0.01915966397849478,
          0.006691638888888907,
          0.002724204166666633
         ],
         "yaxis": "y"
        },
        {
         "hovertemplate": "Feature=Reward Points<br>month=%{x}<br>lat_debt=%{y}<extra></extra>",
         "legendgroup": "Reward Points",
         "line": {
          "color": "#FECB52",
          "dash": "solid"
         },
         "mode": "lines",
         "name": "Reward Points",
         "orientation": "v",
         "showlegend": true,
         "type": "scatter",
         "x": [
          "2020-01",
          "2020-02",
          "2020-03",
          "2020-04",
          "2020-05",
          "2020-06",
          "2020-07",
          "2020-08",
          "2020-09",
          "2020-10",
          "2020-11",
          "2020-12"
         ],
         "xaxis": "x",
         "y": [
          0,
          0,
          0,
          0,
          0,
          0,
          0,
          0,
          0,
          0,
          0,
          0
         ],
         "yaxis": "y"
        },
        {
         "hovertemplate": "Feature=Save item in shopping cart<br>month=%{x}<br>lat_debt=%{y}<extra></extra>",
         "legendgroup": "Save item in shopping cart",
         "line": {
          "color": "#636efa",
          "dash": "solid"
         },
         "mode": "lines",
         "name": "Save item in shopping cart",
         "orientation": "v",
         "showlegend": true,
         "type": "scatter",
         "x": [
          "2020-01",
          "2020-02",
          "2020-03",
          "2020-04",
          "2020-05",
          "2020-06",
          "2020-07",
          "2020-08",
          "2020-09",
          "2020-10",
          "2020-11",
          "2020-12"
         ],
         "xaxis": "x",
         "y": [
          0,
          0,
          0.0035034623655914032,
          0.008941418055555816,
          0.0053431075268814965,
          0.008495061111111424,
          0.008270766129032214,
          0.008677736559139504,
          0.009492452777777771,
          0.010487338709677108,
          0.009241376388888778,
          0.004513381944444506
         ],
         "yaxis": "y"
        },
        {
         "hovertemplate": "Feature=Search product<br>month=%{x}<br>lat_debt=%{y}<extra></extra>",
         "legendgroup": "Search product",
         "line": {
          "color": "#EF553B",
          "dash": "solid"
         },
         "mode": "lines",
         "name": "Search product",
         "orientation": "v",
         "showlegend": true,
         "type": "scatter",
         "x": [
          "2020-01",
          "2020-02",
          "2020-03",
          "2020-04",
          "2020-05",
          "2020-06",
          "2020-07",
          "2020-08",
          "2020-09",
          "2020-10",
          "2020-11",
          "2020-12"
         ],
         "xaxis": "x",
         "y": [
          0,
          0.010130742816092164,
          0,
          0,
          0,
          0.006850166666666713,
          0.003924369623655499,
          0,
          0,
          0,
          0,
          0
         ],
         "yaxis": "y"
        },
        {
         "hovertemplate": "Feature=Update number of items in shopping cart<br>month=%{x}<br>lat_debt=%{y}<extra></extra>",
         "legendgroup": "Update number of items in shopping cart",
         "line": {
          "color": "#00cc96",
          "dash": "solid"
         },
         "mode": "lines",
         "name": "Update number of items in shopping cart",
         "orientation": "v",
         "showlegend": true,
         "type": "scatter",
         "x": [
          "2020-01",
          "2020-01",
          "2020-02",
          "2020-02",
          "2020-03",
          "2020-03",
          "2020-04",
          "2020-04",
          "2020-05",
          "2020-05",
          "2020-06",
          "2020-06",
          "2020-07",
          "2020-07",
          "2020-08",
          "2020-08",
          "2020-09",
          "2020-09",
          "2020-10",
          "2020-10",
          "2020-11",
          "2020-11",
          "2020-12",
          "2020-12"
         ],
         "xaxis": "x",
         "y": [
          0.0011867365591398116,
          0.5011867365591398,
          0.006873005747126459,
          0.5068730057471265,
          0.0035034623655914032,
          0.5035034623655914,
          0.005247949999999779,
          0.5052479499999998,
          0.0053431075268814965,
          0.5053431075268815,
          0.008495061111111424,
          0.5084950611111114,
          0.0037658279569889874,
          0.503765827956989,
          0.008677736559139504,
          0.5086777365591395,
          4.8854166666334464e-05,
          0.5000488541666663,
          0.010487338709677108,
          0.5104873387096771,
          0,
          0.4957749166666664,
          0,
          0.49770249861111115
         ],
         "yaxis": "y"
        },
        {
         "hovertemplate": "Feature=Update password<br>month=%{x}<br>lat_debt=%{y}<extra></extra>",
         "legendgroup": "Update password",
         "line": {
          "color": "#ab63fa",
          "dash": "solid"
         },
         "mode": "lines",
         "name": "Update password",
         "orientation": "v",
         "showlegend": true,
         "type": "scatter",
         "x": [
          "2020-01",
          "2020-02",
          "2020-03",
          "2020-04",
          "2020-05",
          "2020-06",
          "2020-07",
          "2020-08",
          "2020-09",
          "2020-10",
          "2020-11",
          "2020-12"
         ],
         "xaxis": "x",
         "y": [
          0,
          6.958333333328959e-05,
          0,
          0,
          0,
          0.014589154166666729,
          0.008588568548387077,
          0.006413543010752587,
          0,
          0,
          0.010029498611111354,
          0.015115605555555689
         ],
         "yaxis": "y"
        },
        {
         "hovertemplate": "Feature=list orders<br>month=%{x}<br>lat_debt=%{y}<extra></extra>",
         "legendgroup": "list orders",
         "line": {
          "color": "#FFA15A",
          "dash": "solid"
         },
         "mode": "lines",
         "name": "list orders",
         "orientation": "v",
         "showlegend": true,
         "type": "scatter",
         "x": [
          "2020-01",
          "2020-02",
          "2020-03",
          "2020-04",
          "2020-05",
          "2020-06",
          "2020-07",
          "2020-08",
          "2020-09",
          "2020-10",
          "2020-11",
          "2020-12"
         ],
         "xaxis": "x",
         "y": [
          0,
          0,
          0,
          0,
          0,
          0,
          0,
          0,
          0,
          0,
          0,
          0
         ],
         "yaxis": "y"
        }
       ],
       "layout": {
        "legend": {
         "title": {
          "text": "Feature"
         },
         "tracegroupgap": 0
        },
        "template": {
         "data": {
          "bar": [
           {
            "error_x": {
             "color": "#2a3f5f"
            },
            "error_y": {
             "color": "#2a3f5f"
            },
            "marker": {
             "line": {
              "color": "#E5ECF6",
              "width": 0.5
             }
            },
            "type": "bar"
           }
          ],
          "barpolar": [
           {
            "marker": {
             "line": {
              "color": "#E5ECF6",
              "width": 0.5
             }
            },
            "type": "barpolar"
           }
          ],
          "carpet": [
           {
            "aaxis": {
             "endlinecolor": "#2a3f5f",
             "gridcolor": "white",
             "linecolor": "white",
             "minorgridcolor": "white",
             "startlinecolor": "#2a3f5f"
            },
            "baxis": {
             "endlinecolor": "#2a3f5f",
             "gridcolor": "white",
             "linecolor": "white",
             "minorgridcolor": "white",
             "startlinecolor": "#2a3f5f"
            },
            "type": "carpet"
           }
          ],
          "choropleth": [
           {
            "colorbar": {
             "outlinewidth": 0,
             "ticks": ""
            },
            "type": "choropleth"
           }
          ],
          "contour": [
           {
            "colorbar": {
             "outlinewidth": 0,
             "ticks": ""
            },
            "colorscale": [
             [
              0,
              "#0d0887"
             ],
             [
              0.1111111111111111,
              "#46039f"
             ],
             [
              0.2222222222222222,
              "#7201a8"
             ],
             [
              0.3333333333333333,
              "#9c179e"
             ],
             [
              0.4444444444444444,
              "#bd3786"
             ],
             [
              0.5555555555555556,
              "#d8576b"
             ],
             [
              0.6666666666666666,
              "#ed7953"
             ],
             [
              0.7777777777777778,
              "#fb9f3a"
             ],
             [
              0.8888888888888888,
              "#fdca26"
             ],
             [
              1,
              "#f0f921"
             ]
            ],
            "type": "contour"
           }
          ],
          "contourcarpet": [
           {
            "colorbar": {
             "outlinewidth": 0,
             "ticks": ""
            },
            "type": "contourcarpet"
           }
          ],
          "heatmap": [
           {
            "colorbar": {
             "outlinewidth": 0,
             "ticks": ""
            },
            "colorscale": [
             [
              0,
              "#0d0887"
             ],
             [
              0.1111111111111111,
              "#46039f"
             ],
             [
              0.2222222222222222,
              "#7201a8"
             ],
             [
              0.3333333333333333,
              "#9c179e"
             ],
             [
              0.4444444444444444,
              "#bd3786"
             ],
             [
              0.5555555555555556,
              "#d8576b"
             ],
             [
              0.6666666666666666,
              "#ed7953"
             ],
             [
              0.7777777777777778,
              "#fb9f3a"
             ],
             [
              0.8888888888888888,
              "#fdca26"
             ],
             [
              1,
              "#f0f921"
             ]
            ],
            "type": "heatmap"
           }
          ],
          "heatmapgl": [
           {
            "colorbar": {
             "outlinewidth": 0,
             "ticks": ""
            },
            "colorscale": [
             [
              0,
              "#0d0887"
             ],
             [
              0.1111111111111111,
              "#46039f"
             ],
             [
              0.2222222222222222,
              "#7201a8"
             ],
             [
              0.3333333333333333,
              "#9c179e"
             ],
             [
              0.4444444444444444,
              "#bd3786"
             ],
             [
              0.5555555555555556,
              "#d8576b"
             ],
             [
              0.6666666666666666,
              "#ed7953"
             ],
             [
              0.7777777777777778,
              "#fb9f3a"
             ],
             [
              0.8888888888888888,
              "#fdca26"
             ],
             [
              1,
              "#f0f921"
             ]
            ],
            "type": "heatmapgl"
           }
          ],
          "histogram": [
           {
            "marker": {
             "colorbar": {
              "outlinewidth": 0,
              "ticks": ""
             }
            },
            "type": "histogram"
           }
          ],
          "histogram2d": [
           {
            "colorbar": {
             "outlinewidth": 0,
             "ticks": ""
            },
            "colorscale": [
             [
              0,
              "#0d0887"
             ],
             [
              0.1111111111111111,
              "#46039f"
             ],
             [
              0.2222222222222222,
              "#7201a8"
             ],
             [
              0.3333333333333333,
              "#9c179e"
             ],
             [
              0.4444444444444444,
              "#bd3786"
             ],
             [
              0.5555555555555556,
              "#d8576b"
             ],
             [
              0.6666666666666666,
              "#ed7953"
             ],
             [
              0.7777777777777778,
              "#fb9f3a"
             ],
             [
              0.8888888888888888,
              "#fdca26"
             ],
             [
              1,
              "#f0f921"
             ]
            ],
            "type": "histogram2d"
           }
          ],
          "histogram2dcontour": [
           {
            "colorbar": {
             "outlinewidth": 0,
             "ticks": ""
            },
            "colorscale": [
             [
              0,
              "#0d0887"
             ],
             [
              0.1111111111111111,
              "#46039f"
             ],
             [
              0.2222222222222222,
              "#7201a8"
             ],
             [
              0.3333333333333333,
              "#9c179e"
             ],
             [
              0.4444444444444444,
              "#bd3786"
             ],
             [
              0.5555555555555556,
              "#d8576b"
             ],
             [
              0.6666666666666666,
              "#ed7953"
             ],
             [
              0.7777777777777778,
              "#fb9f3a"
             ],
             [
              0.8888888888888888,
              "#fdca26"
             ],
             [
              1,
              "#f0f921"
             ]
            ],
            "type": "histogram2dcontour"
           }
          ],
          "mesh3d": [
           {
            "colorbar": {
             "outlinewidth": 0,
             "ticks": ""
            },
            "type": "mesh3d"
           }
          ],
          "parcoords": [
           {
            "line": {
             "colorbar": {
              "outlinewidth": 0,
              "ticks": ""
             }
            },
            "type": "parcoords"
           }
          ],
          "pie": [
           {
            "automargin": true,
            "type": "pie"
           }
          ],
          "scatter": [
           {
            "marker": {
             "colorbar": {
              "outlinewidth": 0,
              "ticks": ""
             }
            },
            "type": "scatter"
           }
          ],
          "scatter3d": [
           {
            "line": {
             "colorbar": {
              "outlinewidth": 0,
              "ticks": ""
             }
            },
            "marker": {
             "colorbar": {
              "outlinewidth": 0,
              "ticks": ""
             }
            },
            "type": "scatter3d"
           }
          ],
          "scattercarpet": [
           {
            "marker": {
             "colorbar": {
              "outlinewidth": 0,
              "ticks": ""
             }
            },
            "type": "scattercarpet"
           }
          ],
          "scattergeo": [
           {
            "marker": {
             "colorbar": {
              "outlinewidth": 0,
              "ticks": ""
             }
            },
            "type": "scattergeo"
           }
          ],
          "scattergl": [
           {
            "marker": {
             "colorbar": {
              "outlinewidth": 0,
              "ticks": ""
             }
            },
            "type": "scattergl"
           }
          ],
          "scattermapbox": [
           {
            "marker": {
             "colorbar": {
              "outlinewidth": 0,
              "ticks": ""
             }
            },
            "type": "scattermapbox"
           }
          ],
          "scatterpolar": [
           {
            "marker": {
             "colorbar": {
              "outlinewidth": 0,
              "ticks": ""
             }
            },
            "type": "scatterpolar"
           }
          ],
          "scatterpolargl": [
           {
            "marker": {
             "colorbar": {
              "outlinewidth": 0,
              "ticks": ""
             }
            },
            "type": "scatterpolargl"
           }
          ],
          "scatterternary": [
           {
            "marker": {
             "colorbar": {
              "outlinewidth": 0,
              "ticks": ""
             }
            },
            "type": "scatterternary"
           }
          ],
          "surface": [
           {
            "colorbar": {
             "outlinewidth": 0,
             "ticks": ""
            },
            "colorscale": [
             [
              0,
              "#0d0887"
             ],
             [
              0.1111111111111111,
              "#46039f"
             ],
             [
              0.2222222222222222,
              "#7201a8"
             ],
             [
              0.3333333333333333,
              "#9c179e"
             ],
             [
              0.4444444444444444,
              "#bd3786"
             ],
             [
              0.5555555555555556,
              "#d8576b"
             ],
             [
              0.6666666666666666,
              "#ed7953"
             ],
             [
              0.7777777777777778,
              "#fb9f3a"
             ],
             [
              0.8888888888888888,
              "#fdca26"
             ],
             [
              1,
              "#f0f921"
             ]
            ],
            "type": "surface"
           }
          ],
          "table": [
           {
            "cells": {
             "fill": {
              "color": "#EBF0F8"
             },
             "line": {
              "color": "white"
             }
            },
            "header": {
             "fill": {
              "color": "#C8D4E3"
             },
             "line": {
              "color": "white"
             }
            },
            "type": "table"
           }
          ]
         },
         "layout": {
          "annotationdefaults": {
           "arrowcolor": "#2a3f5f",
           "arrowhead": 0,
           "arrowwidth": 1
          },
          "coloraxis": {
           "colorbar": {
            "outlinewidth": 0,
            "ticks": ""
           }
          },
          "colorscale": {
           "diverging": [
            [
             0,
             "#8e0152"
            ],
            [
             0.1,
             "#c51b7d"
            ],
            [
             0.2,
             "#de77ae"
            ],
            [
             0.3,
             "#f1b6da"
            ],
            [
             0.4,
             "#fde0ef"
            ],
            [
             0.5,
             "#f7f7f7"
            ],
            [
             0.6,
             "#e6f5d0"
            ],
            [
             0.7,
             "#b8e186"
            ],
            [
             0.8,
             "#7fbc41"
            ],
            [
             0.9,
             "#4d9221"
            ],
            [
             1,
             "#276419"
            ]
           ],
           "sequential": [
            [
             0,
             "#0d0887"
            ],
            [
             0.1111111111111111,
             "#46039f"
            ],
            [
             0.2222222222222222,
             "#7201a8"
            ],
            [
             0.3333333333333333,
             "#9c179e"
            ],
            [
             0.4444444444444444,
             "#bd3786"
            ],
            [
             0.5555555555555556,
             "#d8576b"
            ],
            [
             0.6666666666666666,
             "#ed7953"
            ],
            [
             0.7777777777777778,
             "#fb9f3a"
            ],
            [
             0.8888888888888888,
             "#fdca26"
            ],
            [
             1,
             "#f0f921"
            ]
           ],
           "sequentialminus": [
            [
             0,
             "#0d0887"
            ],
            [
             0.1111111111111111,
             "#46039f"
            ],
            [
             0.2222222222222222,
             "#7201a8"
            ],
            [
             0.3333333333333333,
             "#9c179e"
            ],
            [
             0.4444444444444444,
             "#bd3786"
            ],
            [
             0.5555555555555556,
             "#d8576b"
            ],
            [
             0.6666666666666666,
             "#ed7953"
            ],
            [
             0.7777777777777778,
             "#fb9f3a"
            ],
            [
             0.8888888888888888,
             "#fdca26"
            ],
            [
             1,
             "#f0f921"
            ]
           ]
          },
          "colorway": [
           "#636efa",
           "#EF553B",
           "#00cc96",
           "#ab63fa",
           "#FFA15A",
           "#19d3f3",
           "#FF6692",
           "#B6E880",
           "#FF97FF",
           "#FECB52"
          ],
          "font": {
           "color": "#2a3f5f"
          },
          "geo": {
           "bgcolor": "white",
           "lakecolor": "white",
           "landcolor": "#E5ECF6",
           "showlakes": true,
           "showland": true,
           "subunitcolor": "white"
          },
          "hoverlabel": {
           "align": "left"
          },
          "hovermode": "closest",
          "mapbox": {
           "style": "light"
          },
          "paper_bgcolor": "white",
          "plot_bgcolor": "#E5ECF6",
          "polar": {
           "angularaxis": {
            "gridcolor": "white",
            "linecolor": "white",
            "ticks": ""
           },
           "bgcolor": "#E5ECF6",
           "radialaxis": {
            "gridcolor": "white",
            "linecolor": "white",
            "ticks": ""
           }
          },
          "scene": {
           "xaxis": {
            "backgroundcolor": "#E5ECF6",
            "gridcolor": "white",
            "gridwidth": 2,
            "linecolor": "white",
            "showbackground": true,
            "ticks": "",
            "zerolinecolor": "white"
           },
           "yaxis": {
            "backgroundcolor": "#E5ECF6",
            "gridcolor": "white",
            "gridwidth": 2,
            "linecolor": "white",
            "showbackground": true,
            "ticks": "",
            "zerolinecolor": "white"
           },
           "zaxis": {
            "backgroundcolor": "#E5ECF6",
            "gridcolor": "white",
            "gridwidth": 2,
            "linecolor": "white",
            "showbackground": true,
            "ticks": "",
            "zerolinecolor": "white"
           }
          },
          "shapedefaults": {
           "line": {
            "color": "#2a3f5f"
           }
          },
          "ternary": {
           "aaxis": {
            "gridcolor": "white",
            "linecolor": "white",
            "ticks": ""
           },
           "baxis": {
            "gridcolor": "white",
            "linecolor": "white",
            "ticks": ""
           },
           "bgcolor": "#E5ECF6",
           "caxis": {
            "gridcolor": "white",
            "linecolor": "white",
            "ticks": ""
           }
          },
          "title": {
           "x": 0.05
          },
          "xaxis": {
           "automargin": true,
           "gridcolor": "white",
           "linecolor": "white",
           "ticks": "",
           "title": {
            "standoff": 15
           },
           "zerolinecolor": "white",
           "zerolinewidth": 2
          },
          "yaxis": {
           "automargin": true,
           "gridcolor": "white",
           "linecolor": "white",
           "ticks": "",
           "title": {
            "standoff": 15
           },
           "zerolinecolor": "white",
           "zerolinewidth": 2
          }
         }
        },
        "title": {
         "text": "Latency Feature Debt Value Per Month"
        },
        "xaxis": {
         "anchor": "y",
         "domain": [
          0,
          1
         ],
         "title": {
          "text": "month"
         }
        },
        "yaxis": {
         "anchor": "x",
         "domain": [
          0,
          1
         ],
         "title": {
          "text": "lat_debt"
         }
        }
       }
      },
      "text/html": [
       "<div>                            <div id=\"3839f1a4-aed2-472c-aa03-9e651032b0ca\" class=\"plotly-graph-div\" style=\"height:525px; width:100%;\"></div>            <script type=\"text/javascript\">                require([\"plotly\"], function(Plotly) {                    window.PLOTLYENV=window.PLOTLYENV || {};                                    if (document.getElementById(\"3839f1a4-aed2-472c-aa03-9e651032b0ca\")) {                    Plotly.newPlot(                        \"3839f1a4-aed2-472c-aa03-9e651032b0ca\",                        [{\"hovertemplate\": \"Feature=Cancel order<br>month=%{x}<br>lat_debt=%{y}<extra></extra>\", \"legendgroup\": \"Cancel order\", \"line\": {\"color\": \"#636efa\", \"dash\": \"solid\"}, \"mode\": \"lines\", \"name\": \"Cancel order\", \"orientation\": \"v\", \"showlegend\": true, \"type\": \"scatter\", \"x\": [\"2020-01\", \"2020-02\", \"2020-03\", \"2020-04\", \"2020-05\", \"2020-06\", \"2020-07\", \"2020-08\", \"2020-09\", \"2020-10\", \"2020-11\", \"2020-12\"], \"xaxis\": \"x\", \"y\": [-0.0, -0.0, -0.0, -0.0, -0.0, -0.0, -0.0, -0.0, -0.0, -0.0, -0.0, -0.0], \"yaxis\": \"y\"}, {\"hovertemplate\": \"Feature=Dashboard<br>month=%{x}<br>lat_debt=%{y}<extra></extra>\", \"legendgroup\": \"Dashboard\", \"line\": {\"color\": \"#EF553B\", \"dash\": \"solid\"}, \"mode\": \"lines\", \"name\": \"Dashboard\", \"orientation\": \"v\", \"showlegend\": true, \"type\": \"scatter\", \"x\": [\"2020-01\", \"2020-01\", \"2020-01\", \"2020-01\", \"2020-01\", \"2020-01\", \"2020-02\", \"2020-02\", \"2020-02\", \"2020-02\", \"2020-02\", \"2020-02\", \"2020-03\", \"2020-03\", \"2020-03\", \"2020-03\", \"2020-03\", \"2020-03\", \"2020-04\", \"2020-04\", \"2020-04\", \"2020-04\", \"2020-04\", \"2020-04\", \"2020-05\", \"2020-05\", \"2020-05\", \"2020-05\", \"2020-05\", \"2020-05\", \"2020-06\", \"2020-06\", \"2020-06\", \"2020-06\", \"2020-06\", \"2020-06\", \"2020-07\", \"2020-07\", \"2020-07\", \"2020-07\", \"2020-07\", \"2020-07\", \"2020-08\", \"2020-08\", \"2020-08\", \"2020-08\", \"2020-08\", \"2020-08\", \"2020-09\", \"2020-09\", \"2020-09\", \"2020-09\", \"2020-09\", \"2020-09\", \"2020-10\", \"2020-10\", \"2020-10\", \"2020-10\", \"2020-10\", \"2020-10\", \"2020-11\", \"2020-11\", \"2020-11\", \"2020-11\", \"2020-11\", \"2020-11\", \"2020-12\", \"2020-12\", \"2020-12\", \"2020-12\", \"2020-12\", \"2020-12\"], \"xaxis\": \"x\", \"y\": [-0.0, 0.007278337365591581, -0.0, -0.0, 0.007278337365591581, 0.5072783373655916, -0.0, 0.018611076149425143, -0.0, -0.0, 0.018611076149425143, 0.5186110761494251, -0.0, 0.011537844086021432, -0.0, -0.0, 0.011537844086021432, 0.5115378440860214, -0.0, 0.011828176388888778, -0.0, -0.0, 0.011828176388888778, 0.5118281763888888, -0.0, 0.016317342741935636, -0.0, -0.0, 0.016317342741935636, 0.5163173427419356, -0.0, 0.0020026777777775173, -0.0, -0.0, 0.0020026777777775173, 0.5020026777777775, -0.0, 0.010187376344085841, -0.0, -0.0, 0.010187376344085841, 0.5101873763440858, -0.0, 0.00978282123655938, -0.0, -0.0, 0.00978282123655938, 0.5097828212365594, -0.0, 0.012543604166666888, -0.0, -0.0, 0.012543604166666888, 0.5125436041666669, -0.0, 0.014893927419354913, -0.0, -0.0, 0.014893927419354913, 0.5148939274193549, -0.0, 0.006798468055555507, -0.0, -0.0, 0.006798468055555507, 0.5067984680555555, -0.0, 0.00972995138888888, -0.0, -0.0, 0.00972995138888888, 0.5097299513888889], \"yaxis\": \"y\"}, {\"hovertemplate\": \"Feature=Delete item in shopping cart<br>month=%{x}<br>lat_debt=%{y}<extra></extra>\", \"legendgroup\": \"Delete item in shopping cart\", \"line\": {\"color\": \"#00cc96\", \"dash\": \"solid\"}, \"mode\": \"lines\", \"name\": \"Delete item in shopping cart\", \"orientation\": \"v\", \"showlegend\": true, \"type\": \"scatter\", \"x\": [\"2020-01\", \"2020-02\", \"2020-03\", \"2020-04\", \"2020-05\", \"2020-06\", \"2020-07\", \"2020-08\", \"2020-09\", \"2020-10\", \"2020-11\", \"2020-12\"], \"xaxis\": \"x\", \"y\": [0.0013807809139783078, 0.006873005747126459, -0.0, 0.005247949999999779, 0.004137912634408769, -0.0, 0.0037658279569889874, -0.0, -0.0, 0.005642489247311699, 0.012373529166667119, 0.013102416666666894], \"yaxis\": \"y\"}, {\"hovertemplate\": \"Feature=Display Points<br>month=%{x}<br>lat_debt=%{y}<extra></extra>\", \"legendgroup\": \"Display Points\", \"line\": {\"color\": \"#ab63fa\", \"dash\": \"solid\"}, \"mode\": \"lines\", \"name\": \"Display Points\", \"orientation\": \"v\", \"showlegend\": true, \"type\": \"scatter\", \"x\": [\"2020-01\", \"2020-01\", \"2020-02\", \"2020-02\", \"2020-03\", \"2020-03\", \"2020-04\", \"2020-04\", \"2020-05\", \"2020-05\", \"2020-06\", \"2020-06\", \"2020-07\", \"2020-07\", \"2020-08\", \"2020-08\", \"2020-09\", \"2020-09\", \"2020-10\", \"2020-10\", \"2020-11\", \"2020-11\", \"2020-12\", \"2020-12\"], \"xaxis\": \"x\", \"y\": [-0.0, -0.0, -0.0, -0.0, -0.0, -0.0, -0.0, -0.0, -0.0, 0.0015684811827956224, -0.0, -0.0, -0.0, -0.0, -0.0, -0.0, -0.0, -0.0, -0.0, 0.018369065860214917, -0.0, -0.0, -0.0, 0.004374055555555589], \"yaxis\": \"y\"}, {\"hovertemplate\": \"Feature=Display Profile<br>month=%{x}<br>lat_debt=%{y}<extra></extra>\", \"legendgroup\": \"Display Profile\", \"line\": {\"color\": \"#FFA15A\", \"dash\": \"solid\"}, \"mode\": \"lines\", \"name\": \"Display Profile\", \"orientation\": \"v\", \"showlegend\": true, \"type\": \"scatter\", \"x\": [\"2020-01\", \"2020-01\", \"2020-02\", \"2020-02\", \"2020-03\", \"2020-03\", \"2020-04\", \"2020-04\", \"2020-05\", \"2020-05\", \"2020-06\", \"2020-06\", \"2020-07\", \"2020-07\", \"2020-08\", \"2020-08\", \"2020-09\", \"2020-09\", \"2020-10\", \"2020-10\", \"2020-11\", \"2020-11\", \"2020-12\", \"2020-12\"], \"xaxis\": \"x\", \"y\": [0.002911185483871037, -0.0, 0.0019547227011496027, -0.0, -0.0, -0.0, 0.0006666652777778115, -0.0, 0.0023755174731179274, -0.0, -0.0, -0.0, -0.0, -0.0, -0.0, -0.0, -0.0, -0.0, -0.0, -0.0, 0.0010504986111112835, -0.0, -0.0, -0.0], \"yaxis\": \"y\"}, {\"hovertemplate\": \"Feature=Display shopping cart<br>month=%{x}<br>lat_debt=%{y}<extra></extra>\", \"legendgroup\": \"Display shopping cart\", \"line\": {\"color\": \"#19d3f3\", \"dash\": \"solid\"}, \"mode\": \"lines\", \"name\": \"Display shopping cart\", \"orientation\": \"v\", \"showlegend\": true, \"type\": \"scatter\", \"x\": [\"2020-01\", \"2020-02\", \"2020-03\", \"2020-04\", \"2020-05\", \"2020-06\", \"2020-07\", \"2020-08\", \"2020-09\", \"2020-10\", \"2020-11\", \"2020-12\"], \"xaxis\": \"x\", \"y\": [0.5093348924731185, 0.5068730057471265, 0.5086517056451612, 0.5052479499999998, 0.495346616935484, 0.5066333708333333, 0.503765827956989, 0.5026034610215051, 0.5072966180555551, 0.49823103629032284, 0.4973015236111109, 0.49770249861111115], \"yaxis\": \"y\"}, {\"hovertemplate\": \"Feature=Login<br>month=%{x}<br>lat_debt=%{y}<extra></extra>\", \"legendgroup\": \"Login\", \"line\": {\"color\": \"#FF6692\", \"dash\": \"solid\"}, \"mode\": \"lines\", \"name\": \"Login\", \"orientation\": \"v\", \"showlegend\": true, \"type\": \"scatter\", \"x\": [\"2020-01\", \"2020-01\", \"2020-01\", \"2020-01\", \"2020-01\", \"2020-01\", \"2020-01\", \"2020-01\", \"2020-02\", \"2020-02\", \"2020-02\", \"2020-02\", \"2020-02\", \"2020-02\", \"2020-02\", \"2020-02\", \"2020-03\", \"2020-03\", \"2020-03\", \"2020-03\", \"2020-03\", \"2020-03\", \"2020-03\", \"2020-03\", \"2020-04\", \"2020-04\", \"2020-04\", \"2020-04\", \"2020-04\", \"2020-04\", \"2020-04\", \"2020-04\", \"2020-05\", \"2020-05\", \"2020-05\", \"2020-05\", \"2020-05\", \"2020-05\", \"2020-05\", \"2020-05\", \"2020-06\", \"2020-06\", \"2020-06\", \"2020-06\", \"2020-06\", \"2020-06\", \"2020-06\", \"2020-06\", \"2020-07\", \"2020-07\", \"2020-07\", \"2020-07\", \"2020-07\", \"2020-07\", \"2020-07\", \"2020-07\", \"2020-08\", \"2020-08\", \"2020-08\", \"2020-08\", \"2020-08\", \"2020-08\", \"2020-08\", \"2020-08\", \"2020-09\", \"2020-09\", \"2020-09\", \"2020-09\", \"2020-09\", \"2020-09\", \"2020-09\", \"2020-09\", \"2020-10\", \"2020-10\", \"2020-10\", \"2020-10\", \"2020-10\", \"2020-10\", \"2020-10\", \"2020-10\", \"2020-11\", \"2020-11\", \"2020-11\", \"2020-11\", \"2020-11\", \"2020-11\", \"2020-11\", \"2020-11\", \"2020-12\", \"2020-12\", \"2020-12\", \"2020-12\", \"2020-12\", \"2020-12\", \"2020-12\", \"2020-12\"], \"xaxis\": \"x\", \"y\": [-0.0, 0.009334892473118472, 0.009334892473118472, -0.0, -0.0, 0.009334892473118472, 0.5093348924731185, 0.009334892473118472, -0.0, 0.02086955747126451, 0.02086955747126451, -0.0, -0.0, 0.02086955747126451, 0.5208695574712645, 0.02086955747126451, -0.0, 0.008651705645161156, 0.008651705645161156, -0.0, -0.0, 0.008651705645161156, 0.5086517056451612, 0.008651705645161156, -0.0, -0.0, -0.0, -0.0, -0.0, -0.0, 0.49829910555555557, -0.0, -0.0, 0.00037127419354821, 0.00037127419354821, -0.0, -0.0, 0.00037127419354821, 0.5003712741935482, 0.00037127419354821, -0.0, 0.006633370833333263, 0.006633370833333263, -0.0, -0.0, 0.006633370833333263, 0.5066333708333333, 0.006633370833333263, -0.0, 0.01656866801075263, 0.01656866801075263, -0.0, -0.0, 0.01656866801075263, 0.5165686680107526, 0.01656866801075263, -0.0, 0.0026034610215051046, 0.0026034610215051046, -0.0, -0.0, 0.0026034610215051046, 0.5026034610215051, 0.0026034610215051046, -0.0, 0.0072966180555551485, 0.0072966180555551485, -0.0, -0.0, 0.0072966180555551485, 0.5072966180555551, 0.0072966180555551485, -0.0, -0.0, -0.0, -0.0, -0.0, -0.0, 0.4956681693548388, -0.0, -0.0, 0.01521604861111081, 0.01521604861111081, -0.0, -0.0, 0.01521604861111081, 0.5152160486111108, 0.01521604861111081, -0.0, -0.0, -0.0, -0.0, -0.0, -0.0, 0.49740842777777805, -0.0], \"yaxis\": \"y\"}, {\"hovertemplate\": \"Feature=Onboarding<br>month=%{x}<br>lat_debt=%{y}<extra></extra>\", \"legendgroup\": \"Onboarding\", \"line\": {\"color\": \"#B6E880\", \"dash\": \"solid\"}, \"mode\": \"lines\", \"name\": \"Onboarding\", \"orientation\": \"v\", \"showlegend\": true, \"type\": \"scatter\", \"x\": [\"2020-01\", \"2020-02\", \"2020-03\", \"2020-04\", \"2020-05\", \"2020-06\", \"2020-07\", \"2020-08\", \"2020-09\", \"2020-10\", \"2020-11\", \"2020-12\"], \"xaxis\": \"x\", \"y\": [-0.0, -0.0, 0.0019984677419355723, 0.004222065277777798, 0.008098446236559198, -0.0, -0.0, 0.00043800940860250215, 0.009817140277777803, 0.0024186250000002296, 0.001213861111110992, 0.003975512500000056], \"yaxis\": \"y\"}, {\"hovertemplate\": \"Feature=Recuperate Password<br>month=%{x}<br>lat_debt=%{y}<extra></extra>\", \"legendgroup\": \"Recuperate Password\", \"line\": {\"color\": \"#FF97FF\", \"dash\": \"solid\"}, \"mode\": \"lines\", \"name\": \"Recuperate Password\", \"orientation\": \"v\", \"showlegend\": true, \"type\": \"scatter\", \"x\": [\"2020-01\", \"2020-02\", \"2020-03\", \"2020-04\", \"2020-05\", \"2020-06\", \"2020-07\", \"2020-08\", \"2020-09\", \"2020-10\", \"2020-11\", \"2020-12\"], \"xaxis\": \"x\", \"y\": [0.0018852190860216833, 0.010869037356321831, 0.015161834677419384, 0.008949308333333406, -0.0, 0.00436365555555529, 0.0034295430107527114, 0.013474037634408909, -0.0, 0.01915966397849478, 0.006691638888888907, 0.002724204166666633], \"yaxis\": \"y\"}, {\"hovertemplate\": \"Feature=Reward Points<br>month=%{x}<br>lat_debt=%{y}<extra></extra>\", \"legendgroup\": \"Reward Points\", \"line\": {\"color\": \"#FECB52\", \"dash\": \"solid\"}, \"mode\": \"lines\", \"name\": \"Reward Points\", \"orientation\": \"v\", \"showlegend\": true, \"type\": \"scatter\", \"x\": [\"2020-01\", \"2020-02\", \"2020-03\", \"2020-04\", \"2020-05\", \"2020-06\", \"2020-07\", \"2020-08\", \"2020-09\", \"2020-10\", \"2020-11\", \"2020-12\"], \"xaxis\": \"x\", \"y\": [-0.0, -0.0, -0.0, -0.0, -0.0, -0.0, -0.0, -0.0, -0.0, -0.0, -0.0, -0.0], \"yaxis\": \"y\"}, {\"hovertemplate\": \"Feature=Save item in shopping cart<br>month=%{x}<br>lat_debt=%{y}<extra></extra>\", \"legendgroup\": \"Save item in shopping cart\", \"line\": {\"color\": \"#636efa\", \"dash\": \"solid\"}, \"mode\": \"lines\", \"name\": \"Save item in shopping cart\", \"orientation\": \"v\", \"showlegend\": true, \"type\": \"scatter\", \"x\": [\"2020-01\", \"2020-02\", \"2020-03\", \"2020-04\", \"2020-05\", \"2020-06\", \"2020-07\", \"2020-08\", \"2020-09\", \"2020-10\", \"2020-11\", \"2020-12\"], \"xaxis\": \"x\", \"y\": [-0.0, -0.0, 0.0035034623655914032, 0.008941418055555816, 0.0053431075268814965, 0.008495061111111424, 0.008270766129032214, 0.008677736559139504, 0.009492452777777771, 0.010487338709677108, 0.009241376388888778, 0.004513381944444506], \"yaxis\": \"y\"}, {\"hovertemplate\": \"Feature=Search product<br>month=%{x}<br>lat_debt=%{y}<extra></extra>\", \"legendgroup\": \"Search product\", \"line\": {\"color\": \"#EF553B\", \"dash\": \"solid\"}, \"mode\": \"lines\", \"name\": \"Search product\", \"orientation\": \"v\", \"showlegend\": true, \"type\": \"scatter\", \"x\": [\"2020-01\", \"2020-02\", \"2020-03\", \"2020-04\", \"2020-05\", \"2020-06\", \"2020-07\", \"2020-08\", \"2020-09\", \"2020-10\", \"2020-11\", \"2020-12\"], \"xaxis\": \"x\", \"y\": [-0.0, 0.010130742816092164, -0.0, -0.0, -0.0, 0.006850166666666713, 0.003924369623655499, -0.0, -0.0, -0.0, -0.0, -0.0], \"yaxis\": \"y\"}, {\"hovertemplate\": \"Feature=Update number of items in shopping cart<br>month=%{x}<br>lat_debt=%{y}<extra></extra>\", \"legendgroup\": \"Update number of items in shopping cart\", \"line\": {\"color\": \"#00cc96\", \"dash\": \"solid\"}, \"mode\": \"lines\", \"name\": \"Update number of items in shopping cart\", \"orientation\": \"v\", \"showlegend\": true, \"type\": \"scatter\", \"x\": [\"2020-01\", \"2020-01\", \"2020-02\", \"2020-02\", \"2020-03\", \"2020-03\", \"2020-04\", \"2020-04\", \"2020-05\", \"2020-05\", \"2020-06\", \"2020-06\", \"2020-07\", \"2020-07\", \"2020-08\", \"2020-08\", \"2020-09\", \"2020-09\", \"2020-10\", \"2020-10\", \"2020-11\", \"2020-11\", \"2020-12\", \"2020-12\"], \"xaxis\": \"x\", \"y\": [0.0011867365591398116, 0.5011867365591398, 0.006873005747126459, 0.5068730057471265, 0.0035034623655914032, 0.5035034623655914, 0.005247949999999779, 0.5052479499999998, 0.0053431075268814965, 0.5053431075268815, 0.008495061111111424, 0.5084950611111114, 0.0037658279569889874, 0.503765827956989, 0.008677736559139504, 0.5086777365591395, 4.8854166666334464e-05, 0.5000488541666663, 0.010487338709677108, 0.5104873387096771, -0.0, 0.4957749166666664, -0.0, 0.49770249861111115], \"yaxis\": \"y\"}, {\"hovertemplate\": \"Feature=Update password<br>month=%{x}<br>lat_debt=%{y}<extra></extra>\", \"legendgroup\": \"Update password\", \"line\": {\"color\": \"#ab63fa\", \"dash\": \"solid\"}, \"mode\": \"lines\", \"name\": \"Update password\", \"orientation\": \"v\", \"showlegend\": true, \"type\": \"scatter\", \"x\": [\"2020-01\", \"2020-02\", \"2020-03\", \"2020-04\", \"2020-05\", \"2020-06\", \"2020-07\", \"2020-08\", \"2020-09\", \"2020-10\", \"2020-11\", \"2020-12\"], \"xaxis\": \"x\", \"y\": [-0.0, 6.958333333328959e-05, -0.0, -0.0, -0.0, 0.014589154166666729, 0.008588568548387077, 0.006413543010752587, -0.0, -0.0, 0.010029498611111354, 0.015115605555555689], \"yaxis\": \"y\"}, {\"hovertemplate\": \"Feature=list orders<br>month=%{x}<br>lat_debt=%{y}<extra></extra>\", \"legendgroup\": \"list orders\", \"line\": {\"color\": \"#FFA15A\", \"dash\": \"solid\"}, \"mode\": \"lines\", \"name\": \"list orders\", \"orientation\": \"v\", \"showlegend\": true, \"type\": \"scatter\", \"x\": [\"2020-01\", \"2020-02\", \"2020-03\", \"2020-04\", \"2020-05\", \"2020-06\", \"2020-07\", \"2020-08\", \"2020-09\", \"2020-10\", \"2020-11\", \"2020-12\"], \"xaxis\": \"x\", \"y\": [-0.0, -0.0, -0.0, -0.0, -0.0, -0.0, -0.0, -0.0, -0.0, -0.0, -0.0, -0.0], \"yaxis\": \"y\"}],                        {\"legend\": {\"title\": {\"text\": \"Feature\"}, \"tracegroupgap\": 0}, \"template\": {\"data\": {\"bar\": [{\"error_x\": {\"color\": \"#2a3f5f\"}, \"error_y\": {\"color\": \"#2a3f5f\"}, \"marker\": {\"line\": {\"color\": \"#E5ECF6\", \"width\": 0.5}}, \"type\": \"bar\"}], \"barpolar\": [{\"marker\": {\"line\": {\"color\": \"#E5ECF6\", \"width\": 0.5}}, \"type\": \"barpolar\"}], \"carpet\": [{\"aaxis\": {\"endlinecolor\": \"#2a3f5f\", \"gridcolor\": \"white\", \"linecolor\": \"white\", \"minorgridcolor\": \"white\", \"startlinecolor\": \"#2a3f5f\"}, \"baxis\": {\"endlinecolor\": \"#2a3f5f\", \"gridcolor\": \"white\", \"linecolor\": \"white\", \"minorgridcolor\": \"white\", \"startlinecolor\": \"#2a3f5f\"}, \"type\": \"carpet\"}], \"choropleth\": [{\"colorbar\": {\"outlinewidth\": 0, \"ticks\": \"\"}, \"type\": \"choropleth\"}], \"contour\": [{\"colorbar\": {\"outlinewidth\": 0, \"ticks\": \"\"}, \"colorscale\": [[0.0, \"#0d0887\"], [0.1111111111111111, \"#46039f\"], [0.2222222222222222, \"#7201a8\"], [0.3333333333333333, \"#9c179e\"], [0.4444444444444444, \"#bd3786\"], [0.5555555555555556, \"#d8576b\"], [0.6666666666666666, \"#ed7953\"], [0.7777777777777778, \"#fb9f3a\"], [0.8888888888888888, \"#fdca26\"], [1.0, \"#f0f921\"]], \"type\": \"contour\"}], \"contourcarpet\": [{\"colorbar\": {\"outlinewidth\": 0, \"ticks\": \"\"}, \"type\": \"contourcarpet\"}], \"heatmap\": [{\"colorbar\": {\"outlinewidth\": 0, \"ticks\": \"\"}, \"colorscale\": [[0.0, \"#0d0887\"], [0.1111111111111111, \"#46039f\"], [0.2222222222222222, \"#7201a8\"], [0.3333333333333333, \"#9c179e\"], [0.4444444444444444, \"#bd3786\"], [0.5555555555555556, \"#d8576b\"], [0.6666666666666666, \"#ed7953\"], [0.7777777777777778, \"#fb9f3a\"], [0.8888888888888888, \"#fdca26\"], [1.0, \"#f0f921\"]], \"type\": \"heatmap\"}], \"heatmapgl\": [{\"colorbar\": {\"outlinewidth\": 0, \"ticks\": \"\"}, \"colorscale\": [[0.0, \"#0d0887\"], [0.1111111111111111, \"#46039f\"], [0.2222222222222222, \"#7201a8\"], [0.3333333333333333, \"#9c179e\"], [0.4444444444444444, \"#bd3786\"], [0.5555555555555556, \"#d8576b\"], [0.6666666666666666, \"#ed7953\"], [0.7777777777777778, \"#fb9f3a\"], [0.8888888888888888, \"#fdca26\"], [1.0, \"#f0f921\"]], \"type\": \"heatmapgl\"}], \"histogram\": [{\"marker\": {\"colorbar\": {\"outlinewidth\": 0, \"ticks\": \"\"}}, \"type\": \"histogram\"}], \"histogram2d\": [{\"colorbar\": {\"outlinewidth\": 0, \"ticks\": \"\"}, \"colorscale\": [[0.0, \"#0d0887\"], [0.1111111111111111, \"#46039f\"], [0.2222222222222222, \"#7201a8\"], [0.3333333333333333, \"#9c179e\"], [0.4444444444444444, \"#bd3786\"], [0.5555555555555556, \"#d8576b\"], [0.6666666666666666, \"#ed7953\"], [0.7777777777777778, \"#fb9f3a\"], [0.8888888888888888, \"#fdca26\"], [1.0, \"#f0f921\"]], \"type\": \"histogram2d\"}], \"histogram2dcontour\": [{\"colorbar\": {\"outlinewidth\": 0, \"ticks\": \"\"}, \"colorscale\": [[0.0, \"#0d0887\"], [0.1111111111111111, \"#46039f\"], [0.2222222222222222, \"#7201a8\"], [0.3333333333333333, \"#9c179e\"], [0.4444444444444444, \"#bd3786\"], [0.5555555555555556, \"#d8576b\"], [0.6666666666666666, \"#ed7953\"], [0.7777777777777778, \"#fb9f3a\"], [0.8888888888888888, \"#fdca26\"], [1.0, \"#f0f921\"]], \"type\": \"histogram2dcontour\"}], \"mesh3d\": [{\"colorbar\": {\"outlinewidth\": 0, \"ticks\": \"\"}, \"type\": \"mesh3d\"}], \"parcoords\": [{\"line\": {\"colorbar\": {\"outlinewidth\": 0, \"ticks\": \"\"}}, \"type\": \"parcoords\"}], \"pie\": [{\"automargin\": true, \"type\": \"pie\"}], \"scatter\": [{\"marker\": {\"colorbar\": {\"outlinewidth\": 0, \"ticks\": \"\"}}, \"type\": \"scatter\"}], \"scatter3d\": [{\"line\": {\"colorbar\": {\"outlinewidth\": 0, \"ticks\": \"\"}}, \"marker\": {\"colorbar\": {\"outlinewidth\": 0, \"ticks\": \"\"}}, \"type\": \"scatter3d\"}], \"scattercarpet\": [{\"marker\": {\"colorbar\": {\"outlinewidth\": 0, \"ticks\": \"\"}}, \"type\": \"scattercarpet\"}], \"scattergeo\": [{\"marker\": {\"colorbar\": {\"outlinewidth\": 0, \"ticks\": \"\"}}, \"type\": \"scattergeo\"}], \"scattergl\": [{\"marker\": {\"colorbar\": {\"outlinewidth\": 0, \"ticks\": \"\"}}, \"type\": \"scattergl\"}], \"scattermapbox\": [{\"marker\": {\"colorbar\": {\"outlinewidth\": 0, \"ticks\": \"\"}}, \"type\": \"scattermapbox\"}], \"scatterpolar\": [{\"marker\": {\"colorbar\": {\"outlinewidth\": 0, \"ticks\": \"\"}}, \"type\": \"scatterpolar\"}], \"scatterpolargl\": [{\"marker\": {\"colorbar\": {\"outlinewidth\": 0, \"ticks\": \"\"}}, \"type\": \"scatterpolargl\"}], \"scatterternary\": [{\"marker\": {\"colorbar\": {\"outlinewidth\": 0, \"ticks\": \"\"}}, \"type\": \"scatterternary\"}], \"surface\": [{\"colorbar\": {\"outlinewidth\": 0, \"ticks\": \"\"}, \"colorscale\": [[0.0, \"#0d0887\"], [0.1111111111111111, \"#46039f\"], [0.2222222222222222, \"#7201a8\"], [0.3333333333333333, \"#9c179e\"], [0.4444444444444444, \"#bd3786\"], [0.5555555555555556, \"#d8576b\"], [0.6666666666666666, \"#ed7953\"], [0.7777777777777778, \"#fb9f3a\"], [0.8888888888888888, \"#fdca26\"], [1.0, \"#f0f921\"]], \"type\": \"surface\"}], \"table\": [{\"cells\": {\"fill\": {\"color\": \"#EBF0F8\"}, \"line\": {\"color\": \"white\"}}, \"header\": {\"fill\": {\"color\": \"#C8D4E3\"}, \"line\": {\"color\": \"white\"}}, \"type\": \"table\"}]}, \"layout\": {\"annotationdefaults\": {\"arrowcolor\": \"#2a3f5f\", \"arrowhead\": 0, \"arrowwidth\": 1}, \"coloraxis\": {\"colorbar\": {\"outlinewidth\": 0, \"ticks\": \"\"}}, \"colorscale\": {\"diverging\": [[0, \"#8e0152\"], [0.1, \"#c51b7d\"], [0.2, \"#de77ae\"], [0.3, \"#f1b6da\"], [0.4, \"#fde0ef\"], [0.5, \"#f7f7f7\"], [0.6, \"#e6f5d0\"], [0.7, \"#b8e186\"], [0.8, \"#7fbc41\"], [0.9, \"#4d9221\"], [1, \"#276419\"]], \"sequential\": [[0.0, \"#0d0887\"], [0.1111111111111111, \"#46039f\"], [0.2222222222222222, \"#7201a8\"], [0.3333333333333333, \"#9c179e\"], [0.4444444444444444, \"#bd3786\"], [0.5555555555555556, \"#d8576b\"], [0.6666666666666666, \"#ed7953\"], [0.7777777777777778, \"#fb9f3a\"], [0.8888888888888888, \"#fdca26\"], [1.0, \"#f0f921\"]], \"sequentialminus\": [[0.0, \"#0d0887\"], [0.1111111111111111, \"#46039f\"], [0.2222222222222222, \"#7201a8\"], [0.3333333333333333, \"#9c179e\"], [0.4444444444444444, \"#bd3786\"], [0.5555555555555556, \"#d8576b\"], [0.6666666666666666, \"#ed7953\"], [0.7777777777777778, \"#fb9f3a\"], [0.8888888888888888, \"#fdca26\"], [1.0, \"#f0f921\"]]}, \"colorway\": [\"#636efa\", \"#EF553B\", \"#00cc96\", \"#ab63fa\", \"#FFA15A\", \"#19d3f3\", \"#FF6692\", \"#B6E880\", \"#FF97FF\", \"#FECB52\"], \"font\": {\"color\": \"#2a3f5f\"}, \"geo\": {\"bgcolor\": \"white\", \"lakecolor\": \"white\", \"landcolor\": \"#E5ECF6\", \"showlakes\": true, \"showland\": true, \"subunitcolor\": \"white\"}, \"hoverlabel\": {\"align\": \"left\"}, \"hovermode\": \"closest\", \"mapbox\": {\"style\": \"light\"}, \"paper_bgcolor\": \"white\", \"plot_bgcolor\": \"#E5ECF6\", \"polar\": {\"angularaxis\": {\"gridcolor\": \"white\", \"linecolor\": \"white\", \"ticks\": \"\"}, \"bgcolor\": \"#E5ECF6\", \"radialaxis\": {\"gridcolor\": \"white\", \"linecolor\": \"white\", \"ticks\": \"\"}}, \"scene\": {\"xaxis\": {\"backgroundcolor\": \"#E5ECF6\", \"gridcolor\": \"white\", \"gridwidth\": 2, \"linecolor\": \"white\", \"showbackground\": true, \"ticks\": \"\", \"zerolinecolor\": \"white\"}, \"yaxis\": {\"backgroundcolor\": \"#E5ECF6\", \"gridcolor\": \"white\", \"gridwidth\": 2, \"linecolor\": \"white\", \"showbackground\": true, \"ticks\": \"\", \"zerolinecolor\": \"white\"}, \"zaxis\": {\"backgroundcolor\": \"#E5ECF6\", \"gridcolor\": \"white\", \"gridwidth\": 2, \"linecolor\": \"white\", \"showbackground\": true, \"ticks\": \"\", \"zerolinecolor\": \"white\"}}, \"shapedefaults\": {\"line\": {\"color\": \"#2a3f5f\"}}, \"ternary\": {\"aaxis\": {\"gridcolor\": \"white\", \"linecolor\": \"white\", \"ticks\": \"\"}, \"baxis\": {\"gridcolor\": \"white\", \"linecolor\": \"white\", \"ticks\": \"\"}, \"bgcolor\": \"#E5ECF6\", \"caxis\": {\"gridcolor\": \"white\", \"linecolor\": \"white\", \"ticks\": \"\"}}, \"title\": {\"x\": 0.05}, \"xaxis\": {\"automargin\": true, \"gridcolor\": \"white\", \"linecolor\": \"white\", \"ticks\": \"\", \"title\": {\"standoff\": 15}, \"zerolinecolor\": \"white\", \"zerolinewidth\": 2}, \"yaxis\": {\"automargin\": true, \"gridcolor\": \"white\", \"linecolor\": \"white\", \"ticks\": \"\", \"title\": {\"standoff\": 15}, \"zerolinecolor\": \"white\", \"zerolinewidth\": 2}}}, \"title\": {\"text\": \"Latency Feature Debt Value Per Month\"}, \"xaxis\": {\"anchor\": \"y\", \"domain\": [0.0, 1.0], \"title\": {\"text\": \"month\"}}, \"yaxis\": {\"anchor\": \"x\", \"domain\": [0.0, 1.0], \"title\": {\"text\": \"lat_debt\"}}},                        {\"responsive\": true}                    ).then(function(){\n",
       "                            \n",
       "var gd = document.getElementById('3839f1a4-aed2-472c-aa03-9e651032b0ca');\n",
       "var x = new MutationObserver(function (mutations, observer) {{\n",
       "        var display = window.getComputedStyle(gd).display;\n",
       "        if (!display || display === 'none') {{\n",
       "            console.log([gd, 'removed!']);\n",
       "            Plotly.purge(gd);\n",
       "            observer.disconnect();\n",
       "        }}\n",
       "}});\n",
       "\n",
       "// Listen for the removal of the full notebook cells\n",
       "var notebookContainer = gd.closest('#notebook-container');\n",
       "if (notebookContainer) {{\n",
       "    x.observe(notebookContainer, {childList: true});\n",
       "}}\n",
       "\n",
       "// Listen for the clearing of the current output cell\n",
       "var outputEl = gd.closest('.output');\n",
       "if (outputEl) {{\n",
       "    x.observe(outputEl, {childList: true});\n",
       "}}\n",
       "\n",
       "                        })                };                });            </script>        </div>"
      ]
     },
     "metadata": {},
     "output_type": "display_data"
    }
   ],
   "source": [
    "fig = px.line(grouped, x=\"month\", y=\"lat_debt\", color=\"Feature\", title=\"Latency Feature Debt Value Per Month\")\n",
    "fig.show()"
   ]
  },
  {
   "cell_type": "code",
   "execution_count": 39,
   "metadata": {},
   "outputs": [
    {
     "data": {
      "application/vnd.plotly.v1+json": {
       "config": {
        "plotlyServerURL": "https://plot.ly"
       },
       "data": [
        {
         "alignmentgroup": "True",
         "hovertemplate": "Feature=Cancel order<br>month=%{x}<br>lat_debt_per=%{y}<extra></extra>",
         "legendgroup": "Cancel order",
         "marker": {
          "color": "#636efa"
         },
         "name": "Cancel order",
         "offsetgroup": "Cancel order",
         "orientation": "v",
         "showlegend": true,
         "textposition": "auto",
         "type": "bar",
         "x": [
          "2020-01",
          "2020-02",
          "2020-03",
          "2020-04",
          "2020-05",
          "2020-06",
          "2020-07",
          "2020-08",
          "2020-09",
          "2020-10",
          "2020-11",
          "2020-12"
         ],
         "xaxis": "x",
         "y": [
          0,
          0,
          0,
          0,
          0,
          0,
          0,
          0,
          0,
          0,
          0,
          0
         ],
         "yaxis": "y"
        },
        {
         "alignmentgroup": "True",
         "hovertemplate": "Feature=Dashboard<br>month=%{x}<br>lat_debt_per=%{y}<extra></extra>",
         "legendgroup": "Dashboard",
         "marker": {
          "color": "#EF553B"
         },
         "name": "Dashboard",
         "offsetgroup": "Dashboard",
         "orientation": "v",
         "showlegend": true,
         "textposition": "auto",
         "type": "bar",
         "x": [
          "2020-01",
          "2020-01",
          "2020-01",
          "2020-01",
          "2020-01",
          "2020-01",
          "2020-02",
          "2020-02",
          "2020-02",
          "2020-02",
          "2020-02",
          "2020-02",
          "2020-03",
          "2020-03",
          "2020-03",
          "2020-03",
          "2020-03",
          "2020-03",
          "2020-04",
          "2020-04",
          "2020-04",
          "2020-04",
          "2020-04",
          "2020-04",
          "2020-05",
          "2020-05",
          "2020-05",
          "2020-05",
          "2020-05",
          "2020-05",
          "2020-06",
          "2020-06",
          "2020-06",
          "2020-06",
          "2020-06",
          "2020-06",
          "2020-07",
          "2020-07",
          "2020-07",
          "2020-07",
          "2020-07",
          "2020-07",
          "2020-08",
          "2020-08",
          "2020-08",
          "2020-08",
          "2020-08",
          "2020-08",
          "2020-09",
          "2020-09",
          "2020-09",
          "2020-09",
          "2020-09",
          "2020-09",
          "2020-10",
          "2020-10",
          "2020-10",
          "2020-10",
          "2020-10",
          "2020-10",
          "2020-11",
          "2020-11",
          "2020-11",
          "2020-11",
          "2020-11",
          "2020-11",
          "2020-12",
          "2020-12",
          "2020-12",
          "2020-12",
          "2020-12",
          "2020-12"
         ],
         "xaxis": "x",
         "y": [
          0,
          0.0034884752295246913,
          0,
          0,
          0.0034884752295246913,
          0.2431362858693898,
          0,
          0.008418645837531966,
          0,
          0,
          0.008418645837531966,
          0.23459164545185035,
          0,
          0.005457323972832283,
          0,
          0,
          0.005457323972832283,
          0.24195401833551888,
          0,
          0.005693315943820826,
          0,
          0,
          0.005693315943820826,
          0.24636084391411076,
          0,
          0.007851048842141422,
          0,
          0,
          0.007851048842141422,
          0.2484248042111512,
          0,
          0.0009549764906061956,
          0,
          0,
          0.0009549764906061956,
          0.23937987469514563,
          0,
          0.00473241110879811,
          0,
          0,
          0.00473241110879811,
          0.2370008062754032,
          0,
          0.004677803337514366,
          0,
          0,
          0.004677803337514366,
          0.2437603350735001,
          0,
          0.005970819570351138,
          0,
          0,
          0.005970819570351138,
          0.24397337015377393,
          0,
          0.0070399395777022995,
          0,
          0,
          0.0070399395777022995,
          0.243375842777881,
          0,
          0.003191540552417903,
          0,
          0,
          0.003191540552417903,
          0.2379165202344119,
          0,
          0.004709996884136197,
          0,
          0,
          0.004709996884136197,
          0.2467459894541905
         ],
         "yaxis": "y"
        },
        {
         "alignmentgroup": "True",
         "hovertemplate": "Feature=Delete item in shopping cart<br>month=%{x}<br>lat_debt_per=%{y}<extra></extra>",
         "legendgroup": "Delete item in shopping cart",
         "marker": {
          "color": "#00cc96"
         },
         "name": "Delete item in shopping cart",
         "offsetgroup": "Delete item in shopping cart",
         "orientation": "v",
         "showlegend": true,
         "textposition": "auto",
         "type": "bar",
         "x": [
          "2020-01",
          "2020-02",
          "2020-03",
          "2020-04",
          "2020-05",
          "2020-06",
          "2020-07",
          "2020-08",
          "2020-09",
          "2020-10",
          "2020-11",
          "2020-12"
         ],
         "xaxis": "x",
         "y": [
          0.0006618022460164267,
          0.0031089766523880813,
          0,
          0.0025260223068232597,
          0.00199094636369718,
          0,
          0.0017493656320867346,
          0,
          0,
          0.002667045585121414,
          0.005808752764481,
          0.006342512845966288
         ],
         "yaxis": "y"
        },
        {
         "alignmentgroup": "True",
         "hovertemplate": "Feature=Display Points<br>month=%{x}<br>lat_debt_per=%{y}<extra></extra>",
         "legendgroup": "Display Points",
         "marker": {
          "color": "#ab63fa"
         },
         "name": "Display Points",
         "offsetgroup": "Display Points",
         "orientation": "v",
         "showlegend": true,
         "textposition": "auto",
         "type": "bar",
         "x": [
          "2020-01",
          "2020-01",
          "2020-02",
          "2020-02",
          "2020-03",
          "2020-03",
          "2020-04",
          "2020-04",
          "2020-05",
          "2020-05",
          "2020-06",
          "2020-06",
          "2020-07",
          "2020-07",
          "2020-08",
          "2020-08",
          "2020-09",
          "2020-09",
          "2020-10",
          "2020-10",
          "2020-11",
          "2020-11",
          "2020-12",
          "2020-12"
         ],
         "xaxis": "x",
         "y": [
          0,
          0,
          0,
          0,
          0,
          0,
          0,
          0,
          0,
          0.0007546708167415384,
          0,
          0,
          0,
          0,
          0,
          0,
          0,
          0,
          0,
          0.00868253954203492,
          0,
          0,
          0,
          0.002117357755890915
         ],
         "yaxis": "y"
        },
        {
         "alignmentgroup": "True",
         "hovertemplate": "Feature=Display Profile<br>month=%{x}<br>lat_debt_per=%{y}<extra></extra>",
         "legendgroup": "Display Profile",
         "marker": {
          "color": "#FFA15A"
         },
         "name": "Display Profile",
         "offsetgroup": "Display Profile",
         "orientation": "v",
         "showlegend": true,
         "textposition": "auto",
         "type": "bar",
         "x": [
          "2020-01",
          "2020-01",
          "2020-02",
          "2020-02",
          "2020-03",
          "2020-03",
          "2020-04",
          "2020-04",
          "2020-05",
          "2020-05",
          "2020-06",
          "2020-06",
          "2020-07",
          "2020-07",
          "2020-08",
          "2020-08",
          "2020-09",
          "2020-09",
          "2020-10",
          "2020-10",
          "2020-11",
          "2020-11",
          "2020-12",
          "2020-12"
         ],
         "xaxis": "x",
         "y": [
          0.0013953184551525008,
          0,
          0.000884210993466417,
          0,
          0,
          0,
          0.0003208893687728251,
          0,
          0.001142974318905361,
          0,
          0,
          0,
          0,
          0,
          0,
          0,
          0,
          0,
          0,
          0,
          0.0004931565302981179,
          0,
          0,
          0
         ],
         "yaxis": "y"
        },
        {
         "alignmentgroup": "True",
         "hovertemplate": "Feature=Display shopping cart<br>month=%{x}<br>lat_debt_per=%{y}<extra></extra>",
         "legendgroup": "Display shopping cart",
         "marker": {
          "color": "#19d3f3"
         },
         "name": "Display shopping cart",
         "offsetgroup": "Display shopping cart",
         "orientation": "v",
         "showlegend": true,
         "textposition": "auto",
         "type": "bar",
         "x": [
          "2020-01",
          "2020-02",
          "2020-03",
          "2020-04",
          "2020-05",
          "2020-06",
          "2020-07",
          "2020-08",
          "2020-09",
          "2020-10",
          "2020-11",
          "2020-12"
         ],
         "xaxis": "x",
         "y": [
          0.2441219837273479,
          0.22928197626670646,
          0.2405888939340458,
          0.2431935502771132,
          0.23833479169100744,
          0.2415880197359203,
          0.23401776079869185,
          0.2403274158405805,
          0.24147577799913317,
          0.2354997639280689,
          0.23345818005088534,
          0.2409238365118727
         ],
         "yaxis": "y"
        },
        {
         "alignmentgroup": "True",
         "hovertemplate": "Feature=Login<br>month=%{x}<br>lat_debt_per=%{y}<extra></extra>",
         "legendgroup": "Login",
         "marker": {
          "color": "#FF6692"
         },
         "name": "Login",
         "offsetgroup": "Login",
         "orientation": "v",
         "showlegend": true,
         "textposition": "auto",
         "type": "bar",
         "x": [
          "2020-01",
          "2020-01",
          "2020-01",
          "2020-01",
          "2020-01",
          "2020-01",
          "2020-01",
          "2020-01",
          "2020-02",
          "2020-02",
          "2020-02",
          "2020-02",
          "2020-02",
          "2020-02",
          "2020-02",
          "2020-02",
          "2020-03",
          "2020-03",
          "2020-03",
          "2020-03",
          "2020-03",
          "2020-03",
          "2020-03",
          "2020-03",
          "2020-04",
          "2020-04",
          "2020-04",
          "2020-04",
          "2020-04",
          "2020-04",
          "2020-04",
          "2020-04",
          "2020-05",
          "2020-05",
          "2020-05",
          "2020-05",
          "2020-05",
          "2020-05",
          "2020-05",
          "2020-05",
          "2020-06",
          "2020-06",
          "2020-06",
          "2020-06",
          "2020-06",
          "2020-06",
          "2020-06",
          "2020-06",
          "2020-07",
          "2020-07",
          "2020-07",
          "2020-07",
          "2020-07",
          "2020-07",
          "2020-07",
          "2020-07",
          "2020-08",
          "2020-08",
          "2020-08",
          "2020-08",
          "2020-08",
          "2020-08",
          "2020-08",
          "2020-08",
          "2020-09",
          "2020-09",
          "2020-09",
          "2020-09",
          "2020-09",
          "2020-09",
          "2020-09",
          "2020-09",
          "2020-10",
          "2020-10",
          "2020-10",
          "2020-10",
          "2020-10",
          "2020-10",
          "2020-10",
          "2020-10",
          "2020-11",
          "2020-11",
          "2020-11",
          "2020-11",
          "2020-11",
          "2020-11",
          "2020-11",
          "2020-11",
          "2020-12",
          "2020-12",
          "2020-12",
          "2020-12",
          "2020-12",
          "2020-12",
          "2020-12",
          "2020-12"
         ],
         "xaxis": "x",
         "y": [
          0,
          0.004474173087482795,
          0.004474173087482795,
          0,
          0,
          0.004474173087482795,
          0.2441219837273479,
          0.004474173087482795,
          0,
          0.009440260827798606,
          0.009440260827798606,
          0,
          0,
          0.009440260827798606,
          0.23561326044211697,
          0.009440260827798606,
          0,
          0.004092199571359216,
          0.004092199571359216,
          0,
          0,
          0.004092199571359216,
          0.2405888939340458,
          0.004092199571359216,
          0,
          0,
          0,
          0,
          0,
          0,
          0.23984882784772424,
          0,
          0,
          0.00017863765402698694,
          0.00017863765402698694,
          0,
          0,
          0.00017863765402698694,
          0.24075239302303678,
          0.00017863765402698694,
          0,
          0.003163121531380888,
          0.003163121531380888,
          0,
          0,
          0.003163121531380888,
          0.2415880197359203,
          0.003163121531380888,
          0,
          0.007696755857811562,
          0.007696755857811562,
          0,
          0,
          0.007696755857811562,
          0.23996515102441668,
          0.007696755857811562,
          0,
          0.001244884104594792,
          0.001244884104594792,
          0,
          0,
          0.001244884104594792,
          0.2403274158405805,
          0.001244884104594792,
          0,
          0.003473227415710361,
          0.003473227415710361,
          0,
          0,
          0.003473227415710361,
          0.24147577799913317,
          0.003473227415710361,
          0,
          0,
          0,
          0,
          0,
          0,
          0.23428836898410993,
          0,
          0,
          0.0071431734021664365,
          0.0071431734021664365,
          0,
          0,
          0.0071431734021664365,
          0.24186815308416043,
          0.0071431734021664365,
          0,
          0,
          0,
          0,
          0,
          0,
          0.24078148505980934,
          0
         ],
         "yaxis": "y"
        },
        {
         "alignmentgroup": "True",
         "hovertemplate": "Feature=Onboarding<br>month=%{x}<br>lat_debt_per=%{y}<extra></extra>",
         "legendgroup": "Onboarding",
         "marker": {
          "color": "#B6E880"
         },
         "name": "Onboarding",
         "offsetgroup": "Onboarding",
         "orientation": "v",
         "showlegend": true,
         "textposition": "auto",
         "type": "bar",
         "x": [
          "2020-01",
          "2020-02",
          "2020-03",
          "2020-04",
          "2020-05",
          "2020-06",
          "2020-07",
          "2020-08",
          "2020-09",
          "2020-10",
          "2020-11",
          "2020-12"
         ],
         "xaxis": "x",
         "y": [
          0,
          0,
          0.0009452620295164509,
          0.0020322280266639563,
          0.003896547247566141,
          0,
          0,
          0.00020944079666573612,
          0.004673008851092738,
          0.0011432158477551729,
          0.0005698470492845805,
          0.001924434227824343
         ],
         "yaxis": "y"
        },
        {
         "alignmentgroup": "True",
         "hovertemplate": "Feature=Recuperate Password<br>month=%{x}<br>lat_debt_per=%{y}<extra></extra>",
         "legendgroup": "Recuperate Password",
         "marker": {
          "color": "#FF97FF"
         },
         "name": "Recuperate Password",
         "offsetgroup": "Recuperate Password",
         "orientation": "v",
         "showlegend": true,
         "textposition": "auto",
         "type": "bar",
         "x": [
          "2020-01",
          "2020-02",
          "2020-03",
          "2020-04",
          "2020-05",
          "2020-06",
          "2020-07",
          "2020-08",
          "2020-09",
          "2020-10",
          "2020-11",
          "2020-12"
         ],
         "xaxis": "x",
         "y": [
          0.0009035772530831678,
          0.004916565563598779,
          0.00717144756336647,
          0.004307615827254532,
          0,
          0.002080808263265886,
          0.0015931489025247589,
          0.006442814060680867,
          0,
          0.009056232982738985,
          0.003141389604467379,
          0.0013187109188852722
         ],
         "yaxis": "y"
        },
        {
         "alignmentgroup": "True",
         "hovertemplate": "Feature=Reward Points<br>month=%{x}<br>lat_debt_per=%{y}<extra></extra>",
         "legendgroup": "Reward Points",
         "marker": {
          "color": "#FECB52"
         },
         "name": "Reward Points",
         "offsetgroup": "Reward Points",
         "orientation": "v",
         "showlegend": true,
         "textposition": "auto",
         "type": "bar",
         "x": [
          "2020-01",
          "2020-02",
          "2020-03",
          "2020-04",
          "2020-05",
          "2020-06",
          "2020-07",
          "2020-08",
          "2020-09",
          "2020-10",
          "2020-11",
          "2020-12"
         ],
         "xaxis": "x",
         "y": [
          0,
          0,
          0,
          0,
          0,
          0,
          0,
          0,
          0,
          0,
          0,
          0
         ],
         "yaxis": "y"
        },
        {
         "alignmentgroup": "True",
         "hovertemplate": "Feature=Save item in shopping cart<br>month=%{x}<br>lat_debt_per=%{y}<extra></extra>",
         "legendgroup": "Save item in shopping cart",
         "marker": {
          "color": "#636efa"
         },
         "name": "Save item in shopping cart",
         "offsetgroup": "Save item in shopping cart",
         "orientation": "v",
         "showlegend": true,
         "textposition": "auto",
         "type": "bar",
         "x": [
          "2020-01",
          "2020-02",
          "2020-03",
          "2020-04",
          "2020-05",
          "2020-06",
          "2020-07",
          "2020-08",
          "2020-09",
          "2020-10",
          "2020-11",
          "2020-12"
         ],
         "xaxis": "x",
         "y": [
          0,
          0,
          0.0016571145365728902,
          0.004303817959959069,
          0.0025708228861646082,
          0.004050868161316165,
          0.0038420751511772547,
          0.004149390452593988,
          0.004518455944807613,
          0.0049570693322354715,
          0.004338363770231155,
          0.002184801757542775
         ],
         "yaxis": "y"
        },
        {
         "alignmentgroup": "True",
         "hovertemplate": "Feature=Search product<br>month=%{x}<br>lat_debt_per=%{y}<extra></extra>",
         "legendgroup": "Search product",
         "marker": {
          "color": "#EF553B"
         },
         "name": "Search product",
         "offsetgroup": "Search product",
         "orientation": "v",
         "showlegend": true,
         "textposition": "auto",
         "type": "bar",
         "x": [
          "2020-01",
          "2020-02",
          "2020-03",
          "2020-04",
          "2020-05",
          "2020-06",
          "2020-07",
          "2020-08",
          "2020-09",
          "2020-10",
          "2020-11",
          "2020-12"
         ],
         "xaxis": "x",
         "y": [
          0,
          0.004582600982073543,
          0,
          0,
          0,
          0.00326650058036828,
          0.0018230140690540738,
          0,
          0,
          0,
          0,
          0
         ],
         "yaxis": "y"
        },
        {
         "alignmentgroup": "True",
         "hovertemplate": "Feature=Update number of items in shopping cart<br>month=%{x}<br>lat_debt_per=%{y}<extra></extra>",
         "legendgroup": "Update number of items in shopping cart",
         "marker": {
          "color": "#00cc96"
         },
         "name": "Update number of items in shopping cart",
         "offsetgroup": "Update number of items in shopping cart",
         "orientation": "v",
         "showlegend": true,
         "textposition": "auto",
         "type": "bar",
         "x": [
          "2020-01",
          "2020-01",
          "2020-02",
          "2020-02",
          "2020-03",
          "2020-03",
          "2020-04",
          "2020-04",
          "2020-05",
          "2020-05",
          "2020-06",
          "2020-06",
          "2020-07",
          "2020-07",
          "2020-08",
          "2020-08",
          "2020-09",
          "2020-09",
          "2020-10",
          "2020-10",
          "2020-11",
          "2020-11",
          "2020-12",
          "2020-12"
         ],
         "xaxis": "x",
         "y": [
          0.0005687976364082852,
          0.2402166082762734,
          0.0031089766523880813,
          0.22928197626670646,
          0.0016571145365728902,
          0.2381538088992595,
          0.0025260223068232597,
          0.2431935502771132,
          0.0025708228861646082,
          0.24314457825517438,
          0.004050868161316165,
          0.2424757663658556,
          0.0017493656320867346,
          0.23401776079869185,
          0.004149390452593988,
          0.2432319221885797,
          2.3254832546430472e-05,
          0.23802580541596924,
          0.0049570693322354715,
          0.24129297253241416,
          0,
          0.23274151448285108,
          0,
          0.2409238365118727
         ],
         "yaxis": "y"
        },
        {
         "alignmentgroup": "True",
         "hovertemplate": "Feature=Update password<br>month=%{x}<br>lat_debt_per=%{y}<extra></extra>",
         "legendgroup": "Update password",
         "marker": {
          "color": "#ab63fa"
         },
         "name": "Update password",
         "offsetgroup": "Update password",
         "orientation": "v",
         "showlegend": true,
         "textposition": "auto",
         "type": "bar",
         "x": [
          "2020-01",
          "2020-02",
          "2020-03",
          "2020-04",
          "2020-05",
          "2020-06",
          "2020-07",
          "2020-08",
          "2020-09",
          "2020-10",
          "2020-11",
          "2020-12"
         ],
         "xaxis": "x",
         "y": [
          0,
          3.147574244630619e-05,
          0,
          0,
          0,
          0.006956835194155695,
          0.003989706067024491,
          0.0030667322008167295,
          0,
          0,
          0.0047083477154273995,
          0.007317041187872696
         ],
         "yaxis": "y"
        },
        {
         "alignmentgroup": "True",
         "hovertemplate": "Feature=list orders<br>month=%{x}<br>lat_debt_per=%{y}<extra></extra>",
         "legendgroup": "list orders",
         "marker": {
          "color": "#FFA15A"
         },
         "name": "list orders",
         "offsetgroup": "list orders",
         "orientation": "v",
         "showlegend": true,
         "textposition": "auto",
         "type": "bar",
         "x": [
          "2020-01",
          "2020-02",
          "2020-03",
          "2020-04",
          "2020-05",
          "2020-06",
          "2020-07",
          "2020-08",
          "2020-09",
          "2020-10",
          "2020-11",
          "2020-12"
         ],
         "xaxis": "x",
         "y": [
          0,
          0,
          0,
          0,
          0,
          0,
          0,
          0,
          0,
          0,
          0,
          0
         ],
         "yaxis": "y"
        }
       ],
       "layout": {
        "barmode": "relative",
        "legend": {
         "title": {
          "text": "Feature"
         },
         "tracegroupgap": 0
        },
        "template": {
         "data": {
          "bar": [
           {
            "error_x": {
             "color": "#2a3f5f"
            },
            "error_y": {
             "color": "#2a3f5f"
            },
            "marker": {
             "line": {
              "color": "#E5ECF6",
              "width": 0.5
             }
            },
            "type": "bar"
           }
          ],
          "barpolar": [
           {
            "marker": {
             "line": {
              "color": "#E5ECF6",
              "width": 0.5
             }
            },
            "type": "barpolar"
           }
          ],
          "carpet": [
           {
            "aaxis": {
             "endlinecolor": "#2a3f5f",
             "gridcolor": "white",
             "linecolor": "white",
             "minorgridcolor": "white",
             "startlinecolor": "#2a3f5f"
            },
            "baxis": {
             "endlinecolor": "#2a3f5f",
             "gridcolor": "white",
             "linecolor": "white",
             "minorgridcolor": "white",
             "startlinecolor": "#2a3f5f"
            },
            "type": "carpet"
           }
          ],
          "choropleth": [
           {
            "colorbar": {
             "outlinewidth": 0,
             "ticks": ""
            },
            "type": "choropleth"
           }
          ],
          "contour": [
           {
            "colorbar": {
             "outlinewidth": 0,
             "ticks": ""
            },
            "colorscale": [
             [
              0,
              "#0d0887"
             ],
             [
              0.1111111111111111,
              "#46039f"
             ],
             [
              0.2222222222222222,
              "#7201a8"
             ],
             [
              0.3333333333333333,
              "#9c179e"
             ],
             [
              0.4444444444444444,
              "#bd3786"
             ],
             [
              0.5555555555555556,
              "#d8576b"
             ],
             [
              0.6666666666666666,
              "#ed7953"
             ],
             [
              0.7777777777777778,
              "#fb9f3a"
             ],
             [
              0.8888888888888888,
              "#fdca26"
             ],
             [
              1,
              "#f0f921"
             ]
            ],
            "type": "contour"
           }
          ],
          "contourcarpet": [
           {
            "colorbar": {
             "outlinewidth": 0,
             "ticks": ""
            },
            "type": "contourcarpet"
           }
          ],
          "heatmap": [
           {
            "colorbar": {
             "outlinewidth": 0,
             "ticks": ""
            },
            "colorscale": [
             [
              0,
              "#0d0887"
             ],
             [
              0.1111111111111111,
              "#46039f"
             ],
             [
              0.2222222222222222,
              "#7201a8"
             ],
             [
              0.3333333333333333,
              "#9c179e"
             ],
             [
              0.4444444444444444,
              "#bd3786"
             ],
             [
              0.5555555555555556,
              "#d8576b"
             ],
             [
              0.6666666666666666,
              "#ed7953"
             ],
             [
              0.7777777777777778,
              "#fb9f3a"
             ],
             [
              0.8888888888888888,
              "#fdca26"
             ],
             [
              1,
              "#f0f921"
             ]
            ],
            "type": "heatmap"
           }
          ],
          "heatmapgl": [
           {
            "colorbar": {
             "outlinewidth": 0,
             "ticks": ""
            },
            "colorscale": [
             [
              0,
              "#0d0887"
             ],
             [
              0.1111111111111111,
              "#46039f"
             ],
             [
              0.2222222222222222,
              "#7201a8"
             ],
             [
              0.3333333333333333,
              "#9c179e"
             ],
             [
              0.4444444444444444,
              "#bd3786"
             ],
             [
              0.5555555555555556,
              "#d8576b"
             ],
             [
              0.6666666666666666,
              "#ed7953"
             ],
             [
              0.7777777777777778,
              "#fb9f3a"
             ],
             [
              0.8888888888888888,
              "#fdca26"
             ],
             [
              1,
              "#f0f921"
             ]
            ],
            "type": "heatmapgl"
           }
          ],
          "histogram": [
           {
            "marker": {
             "colorbar": {
              "outlinewidth": 0,
              "ticks": ""
             }
            },
            "type": "histogram"
           }
          ],
          "histogram2d": [
           {
            "colorbar": {
             "outlinewidth": 0,
             "ticks": ""
            },
            "colorscale": [
             [
              0,
              "#0d0887"
             ],
             [
              0.1111111111111111,
              "#46039f"
             ],
             [
              0.2222222222222222,
              "#7201a8"
             ],
             [
              0.3333333333333333,
              "#9c179e"
             ],
             [
              0.4444444444444444,
              "#bd3786"
             ],
             [
              0.5555555555555556,
              "#d8576b"
             ],
             [
              0.6666666666666666,
              "#ed7953"
             ],
             [
              0.7777777777777778,
              "#fb9f3a"
             ],
             [
              0.8888888888888888,
              "#fdca26"
             ],
             [
              1,
              "#f0f921"
             ]
            ],
            "type": "histogram2d"
           }
          ],
          "histogram2dcontour": [
           {
            "colorbar": {
             "outlinewidth": 0,
             "ticks": ""
            },
            "colorscale": [
             [
              0,
              "#0d0887"
             ],
             [
              0.1111111111111111,
              "#46039f"
             ],
             [
              0.2222222222222222,
              "#7201a8"
             ],
             [
              0.3333333333333333,
              "#9c179e"
             ],
             [
              0.4444444444444444,
              "#bd3786"
             ],
             [
              0.5555555555555556,
              "#d8576b"
             ],
             [
              0.6666666666666666,
              "#ed7953"
             ],
             [
              0.7777777777777778,
              "#fb9f3a"
             ],
             [
              0.8888888888888888,
              "#fdca26"
             ],
             [
              1,
              "#f0f921"
             ]
            ],
            "type": "histogram2dcontour"
           }
          ],
          "mesh3d": [
           {
            "colorbar": {
             "outlinewidth": 0,
             "ticks": ""
            },
            "type": "mesh3d"
           }
          ],
          "parcoords": [
           {
            "line": {
             "colorbar": {
              "outlinewidth": 0,
              "ticks": ""
             }
            },
            "type": "parcoords"
           }
          ],
          "pie": [
           {
            "automargin": true,
            "type": "pie"
           }
          ],
          "scatter": [
           {
            "marker": {
             "colorbar": {
              "outlinewidth": 0,
              "ticks": ""
             }
            },
            "type": "scatter"
           }
          ],
          "scatter3d": [
           {
            "line": {
             "colorbar": {
              "outlinewidth": 0,
              "ticks": ""
             }
            },
            "marker": {
             "colorbar": {
              "outlinewidth": 0,
              "ticks": ""
             }
            },
            "type": "scatter3d"
           }
          ],
          "scattercarpet": [
           {
            "marker": {
             "colorbar": {
              "outlinewidth": 0,
              "ticks": ""
             }
            },
            "type": "scattercarpet"
           }
          ],
          "scattergeo": [
           {
            "marker": {
             "colorbar": {
              "outlinewidth": 0,
              "ticks": ""
             }
            },
            "type": "scattergeo"
           }
          ],
          "scattergl": [
           {
            "marker": {
             "colorbar": {
              "outlinewidth": 0,
              "ticks": ""
             }
            },
            "type": "scattergl"
           }
          ],
          "scattermapbox": [
           {
            "marker": {
             "colorbar": {
              "outlinewidth": 0,
              "ticks": ""
             }
            },
            "type": "scattermapbox"
           }
          ],
          "scatterpolar": [
           {
            "marker": {
             "colorbar": {
              "outlinewidth": 0,
              "ticks": ""
             }
            },
            "type": "scatterpolar"
           }
          ],
          "scatterpolargl": [
           {
            "marker": {
             "colorbar": {
              "outlinewidth": 0,
              "ticks": ""
             }
            },
            "type": "scatterpolargl"
           }
          ],
          "scatterternary": [
           {
            "marker": {
             "colorbar": {
              "outlinewidth": 0,
              "ticks": ""
             }
            },
            "type": "scatterternary"
           }
          ],
          "surface": [
           {
            "colorbar": {
             "outlinewidth": 0,
             "ticks": ""
            },
            "colorscale": [
             [
              0,
              "#0d0887"
             ],
             [
              0.1111111111111111,
              "#46039f"
             ],
             [
              0.2222222222222222,
              "#7201a8"
             ],
             [
              0.3333333333333333,
              "#9c179e"
             ],
             [
              0.4444444444444444,
              "#bd3786"
             ],
             [
              0.5555555555555556,
              "#d8576b"
             ],
             [
              0.6666666666666666,
              "#ed7953"
             ],
             [
              0.7777777777777778,
              "#fb9f3a"
             ],
             [
              0.8888888888888888,
              "#fdca26"
             ],
             [
              1,
              "#f0f921"
             ]
            ],
            "type": "surface"
           }
          ],
          "table": [
           {
            "cells": {
             "fill": {
              "color": "#EBF0F8"
             },
             "line": {
              "color": "white"
             }
            },
            "header": {
             "fill": {
              "color": "#C8D4E3"
             },
             "line": {
              "color": "white"
             }
            },
            "type": "table"
           }
          ]
         },
         "layout": {
          "annotationdefaults": {
           "arrowcolor": "#2a3f5f",
           "arrowhead": 0,
           "arrowwidth": 1
          },
          "coloraxis": {
           "colorbar": {
            "outlinewidth": 0,
            "ticks": ""
           }
          },
          "colorscale": {
           "diverging": [
            [
             0,
             "#8e0152"
            ],
            [
             0.1,
             "#c51b7d"
            ],
            [
             0.2,
             "#de77ae"
            ],
            [
             0.3,
             "#f1b6da"
            ],
            [
             0.4,
             "#fde0ef"
            ],
            [
             0.5,
             "#f7f7f7"
            ],
            [
             0.6,
             "#e6f5d0"
            ],
            [
             0.7,
             "#b8e186"
            ],
            [
             0.8,
             "#7fbc41"
            ],
            [
             0.9,
             "#4d9221"
            ],
            [
             1,
             "#276419"
            ]
           ],
           "sequential": [
            [
             0,
             "#0d0887"
            ],
            [
             0.1111111111111111,
             "#46039f"
            ],
            [
             0.2222222222222222,
             "#7201a8"
            ],
            [
             0.3333333333333333,
             "#9c179e"
            ],
            [
             0.4444444444444444,
             "#bd3786"
            ],
            [
             0.5555555555555556,
             "#d8576b"
            ],
            [
             0.6666666666666666,
             "#ed7953"
            ],
            [
             0.7777777777777778,
             "#fb9f3a"
            ],
            [
             0.8888888888888888,
             "#fdca26"
            ],
            [
             1,
             "#f0f921"
            ]
           ],
           "sequentialminus": [
            [
             0,
             "#0d0887"
            ],
            [
             0.1111111111111111,
             "#46039f"
            ],
            [
             0.2222222222222222,
             "#7201a8"
            ],
            [
             0.3333333333333333,
             "#9c179e"
            ],
            [
             0.4444444444444444,
             "#bd3786"
            ],
            [
             0.5555555555555556,
             "#d8576b"
            ],
            [
             0.6666666666666666,
             "#ed7953"
            ],
            [
             0.7777777777777778,
             "#fb9f3a"
            ],
            [
             0.8888888888888888,
             "#fdca26"
            ],
            [
             1,
             "#f0f921"
            ]
           ]
          },
          "colorway": [
           "#636efa",
           "#EF553B",
           "#00cc96",
           "#ab63fa",
           "#FFA15A",
           "#19d3f3",
           "#FF6692",
           "#B6E880",
           "#FF97FF",
           "#FECB52"
          ],
          "font": {
           "color": "#2a3f5f"
          },
          "geo": {
           "bgcolor": "white",
           "lakecolor": "white",
           "landcolor": "#E5ECF6",
           "showlakes": true,
           "showland": true,
           "subunitcolor": "white"
          },
          "hoverlabel": {
           "align": "left"
          },
          "hovermode": "closest",
          "mapbox": {
           "style": "light"
          },
          "paper_bgcolor": "white",
          "plot_bgcolor": "#E5ECF6",
          "polar": {
           "angularaxis": {
            "gridcolor": "white",
            "linecolor": "white",
            "ticks": ""
           },
           "bgcolor": "#E5ECF6",
           "radialaxis": {
            "gridcolor": "white",
            "linecolor": "white",
            "ticks": ""
           }
          },
          "scene": {
           "xaxis": {
            "backgroundcolor": "#E5ECF6",
            "gridcolor": "white",
            "gridwidth": 2,
            "linecolor": "white",
            "showbackground": true,
            "ticks": "",
            "zerolinecolor": "white"
           },
           "yaxis": {
            "backgroundcolor": "#E5ECF6",
            "gridcolor": "white",
            "gridwidth": 2,
            "linecolor": "white",
            "showbackground": true,
            "ticks": "",
            "zerolinecolor": "white"
           },
           "zaxis": {
            "backgroundcolor": "#E5ECF6",
            "gridcolor": "white",
            "gridwidth": 2,
            "linecolor": "white",
            "showbackground": true,
            "ticks": "",
            "zerolinecolor": "white"
           }
          },
          "shapedefaults": {
           "line": {
            "color": "#2a3f5f"
           }
          },
          "ternary": {
           "aaxis": {
            "gridcolor": "white",
            "linecolor": "white",
            "ticks": ""
           },
           "baxis": {
            "gridcolor": "white",
            "linecolor": "white",
            "ticks": ""
           },
           "bgcolor": "#E5ECF6",
           "caxis": {
            "gridcolor": "white",
            "linecolor": "white",
            "ticks": ""
           }
          },
          "title": {
           "x": 0.05
          },
          "xaxis": {
           "automargin": true,
           "gridcolor": "white",
           "linecolor": "white",
           "ticks": "",
           "title": {
            "standoff": 15
           },
           "zerolinecolor": "white",
           "zerolinewidth": 2
          },
          "yaxis": {
           "automargin": true,
           "gridcolor": "white",
           "linecolor": "white",
           "ticks": "",
           "title": {
            "standoff": 15
           },
           "zerolinecolor": "white",
           "zerolinewidth": 2
          }
         }
        },
        "title": {
         "text": "Latency Feature Debt Percentage Per Month"
        },
        "xaxis": {
         "anchor": "y",
         "domain": [
          0,
          1
         ],
         "title": {
          "text": "month"
         }
        },
        "yaxis": {
         "anchor": "x",
         "domain": [
          0,
          1
         ],
         "title": {
          "text": "lat_debt_per"
         }
        }
       }
      },
      "text/html": [
       "<div>                            <div id=\"a9d959b1-b5bb-455c-a8ab-58d2ed11d114\" class=\"plotly-graph-div\" style=\"height:525px; width:100%;\"></div>            <script type=\"text/javascript\">                require([\"plotly\"], function(Plotly) {                    window.PLOTLYENV=window.PLOTLYENV || {};                                    if (document.getElementById(\"a9d959b1-b5bb-455c-a8ab-58d2ed11d114\")) {                    Plotly.newPlot(                        \"a9d959b1-b5bb-455c-a8ab-58d2ed11d114\",                        [{\"alignmentgroup\": \"True\", \"hovertemplate\": \"Feature=Cancel order<br>month=%{x}<br>lat_debt_per=%{y}<extra></extra>\", \"legendgroup\": \"Cancel order\", \"marker\": {\"color\": \"#636efa\"}, \"name\": \"Cancel order\", \"offsetgroup\": \"Cancel order\", \"orientation\": \"v\", \"showlegend\": true, \"textposition\": \"auto\", \"type\": \"bar\", \"x\": [\"2020-01\", \"2020-02\", \"2020-03\", \"2020-04\", \"2020-05\", \"2020-06\", \"2020-07\", \"2020-08\", \"2020-09\", \"2020-10\", \"2020-11\", \"2020-12\"], \"xaxis\": \"x\", \"y\": [-0.0, -0.0, -0.0, -0.0, -0.0, -0.0, -0.0, -0.0, -0.0, -0.0, -0.0, -0.0], \"yaxis\": \"y\"}, {\"alignmentgroup\": \"True\", \"hovertemplate\": \"Feature=Dashboard<br>month=%{x}<br>lat_debt_per=%{y}<extra></extra>\", \"legendgroup\": \"Dashboard\", \"marker\": {\"color\": \"#EF553B\"}, \"name\": \"Dashboard\", \"offsetgroup\": \"Dashboard\", \"orientation\": \"v\", \"showlegend\": true, \"textposition\": \"auto\", \"type\": \"bar\", \"x\": [\"2020-01\", \"2020-01\", \"2020-01\", \"2020-01\", \"2020-01\", \"2020-01\", \"2020-02\", \"2020-02\", \"2020-02\", \"2020-02\", \"2020-02\", \"2020-02\", \"2020-03\", \"2020-03\", \"2020-03\", \"2020-03\", \"2020-03\", \"2020-03\", \"2020-04\", \"2020-04\", \"2020-04\", \"2020-04\", \"2020-04\", \"2020-04\", \"2020-05\", \"2020-05\", \"2020-05\", \"2020-05\", \"2020-05\", \"2020-05\", \"2020-06\", \"2020-06\", \"2020-06\", \"2020-06\", \"2020-06\", \"2020-06\", \"2020-07\", \"2020-07\", \"2020-07\", \"2020-07\", \"2020-07\", \"2020-07\", \"2020-08\", \"2020-08\", \"2020-08\", \"2020-08\", \"2020-08\", \"2020-08\", \"2020-09\", \"2020-09\", \"2020-09\", \"2020-09\", \"2020-09\", \"2020-09\", \"2020-10\", \"2020-10\", \"2020-10\", \"2020-10\", \"2020-10\", \"2020-10\", \"2020-11\", \"2020-11\", \"2020-11\", \"2020-11\", \"2020-11\", \"2020-11\", \"2020-12\", \"2020-12\", \"2020-12\", \"2020-12\", \"2020-12\", \"2020-12\"], \"xaxis\": \"x\", \"y\": [-0.0, 0.0034884752295246913, -0.0, -0.0, 0.0034884752295246913, 0.2431362858693898, -0.0, 0.008418645837531966, -0.0, -0.0, 0.008418645837531966, 0.23459164545185035, -0.0, 0.005457323972832283, -0.0, -0.0, 0.005457323972832283, 0.24195401833551888, -0.0, 0.005693315943820826, -0.0, -0.0, 0.005693315943820826, 0.24636084391411076, -0.0, 0.007851048842141422, -0.0, -0.0, 0.007851048842141422, 0.2484248042111512, -0.0, 0.0009549764906061956, -0.0, -0.0, 0.0009549764906061956, 0.23937987469514563, -0.0, 0.00473241110879811, -0.0, -0.0, 0.00473241110879811, 0.2370008062754032, -0.0, 0.004677803337514366, -0.0, -0.0, 0.004677803337514366, 0.2437603350735001, -0.0, 0.005970819570351138, -0.0, -0.0, 0.005970819570351138, 0.24397337015377393, -0.0, 0.0070399395777022995, -0.0, -0.0, 0.0070399395777022995, 0.243375842777881, -0.0, 0.003191540552417903, -0.0, -0.0, 0.003191540552417903, 0.2379165202344119, -0.0, 0.004709996884136197, -0.0, -0.0, 0.004709996884136197, 0.2467459894541905], \"yaxis\": \"y\"}, {\"alignmentgroup\": \"True\", \"hovertemplate\": \"Feature=Delete item in shopping cart<br>month=%{x}<br>lat_debt_per=%{y}<extra></extra>\", \"legendgroup\": \"Delete item in shopping cart\", \"marker\": {\"color\": \"#00cc96\"}, \"name\": \"Delete item in shopping cart\", \"offsetgroup\": \"Delete item in shopping cart\", \"orientation\": \"v\", \"showlegend\": true, \"textposition\": \"auto\", \"type\": \"bar\", \"x\": [\"2020-01\", \"2020-02\", \"2020-03\", \"2020-04\", \"2020-05\", \"2020-06\", \"2020-07\", \"2020-08\", \"2020-09\", \"2020-10\", \"2020-11\", \"2020-12\"], \"xaxis\": \"x\", \"y\": [0.0006618022460164267, 0.0031089766523880813, -0.0, 0.0025260223068232597, 0.00199094636369718, -0.0, 0.0017493656320867346, -0.0, -0.0, 0.002667045585121414, 0.005808752764481, 0.006342512845966288], \"yaxis\": \"y\"}, {\"alignmentgroup\": \"True\", \"hovertemplate\": \"Feature=Display Points<br>month=%{x}<br>lat_debt_per=%{y}<extra></extra>\", \"legendgroup\": \"Display Points\", \"marker\": {\"color\": \"#ab63fa\"}, \"name\": \"Display Points\", \"offsetgroup\": \"Display Points\", \"orientation\": \"v\", \"showlegend\": true, \"textposition\": \"auto\", \"type\": \"bar\", \"x\": [\"2020-01\", \"2020-01\", \"2020-02\", \"2020-02\", \"2020-03\", \"2020-03\", \"2020-04\", \"2020-04\", \"2020-05\", \"2020-05\", \"2020-06\", \"2020-06\", \"2020-07\", \"2020-07\", \"2020-08\", \"2020-08\", \"2020-09\", \"2020-09\", \"2020-10\", \"2020-10\", \"2020-11\", \"2020-11\", \"2020-12\", \"2020-12\"], \"xaxis\": \"x\", \"y\": [-0.0, -0.0, -0.0, -0.0, -0.0, -0.0, -0.0, -0.0, -0.0, 0.0007546708167415384, -0.0, -0.0, -0.0, -0.0, -0.0, -0.0, -0.0, -0.0, -0.0, 0.00868253954203492, -0.0, -0.0, -0.0, 0.002117357755890915], \"yaxis\": \"y\"}, {\"alignmentgroup\": \"True\", \"hovertemplate\": \"Feature=Display Profile<br>month=%{x}<br>lat_debt_per=%{y}<extra></extra>\", \"legendgroup\": \"Display Profile\", \"marker\": {\"color\": \"#FFA15A\"}, \"name\": \"Display Profile\", \"offsetgroup\": \"Display Profile\", \"orientation\": \"v\", \"showlegend\": true, \"textposition\": \"auto\", \"type\": \"bar\", \"x\": [\"2020-01\", \"2020-01\", \"2020-02\", \"2020-02\", \"2020-03\", \"2020-03\", \"2020-04\", \"2020-04\", \"2020-05\", \"2020-05\", \"2020-06\", \"2020-06\", \"2020-07\", \"2020-07\", \"2020-08\", \"2020-08\", \"2020-09\", \"2020-09\", \"2020-10\", \"2020-10\", \"2020-11\", \"2020-11\", \"2020-12\", \"2020-12\"], \"xaxis\": \"x\", \"y\": [0.0013953184551525008, -0.0, 0.000884210993466417, -0.0, -0.0, -0.0, 0.0003208893687728251, -0.0, 0.001142974318905361, -0.0, -0.0, -0.0, -0.0, -0.0, -0.0, -0.0, -0.0, -0.0, -0.0, -0.0, 0.0004931565302981179, -0.0, -0.0, -0.0], \"yaxis\": \"y\"}, {\"alignmentgroup\": \"True\", \"hovertemplate\": \"Feature=Display shopping cart<br>month=%{x}<br>lat_debt_per=%{y}<extra></extra>\", \"legendgroup\": \"Display shopping cart\", \"marker\": {\"color\": \"#19d3f3\"}, \"name\": \"Display shopping cart\", \"offsetgroup\": \"Display shopping cart\", \"orientation\": \"v\", \"showlegend\": true, \"textposition\": \"auto\", \"type\": \"bar\", \"x\": [\"2020-01\", \"2020-02\", \"2020-03\", \"2020-04\", \"2020-05\", \"2020-06\", \"2020-07\", \"2020-08\", \"2020-09\", \"2020-10\", \"2020-11\", \"2020-12\"], \"xaxis\": \"x\", \"y\": [0.2441219837273479, 0.22928197626670646, 0.2405888939340458, 0.2431935502771132, 0.23833479169100744, 0.2415880197359203, 0.23401776079869185, 0.2403274158405805, 0.24147577799913317, 0.2354997639280689, 0.23345818005088534, 0.2409238365118727], \"yaxis\": \"y\"}, {\"alignmentgroup\": \"True\", \"hovertemplate\": \"Feature=Login<br>month=%{x}<br>lat_debt_per=%{y}<extra></extra>\", \"legendgroup\": \"Login\", \"marker\": {\"color\": \"#FF6692\"}, \"name\": \"Login\", \"offsetgroup\": \"Login\", \"orientation\": \"v\", \"showlegend\": true, \"textposition\": \"auto\", \"type\": \"bar\", \"x\": [\"2020-01\", \"2020-01\", \"2020-01\", \"2020-01\", \"2020-01\", \"2020-01\", \"2020-01\", \"2020-01\", \"2020-02\", \"2020-02\", \"2020-02\", \"2020-02\", \"2020-02\", \"2020-02\", \"2020-02\", \"2020-02\", \"2020-03\", \"2020-03\", \"2020-03\", \"2020-03\", \"2020-03\", \"2020-03\", \"2020-03\", \"2020-03\", \"2020-04\", \"2020-04\", \"2020-04\", \"2020-04\", \"2020-04\", \"2020-04\", \"2020-04\", \"2020-04\", \"2020-05\", \"2020-05\", \"2020-05\", \"2020-05\", \"2020-05\", \"2020-05\", \"2020-05\", \"2020-05\", \"2020-06\", \"2020-06\", \"2020-06\", \"2020-06\", \"2020-06\", \"2020-06\", \"2020-06\", \"2020-06\", \"2020-07\", \"2020-07\", \"2020-07\", \"2020-07\", \"2020-07\", \"2020-07\", \"2020-07\", \"2020-07\", \"2020-08\", \"2020-08\", \"2020-08\", \"2020-08\", \"2020-08\", \"2020-08\", \"2020-08\", \"2020-08\", \"2020-09\", \"2020-09\", \"2020-09\", \"2020-09\", \"2020-09\", \"2020-09\", \"2020-09\", \"2020-09\", \"2020-10\", \"2020-10\", \"2020-10\", \"2020-10\", \"2020-10\", \"2020-10\", \"2020-10\", \"2020-10\", \"2020-11\", \"2020-11\", \"2020-11\", \"2020-11\", \"2020-11\", \"2020-11\", \"2020-11\", \"2020-11\", \"2020-12\", \"2020-12\", \"2020-12\", \"2020-12\", \"2020-12\", \"2020-12\", \"2020-12\", \"2020-12\"], \"xaxis\": \"x\", \"y\": [-0.0, 0.004474173087482795, 0.004474173087482795, -0.0, -0.0, 0.004474173087482795, 0.2441219837273479, 0.004474173087482795, -0.0, 0.009440260827798606, 0.009440260827798606, -0.0, -0.0, 0.009440260827798606, 0.23561326044211697, 0.009440260827798606, -0.0, 0.004092199571359216, 0.004092199571359216, -0.0, -0.0, 0.004092199571359216, 0.2405888939340458, 0.004092199571359216, -0.0, -0.0, -0.0, -0.0, -0.0, -0.0, 0.23984882784772424, -0.0, -0.0, 0.00017863765402698694, 0.00017863765402698694, -0.0, -0.0, 0.00017863765402698694, 0.24075239302303678, 0.00017863765402698694, -0.0, 0.003163121531380888, 0.003163121531380888, -0.0, -0.0, 0.003163121531380888, 0.2415880197359203, 0.003163121531380888, -0.0, 0.007696755857811562, 0.007696755857811562, -0.0, -0.0, 0.007696755857811562, 0.23996515102441668, 0.007696755857811562, -0.0, 0.001244884104594792, 0.001244884104594792, -0.0, -0.0, 0.001244884104594792, 0.2403274158405805, 0.001244884104594792, -0.0, 0.003473227415710361, 0.003473227415710361, -0.0, -0.0, 0.003473227415710361, 0.24147577799913317, 0.003473227415710361, -0.0, -0.0, -0.0, -0.0, -0.0, -0.0, 0.23428836898410993, -0.0, -0.0, 0.0071431734021664365, 0.0071431734021664365, -0.0, -0.0, 0.0071431734021664365, 0.24186815308416043, 0.0071431734021664365, -0.0, -0.0, -0.0, -0.0, -0.0, -0.0, 0.24078148505980934, -0.0], \"yaxis\": \"y\"}, {\"alignmentgroup\": \"True\", \"hovertemplate\": \"Feature=Onboarding<br>month=%{x}<br>lat_debt_per=%{y}<extra></extra>\", \"legendgroup\": \"Onboarding\", \"marker\": {\"color\": \"#B6E880\"}, \"name\": \"Onboarding\", \"offsetgroup\": \"Onboarding\", \"orientation\": \"v\", \"showlegend\": true, \"textposition\": \"auto\", \"type\": \"bar\", \"x\": [\"2020-01\", \"2020-02\", \"2020-03\", \"2020-04\", \"2020-05\", \"2020-06\", \"2020-07\", \"2020-08\", \"2020-09\", \"2020-10\", \"2020-11\", \"2020-12\"], \"xaxis\": \"x\", \"y\": [-0.0, -0.0, 0.0009452620295164509, 0.0020322280266639563, 0.003896547247566141, -0.0, -0.0, 0.00020944079666573612, 0.004673008851092738, 0.0011432158477551729, 0.0005698470492845805, 0.001924434227824343], \"yaxis\": \"y\"}, {\"alignmentgroup\": \"True\", \"hovertemplate\": \"Feature=Recuperate Password<br>month=%{x}<br>lat_debt_per=%{y}<extra></extra>\", \"legendgroup\": \"Recuperate Password\", \"marker\": {\"color\": \"#FF97FF\"}, \"name\": \"Recuperate Password\", \"offsetgroup\": \"Recuperate Password\", \"orientation\": \"v\", \"showlegend\": true, \"textposition\": \"auto\", \"type\": \"bar\", \"x\": [\"2020-01\", \"2020-02\", \"2020-03\", \"2020-04\", \"2020-05\", \"2020-06\", \"2020-07\", \"2020-08\", \"2020-09\", \"2020-10\", \"2020-11\", \"2020-12\"], \"xaxis\": \"x\", \"y\": [0.0009035772530831678, 0.004916565563598779, 0.00717144756336647, 0.004307615827254532, -0.0, 0.002080808263265886, 0.0015931489025247589, 0.006442814060680867, -0.0, 0.009056232982738985, 0.003141389604467379, 0.0013187109188852722], \"yaxis\": \"y\"}, {\"alignmentgroup\": \"True\", \"hovertemplate\": \"Feature=Reward Points<br>month=%{x}<br>lat_debt_per=%{y}<extra></extra>\", \"legendgroup\": \"Reward Points\", \"marker\": {\"color\": \"#FECB52\"}, \"name\": \"Reward Points\", \"offsetgroup\": \"Reward Points\", \"orientation\": \"v\", \"showlegend\": true, \"textposition\": \"auto\", \"type\": \"bar\", \"x\": [\"2020-01\", \"2020-02\", \"2020-03\", \"2020-04\", \"2020-05\", \"2020-06\", \"2020-07\", \"2020-08\", \"2020-09\", \"2020-10\", \"2020-11\", \"2020-12\"], \"xaxis\": \"x\", \"y\": [-0.0, -0.0, -0.0, -0.0, -0.0, -0.0, -0.0, -0.0, -0.0, -0.0, -0.0, -0.0], \"yaxis\": \"y\"}, {\"alignmentgroup\": \"True\", \"hovertemplate\": \"Feature=Save item in shopping cart<br>month=%{x}<br>lat_debt_per=%{y}<extra></extra>\", \"legendgroup\": \"Save item in shopping cart\", \"marker\": {\"color\": \"#636efa\"}, \"name\": \"Save item in shopping cart\", \"offsetgroup\": \"Save item in shopping cart\", \"orientation\": \"v\", \"showlegend\": true, \"textposition\": \"auto\", \"type\": \"bar\", \"x\": [\"2020-01\", \"2020-02\", \"2020-03\", \"2020-04\", \"2020-05\", \"2020-06\", \"2020-07\", \"2020-08\", \"2020-09\", \"2020-10\", \"2020-11\", \"2020-12\"], \"xaxis\": \"x\", \"y\": [-0.0, -0.0, 0.0016571145365728902, 0.004303817959959069, 0.0025708228861646082, 0.004050868161316165, 0.0038420751511772547, 0.004149390452593988, 0.004518455944807613, 0.0049570693322354715, 0.004338363770231155, 0.002184801757542775], \"yaxis\": \"y\"}, {\"alignmentgroup\": \"True\", \"hovertemplate\": \"Feature=Search product<br>month=%{x}<br>lat_debt_per=%{y}<extra></extra>\", \"legendgroup\": \"Search product\", \"marker\": {\"color\": \"#EF553B\"}, \"name\": \"Search product\", \"offsetgroup\": \"Search product\", \"orientation\": \"v\", \"showlegend\": true, \"textposition\": \"auto\", \"type\": \"bar\", \"x\": [\"2020-01\", \"2020-02\", \"2020-03\", \"2020-04\", \"2020-05\", \"2020-06\", \"2020-07\", \"2020-08\", \"2020-09\", \"2020-10\", \"2020-11\", \"2020-12\"], \"xaxis\": \"x\", \"y\": [-0.0, 0.004582600982073543, -0.0, -0.0, -0.0, 0.00326650058036828, 0.0018230140690540738, -0.0, -0.0, -0.0, -0.0, -0.0], \"yaxis\": \"y\"}, {\"alignmentgroup\": \"True\", \"hovertemplate\": \"Feature=Update number of items in shopping cart<br>month=%{x}<br>lat_debt_per=%{y}<extra></extra>\", \"legendgroup\": \"Update number of items in shopping cart\", \"marker\": {\"color\": \"#00cc96\"}, \"name\": \"Update number of items in shopping cart\", \"offsetgroup\": \"Update number of items in shopping cart\", \"orientation\": \"v\", \"showlegend\": true, \"textposition\": \"auto\", \"type\": \"bar\", \"x\": [\"2020-01\", \"2020-01\", \"2020-02\", \"2020-02\", \"2020-03\", \"2020-03\", \"2020-04\", \"2020-04\", \"2020-05\", \"2020-05\", \"2020-06\", \"2020-06\", \"2020-07\", \"2020-07\", \"2020-08\", \"2020-08\", \"2020-09\", \"2020-09\", \"2020-10\", \"2020-10\", \"2020-11\", \"2020-11\", \"2020-12\", \"2020-12\"], \"xaxis\": \"x\", \"y\": [0.0005687976364082852, 0.2402166082762734, 0.0031089766523880813, 0.22928197626670646, 0.0016571145365728902, 0.2381538088992595, 0.0025260223068232597, 0.2431935502771132, 0.0025708228861646082, 0.24314457825517438, 0.004050868161316165, 0.2424757663658556, 0.0017493656320867346, 0.23401776079869185, 0.004149390452593988, 0.2432319221885797, 2.3254832546430472e-05, 0.23802580541596924, 0.0049570693322354715, 0.24129297253241416, -0.0, 0.23274151448285108, -0.0, 0.2409238365118727], \"yaxis\": \"y\"}, {\"alignmentgroup\": \"True\", \"hovertemplate\": \"Feature=Update password<br>month=%{x}<br>lat_debt_per=%{y}<extra></extra>\", \"legendgroup\": \"Update password\", \"marker\": {\"color\": \"#ab63fa\"}, \"name\": \"Update password\", \"offsetgroup\": \"Update password\", \"orientation\": \"v\", \"showlegend\": true, \"textposition\": \"auto\", \"type\": \"bar\", \"x\": [\"2020-01\", \"2020-02\", \"2020-03\", \"2020-04\", \"2020-05\", \"2020-06\", \"2020-07\", \"2020-08\", \"2020-09\", \"2020-10\", \"2020-11\", \"2020-12\"], \"xaxis\": \"x\", \"y\": [-0.0, 3.147574244630619e-05, -0.0, -0.0, -0.0, 0.006956835194155695, 0.003989706067024491, 0.0030667322008167295, -0.0, -0.0, 0.0047083477154273995, 0.007317041187872696], \"yaxis\": \"y\"}, {\"alignmentgroup\": \"True\", \"hovertemplate\": \"Feature=list orders<br>month=%{x}<br>lat_debt_per=%{y}<extra></extra>\", \"legendgroup\": \"list orders\", \"marker\": {\"color\": \"#FFA15A\"}, \"name\": \"list orders\", \"offsetgroup\": \"list orders\", \"orientation\": \"v\", \"showlegend\": true, \"textposition\": \"auto\", \"type\": \"bar\", \"x\": [\"2020-01\", \"2020-02\", \"2020-03\", \"2020-04\", \"2020-05\", \"2020-06\", \"2020-07\", \"2020-08\", \"2020-09\", \"2020-10\", \"2020-11\", \"2020-12\"], \"xaxis\": \"x\", \"y\": [-0.0, -0.0, -0.0, -0.0, -0.0, -0.0, -0.0, -0.0, -0.0, -0.0, -0.0, -0.0], \"yaxis\": \"y\"}],                        {\"barmode\": \"relative\", \"legend\": {\"title\": {\"text\": \"Feature\"}, \"tracegroupgap\": 0}, \"template\": {\"data\": {\"bar\": [{\"error_x\": {\"color\": \"#2a3f5f\"}, \"error_y\": {\"color\": \"#2a3f5f\"}, \"marker\": {\"line\": {\"color\": \"#E5ECF6\", \"width\": 0.5}}, \"type\": \"bar\"}], \"barpolar\": [{\"marker\": {\"line\": {\"color\": \"#E5ECF6\", \"width\": 0.5}}, \"type\": \"barpolar\"}], \"carpet\": [{\"aaxis\": {\"endlinecolor\": \"#2a3f5f\", \"gridcolor\": \"white\", \"linecolor\": \"white\", \"minorgridcolor\": \"white\", \"startlinecolor\": \"#2a3f5f\"}, \"baxis\": {\"endlinecolor\": \"#2a3f5f\", \"gridcolor\": \"white\", \"linecolor\": \"white\", \"minorgridcolor\": \"white\", \"startlinecolor\": \"#2a3f5f\"}, \"type\": \"carpet\"}], \"choropleth\": [{\"colorbar\": {\"outlinewidth\": 0, \"ticks\": \"\"}, \"type\": \"choropleth\"}], \"contour\": [{\"colorbar\": {\"outlinewidth\": 0, \"ticks\": \"\"}, \"colorscale\": [[0.0, \"#0d0887\"], [0.1111111111111111, \"#46039f\"], [0.2222222222222222, \"#7201a8\"], [0.3333333333333333, \"#9c179e\"], [0.4444444444444444, \"#bd3786\"], [0.5555555555555556, \"#d8576b\"], [0.6666666666666666, \"#ed7953\"], [0.7777777777777778, \"#fb9f3a\"], [0.8888888888888888, \"#fdca26\"], [1.0, \"#f0f921\"]], \"type\": \"contour\"}], \"contourcarpet\": [{\"colorbar\": {\"outlinewidth\": 0, \"ticks\": \"\"}, \"type\": \"contourcarpet\"}], \"heatmap\": [{\"colorbar\": {\"outlinewidth\": 0, \"ticks\": \"\"}, \"colorscale\": [[0.0, \"#0d0887\"], [0.1111111111111111, \"#46039f\"], [0.2222222222222222, \"#7201a8\"], [0.3333333333333333, \"#9c179e\"], [0.4444444444444444, \"#bd3786\"], [0.5555555555555556, \"#d8576b\"], [0.6666666666666666, \"#ed7953\"], [0.7777777777777778, \"#fb9f3a\"], [0.8888888888888888, \"#fdca26\"], [1.0, \"#f0f921\"]], \"type\": \"heatmap\"}], \"heatmapgl\": [{\"colorbar\": {\"outlinewidth\": 0, \"ticks\": \"\"}, \"colorscale\": [[0.0, \"#0d0887\"], [0.1111111111111111, \"#46039f\"], [0.2222222222222222, \"#7201a8\"], [0.3333333333333333, \"#9c179e\"], [0.4444444444444444, \"#bd3786\"], [0.5555555555555556, \"#d8576b\"], [0.6666666666666666, \"#ed7953\"], [0.7777777777777778, \"#fb9f3a\"], [0.8888888888888888, \"#fdca26\"], [1.0, \"#f0f921\"]], \"type\": \"heatmapgl\"}], \"histogram\": [{\"marker\": {\"colorbar\": {\"outlinewidth\": 0, \"ticks\": \"\"}}, \"type\": \"histogram\"}], \"histogram2d\": [{\"colorbar\": {\"outlinewidth\": 0, \"ticks\": \"\"}, \"colorscale\": [[0.0, \"#0d0887\"], [0.1111111111111111, \"#46039f\"], [0.2222222222222222, \"#7201a8\"], [0.3333333333333333, \"#9c179e\"], [0.4444444444444444, \"#bd3786\"], [0.5555555555555556, \"#d8576b\"], [0.6666666666666666, \"#ed7953\"], [0.7777777777777778, \"#fb9f3a\"], [0.8888888888888888, \"#fdca26\"], [1.0, \"#f0f921\"]], \"type\": \"histogram2d\"}], \"histogram2dcontour\": [{\"colorbar\": {\"outlinewidth\": 0, \"ticks\": \"\"}, \"colorscale\": [[0.0, \"#0d0887\"], [0.1111111111111111, \"#46039f\"], [0.2222222222222222, \"#7201a8\"], [0.3333333333333333, \"#9c179e\"], [0.4444444444444444, \"#bd3786\"], [0.5555555555555556, \"#d8576b\"], [0.6666666666666666, \"#ed7953\"], [0.7777777777777778, \"#fb9f3a\"], [0.8888888888888888, \"#fdca26\"], [1.0, \"#f0f921\"]], \"type\": \"histogram2dcontour\"}], \"mesh3d\": [{\"colorbar\": {\"outlinewidth\": 0, \"ticks\": \"\"}, \"type\": \"mesh3d\"}], \"parcoords\": [{\"line\": {\"colorbar\": {\"outlinewidth\": 0, \"ticks\": \"\"}}, \"type\": \"parcoords\"}], \"pie\": [{\"automargin\": true, \"type\": \"pie\"}], \"scatter\": [{\"marker\": {\"colorbar\": {\"outlinewidth\": 0, \"ticks\": \"\"}}, \"type\": \"scatter\"}], \"scatter3d\": [{\"line\": {\"colorbar\": {\"outlinewidth\": 0, \"ticks\": \"\"}}, \"marker\": {\"colorbar\": {\"outlinewidth\": 0, \"ticks\": \"\"}}, \"type\": \"scatter3d\"}], \"scattercarpet\": [{\"marker\": {\"colorbar\": {\"outlinewidth\": 0, \"ticks\": \"\"}}, \"type\": \"scattercarpet\"}], \"scattergeo\": [{\"marker\": {\"colorbar\": {\"outlinewidth\": 0, \"ticks\": \"\"}}, \"type\": \"scattergeo\"}], \"scattergl\": [{\"marker\": {\"colorbar\": {\"outlinewidth\": 0, \"ticks\": \"\"}}, \"type\": \"scattergl\"}], \"scattermapbox\": [{\"marker\": {\"colorbar\": {\"outlinewidth\": 0, \"ticks\": \"\"}}, \"type\": \"scattermapbox\"}], \"scatterpolar\": [{\"marker\": {\"colorbar\": {\"outlinewidth\": 0, \"ticks\": \"\"}}, \"type\": \"scatterpolar\"}], \"scatterpolargl\": [{\"marker\": {\"colorbar\": {\"outlinewidth\": 0, \"ticks\": \"\"}}, \"type\": \"scatterpolargl\"}], \"scatterternary\": [{\"marker\": {\"colorbar\": {\"outlinewidth\": 0, \"ticks\": \"\"}}, \"type\": \"scatterternary\"}], \"surface\": [{\"colorbar\": {\"outlinewidth\": 0, \"ticks\": \"\"}, \"colorscale\": [[0.0, \"#0d0887\"], [0.1111111111111111, \"#46039f\"], [0.2222222222222222, \"#7201a8\"], [0.3333333333333333, \"#9c179e\"], [0.4444444444444444, \"#bd3786\"], [0.5555555555555556, \"#d8576b\"], [0.6666666666666666, \"#ed7953\"], [0.7777777777777778, \"#fb9f3a\"], [0.8888888888888888, \"#fdca26\"], [1.0, \"#f0f921\"]], \"type\": \"surface\"}], \"table\": [{\"cells\": {\"fill\": {\"color\": \"#EBF0F8\"}, \"line\": {\"color\": \"white\"}}, \"header\": {\"fill\": {\"color\": \"#C8D4E3\"}, \"line\": {\"color\": \"white\"}}, \"type\": \"table\"}]}, \"layout\": {\"annotationdefaults\": {\"arrowcolor\": \"#2a3f5f\", \"arrowhead\": 0, \"arrowwidth\": 1}, \"coloraxis\": {\"colorbar\": {\"outlinewidth\": 0, \"ticks\": \"\"}}, \"colorscale\": {\"diverging\": [[0, \"#8e0152\"], [0.1, \"#c51b7d\"], [0.2, \"#de77ae\"], [0.3, \"#f1b6da\"], [0.4, \"#fde0ef\"], [0.5, \"#f7f7f7\"], [0.6, \"#e6f5d0\"], [0.7, \"#b8e186\"], [0.8, \"#7fbc41\"], [0.9, \"#4d9221\"], [1, \"#276419\"]], \"sequential\": [[0.0, \"#0d0887\"], [0.1111111111111111, \"#46039f\"], [0.2222222222222222, \"#7201a8\"], [0.3333333333333333, \"#9c179e\"], [0.4444444444444444, \"#bd3786\"], [0.5555555555555556, \"#d8576b\"], [0.6666666666666666, \"#ed7953\"], [0.7777777777777778, \"#fb9f3a\"], [0.8888888888888888, \"#fdca26\"], [1.0, \"#f0f921\"]], \"sequentialminus\": [[0.0, \"#0d0887\"], [0.1111111111111111, \"#46039f\"], [0.2222222222222222, \"#7201a8\"], [0.3333333333333333, \"#9c179e\"], [0.4444444444444444, \"#bd3786\"], [0.5555555555555556, \"#d8576b\"], [0.6666666666666666, \"#ed7953\"], [0.7777777777777778, \"#fb9f3a\"], [0.8888888888888888, \"#fdca26\"], [1.0, \"#f0f921\"]]}, \"colorway\": [\"#636efa\", \"#EF553B\", \"#00cc96\", \"#ab63fa\", \"#FFA15A\", \"#19d3f3\", \"#FF6692\", \"#B6E880\", \"#FF97FF\", \"#FECB52\"], \"font\": {\"color\": \"#2a3f5f\"}, \"geo\": {\"bgcolor\": \"white\", \"lakecolor\": \"white\", \"landcolor\": \"#E5ECF6\", \"showlakes\": true, \"showland\": true, \"subunitcolor\": \"white\"}, \"hoverlabel\": {\"align\": \"left\"}, \"hovermode\": \"closest\", \"mapbox\": {\"style\": \"light\"}, \"paper_bgcolor\": \"white\", \"plot_bgcolor\": \"#E5ECF6\", \"polar\": {\"angularaxis\": {\"gridcolor\": \"white\", \"linecolor\": \"white\", \"ticks\": \"\"}, \"bgcolor\": \"#E5ECF6\", \"radialaxis\": {\"gridcolor\": \"white\", \"linecolor\": \"white\", \"ticks\": \"\"}}, \"scene\": {\"xaxis\": {\"backgroundcolor\": \"#E5ECF6\", \"gridcolor\": \"white\", \"gridwidth\": 2, \"linecolor\": \"white\", \"showbackground\": true, \"ticks\": \"\", \"zerolinecolor\": \"white\"}, \"yaxis\": {\"backgroundcolor\": \"#E5ECF6\", \"gridcolor\": \"white\", \"gridwidth\": 2, \"linecolor\": \"white\", \"showbackground\": true, \"ticks\": \"\", \"zerolinecolor\": \"white\"}, \"zaxis\": {\"backgroundcolor\": \"#E5ECF6\", \"gridcolor\": \"white\", \"gridwidth\": 2, \"linecolor\": \"white\", \"showbackground\": true, \"ticks\": \"\", \"zerolinecolor\": \"white\"}}, \"shapedefaults\": {\"line\": {\"color\": \"#2a3f5f\"}}, \"ternary\": {\"aaxis\": {\"gridcolor\": \"white\", \"linecolor\": \"white\", \"ticks\": \"\"}, \"baxis\": {\"gridcolor\": \"white\", \"linecolor\": \"white\", \"ticks\": \"\"}, \"bgcolor\": \"#E5ECF6\", \"caxis\": {\"gridcolor\": \"white\", \"linecolor\": \"white\", \"ticks\": \"\"}}, \"title\": {\"x\": 0.05}, \"xaxis\": {\"automargin\": true, \"gridcolor\": \"white\", \"linecolor\": \"white\", \"ticks\": \"\", \"title\": {\"standoff\": 15}, \"zerolinecolor\": \"white\", \"zerolinewidth\": 2}, \"yaxis\": {\"automargin\": true, \"gridcolor\": \"white\", \"linecolor\": \"white\", \"ticks\": \"\", \"title\": {\"standoff\": 15}, \"zerolinecolor\": \"white\", \"zerolinewidth\": 2}}}, \"title\": {\"text\": \"Latency Feature Debt Percentage Per Month\"}, \"xaxis\": {\"anchor\": \"y\", \"domain\": [0.0, 1.0], \"title\": {\"text\": \"month\"}}, \"yaxis\": {\"anchor\": \"x\", \"domain\": [0.0, 1.0], \"title\": {\"text\": \"lat_debt_per\"}}},                        {\"responsive\": true}                    ).then(function(){\n",
       "                            \n",
       "var gd = document.getElementById('a9d959b1-b5bb-455c-a8ab-58d2ed11d114');\n",
       "var x = new MutationObserver(function (mutations, observer) {{\n",
       "        var display = window.getComputedStyle(gd).display;\n",
       "        if (!display || display === 'none') {{\n",
       "            console.log([gd, 'removed!']);\n",
       "            Plotly.purge(gd);\n",
       "            observer.disconnect();\n",
       "        }}\n",
       "}});\n",
       "\n",
       "// Listen for the removal of the full notebook cells\n",
       "var notebookContainer = gd.closest('#notebook-container');\n",
       "if (notebookContainer) {{\n",
       "    x.observe(notebookContainer, {childList: true});\n",
       "}}\n",
       "\n",
       "// Listen for the clearing of the current output cell\n",
       "var outputEl = gd.closest('.output');\n",
       "if (outputEl) {{\n",
       "    x.observe(outputEl, {childList: true});\n",
       "}}\n",
       "\n",
       "                        })                };                });            </script>        </div>"
      ]
     },
     "metadata": {},
     "output_type": "display_data"
    }
   ],
   "source": [
    "fig = px.bar(grouped, x=\"month\", y=\"lat_debt_per\", color=\"Feature\", title=\"Latency Feature Debt Percentage Per Month\")\n",
    "fig.show()"
   ]
  },
  {
   "cell_type": "code",
   "execution_count": null,
   "metadata": {},
   "outputs": [],
   "source": []
  }
 ],
 "metadata": {
  "kernelspec": {
   "display_name": "Python 3",
   "language": "python",
   "name": "python3"
  },
  "language_info": {
   "codemirror_mode": {
    "name": "ipython",
    "version": 3
   },
   "file_extension": ".py",
   "mimetype": "text/x-python",
   "name": "python",
   "nbconvert_exporter": "python",
   "pygments_lexer": "ipython3",
   "version": "3.8.2"
  }
 },
 "nbformat": 4,
 "nbformat_minor": 4
}
